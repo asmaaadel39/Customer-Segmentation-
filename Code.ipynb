{
 "cells": [
  {
   "cell_type": "markdown",
   "id": "4842a7f8",
   "metadata": {
    "papermill": {
     "duration": 0.015106,
     "end_time": "2023-02-25T23:11:37.350340",
     "exception": false,
     "start_time": "2023-02-25T23:11:37.335234",
     "status": "completed"
    },
    "tags": []
   },
   "source": [
    "# Import Libraries"
   ]
  },
  {
   "cell_type": "code",
   "execution_count": 1,
   "id": "e5cc9ea7",
   "metadata": {
    "execution": {
     "iopub.execute_input": "2023-02-25T23:11:37.381128Z",
     "iopub.status.busy": "2023-02-25T23:11:37.379999Z",
     "iopub.status.idle": "2023-02-25T23:11:39.521566Z",
     "shell.execute_reply": "2023-02-25T23:11:39.520042Z"
    },
    "id": "-FNypgwVmHlm",
    "outputId": "00abd099-1945-49e9-adaa-b8a18f8ef782",
    "papermill": {
     "duration": 2.15989,
     "end_time": "2023-02-25T23:11:39.524458",
     "exception": false,
     "start_time": "2023-02-25T23:11:37.364568",
     "status": "completed"
    },
    "tags": []
   },
   "outputs": [],
   "source": [
    "\n",
    "import plotly.express as px\n",
    "import pandas as pd\n",
    "import numpy as np\n",
    "import datetime as dt\n",
    "import seaborn as sns\n",
    "import matplotlib.pyplot as plt\n"
   ]
  },
  {
   "cell_type": "markdown",
   "id": "61ff0d56",
   "metadata": {
    "papermill": {
     "duration": 0.016531,
     "end_time": "2023-02-25T23:11:39.556384",
     "exception": false,
     "start_time": "2023-02-25T23:11:39.539853",
     "status": "completed"
    },
    "tags": []
   },
   "source": [
    "# Read Data"
   ]
  },
  {
   "cell_type": "code",
   "execution_count": 2,
   "id": "9392bfb7",
   "metadata": {
    "execution": {
     "iopub.execute_input": "2023-02-25T23:11:39.587850Z",
     "iopub.status.busy": "2023-02-25T23:11:39.587505Z",
     "iopub.status.idle": "2023-02-25T23:11:40.711998Z",
     "shell.execute_reply": "2023-02-25T23:11:40.710951Z"
    },
    "papermill": {
     "duration": 1.142567,
     "end_time": "2023-02-25T23:11:40.714543",
     "exception": false,
     "start_time": "2023-02-25T23:11:39.571976",
     "status": "completed"
    },
    "tags": []
   },
   "outputs": [],
   "source": [
    "\n",
    "# Load the data\n",
    "#from google.colab import files\n",
    "#uploaded = files.upload()\n",
    "#df2 = pd.read_csv(io.BytesIO(uploaded['data.csv']))\n",
    "E_data = pd.read_csv('/kaggle/input/ecomkyc/data.csv', encoding='unicode_escape')"
   ]
  },
  {
   "cell_type": "markdown",
   "id": "746c3eee",
   "metadata": {
    "papermill": {
     "duration": 0.01386,
     "end_time": "2023-02-25T23:11:40.742581",
     "exception": false,
     "start_time": "2023-02-25T23:11:40.728721",
     "status": "completed"
    },
    "tags": []
   },
   "source": [
    "# Perform Exploratory Data Analysis"
   ]
  },
  {
   "cell_type": "code",
   "execution_count": 3,
   "id": "87248ed5",
   "metadata": {
    "execution": {
     "iopub.execute_input": "2023-02-25T23:11:40.772500Z",
     "iopub.status.busy": "2023-02-25T23:11:40.772082Z",
     "iopub.status.idle": "2023-02-25T23:11:40.797189Z",
     "shell.execute_reply": "2023-02-25T23:11:40.795778Z"
    },
    "papermill": {
     "duration": 0.043592,
     "end_time": "2023-02-25T23:11:40.800179",
     "exception": false,
     "start_time": "2023-02-25T23:11:40.756587",
     "status": "completed"
    },
    "tags": []
   },
   "outputs": [
    {
     "data": {
      "text/html": [
       "<div>\n",
       "<style scoped>\n",
       "    .dataframe tbody tr th:only-of-type {\n",
       "        vertical-align: middle;\n",
       "    }\n",
       "\n",
       "    .dataframe tbody tr th {\n",
       "        vertical-align: top;\n",
       "    }\n",
       "\n",
       "    .dataframe thead th {\n",
       "        text-align: right;\n",
       "    }\n",
       "</style>\n",
       "<table border=\"1\" class=\"dataframe\">\n",
       "  <thead>\n",
       "    <tr style=\"text-align: right;\">\n",
       "      <th></th>\n",
       "      <th>InvoiceNo</th>\n",
       "      <th>StockCode</th>\n",
       "      <th>Description</th>\n",
       "      <th>Quantity</th>\n",
       "      <th>InvoiceDate</th>\n",
       "      <th>UnitPrice</th>\n",
       "      <th>CustomerID</th>\n",
       "      <th>Country</th>\n",
       "    </tr>\n",
       "  </thead>\n",
       "  <tbody>\n",
       "    <tr>\n",
       "      <th>0</th>\n",
       "      <td>536365</td>\n",
       "      <td>85123A</td>\n",
       "      <td>WHITE HANGING HEART T-LIGHT HOLDER</td>\n",
       "      <td>6.0</td>\n",
       "      <td>12/1/2010 8:26</td>\n",
       "      <td>2.55</td>\n",
       "      <td>17850.0</td>\n",
       "      <td>United Kingdom</td>\n",
       "    </tr>\n",
       "    <tr>\n",
       "      <th>1</th>\n",
       "      <td>536365</td>\n",
       "      <td>71053</td>\n",
       "      <td>WHITE METAL LANTERN</td>\n",
       "      <td>6.0</td>\n",
       "      <td>12/1/2010 8:26</td>\n",
       "      <td>3.39</td>\n",
       "      <td>17850.0</td>\n",
       "      <td>United Kingdom</td>\n",
       "    </tr>\n",
       "    <tr>\n",
       "      <th>2</th>\n",
       "      <td>536365</td>\n",
       "      <td>84406B</td>\n",
       "      <td>CREAM CUPID HEARTS COAT HANGER</td>\n",
       "      <td>8.0</td>\n",
       "      <td>12/1/2010 8:26</td>\n",
       "      <td>2.75</td>\n",
       "      <td>17850.0</td>\n",
       "      <td>United Kingdom</td>\n",
       "    </tr>\n",
       "    <tr>\n",
       "      <th>3</th>\n",
       "      <td>536365</td>\n",
       "      <td>84029G</td>\n",
       "      <td>KNITTED UNION FLAG HOT WATER BOTTLE</td>\n",
       "      <td>6.0</td>\n",
       "      <td>12/1/2010 8:26</td>\n",
       "      <td>3.39</td>\n",
       "      <td>17850.0</td>\n",
       "      <td>United Kingdom</td>\n",
       "    </tr>\n",
       "    <tr>\n",
       "      <th>4</th>\n",
       "      <td>536365</td>\n",
       "      <td>84029E</td>\n",
       "      <td>RED WOOLLY HOTTIE WHITE HEART.</td>\n",
       "      <td>6.0</td>\n",
       "      <td>12/1/2010 8:26</td>\n",
       "      <td>3.39</td>\n",
       "      <td>17850.0</td>\n",
       "      <td>United Kingdom</td>\n",
       "    </tr>\n",
       "  </tbody>\n",
       "</table>\n",
       "</div>"
      ],
      "text/plain": [
       "   InvoiceNo StockCode                          Description  Quantity  \\\n",
       "0     536365    85123A   WHITE HANGING HEART T-LIGHT HOLDER       6.0   \n",
       "1     536365     71053                  WHITE METAL LANTERN       6.0   \n",
       "2     536365    84406B       CREAM CUPID HEARTS COAT HANGER       8.0   \n",
       "3     536365    84029G  KNITTED UNION FLAG HOT WATER BOTTLE       6.0   \n",
       "4     536365    84029E       RED WOOLLY HOTTIE WHITE HEART.       6.0   \n",
       "\n",
       "      InvoiceDate  UnitPrice  CustomerID         Country  \n",
       "0  12/1/2010 8:26       2.55     17850.0  United Kingdom  \n",
       "1  12/1/2010 8:26       3.39     17850.0  United Kingdom  \n",
       "2  12/1/2010 8:26       2.75     17850.0  United Kingdom  \n",
       "3  12/1/2010 8:26       3.39     17850.0  United Kingdom  \n",
       "4  12/1/2010 8:26       3.39     17850.0  United Kingdom  "
      ]
     },
     "execution_count": 3,
     "metadata": {},
     "output_type": "execute_result"
    }
   ],
   "source": [
    "E_data.head()"
   ]
  },
  {
   "cell_type": "code",
   "execution_count": 4,
   "id": "69a12151",
   "metadata": {
    "execution": {
     "iopub.execute_input": "2023-02-25T23:11:40.831581Z",
     "iopub.status.busy": "2023-02-25T23:11:40.831015Z",
     "iopub.status.idle": "2023-02-25T23:11:40.940293Z",
     "shell.execute_reply": "2023-02-25T23:11:40.939460Z"
    },
    "papermill": {
     "duration": 0.127261,
     "end_time": "2023-02-25T23:11:40.942333",
     "exception": false,
     "start_time": "2023-02-25T23:11:40.815072",
     "status": "completed"
    },
    "tags": []
   },
   "outputs": [
    {
     "data": {
      "text/plain": [
       " InvoiceNo          1\n",
       "StockCode           1\n",
       "Description      1455\n",
       "Quantity            1\n",
       "InvoiceDate         1\n",
       "UnitPrice           1\n",
       "CustomerID     135081\n",
       "Country             1\n",
       "dtype: int64"
      ]
     },
     "execution_count": 4,
     "metadata": {},
     "output_type": "execute_result"
    }
   ],
   "source": [
    "#checking for data missing \n",
    "E_data.isnull().sum(axis=0)"
   ]
  },
  {
   "cell_type": "code",
   "execution_count": 5,
   "id": "92ac2ec5",
   "metadata": {
    "execution": {
     "iopub.execute_input": "2023-02-25T23:11:40.972793Z",
     "iopub.status.busy": "2023-02-25T23:11:40.972462Z",
     "iopub.status.idle": "2023-02-25T23:11:40.979599Z",
     "shell.execute_reply": "2023-02-25T23:11:40.978472Z"
    },
    "papermill": {
     "duration": 0.024847,
     "end_time": "2023-02-25T23:11:40.981681",
     "exception": false,
     "start_time": "2023-02-25T23:11:40.956834",
     "status": "completed"
    },
    "tags": []
   },
   "outputs": [
    {
     "data": {
      "text/plain": [
       "(541910, 8)"
      ]
     },
     "execution_count": 5,
     "metadata": {},
     "output_type": "execute_result"
    }
   ],
   "source": [
    "E_data.shape"
   ]
  },
  {
   "cell_type": "code",
   "execution_count": 6,
   "id": "95337749",
   "metadata": {
    "execution": {
     "iopub.execute_input": "2023-02-25T23:11:41.012475Z",
     "iopub.status.busy": "2023-02-25T23:11:41.012091Z",
     "iopub.status.idle": "2023-02-25T23:11:41.025821Z",
     "shell.execute_reply": "2023-02-25T23:11:41.024712Z"
    },
    "papermill": {
     "duration": 0.031804,
     "end_time": "2023-02-25T23:11:41.028100",
     "exception": false,
     "start_time": "2023-02-25T23:11:40.996296",
     "status": "completed"
    },
    "tags": []
   },
   "outputs": [
    {
     "data": {
      "text/plain": [
       "-80995.0"
      ]
     },
     "execution_count": 6,
     "metadata": {},
     "output_type": "execute_result"
    }
   ],
   "source": [
    "#checking for negative values in quantity\n",
    "E_data.Quantity.min()"
   ]
  },
  {
   "cell_type": "code",
   "execution_count": 7,
   "id": "417b17e7",
   "metadata": {
    "execution": {
     "iopub.execute_input": "2023-02-25T23:11:41.059265Z",
     "iopub.status.busy": "2023-02-25T23:11:41.058861Z",
     "iopub.status.idle": "2023-02-25T23:11:41.426955Z",
     "shell.execute_reply": "2023-02-25T23:11:41.425955Z"
    },
    "papermill": {
     "duration": 0.386447,
     "end_time": "2023-02-25T23:11:41.429076",
     "exception": false,
     "start_time": "2023-02-25T23:11:41.042629",
     "status": "completed"
    },
    "tags": []
   },
   "outputs": [
    {
     "data": {
      "text/plain": [
       "(536642, 8)"
      ]
     },
     "execution_count": 7,
     "metadata": {},
     "output_type": "execute_result"
    }
   ],
   "source": [
    "E_data=E_data.drop_duplicates()\n",
    "E_data.shape"
   ]
  },
  {
   "cell_type": "code",
   "execution_count": 8,
   "id": "35536e5d",
   "metadata": {
    "execution": {
     "iopub.execute_input": "2023-02-25T23:11:41.461071Z",
     "iopub.status.busy": "2023-02-25T23:11:41.460737Z",
     "iopub.status.idle": "2023-02-25T23:11:43.069515Z",
     "shell.execute_reply": "2023-02-25T23:11:43.068012Z"
    },
    "papermill": {
     "duration": 1.628032,
     "end_time": "2023-02-25T23:11:43.072125",
     "exception": false,
     "start_time": "2023-02-25T23:11:41.444093",
     "status": "completed"
    },
    "tags": []
   },
   "outputs": [],
   "source": [
    "# Perform data cleaning and transformation\n",
    "E_data = E_data[pd.notnull(E_data['CustomerID'])]\n",
    "#Check for Negative Values\n",
    "E_data = E_data[(E_data['Quantity']>0)]\n",
    "E_data['InvoiceDate'] = pd.to_datetime(E_data['InvoiceDate'])\n",
    "# Add Total amount Column\n",
    "E_data['TotalAmount'] = E_data['Quantity'] * E_data['UnitPrice']\n"
   ]
  },
  {
   "cell_type": "code",
   "execution_count": 9,
   "id": "d153a1c8",
   "metadata": {
    "execution": {
     "iopub.execute_input": "2023-02-25T23:11:43.104565Z",
     "iopub.status.busy": "2023-02-25T23:11:43.104151Z",
     "iopub.status.idle": "2023-02-25T23:11:43.164696Z",
     "shell.execute_reply": "2023-02-25T23:11:43.163515Z"
    },
    "papermill": {
     "duration": 0.079244,
     "end_time": "2023-02-25T23:11:43.166665",
     "exception": false,
     "start_time": "2023-02-25T23:11:43.087421",
     "status": "completed"
    },
    "tags": []
   },
   "outputs": [
    {
     "data": {
      "text/html": [
       "<div>\n",
       "<style scoped>\n",
       "    .dataframe tbody tr th:only-of-type {\n",
       "        vertical-align: middle;\n",
       "    }\n",
       "\n",
       "    .dataframe tbody tr th {\n",
       "        vertical-align: top;\n",
       "    }\n",
       "\n",
       "    .dataframe thead th {\n",
       "        text-align: right;\n",
       "    }\n",
       "</style>\n",
       "<table border=\"1\" class=\"dataframe\">\n",
       "  <thead>\n",
       "    <tr style=\"text-align: right;\">\n",
       "      <th></th>\n",
       "      <th>Country</th>\n",
       "      <th>CustomerID</th>\n",
       "    </tr>\n",
       "  </thead>\n",
       "  <tbody>\n",
       "    <tr>\n",
       "      <th>35</th>\n",
       "      <td>United Kingdom</td>\n",
       "      <td>3921</td>\n",
       "    </tr>\n",
       "    <tr>\n",
       "      <th>14</th>\n",
       "      <td>Germany</td>\n",
       "      <td>94</td>\n",
       "    </tr>\n",
       "    <tr>\n",
       "      <th>13</th>\n",
       "      <td>France</td>\n",
       "      <td>87</td>\n",
       "    </tr>\n",
       "    <tr>\n",
       "      <th>30</th>\n",
       "      <td>Spain</td>\n",
       "      <td>30</td>\n",
       "    </tr>\n",
       "    <tr>\n",
       "      <th>3</th>\n",
       "      <td>Belgium</td>\n",
       "      <td>25</td>\n",
       "    </tr>\n",
       "    <tr>\n",
       "      <th>32</th>\n",
       "      <td>Switzerland</td>\n",
       "      <td>21</td>\n",
       "    </tr>\n",
       "    <tr>\n",
       "      <th>26</th>\n",
       "      <td>Portugal</td>\n",
       "      <td>19</td>\n",
       "    </tr>\n",
       "    <tr>\n",
       "      <th>18</th>\n",
       "      <td>Italy</td>\n",
       "      <td>14</td>\n",
       "    </tr>\n",
       "    <tr>\n",
       "      <th>12</th>\n",
       "      <td>Finland</td>\n",
       "      <td>12</td>\n",
       "    </tr>\n",
       "    <tr>\n",
       "      <th>1</th>\n",
       "      <td>Austria</td>\n",
       "      <td>11</td>\n",
       "    </tr>\n",
       "    <tr>\n",
       "      <th>24</th>\n",
       "      <td>Norway</td>\n",
       "      <td>10</td>\n",
       "    </tr>\n",
       "    <tr>\n",
       "      <th>23</th>\n",
       "      <td>Netherlands</td>\n",
       "      <td>9</td>\n",
       "    </tr>\n",
       "    <tr>\n",
       "      <th>0</th>\n",
       "      <td>Australia</td>\n",
       "      <td>9</td>\n",
       "    </tr>\n",
       "    <tr>\n",
       "      <th>9</th>\n",
       "      <td>Denmark</td>\n",
       "      <td>9</td>\n",
       "    </tr>\n",
       "    <tr>\n",
       "      <th>6</th>\n",
       "      <td>Channel Islands</td>\n",
       "      <td>9</td>\n",
       "    </tr>\n",
       "    <tr>\n",
       "      <th>7</th>\n",
       "      <td>Cyprus</td>\n",
       "      <td>8</td>\n",
       "    </tr>\n",
       "    <tr>\n",
       "      <th>31</th>\n",
       "      <td>Sweden</td>\n",
       "      <td>8</td>\n",
       "    </tr>\n",
       "    <tr>\n",
       "      <th>19</th>\n",
       "      <td>Japan</td>\n",
       "      <td>8</td>\n",
       "    </tr>\n",
       "    <tr>\n",
       "      <th>25</th>\n",
       "      <td>Poland</td>\n",
       "      <td>6</td>\n",
       "    </tr>\n",
       "    <tr>\n",
       "      <th>33</th>\n",
       "      <td>USA</td>\n",
       "      <td>4</td>\n",
       "    </tr>\n",
       "    <tr>\n",
       "      <th>5</th>\n",
       "      <td>Canada</td>\n",
       "      <td>4</td>\n",
       "    </tr>\n",
       "    <tr>\n",
       "      <th>36</th>\n",
       "      <td>Unspecified</td>\n",
       "      <td>4</td>\n",
       "    </tr>\n",
       "    <tr>\n",
       "      <th>15</th>\n",
       "      <td>Greece</td>\n",
       "      <td>4</td>\n",
       "    </tr>\n",
       "    <tr>\n",
       "      <th>10</th>\n",
       "      <td>EIRE</td>\n",
       "      <td>3</td>\n",
       "    </tr>\n",
       "    <tr>\n",
       "      <th>17</th>\n",
       "      <td>Israel</td>\n",
       "      <td>3</td>\n",
       "    </tr>\n",
       "    <tr>\n",
       "      <th>22</th>\n",
       "      <td>Malta</td>\n",
       "      <td>2</td>\n",
       "    </tr>\n",
       "    <tr>\n",
       "      <th>34</th>\n",
       "      <td>United Arab Emirates</td>\n",
       "      <td>2</td>\n",
       "    </tr>\n",
       "    <tr>\n",
       "      <th>2</th>\n",
       "      <td>Bahrain</td>\n",
       "      <td>2</td>\n",
       "    </tr>\n",
       "    <tr>\n",
       "      <th>8</th>\n",
       "      <td>Czech Republic</td>\n",
       "      <td>1</td>\n",
       "    </tr>\n",
       "    <tr>\n",
       "      <th>21</th>\n",
       "      <td>Lithuania</td>\n",
       "      <td>1</td>\n",
       "    </tr>\n",
       "    <tr>\n",
       "      <th>20</th>\n",
       "      <td>Lebanon</td>\n",
       "      <td>1</td>\n",
       "    </tr>\n",
       "    <tr>\n",
       "      <th>27</th>\n",
       "      <td>RSA</td>\n",
       "      <td>1</td>\n",
       "    </tr>\n",
       "    <tr>\n",
       "      <th>28</th>\n",
       "      <td>Saudi Arabia</td>\n",
       "      <td>1</td>\n",
       "    </tr>\n",
       "    <tr>\n",
       "      <th>29</th>\n",
       "      <td>Singapore</td>\n",
       "      <td>1</td>\n",
       "    </tr>\n",
       "    <tr>\n",
       "      <th>16</th>\n",
       "      <td>Iceland</td>\n",
       "      <td>1</td>\n",
       "    </tr>\n",
       "    <tr>\n",
       "      <th>4</th>\n",
       "      <td>Brazil</td>\n",
       "      <td>1</td>\n",
       "    </tr>\n",
       "    <tr>\n",
       "      <th>11</th>\n",
       "      <td>European Community</td>\n",
       "      <td>1</td>\n",
       "    </tr>\n",
       "  </tbody>\n",
       "</table>\n",
       "</div>"
      ],
      "text/plain": [
       "                 Country  CustomerID\n",
       "35        United Kingdom        3921\n",
       "14               Germany          94\n",
       "13                France          87\n",
       "30                 Spain          30\n",
       "3                Belgium          25\n",
       "32           Switzerland          21\n",
       "26              Portugal          19\n",
       "18                 Italy          14\n",
       "12               Finland          12\n",
       "1                Austria          11\n",
       "24                Norway          10\n",
       "23           Netherlands           9\n",
       "0              Australia           9\n",
       "9                Denmark           9\n",
       "6        Channel Islands           9\n",
       "7                 Cyprus           8\n",
       "31                Sweden           8\n",
       "19                 Japan           8\n",
       "25                Poland           6\n",
       "33                   USA           4\n",
       "5                 Canada           4\n",
       "36           Unspecified           4\n",
       "15                Greece           4\n",
       "10                  EIRE           3\n",
       "17                Israel           3\n",
       "22                 Malta           2\n",
       "34  United Arab Emirates           2\n",
       "2                Bahrain           2\n",
       "8         Czech Republic           1\n",
       "21             Lithuania           1\n",
       "20               Lebanon           1\n",
       "27                   RSA           1\n",
       "28          Saudi Arabia           1\n",
       "29             Singapore           1\n",
       "16               Iceland           1\n",
       "4                 Brazil           1\n",
       "11    European Community           1"
      ]
     },
     "execution_count": 9,
     "metadata": {},
     "output_type": "execute_result"
    }
   ],
   "source": [
    "#Customer distribution by country\n",
    "country_cust_data=E_data[['Country','CustomerID']].drop_duplicates()\n",
    "country_cust_data.groupby(['Country'])['CustomerID'].aggregate('count').reset_index().sort_values('CustomerID', ascending=False)"
   ]
  },
  {
   "cell_type": "markdown",
   "id": "7438401e",
   "metadata": {
    "papermill": {
     "duration": 0.014472,
     "end_time": "2023-02-25T23:11:43.196125",
     "exception": false,
     "start_time": "2023-02-25T23:11:43.181653",
     "status": "completed"
    },
    "tags": []
   },
   "source": [
    "# Calculate Recency"
   ]
  },
  {
   "cell_type": "code",
   "execution_count": 10,
   "id": "fafcc047",
   "metadata": {
    "execution": {
     "iopub.execute_input": "2023-02-25T23:11:43.229375Z",
     "iopub.status.busy": "2023-02-25T23:11:43.229024Z",
     "iopub.status.idle": "2023-02-25T23:11:43.292871Z",
     "shell.execute_reply": "2023-02-25T23:11:43.291340Z"
    },
    "papermill": {
     "duration": 0.083304,
     "end_time": "2023-02-25T23:11:43.295559",
     "exception": false,
     "start_time": "2023-02-25T23:11:43.212255",
     "status": "completed"
    },
    "tags": []
   },
   "outputs": [
    {
     "data": {
      "text/html": [
       "<div>\n",
       "<style scoped>\n",
       "    .dataframe tbody tr th:only-of-type {\n",
       "        vertical-align: middle;\n",
       "    }\n",
       "\n",
       "    .dataframe tbody tr th {\n",
       "        vertical-align: top;\n",
       "    }\n",
       "\n",
       "    .dataframe thead th {\n",
       "        text-align: right;\n",
       "    }\n",
       "</style>\n",
       "<table border=\"1\" class=\"dataframe\">\n",
       "  <thead>\n",
       "    <tr style=\"text-align: right;\">\n",
       "      <th></th>\n",
       "      <th>CustomerID</th>\n",
       "      <th>LastPurchaseDate</th>\n",
       "      <th>Recency</th>\n",
       "    </tr>\n",
       "  </thead>\n",
       "  <tbody>\n",
       "    <tr>\n",
       "      <th>0</th>\n",
       "      <td>12346.0</td>\n",
       "      <td>2011-01-18 10:01:00</td>\n",
       "      <td>325</td>\n",
       "    </tr>\n",
       "    <tr>\n",
       "      <th>1</th>\n",
       "      <td>12347.0</td>\n",
       "      <td>2011-12-07 15:52:00</td>\n",
       "      <td>1</td>\n",
       "    </tr>\n",
       "    <tr>\n",
       "      <th>2</th>\n",
       "      <td>12348.0</td>\n",
       "      <td>2011-09-25 13:13:00</td>\n",
       "      <td>74</td>\n",
       "    </tr>\n",
       "    <tr>\n",
       "      <th>3</th>\n",
       "      <td>12349.0</td>\n",
       "      <td>2011-11-21 09:51:00</td>\n",
       "      <td>18</td>\n",
       "    </tr>\n",
       "    <tr>\n",
       "      <th>4</th>\n",
       "      <td>12350.0</td>\n",
       "      <td>2011-02-02 16:01:00</td>\n",
       "      <td>309</td>\n",
       "    </tr>\n",
       "  </tbody>\n",
       "</table>\n",
       "</div>"
      ],
      "text/plain": [
       "   CustomerID    LastPurchaseDate  Recency\n",
       "0     12346.0 2011-01-18 10:01:00      325\n",
       "1     12347.0 2011-12-07 15:52:00        1\n",
       "2     12348.0 2011-09-25 13:13:00       74\n",
       "3     12349.0 2011-11-21 09:51:00       18\n",
       "4     12350.0 2011-02-02 16:01:00      309"
      ]
     },
     "execution_count": 10,
     "metadata": {},
     "output_type": "execute_result"
    }
   ],
   "source": [
    "recency = E_data.groupby(by='CustomerID', as_index=False)['InvoiceDate'].max()\n",
    "recency.columns = ['CustomerID', 'LastPurchaseDate']\n",
    "recent_date = recency['LastPurchaseDate'].max()\n",
    "recency['Recency'] = recency['LastPurchaseDate'].apply(lambda x: (recent_date - x).days)\n",
    "recency.head()"
   ]
  },
  {
   "cell_type": "markdown",
   "id": "da01b9d0",
   "metadata": {
    "papermill": {
     "duration": 0.015176,
     "end_time": "2023-02-25T23:11:43.326234",
     "exception": false,
     "start_time": "2023-02-25T23:11:43.311058",
     "status": "completed"
    },
    "tags": []
   },
   "source": [
    "# Calculate Frequency"
   ]
  },
  {
   "cell_type": "code",
   "execution_count": 11,
   "id": "d2272089",
   "metadata": {
    "execution": {
     "iopub.execute_input": "2023-02-25T23:11:43.358214Z",
     "iopub.status.busy": "2023-02-25T23:11:43.357841Z",
     "iopub.status.idle": "2023-02-25T23:11:43.397431Z",
     "shell.execute_reply": "2023-02-25T23:11:43.396031Z"
    },
    "papermill": {
     "duration": 0.058126,
     "end_time": "2023-02-25T23:11:43.399449",
     "exception": false,
     "start_time": "2023-02-25T23:11:43.341323",
     "status": "completed"
    },
    "tags": []
   },
   "outputs": [
    {
     "data": {
      "text/html": [
       "<div>\n",
       "<style scoped>\n",
       "    .dataframe tbody tr th:only-of-type {\n",
       "        vertical-align: middle;\n",
       "    }\n",
       "\n",
       "    .dataframe tbody tr th {\n",
       "        vertical-align: top;\n",
       "    }\n",
       "\n",
       "    .dataframe thead th {\n",
       "        text-align: right;\n",
       "    }\n",
       "</style>\n",
       "<table border=\"1\" class=\"dataframe\">\n",
       "  <thead>\n",
       "    <tr style=\"text-align: right;\">\n",
       "      <th></th>\n",
       "      <th>CustomerID</th>\n",
       "      <th>Frequency</th>\n",
       "    </tr>\n",
       "  </thead>\n",
       "  <tbody>\n",
       "    <tr>\n",
       "      <th>0</th>\n",
       "      <td>12346.0</td>\n",
       "      <td>1</td>\n",
       "    </tr>\n",
       "    <tr>\n",
       "      <th>1</th>\n",
       "      <td>12347.0</td>\n",
       "      <td>182</td>\n",
       "    </tr>\n",
       "    <tr>\n",
       "      <th>2</th>\n",
       "      <td>12348.0</td>\n",
       "      <td>31</td>\n",
       "    </tr>\n",
       "    <tr>\n",
       "      <th>3</th>\n",
       "      <td>12349.0</td>\n",
       "      <td>73</td>\n",
       "    </tr>\n",
       "    <tr>\n",
       "      <th>4</th>\n",
       "      <td>12350.0</td>\n",
       "      <td>17</td>\n",
       "    </tr>\n",
       "  </tbody>\n",
       "</table>\n",
       "</div>"
      ],
      "text/plain": [
       "   CustomerID  Frequency\n",
       "0     12346.0          1\n",
       "1     12347.0        182\n",
       "2     12348.0         31\n",
       "3     12349.0         73\n",
       "4     12350.0         17"
      ]
     },
     "execution_count": 11,
     "metadata": {},
     "output_type": "execute_result"
    }
   ],
   "source": [
    "E_data.get(\"InvoiceNo \")\n",
    "frequency = E_data.groupby(by='CustomerID', as_index=False)[' InvoiceNo'].count()\n",
    "frequency.columns = ['CustomerID', 'Frequency']\n",
    "frequency.head()"
   ]
  },
  {
   "cell_type": "markdown",
   "id": "ddbfe770",
   "metadata": {
    "papermill": {
     "duration": 0.015189,
     "end_time": "2023-02-25T23:11:43.430096",
     "exception": false,
     "start_time": "2023-02-25T23:11:43.414907",
     "status": "completed"
    },
    "tags": []
   },
   "source": [
    "# Calculate Monetary "
   ]
  },
  {
   "cell_type": "code",
   "execution_count": 12,
   "id": "a9abc10c",
   "metadata": {
    "execution": {
     "iopub.execute_input": "2023-02-25T23:11:43.462009Z",
     "iopub.status.busy": "2023-02-25T23:11:43.461672Z",
     "iopub.status.idle": "2023-02-25T23:11:43.487609Z",
     "shell.execute_reply": "2023-02-25T23:11:43.486541Z"
    },
    "papermill": {
     "duration": 0.044352,
     "end_time": "2023-02-25T23:11:43.489538",
     "exception": false,
     "start_time": "2023-02-25T23:11:43.445186",
     "status": "completed"
    },
    "tags": []
   },
   "outputs": [
    {
     "data": {
      "text/html": [
       "<div>\n",
       "<style scoped>\n",
       "    .dataframe tbody tr th:only-of-type {\n",
       "        vertical-align: middle;\n",
       "    }\n",
       "\n",
       "    .dataframe tbody tr th {\n",
       "        vertical-align: top;\n",
       "    }\n",
       "\n",
       "    .dataframe thead th {\n",
       "        text-align: right;\n",
       "    }\n",
       "</style>\n",
       "<table border=\"1\" class=\"dataframe\">\n",
       "  <thead>\n",
       "    <tr style=\"text-align: right;\">\n",
       "      <th></th>\n",
       "      <th>CustomerID</th>\n",
       "      <th>Monetary</th>\n",
       "    </tr>\n",
       "  </thead>\n",
       "  <tbody>\n",
       "    <tr>\n",
       "      <th>0</th>\n",
       "      <td>12346.0</td>\n",
       "      <td>77183.60</td>\n",
       "    </tr>\n",
       "    <tr>\n",
       "      <th>1</th>\n",
       "      <td>12347.0</td>\n",
       "      <td>4310.00</td>\n",
       "    </tr>\n",
       "    <tr>\n",
       "      <th>2</th>\n",
       "      <td>12348.0</td>\n",
       "      <td>1797.24</td>\n",
       "    </tr>\n",
       "    <tr>\n",
       "      <th>3</th>\n",
       "      <td>12349.0</td>\n",
       "      <td>1757.55</td>\n",
       "    </tr>\n",
       "    <tr>\n",
       "      <th>4</th>\n",
       "      <td>12350.0</td>\n",
       "      <td>334.40</td>\n",
       "    </tr>\n",
       "  </tbody>\n",
       "</table>\n",
       "</div>"
      ],
      "text/plain": [
       "   CustomerID  Monetary\n",
       "0     12346.0  77183.60\n",
       "1     12347.0   4310.00\n",
       "2     12348.0   1797.24\n",
       "3     12349.0   1757.55\n",
       "4     12350.0    334.40"
      ]
     },
     "execution_count": 12,
     "metadata": {},
     "output_type": "execute_result"
    }
   ],
   "source": [
    "monetary = E_data.groupby(by='CustomerID', as_index=False)['TotalAmount'].sum()\n",
    "monetary.columns = ['CustomerID', 'Monetary']\n",
    "monetary.head()"
   ]
  },
  {
   "cell_type": "markdown",
   "id": "9c82fedc",
   "metadata": {
    "papermill": {
     "duration": 0.015025,
     "end_time": "2023-02-25T23:11:43.520077",
     "exception": false,
     "start_time": "2023-02-25T23:11:43.505052",
     "status": "completed"
    },
    "tags": []
   },
   "source": [
    "# Create RFM"
   ]
  },
  {
   "cell_type": "code",
   "execution_count": 13,
   "id": "ae7e74cc",
   "metadata": {
    "execution": {
     "iopub.execute_input": "2023-02-25T23:11:43.552695Z",
     "iopub.status.busy": "2023-02-25T23:11:43.551534Z",
     "iopub.status.idle": "2023-02-25T23:11:43.579965Z",
     "shell.execute_reply": "2023-02-25T23:11:43.579066Z"
    },
    "papermill": {
     "duration": 0.04665,
     "end_time": "2023-02-25T23:11:43.581881",
     "exception": false,
     "start_time": "2023-02-25T23:11:43.535231",
     "status": "completed"
    },
    "tags": []
   },
   "outputs": [
    {
     "data": {
      "text/html": [
       "<div>\n",
       "<style scoped>\n",
       "    .dataframe tbody tr th:only-of-type {\n",
       "        vertical-align: middle;\n",
       "    }\n",
       "\n",
       "    .dataframe tbody tr th {\n",
       "        vertical-align: top;\n",
       "    }\n",
       "\n",
       "    .dataframe thead th {\n",
       "        text-align: right;\n",
       "    }\n",
       "</style>\n",
       "<table border=\"1\" class=\"dataframe\">\n",
       "  <thead>\n",
       "    <tr style=\"text-align: right;\">\n",
       "      <th></th>\n",
       "      <th>CustomerID</th>\n",
       "      <th>Recency</th>\n",
       "      <th>Frequency</th>\n",
       "      <th>Monetary</th>\n",
       "    </tr>\n",
       "  </thead>\n",
       "  <tbody>\n",
       "    <tr>\n",
       "      <th>0</th>\n",
       "      <td>12346.0</td>\n",
       "      <td>325</td>\n",
       "      <td>1</td>\n",
       "      <td>77183.60</td>\n",
       "    </tr>\n",
       "    <tr>\n",
       "      <th>1</th>\n",
       "      <td>12347.0</td>\n",
       "      <td>1</td>\n",
       "      <td>182</td>\n",
       "      <td>4310.00</td>\n",
       "    </tr>\n",
       "    <tr>\n",
       "      <th>2</th>\n",
       "      <td>12348.0</td>\n",
       "      <td>74</td>\n",
       "      <td>31</td>\n",
       "      <td>1797.24</td>\n",
       "    </tr>\n",
       "    <tr>\n",
       "      <th>3</th>\n",
       "      <td>12349.0</td>\n",
       "      <td>18</td>\n",
       "      <td>73</td>\n",
       "      <td>1757.55</td>\n",
       "    </tr>\n",
       "    <tr>\n",
       "      <th>4</th>\n",
       "      <td>12350.0</td>\n",
       "      <td>309</td>\n",
       "      <td>17</td>\n",
       "      <td>334.40</td>\n",
       "    </tr>\n",
       "  </tbody>\n",
       "</table>\n",
       "</div>"
      ],
      "text/plain": [
       "   CustomerID  Recency  Frequency  Monetary\n",
       "0     12346.0      325          1  77183.60\n",
       "1     12347.0        1        182   4310.00\n",
       "2     12348.0       74         31   1797.24\n",
       "3     12349.0       18         73   1757.55\n",
       "4     12350.0      309         17    334.40"
      ]
     },
     "execution_count": 13,
     "metadata": {},
     "output_type": "execute_result"
    }
   ],
   "source": [
    "RF = recency.merge(frequency, on='CustomerID')\n",
    "RFM = RF.merge(monetary, on='CustomerID').drop(columns='LastPurchaseDate')\n",
    "\n",
    "RFM.head()"
   ]
  },
  {
   "cell_type": "code",
   "execution_count": 14,
   "id": "5f0a19da",
   "metadata": {
    "execution": {
     "iopub.execute_input": "2023-02-25T23:11:43.614637Z",
     "iopub.status.busy": "2023-02-25T23:11:43.614002Z",
     "iopub.status.idle": "2023-02-25T23:11:43.618785Z",
     "shell.execute_reply": "2023-02-25T23:11:43.617484Z"
    },
    "papermill": {
     "duration": 0.023259,
     "end_time": "2023-02-25T23:11:43.620739",
     "exception": false,
     "start_time": "2023-02-25T23:11:43.597480",
     "status": "completed"
    },
    "tags": []
   },
   "outputs": [],
   "source": [
    "import warnings\n",
    "warnings.filterwarnings(\"ignore\", category=DeprecationWarning)\n",
    "#This will ignore all DeprecationWarning warnings in your code."
   ]
  },
  {
   "cell_type": "markdown",
   "id": "0d8891f5",
   "metadata": {
    "papermill": {
     "duration": 0.015004,
     "end_time": "2023-02-25T23:11:43.651348",
     "exception": false,
     "start_time": "2023-02-25T23:11:43.636344",
     "status": "completed"
    },
    "tags": []
   },
   "source": [
    "# Plot R F M"
   ]
  },
  {
   "cell_type": "code",
   "execution_count": 15,
   "id": "d0fb7ea3",
   "metadata": {
    "execution": {
     "iopub.execute_input": "2023-02-25T23:11:43.686333Z",
     "iopub.status.busy": "2023-02-25T23:11:43.685180Z",
     "iopub.status.idle": "2023-02-25T23:11:43.940525Z",
     "shell.execute_reply": "2023-02-25T23:11:43.939286Z"
    },
    "papermill": {
     "duration": 0.275353,
     "end_time": "2023-02-25T23:11:43.943314",
     "exception": false,
     "start_time": "2023-02-25T23:11:43.667961",
     "status": "completed"
    },
    "tags": []
   },
   "outputs": [
    {
     "data": {
      "image/png": "[encoded data removed]",
      "text/plain": [
       "<Figure size 640x480 with 1 Axes>"
      ]
     },
     "metadata": {},
     "output_type": "display_data"
    }
   ],
   "source": [
    "# Ploting R F M\n",
    "Recency_Plot = recency['Recency']\n",
    "ax = sns.histplot(Recency_Plot)\n"
   ]
  },
  {
   "cell_type": "code",
   "execution_count": 16,
   "id": "338ea971",
   "metadata": {
    "execution": {
     "iopub.execute_input": "2023-02-25T23:11:43.978279Z",
     "iopub.status.busy": "2023-02-25T23:11:43.977916Z",
     "iopub.status.idle": "2023-02-25T23:11:44.296378Z",
     "shell.execute_reply": "2023-02-25T23:11:44.295144Z"
    },
    "papermill": {
     "duration": 0.338602,
     "end_time": "2023-02-25T23:11:44.298414",
     "exception": false,
     "start_time": "2023-02-25T23:11:43.959812",
     "status": "completed"
    },
    "tags": []
   },
   "outputs": [
    {
     "data": {
      "image/png": "[encoded data removed]",
      "text/plain": [
       "<Figure size 640x480 with 1 Axes>"
      ]
     },
     "metadata": {},
     "output_type": "display_data"
    }
   ],
   "source": [
    "Frequency_Plot = frequency.query('Frequency < 1000')['Frequency']\n",
    "ax = sns.histplot(Frequency_Plot)"
   ]
  },
  {
   "cell_type": "markdown",
   "id": "dcad222d",
   "metadata": {
    "papermill": {
     "duration": 0.016095,
     "end_time": "2023-02-25T23:11:44.331107",
     "exception": false,
     "start_time": "2023-02-25T23:11:44.315012",
     "status": "completed"
    },
    "tags": []
   },
   "source": [
    "# Apply Log Transformation"
   ]
  },
  {
   "cell_type": "code",
   "execution_count": 17,
   "id": "4850d669",
   "metadata": {
    "execution": {
     "iopub.execute_input": "2023-02-25T23:11:44.365939Z",
     "iopub.status.busy": "2023-02-25T23:11:44.365522Z",
     "iopub.status.idle": "2023-02-25T23:11:44.371734Z",
     "shell.execute_reply": "2023-02-25T23:11:44.370605Z"
    },
    "papermill": {
     "duration": 0.026615,
     "end_time": "2023-02-25T23:11:44.374240",
     "exception": false,
     "start_time": "2023-02-25T23:11:44.347625",
     "status": "completed"
    },
    "tags": []
   },
   "outputs": [],
   "source": [
    "#Handle negative and zero values to handle infinite numbers during log transformation\n",
    "def handle_neg_n_zero(num):\n",
    "    if num <= 0:\n",
    "        return 1\n",
    "    else:\n",
    "        return num"
   ]
  },
  {
   "cell_type": "code",
   "execution_count": 18,
   "id": "bfe79c69",
   "metadata": {
    "execution": {
     "iopub.execute_input": "2023-02-25T23:11:44.408260Z",
     "iopub.status.busy": "2023-02-25T23:11:44.407917Z",
     "iopub.status.idle": "2023-02-25T23:11:44.420633Z",
     "shell.execute_reply": "2023-02-25T23:11:44.419863Z"
    },
    "papermill": {
     "duration": 0.031598,
     "end_time": "2023-02-25T23:11:44.422412",
     "exception": false,
     "start_time": "2023-02-25T23:11:44.390814",
     "status": "completed"
    },
    "tags": []
   },
   "outputs": [],
   "source": [
    "#Apply handle_neg_n_zero function to Recency and Monetary columns \n",
    "RFM['Recency'] = [handle_neg_n_zero(x) for x in RFM.Recency]\n",
    "RFM['Monetary'] = [handle_neg_n_zero(x) for x in RFM.Monetary]\n",
    "Log_Tfd_Data = RFM[['Recency', 'Frequency', 'Monetary']].apply(np.log, axis = 1).round(3)\n"
   ]
  },
  {
   "cell_type": "markdown",
   "id": "575d5fe1",
   "metadata": {
    "papermill": {
     "duration": 0.016452,
     "end_time": "2023-02-25T23:11:44.454960",
     "exception": false,
     "start_time": "2023-02-25T23:11:44.438508",
     "status": "completed"
    },
    "tags": []
   },
   "source": [
    "# Data After Normalized"
   ]
  },
  {
   "cell_type": "code",
   "execution_count": 19,
   "id": "c3978d86",
   "metadata": {
    "execution": {
     "iopub.execute_input": "2023-02-25T23:11:44.489652Z",
     "iopub.status.busy": "2023-02-25T23:11:44.489036Z",
     "iopub.status.idle": "2023-02-25T23:11:45.866348Z",
     "shell.execute_reply": "2023-02-25T23:11:45.865376Z"
    },
    "papermill": {
     "duration": 1.39711,
     "end_time": "2023-02-25T23:11:45.868658",
     "exception": false,
     "start_time": "2023-02-25T23:11:44.471548",
     "status": "completed"
    },
    "tags": []
   },
   "outputs": [
    {
     "data": {
      "text/html": [
       "        <script type=\"text/javascript\">\n",
       "        window.PlotlyConfig = {MathJaxConfig: 'local'};\n",
       "        if (window.MathJax && window.MathJax.Hub && window.MathJax.Hub.Config) {window.MathJax.Hub.Config({SVG: {font: \"STIX-Web\"}});}\n",
       "        if (typeof require !== 'undefined') {\n",
       "        require.undef(\"plotly\");\n",
       "        requirejs.config({\n",
       "            paths: {\n",
       "                'plotly': ['https://cdn.plot.ly/plotly-2.18.0.min']\n",
       "            }\n",
       "        });\n",
       "        require(['plotly'], function(Plotly) {\n",
       "            window._Plotly = Plotly;\n",
       "        });\n",
       "        }\n",
       "        </script>\n",
       "        "
      ]
     },
     "metadata": {},
     "output_type": "display_data"
    },
    {
     "data": {
      "text/html": [
       "<div>                            <div id=\"5fab74a6-c60a-42d0-8181-a290741421b9\" class=\"plotly-graph-div\" style=\"height:525px; width:100%;\"></div>            <script type=\"text/javascript\">                require([\"plotly\"], function(Plotly) {                    window.PLOTLYENV=window.PLOTLYENV || {};                                    if (document.getElementById(\"5fab74a6-c60a-42d0-8181-a290741421b9\")) {                    Plotly.newPlot(                        \"5fab74a6-c60a-42d0-8181-a290741421b9\",                        [{\"alignmentgroup\":\"True\",\"bingroup\":\"x\",\"hovertemplate\":\"variable=Recency<br>value=%{x}<br>count=%{y}<extra></extra>\",\"legendgroup\":\"Recency\",\"marker\":{\"color\":\"#636efa\",\"opacity\":0.9,\"pattern\":{\"shape\":\"\"}},\"name\":\"Recency\",\"nbinsx\":50,\"offsetgroup\":\"Recency\",\"orientation\":\"v\",\"showlegend\":true,\"x\":[5.784,0.0,4.304,2.89,5.733,3.555,5.313,5.442,5.361,3.091,3.466,0.0,4.043,3.932,5.656,0.693,4.691,1.946,5.67,1.099,3.912,3.784,4.263,5.737,3.178,2.303,5.749,4.86,4.394,3.045,1.386,5.215,3.332,5.82,2.708,4.369,3.045,4.263,4.143,2.89,3.555,3.807,4.771,5.71,5.775,3.892,4.997,3.045,3.892,3.466,4.357,5.73,4.304,4.19,5.375,3.135,0.693,4.718,4.143,2.708,4.554,0.0,5.088,4.344,5.268,3.045,3.219,2.079,3.738,3.555,3.738,0.0,4.431,4.369,4.595,0.0,2.565,5.903,0.693,2.996,3.045,4.043,5.489,3.761,3.045,5.043,2.303,2.773,4.89,4.007,4.277,3.761,4.174,4.248,4.533,2.89,3.951,2.197,2.773,5.231,0.0,3.434,3.332,2.773,3.97,2.708,3.091,1.099,2.303,3.296,3.091,2.773,3.466,2.197,5.814,1.386,3.638,4.127,5.106,2.708,4.394,2.996,3.091,5.817,4.554,2.833,5.447,4.89,3.219,5.645,4.956,4.174,4.718,5.583,5.864,4.344,3.296,0.0,4.143,4.357,4.956,3.638,2.89,2.079,0.0,4.394,2.079,4.078,2.639,3.367,4.868,4.511,3.738,3.332,3.045,2.944,3.367,3.555,4.304,3.829,5.283,5.106,4.357,5.878,3.638,1.946,3.892,2.708,1.946,5.737,1.386,5.71,1.946,5.561,5.663,4.443,3.091,0.0,3.664,2.079,5.421,5.753,3.555,3.526,2.996,4.344,5.505,3.664,5.472,0.693,1.099,5.451,2.773,1.946,3.638,3.332,5.347,5.756,4.511,4.682,3.611,3.912,2.89,2.197,3.332,3.332,5.242,4.06,3.045,4.357,4.078,4.344,3.091,3.932,4.29,4.025,5.624,0.0,4.543,3.332,3.045,2.708,2.639,0.0,5.442,5.617,4.654,5.352,3.091,2.303,1.099,2.197,4.025,4.06,4.489,4.19,3.466,5.472,3.135,4.736,3.178,4.844,4.86,3.497,1.386,3.045,5.037,4.663,0.693,5.811,5.799,4.997,2.303,2.773,2.303,2.89,3.367,2.303,0.0,1.946,5.781,4.043,2.398,5.011,2.197,5.796,1.386,3.638,3.178,3.714,4.06,0.0,2.639,1.099,1.099,1.946,3.296,5.916,4.727,3.219,5.323,3.296,4.836,4.234,1.792,3.332,1.946,4.369,2.944,4.248,1.792,2.639,5.673,3.367,2.639,4.564,3.332,0.0,2.079,4.654,1.099,5.011,4.248,1.386,0.693,3.434,4.431,1.099,1.386,5.914,3.296,2.303,4.248,4.727,3.135,5.187,5.451,5.864,5.749,5.805,5.916,4.344,4.143,4.89,3.932,0.0,0.0,1.099,4.852,4.382,3.091,5.46,5.635,4.454,2.708,4.754,3.932,1.946,4.92,5.756,1.099,5.472,5.347,4.078,2.773,2.944,3.611,4.143,1.386,0.0,2.079,5.894,2.197,4.159,5.252,5.922,5.545,5.811,3.951,2.89,5.9,2.197,5.226,3.584,5.176,5.561,3.784,4.615,4.99,4.554,5.635,5.565,0.693,5.361,4.248,4.304,4.078,0.693,1.609,0.693,5.817,3.611,5.565,3.434,4.97,5.642,4.06,5.147,3.497,0.693,4.963,1.386,4.234,4.174,3.332,5.583,3.045,3.401,4.564,5.684,4.898,4.357,5.919,1.946,5.347,3.932,4.92,3.219,5.642,3.219,5.22,4.419,5.787,5.638,4.956,4.043,1.099,5.46,3.784,5.617,2.079,3.178,4.466,4.127,4.205,5.361,3.135,5.22,3.401,3.714,5.318,2.079,5.576,2.833,2.398,5.165,3.664,3.091,0.693,1.386,4.997,4.927,4.844,1.946,2.773,2.079,5.075,4.143,4.466,1.386,3.526,5.74,4.344,3.045,3.135,0.0,2.773,2.639,3.219,4.143,3.989,4.868,3.555,5.659,4.963,2.708,3.401,0.0,2.079,1.609,2.197,0.0,5.72,2.197,1.792,1.946,4.477,2.197,5.878,4.71,1.792,1.099,5.283,5.352,5.043,5.056,3.367,5.489,2.89,0.0,4.29,5.673,0.693,3.401,3.091,3.091,1.099,4.431,3.045,5.273,4.663,1.099,5.759,4.654,2.398,5.153,4.007,5.775,5.916,2.079,0.0,2.303,3.951,4.277,1.792,2.708,1.099,4.143,0.0,4.727,3.091,3.401,2.303,3.932,5.875,3.989,4.29,4.92,4.369,2.079,5.606,5.67,4.585,3.401,3.434,2.565,4.143,2.639,5.352,4.344,3.178,5.517,5.533,4.263,5.247,2.485,5.919,3.135,4.394,2.197,0.0,5.252,5.583,4.86,0.0,0.693,1.099,5.182,2.398,4.828,1.099,5.056,0.693,2.079,3.296,4.248,5.617,2.996,4.248,3.466,0.0,4.585,5.451,0.0,3.664,0.693,4.883,3.761,5.919,4.078,3.401,0.0,2.398,4.92,3.045,2.944,5.472,5.591,4.533,4.489,1.386,4.344,4.533,3.091,5.565,5.609,4.443,5.278,4.007,2.303,3.045,2.708,4.673,4.431,2.89,5.805,3.664,3.219,2.197,3.332,2.565,5.687,1.609,3.466,3.871,4.543,2.079,3.045,5.743,4.796,3.807,5.642,2.89,3.555,4.143,3.258,3.045,1.099,2.708,3.807,4.159,3.219,3.784,1.946,2.639,5.587,3.664,5.817,2.303,2.89,4.543,4.094,4.905,2.303,2.197,1.099,2.89,2.197,2.639,4.06,3.367,4.533,2.197,2.944,4.025,5.587,4.796,4.836,4.344,5.476,5.293,4.078,0.693,5.606,5.303,4.382,5.416,1.099,2.485,4.29,5.352,3.178,2.773,5.565,4.554,4.71,5.308,4.522,3.912,2.833,2.833,4.82,4.511,5.05,2.079,2.565,2.398,4.111,4.094,5.591,5.568,0.0,3.951,2.303,0.693,2.833,0.0,5.9,3.584,3.401,4.718,4.143,2.708,3.689,4.344,4.796,2.833,4.078,5.799,3.091,5.043,3.638,5.242,5.883,4.913,1.946,0.0,5.587,5.124,4.635,5.037,5.858,1.099,4.779,3.091,1.792,3.296,1.099,3.045,0.0,3.584,4.174,0.0,1.386,4.344,4.263,2.773,0.693,3.555,4.394,3.638,5.753,3.434,4.522,2.565,4.394,4.331,5.056,5.298,3.784,5.561,5.176,4.205,5.659,4.234,4.143,2.303,2.708,4.174,4.078,4.248,4.796,4.369,5.545,5.591,4.143,2.079,2.833,4.248,3.497,3.892,5.545,5.9,5.916,4.489,4.094,4.477,4.585,3.219,3.434,5.635,3.401,5.796,4.868,2.303,4.304,5.313,0.0,5.215,3.332,4.277,5.252,4.836,2.833,0.0,4.29,0.0,3.135,4.663,4.89,3.761,1.386,2.398,4.143,5.004,3.664,4.143,4.673,0.0,2.89,2.197,2.303,2.89,4.19,4.29,1.386,0.0,2.565,5.537,4.511,3.091,2.773,3.135,3.258,3.219,5.553,5.106,3.178,2.833,1.792,3.332,3.638,5.529,4.043,5.209,2.303,0.0,4.585,0.0,4.094,5.46,5.247,5.182,3.611,5.298,3.807,5.442,4.174,5.481,5.447,4.344,4.043,2.773,4.644,3.932,4.905,5.613,5.74,1.946,2.303,5.642,2.833,3.091,5.659,2.773,4.248,4.143,4.277,5.753,0.693,5.493,2.079,0.0,5.561,4.836,4.29,4.277,2.996,4.078,4.443,4.344,4.06,0.0,3.367,3.466,3.689,2.639,3.497,4.357,5.318,3.497,5.204,0.0,0.0,3.738,4.443,3.664,2.398,4.554,3.219,5.762,4.174,4.29,3.296,1.609,1.792,5.371,4.394,4.419,4.963,2.89,3.689,5.147,2.773,5.489,2.485,5.323,3.892,3.091,2.197,3.178,2.639,5.73,5.043,5.724,4.143,2.708,2.639,2.303,4.159,3.555,4.673,3.951,1.609,3.829,0.0,5.74,3.784,4.159,3.219,3.332,3.664,2.398,4.477,3.135,5.762,3.664,5.153,4.754,3.401,5.529,4.06,3.091,1.386,4.595,3.178,3.466,4.205,3.584,3.932,2.708,4.29,5.371,3.401,2.708,4.779,2.197,5.545,2.773,3.526,3.807,3.738,4.727,5.1,2.303,2.197,5.323,4.443,5.182,4.078,4.997,0.693,3.912,4.304,5.704,2.89,5.011,5.017,0.0,2.833,5.226,5.652,0.693,5.204,4.127,4.06,3.178,1.099,3.401,3.638,5.037,3.219,5.759,1.386,1.946,5.71,5.583,5.598,1.099,3.434,5.384,5.505,5.635,5.591,3.434,5.501,2.639,4.754,3.555,4.875,5.375,3.892,3.638,3.332,3.584,4.905,5.384,3.296,3.178,1.386,5.293,2.833,5.481,4.263,2.773,0.693,4.543,5.081,5.922,4.554,3.97,5.659,4.812,5.659,5.017,1.099,0.0,2.398,3.466,3.97,3.892,5.384,4.127,4.248,0.0,0.0,4.143,3.497,4.394,0.0,4.625,1.792,5.521,2.485,2.197,5.903,4.317,1.099,4.844,4.174,0.0,4.754,5.733,4.19,4.927,5.537,3.401,3.932,4.143,5.903,1.609,5.717,3.332,5.209,3.714,3.664,4.511,3.045,3.135,3.332,5.707,4.97,1.609,2.89,3.466,5.165,4.043,3.045,2.708,2.89,5.063,3.178,5.352,1.609,5.529,4.06,2.303,4.159,3.178,4.511,3.932,4.852,4.554,4.025,2.079,5.124,4.025,5.784,0.0,2.833,5.509,4.043,4.29,3.401,1.792,4.804,0.0,3.091,4.779,5.878,3.97,4.143,4.443,3.989,2.996,1.099,0.693,2.303,1.792,5.236,4.248,5.313,4.779,4.522,0.0,3.258,5.694,3.135,3.296,3.892,5.784,2.708,5.204,4.263,3.584,4.369,4.025,2.398,3.892,3.892,4.06,5.861,3.97,0.0,4.522,3.091,4.304,2.303,5.124,4.043,4.554,5.684,4.682,5.572,5.187,5.124,3.526,3.091,2.773,3.045,4.357,4.159,5.886,0.693,2.303,5.165,5.38,1.792,0.0,5.03,1.386,4.357,2.996,3.045,5.727,4.977,1.792,2.89,4.248,5.656,3.871,3.401,5.328,2.639,4.277,4.078,3.638,3.367,3.258,1.099,2.773,2.944,4.174,5.357,2.398,3.367,3.738,1.099,2.639,2.197,5.347,3.807,4.89,3.738,2.197,4.745,5.283,5.624,4.691,4.331,3.951,5.081,3.829,2.773,5.037,5.412,1.792,4.796,4.094,4.127,2.833,1.792,0.0,3.045,3.332,5.649,5.165,4.344,3.466,3.689,5.58,3.258,4.682,5.645,2.079,5.717,2.773,3.434,0.0,2.944,4.812,4.159,4.654,0.0,3.135,5.583,1.386,2.197,3.332,5.583,4.143,5.765,1.099,3.434,1.386,4.852,3.689,4.615,4.82,3.466,5.707,5.897,1.099,0.0,0.693,2.197,4.025,5.781,1.946,2.398,1.099,3.584,2.708,4.92,4.29,1.386,5.037,5.472,3.932,3.401,4.277,1.099,2.565,3.091,1.099,5.609,2.944,4.963,1.099,4.419,2.303,1.946,4.804,4.094,0.0,5.762,0.0,4.86,0.0,0.0,3.807,1.099,0.693,5.919,4.89,3.829,2.079,4.344,5.451,5.394,3.555,4.304,5.472,5.58,2.197,2.944,3.664,2.944,5.371,5.153,4.454,4.248,5.617,3.638,4.575,2.303,3.466,4.078,5.69,4.443,2.079,3.689,2.303,4.19,5.799,3.401,0.0,0.0,4.205,1.386,5.303,4.663,2.833,5.38,4.078,0.0,2.773,5.472,4.543,2.303,4.654,3.951,4.489,3.401,2.398,0.693,0.0,3.738,1.099,5.505,3.714,5.17,4.511,4.691,3.332,3.219,3.932,5.209,3.738,3.871,3.045,4.304,4.382,5.919,5.784,3.738,3.367,5.209,5.455,2.079,5.389,4.7,5.624,5.759,1.792,0.0,5.557,4.143,2.079,4.949,3.912,1.946,5.037,4.682,5.088,5.802,5.416,4.29,3.912,4.585,2.639,5.278,0.693,3.401,2.996,3.135,1.946,5.357,2.079,2.303,0.0,1.946,0.693,3.664,2.833,1.946,1.946,2.89,4.754,5.403,4.248,3.912,4.477,1.946,5.489,3.829,4.663,3.784,4.159,5.328,2.303,4.736,5.485,5.088,2.773,4.812,3.091,4.205,2.773,2.708,2.773,5.075,5.489,5.384,3.784,2.996,4.836,3.638,4.787,5.557,2.197,5.609,5.1,5.05,5.366,1.609,5.9,4.369,3.738,2.89,3.434,3.045,4.682,1.946,5.765,5.684,5.878,5.215,5.247,3.761,3.932,3.219,3.611,2.079,5.69,3.466,2.197,4.159,2.197,5.38,0.0,4.159,0.693,4.997,1.099,4.86,3.497,4.771,4.663,2.303,4.248,4.511,5.737,3.738,5.889,4.511,0.0,3.045,1.099,2.303,4.585,4.025,0.0,5.38,2.833,3.135,3.892,1.792,5.71,2.197,3.045,4.585,5.9,5.72,5.765,1.946,0.0,5.318,3.97,0.0,2.89,2.079,2.89,5.193,4.078,2.303,5.242,1.386,5.737,5.037,4.691,4.99,4.174,4.575,5.505,3.332,2.833,2.398,4.635,4.29,3.807,4.263,5.545,2.944,5.533,2.303,5.1,2.833,5.638,3.892,3.638,3.258,4.205,5.328,5.159,1.792,3.219,3.912,5.74,5.73,3.738,3.219,4.466,5.209,2.944,0.693,3.829,2.773,2.773,3.135,3.045,2.303,5.231,4.605,4.094,2.833,3.466,4.143,0.0,3.135,4.673,3.434,2.944,0.693,3.584,4.078,3.219,5.46,3.178,0.693,4.078,5.557,4.043,4.159,2.708,2.197,4.06,5.22,3.332,3.135,1.386,1.099,5.011,5.737,2.303,2.833,5.017,2.89,2.197,4.025,4.431,1.792,4.317,1.099,4.554,4.7,4.025,0.0,5.635,0.693,5.187,5.916,2.485,0.693,2.773,3.689,1.609,5.124,3.892,5.62,2.89,5.916,2.639,3.526,3.045,1.792,2.944,2.303,3.761,5.72,2.303,5.613,0.0,2.708,1.099,4.263,5.489,2.079,5.501,5.323,0.0,5.215,3.434,4.025,5.273,3.135,4.5,1.099,3.912,5.568,5.58,3.555,3.912,3.932,3.135,3.045,4.06,5.13,4.205,5.05,0.0,5.298,1.386,4.19,4.331,0.0,1.946,5.124,2.833,1.386,2.079,4.454,3.258,3.332,2.944,4.094,3.135,2.303,5.485,5.631,5.455,0.693,2.708,3.401,3.178,4.248,5.231,3.219,4.663,1.946,5.338,3.761,3.401,4.913,5.576,1.099,5.38,0.0,5.361,3.434,2.303,0.0,2.639,2.303,5.288,0.693,2.639,2.565,2.197,3.332,2.079,3.135,3.178,3.738,0.0,1.609,4.984,2.197,3.178,5.609,5.922,0.0,3.829,1.946,2.708,1.099,1.099,3.738,1.099,5.278,2.398,2.708,4.718,5.513,3.332,3.761,4.454,3.784,2.197,2.639,4.304,4.97,1.386,5.69,4.06,5.572,3.829,3.332,1.946,2.773,0.693,5.442,4.71,4.043,3.912,4.836,5.635,3.989,5.765,3.219,2.197,1.792,3.332,2.773,4.143,2.996,0.693,5.106,0.0,3.951,3.912,3.85,4.094,5.081,2.079,2.639,4.304,3.664,3.689,5.911,3.584,5.278,5.293,4.29,4.143,2.996,5.903,5.187,2.197,1.099,5.278,3.332,3.951,2.833,2.197,4.489,5.587,3.951,3.761,4.143,4.997,3.045,5.74,3.091,4.043,3.135,4.344,4.771,3.555,4.078,2.485,2.89,3.932,3.219,3.332,1.792,2.303,5.22,0.693,2.079,5.565,0.693,5.342,4.673,2.485,4.331,2.944,3.258,2.89,4.875,5.529,4.357,5.328,5.814,5.533,4.99,2.197,4.431,1.946,5.318,1.946,3.091,2.303,3.219,2.996,0.0,5.056,0.693,4.29,0.693,0.0,2.773,3.555,4.5,4.248,4.745,5.357,3.367,3.912,5.501,3.434,4.682,1.386,5.9,4.394,5.69,3.497,4.025,3.367,2.565,4.263,3.091,2.89,4.357,4.078,3.178,2.398,5.529,4.984,4.143,1.946,2.303,5.598,2.197,5.505,4.554,2.639,3.892,3.367,4.205,3.526,4.844,4.663,3.584,4.025,4.025,4.263,5.501,2.89,5.283,2.708,5.352,3.638,3.807,5.13,3.85,4.745,4.984,2.708,3.912,5.063,2.398,3.555,3.97,3.738,5.147,3.497,3.638,5.583,2.079,2.398,0.693,2.197,3.466,4.369,3.401,1.946,4.263,1.099,5.541,1.386,2.708,4.489,4.263,4.06,2.197,5.13,5.288,3.401,2.89,5.017,2.079,5.595,4.159,5.609,3.178,3.091,5.762,1.386,2.398,5.613,3.178,3.689,1.946,1.099,4.248,5.357,3.611,3.951,4.344,3.807,5.182,5.919,4.533,2.197,4.644,4.344,5.147,1.792,5.357,3.045,5.545,5.638,2.996,2.197,5.727,4.205,5.366,2.833,4.635,3.738,1.099,5.198,4.419,5.808,2.079,3.401,5.278,2.833,2.833,5.737,4.949,5.501,3.135,3.332,2.197,3.367,2.833,2.833,2.639,4.89,5.501,4.89,3.892,4.727,1.792,3.091,3.178,4.174,4.078,3.892,5.13,2.833,4.844,2.639,5.472,0.693,5.476,3.932,3.807,5.416,1.946,1.099,5.1,5.476,2.303,4.89,2.773,2.197,3.401,4.304,0.0,1.099,3.784,0.0,5.875,2.833,4.22,5.919,5.768,3.219,5.799,2.079,5.775,4.263,5.557,2.833,5.903,4.174,5.03,3.332,4.234,2.565,0.0,0.0,4.779,4.094,0.693,0.693,2.303,4.511,4.06,4.454,3.219,5.875,4.431,2.197,0.0,5.412,4.078,5.481,5.762,0.0,3.829,4.466,2.303,5.165,3.932,5.9,5.762,5.416,5.878,5.451,5.737,3.584,4.174,5.472,4.718,5.62,5.38,5.697,0.0,3.332,2.197,3.784,4.19,4.29,4.159,4.89,5.468,4.796,3.434,2.079,3.555,2.708,4.836,4.19,4.997,5.642,5.124,4.595,4.898,5.778,4.663,4.143,5.011,5.82,3.045,3.135,2.708,1.792,4.025,1.099,3.611,4.174,3.829,5.869,5.142,4.06,3.892,3.045,3.738,3.332,1.386,3.219,5.298,3.912,2.197,0.0,4.19,4.143,3.912,5.666,4.094,4.143,4.554,5.609,0.0,4.304,4.691,5.288,4.143,5.787,1.099,5.645,3.761,4.248,4.443,4.635,5.808,3.951,3.638,3.434,5.9,5.333,5.05,3.97,4.174,4.382,4.86,4.454,0.0,3.807,5.805,5.9,4.263,5.056,5.919,2.398,5.537,3.332,3.401,1.386,3.664,5.889,5.919,4.554,3.219,4.304,4.025,2.996,3.689,4.913,1.946,4.852,3.664,5.124,2.079,5.361,2.639,5.13,3.664,5.22,5.595,5.142,1.386,2.708,2.197,5.784,4.718,5.666,2.708,0.0,4.511,4.997,5.236,3.401,3.497,5.572,4.419,3.219,5.136,2.197,5.743,4.159,4.431,3.178,4.06,5.775,3.611,5.533,2.89,3.466,2.639,3.258,3.091,5.361,1.946,3.045,2.398,5.565,4.868,3.989,5.513,0.0,2.079,5.572,5.799,5.743,3.219,3.367,3.367,0.0,5.889,5.642,5.565,3.178,5.866,4.533,3.332,5.82,2.944,4.431,2.079,3.912,3.892,0.0,4.718,2.565,4.331,3.664,4.745,2.708,5.075,0.0,3.367,4.522,3.091,4.543,3.296,3.466,2.996,2.833,0.693,1.946,2.708,5.892,4.382,3.951,3.091,5.142,5.236,5.799,2.398,5.043,3.466,2.398,3.784,5.447,4.143,0.0,3.664,3.466,4.419,3.178,0.0,3.466,2.89,5.533,3.091,3.045,1.946,3.178,2.89,5.147,5.088,1.792,2.303,4.727,5.659,2.079,3.97,1.792,4.331,1.099,3.584,5.375,4.078,5.624,2.398,3.135,3.332,2.398,5.861,3.045,3.892,2.89,0.693,4.635,1.792,2.398,1.386,3.434,5.176,3.611,5.011,5.081,4.22,4.787,3.178,3.135,5.17,3.892,5.541,3.829,4.248,2.708,4.605,3.526,3.951,3.258,2.303,1.946,4.357,3.932,3.555,4.094,5.817,3.296,5.209,3.932,2.197,3.555,2.197,3.466,2.303,4.025,1.099,3.738,4.942,4.754,4.635,4.304,1.386,3.784,2.708,2.773,4.489,3.951,4.89,1.099,4.644,5.252,5.106,2.89,5.056,5.313,5.814,3.584,4.5,4.522,2.079,5.489,3.784,3.091,5.242,3.761,3.178,5.756,4.654,3.912,5.118,3.664,5.38,3.664,5.69,2.89,4.466,4.277,4.382,2.89,3.871,3.951,3.135,2.079,3.178,4.754,2.079,4.779,1.099,5.525,3.296,0.0,5.583,3.466,2.833,5.142,0.0,5.576,4.934,5.298,4.143,3.526,3.689,5.645,2.079,4.956,2.398,4.977,5.451,3.466,3.135,2.398,3.555,5.897,5.298,2.639,2.773,5.357,4.174,5.352,5.642,4.736,2.639,2.89,4.174,3.871,2.708,4.344,2.89,4.89,2.485,3.664,5.455,0.693,3.664,5.717,3.912,2.197,4.094,4.174,3.178,5.38,4.159,3.434,4.466,4.143,4.745,1.792,1.609,4.22,5.497,4.883,5.481,5.209,3.178,2.197,2.303,3.466,3.807,3.219,5.878,2.197,3.761,2.639,5.004,0.0,4.718,4.317,4.663,3.807,4.956,3.912,0.0,3.091,3.807,3.892,5.72,3.555,4.357,3.045,4.663,5.333,2.773,4.143,3.871,5.765,3.761,0.693,5.916,5.142,4.007,4.277,4.585,3.611,4.043,5.533,4.234,3.761,3.892,4.159,2.303,3.466,4.06,4.277,5.714,3.807,2.833,3.611,2.89,5.226,3.932,1.099,4.913,1.099,2.89,2.708,3.689,2.398,1.946,3.219,3.045,3.689,4.605,1.386,5.62,3.466,2.639,4.143,0.0,5.908,5.74,5.288,0.0,4.522,4.078,4.382,5.05,5.421,5.529,5.004,5.263,0.0,5.908,3.135,2.773,2.197,1.946,2.944,1.099,5.153,0.0,5.176,2.708,5.509,5.247,2.944,5.03,5.147,5.919,5.919,5.263,4.19,1.099,2.996,5.472,4.143,4.71,4.489,5.737,4.89,5.62,5.897,4.407,1.946,2.773,3.434,2.079,3.497,2.639,3.135,3.434,4.29,2.944,2.773,3.091,0.693,5.714,2.833,5.903,3.638,4.419,5.1,2.773,4.331,4.477,3.178,3.045,0.693,4.804,3.367,2.398,2.89,3.761,1.099,2.079,3.989,4.466,3.584,0.693,3.367,2.398,5.347,3.85,3.135,3.045,5.501,1.946,3.526,1.099,3.611,1.099,0.693,3.829,3.638,3.829,2.773,5.557,3.807,2.398,3.367,3.738,4.511,3.638,5.733,4.511,1.609,5.273,4.454,5.595,1.946,4.159,3.401,3.045,3.611,4.779,5.919,3.664,5.153,3.97,3.466,4.97,5.394,3.784,2.708,4.174,2.197,5.557,5.897,2.773,3.045,3.784,5.659,5.69,0.693,5.645,2.773,4.394,4.007,4.605,5.697,3.091,4.06,5.037,4.736,4.663,2.398,5.572,5.476,4.466,3.892,4.248,3.714,1.792,4.111,5.513,4.174,2.833,4.431,5.384,3.784,4.956,5.204,5.136,2.197,5.352,5.242,1.946,4.06,4.025,4.277,3.932,5.756,5.903,3.332,3.638,2.833,3.932,1.099,3.045,5.568,4.078,2.89,4.174,4.466,5.517,0.693,5.505,2.079,5.05,4.89,5.687,1.386,3.738,5.591,3.892,2.079,2.708,5.638,4.159,0.0,5.525,5.442,2.773,2.303,1.946,3.912,4.06,4.543,2.708,4.828,4.533,3.892,4.92,4.094,4.595,4.277,4.263,4.19,4.143,2.773,3.091,3.434,3.784,2.708,3.664,0.693,5.464,4.304,1.099,0.693,5.886,4.06,3.091,3.401,3.989,3.178,3.784,4.477,0.0,4.477,2.89,4.357,5.136,4.382,5.583,5.455,3.367,3.584,5.759,4.025,3.784,5.308,5.412,4.454,5.242,3.761,4.248,3.689,4.344,4.025,3.135,2.197,1.946,3.497,5.352,3.135,5.13,4.111,3.951,5.561,4.19,2.773,5.583,5.17,3.784,3.912,2.773,2.079,4.29,4.248,5.864,0.693,4.754,5.919,5.278,5.17,4.595,2.996,4.263,5.826,1.609,3.401,5.13,4.796,3.045,2.197,5.591,3.091,4.836,3.219,4.927,5.361,3.611,4.654,2.833,0.693,5.799,4.143,4.779,3.526,5.38,5.142,4.263,0.0,5.273,4.844,3.829,1.609,2.565,2.833,3.296,1.946,3.584,5.05,5.645,4.663,3.178,4.304,2.708,5.056,3.761,2.303,3.434,5.67,2.996,5.805,2.833,1.099,4.127,5.283,3.466,0.0,1.792,1.386,2.197,3.434,3.951,2.398,2.833,2.89,3.584,0.0,2.833,4.394,3.466,4.174,2.079,5.583,5.505,1.099,4.094,4.304,4.489,4.078,3.332,5.775,3.951,5.595,0.0,4.025,4.094,5.03,2.89,4.543,0.0,5.576,5.74,4.234,5.707,2.89,2.485,3.555,2.89,3.97,4.025,3.045,3.761,3.258,3.784,4.718,2.773,3.178,5.247,5.707,0.0,5.568,4.654,4.025,5.357,4.143,3.296,3.332,1.609,1.946,4.19,0.0,3.807,3.497,0.0,4.905,5.283,5.283,5.004,4.466,3.784,4.143,4.585,5.38,0.693,3.296,5.176,4.29,2.996,2.944,3.497,4.29,3.135,3.932,5.613,5.1,1.792,4.466,4.143,3.178,2.197,4.317,2.708,5.252,5.153,4.331,3.466,3.829,4.369,5.69,0.693,2.079,3.892,5.075,5.883,1.386,4.663,3.178,3.434,2.944,5.69,5.916,3.045,1.386,3.932,3.367,5.62,4.094,3.178,5.22,0.0,0.0,5.142,4.382,1.099,5.242,3.045,2.833,2.89,1.386,4.691,0.693,3.97,5.1,5.67,2.197,4.682,4.554,5.489,5.088,3.714,3.526,4.19,3.135,0.0,3.258,1.609,3.97,5.894,2.639,5.263,0.693,2.639,3.258,4.836,4.431,4.248,5.204,4.718,5.922,4.369,5.513,5.442,4.248,4.22,1.099,3.912,4.304,4.094,2.708,1.099,5.652,1.099,3.689,3.555,4.304,2.833,2.639,5.384,5.22,3.466,4.234,5.204,2.639,5.46,3.401,5.572,1.099,3.932,5.501,4.382,5.613,0.0,4.357,3.367,4.29,2.773,5.403,3.434,3.091,3.401,4.654,1.386,5.501,5.176,5.13,3.738,4.263,4.06,2.708,4.942,2.833,3.045,2.197,5.905,5.236,2.708,5.889,2.89,4.205,2.639,3.135,2.773,3.296,0.0,3.989,3.497,0.693,5.9,3.738,4.277,1.386,1.099,4.094,3.829,0.0,4.317,4.263,5.541,4.22,4.898,5.481,5.421,2.079,2.079,0.0,3.584,3.807,4.431,2.89,0.693,2.079,2.89,5.384,4.344,5.583,3.135,5.908,2.639,3.219,5.565,2.773,4.5,5.707,3.219,5.894,3.807,3.611,3.932,3.434,3.932,4.357,3.951,5.694,5.17,3.829,3.332,2.303,4.454,1.386,3.611,2.833,3.784,3.401,5.919,4.043,5.916,4.727,5.366,5.762,4.159,1.946,4.564,2.944,5.288,1.099,5.68,5.606,3.401,3.85,5.557,4.043,3.466,4.025,4.205,2.197,4.078,4.369,4.29,0.0,4.595,5.916,2.197,2.944,4.804,1.946,1.099,3.332,5.638,4.025,0.0,5.897,4.477,2.303,5.088,4.159,3.091,5.153,4.625,4.956,4.585,3.091,5.252,1.386,5.886,1.946,2.565,4.625,0.693,2.303,4.554,5.421,2.708,3.638,3.912,4.522,5.05,3.638,5.209,0.0,5.425,4.844,3.664,3.401,5.278,2.079,3.584,4.605,3.738,3.892,3.738,3.951,5.226,5.808,1.099,2.197,3.135,2.639,5.908,4.97,4.078,3.401,4.942,3.091,3.045,4.331,1.386,4.19,2.398,4.419,3.401,4.19,4.19,5.226,3.611,2.639,3.526,5.268,0.0,0.0,5.903,4.159,5.697,3.219,1.946,2.773,4.745,3.332,1.099,1.386,4.394,3.332,4.263,1.099,3.332,5.666,3.555,2.079,3.135,5.62,3.892,5.043,4.094,2.398,2.996,5.914,4.745,4.369,1.099,3.219,1.386,3.951,0.0,3.989,3.219,2.079,3.932,2.485,5.352,3.045,5.46,4.927,1.099,4.025,4.898,4.682,3.367,0.0,5.215,2.833,5.472,4.454,3.638,4.745,5.226,5.421,1.946,5.236,1.099,3.638,3.611,5.583,4.344,1.099,5.537,4.094,2.485,4.466,2.773,3.367,0.693,1.386,1.792,5.384,2.303,3.367,5.659,5.004,3.091,0.0,4.443,3.807,1.386,3.912,2.833,3.367,1.946,3.332,0.693,3.689,2.303,3.401,3.784,4.094,5.215,4.357,4.7,4.143,2.398,4.443,2.708,5.501,4.466,3.367,4.92,3.258,0.693,3.434,3.178,4.718,5.05,4.431,4.762,0.693,4.554,5.263,3.296,4.868,3.296,4.394,3.367,5.58,4.29,5.746,2.996,4.06,2.398,3.296,4.727,3.296,2.833,2.833,3.555,3.555,4.344,3.045,3.178,3.466,4.682,3.526,4.804,1.792,3.296,1.099,0.693,3.892,5.771,3.091,2.639,0.0,2.833,2.197,5.565,5.063,3.466,3.332,5.1,3.829,1.609,1.946,5.659,5.759,0.693,5.447,4.771,5.081,5.215,3.892,5.017,5.811,1.386,2.708,4.663,2.708,5.617,2.708,5.505,5.472,0.0,4.654,3.091,3.932,5.268,3.135,4.304,2.833,1.946,3.434,3.045,3.401,3.332,3.045,3.466,5.645,3.638,4.043,5.663,4.357,1.386,5.38,3.761,5.303,5.176,4.007,4.025,1.946,3.829,5.421,2.303,4.654,4.06,3.296,3.555,5.609,3.367,3.135,3.97,3.555,5.159,3.97,3.951,3.258,5.529,3.664,4.078,5.451,1.099,3.434,3.135,1.792,4.159,5.733,5.73,2.89,2.708,4.554,5.572,2.398,0.693,3.526,5.204,3.178,2.485,2.303,0.693,5.743,4.673,0.0,3.951,5.318,2.639,4.779,1.099,5.892,4.754,2.833,1.386,3.689,4.663,4.99,3.932,5.333,4.927,0.0,4.836,4.673,3.714,3.526,5.425,5.481,4.043,4.86,4.078,3.045,3.219,2.079,3.434,1.099,5.727,1.946,3.332,2.773,4.605,2.398,2.996,2.639,5.886,2.303,4.543,4.344,4.927,3.401,3.178,0.0,3.807,4.595,1.946,2.639,2.833,5.631,2.565,3.091,4.812,4.443,5.707,5.011,2.773,4.533,3.367,5.05,5.869,3.807,2.639,1.099,4.443,2.639,5.182,1.946,3.555,4.852,3.912,5.74,3.135,5.71,2.303,2.773,3.871,5.472,0.0,2.485,5.468,3.091,4.277,2.773,3.689,3.664,5.384,5.288,4.248,3.135,2.303,2.079,4.159,1.099,2.89,2.639,1.946,2.944,4.344,0.0,5.094,5.724,5.384,3.638,3.045,4.736,4.828,1.386,3.555,1.099,0.0,5.805,5.088,5.215,2.708,2.398,0.693,3.761,4.369,3.367,3.714,2.303,3.892,2.708,3.807,2.89,1.946,4.263,0.0,4.844,3.466,5.743,2.833,4.466,0.0,0.0,5.533,5.05,3.584,5.389,4.99,5.17,3.664,0.0,1.946,0.0,2.833,5.252,5.313,5.897,4.836,2.639,3.738,4.533,3.091,4.078,2.708,5.056,2.197,2.197,2.708,3.784,5.247,4.357,4.344,1.099,4.159,5.561,4.06,0.0,0.0,5.509,1.946,5.881,4.317,5.666,2.773,5.394,2.079,0.693,5.323,5.081,4.317,5.565,5.635,4.043,3.178,0.693,3.332,4.263,4.844,3.401,2.639,5.73,2.773,3.97,3.367,0.0,2.303,5.886,5.883,1.386,3.97,0.0,0.0,5.242,3.97,5.631,5.17,3.367,3.219,3.178,5.595,3.738,5.451,3.135,5.278,5.881,4.078,4.86,0.0,2.944,5.323,2.565,4.543,2.89,2.565,3.135,1.946,1.792,5.802,3.892,4.248,3.332,5.489,1.946,5.38,1.386,5.529,0.0,5.46,1.792,4.682,4.595,4.078,0.0,4.277,1.099,4.431,2.398,3.091,5.361,2.833,5.472,0.0,4.344,5.375,3.466,3.689,1.792,3.951,3.091,4.025,4.86,5.153,1.609,5.74,4.078,2.996,3.466,2.639,2.833,4.382,1.609,5.13,0.0,3.401,3.555,2.89,3.401,5.617,4.454,4.779,5.919,0.0,5.384,4.159,4.094,4.92,2.996,2.398,3.178,3.584,5.62,2.303,4.277,3.219,2.773,4.942,3.219,2.89,1.099,4.174,0.0,3.738,5.425,2.708,3.892,0.0,4.29,0.0,1.099,0.0,5.572,3.951,3.135,2.197,3.761,2.773,1.792,3.367,5.878,4.836,4.913,4.949,4.875,3.611,5.46,5.561,2.773,5.529,3.367,3.526,5.124,0.693,1.099,5.215,5.231,5.13,2.303,3.784,5.768,5.298,3.091,5.442,3.611,3.219,4.554,4.836,4.248,2.708,2.639,1.099,0.693,4.357,5.919,3.638,3.97,0.0,2.079,2.079,2.89,2.398,4.718,1.099,5.476,4.718,5.176,1.386,5.881,0.0,0.0,2.89,2.773,3.045,3.466,5.568,3.912,5.063,2.639,1.946,2.485,5.288,4.025,2.303,4.564,5.537,3.178,2.996,5.063,4.263,3.951,4.431,5.024,4.29,5.635,3.258,3.367,3.178,5.187,3.664,3.045,3.045,3.584,4.394,4.29,2.303,2.708,1.099,2.485,2.565,3.584,1.099,4.263,3.912,1.386,3.091,5.697,0.0,3.466,3.892,0.693,3.829,3.714,3.258,3.714,0.0,5.71,4.663,4.431,4.382,5.38,5.916,2.398,5.215,5.919,0.0,1.099,1.609,5.717,5.908,0.693,5.778,4.06,2.485,3.401,4.956,3.367,4.663,0.0,5.318,4.369,5.215,5.13,3.761,5.153,5.897,5.714,0.693,1.099,2.398,3.434,4.852,2.996,5.352,5.775,5.081,4.007,5.412,4.263,3.761,3.091,5.147,4.431,5.063,5.242,3.332,2.996,4.248,5.505,5.922,2.079,5.733,4.06,1.099,3.784,4.466,1.099,4.143,5.638,2.398,5.919,4.883,3.784,2.303,3.555,4.89,3.332,3.932,4.92,1.386,2.079,5.069,3.871,4.868,1.946,5.447,3.584,4.984,0.0,4.263,3.664,1.386,5.288,5.513,4.174,4.754,5.136,2.996,4.949,3.434,3.611,3.611,5.916,5.922,5.106,5.347,5.485,3.932,3.178,2.639,5.916,3.332,5.897,3.555,5.106,4.97,3.045,4.007,5.215,2.398,5.464,5.412,4.796,5.638,4.29,3.584,2.398,5.889,1.099,3.091,4.234,5.455,5.545,5.919,5.037,3.296,1.099,3.434,4.382,4.673,3.932,3.555,5.024,4.585,1.099,5.808,4.159,3.045,3.555,3.434,5.03,2.89,2.398,3.97,3.178,1.099,3.784,5.308,5.881,4.248,1.792,5.659,2.197,3.091,3.045,5.147,4.883,1.609,4.304,3.664,5.663,3.219,5.549,5.22,4.727,5.922,3.091,1.946,5.375,3.784,2.89,3.555,3.219,2.708,5.796,5.609,4.575,4.094,0.0,4.522,4.394,5.743,2.398,1.946,4.836,2.303,0.0,3.584,3.611,5.796,5.533,0.0,2.944,2.398,5.908,5.666,4.205,3.219,2.303,5.905,5.361,4.997,1.946,3.135,3.367,4.094,2.89,5.489,2.639,5.352,3.332,4.127,5.684,2.833,5.05,4.754,1.946,2.485,4.942,3.807,3.912,3.434,4.898,0.693,4.304,2.485,2.079,5.704,4.025,2.639,3.584,5.17,3.091,5.165,4.094,3.466,4.06,2.639,4.454,1.792,5.878,3.401,4.852,2.079,1.386,3.135,5.421,2.639,5.513,2.639,4.344,5.252,5.565,4.263,5.1,4.394,4.543,1.099,4.654,5.293,5.05,4.248,3.555,3.332,0.0,3.219,5.784,5.464,4.477,3.401,3.332,5.347,0.693,5.421,3.045,4.522,1.386,5.572,0.693,3.761,5.38,4.025,2.398,2.079,5.252,4.394,5.784,4.263,3.367,0.693,5.384,3.807,2.197,4.263,1.792,3.135,4.804,2.773,5.733,4.454,3.912,4.477,3.638,3.178,5.147,3.738,4.934,3.219,4.263,4.89,5.9,3.611,0.693,0.0,3.367,3.761,4.043,4.29,5.624,5.193,1.946,1.099,3.738],\"xaxis\":\"x\",\"yaxis\":\"y\",\"type\":\"histogram\"},{\"alignmentgroup\":\"True\",\"boxpoints\":\"all\",\"fillcolor\":\"rgba(255,255,255,0)\",\"hoveron\":\"points\",\"hovertemplate\":\"variable=Recency<br>value=%{x}<extra></extra>\",\"jitter\":0,\"legendgroup\":\"Recency\",\"line\":{\"color\":\"rgba(255,255,255,0)\"},\"marker\":{\"color\":\"#636efa\",\"symbol\":\"line-ns-open\"},\"name\":\"Recency\",\"offsetgroup\":\"Recency\",\"showlegend\":false,\"x\":[5.784,0.0,4.304,2.89,5.733,3.555,5.313,5.442,5.361,3.091,3.466,0.0,4.043,3.932,5.656,0.693,4.691,1.946,5.67,1.099,3.912,3.784,4.263,5.737,3.178,2.303,5.749,4.86,4.394,3.045,1.386,5.215,3.332,5.82,2.708,4.369,3.045,4.263,4.143,2.89,3.555,3.807,4.771,5.71,5.775,3.892,4.997,3.045,3.892,3.466,4.357,5.73,4.304,4.19,5.375,3.135,0.693,4.718,4.143,2.708,4.554,0.0,5.088,4.344,5.268,3.045,3.219,2.079,3.738,3.555,3.738,0.0,4.431,4.369,4.595,0.0,2.565,5.903,0.693,2.996,3.045,4.043,5.489,3.761,3.045,5.043,2.303,2.773,4.89,4.007,4.277,3.761,4.174,4.248,4.533,2.89,3.951,2.197,2.773,5.231,0.0,3.434,3.332,2.773,3.97,2.708,3.091,1.099,2.303,3.296,3.091,2.773,3.466,2.197,5.814,1.386,3.638,4.127,5.106,2.708,4.394,2.996,3.091,5.817,4.554,2.833,5.447,4.89,3.219,5.645,4.956,4.174,4.718,5.583,5.864,4.344,3.296,0.0,4.143,4.357,4.956,3.638,2.89,2.079,0.0,4.394,2.079,4.078,2.639,3.367,4.868,4.511,3.738,3.332,3.045,2.944,3.367,3.555,4.304,3.829,5.283,5.106,4.357,5.878,3.638,1.946,3.892,2.708,1.946,5.737,1.386,5.71,1.946,5.561,5.663,4.443,3.091,0.0,3.664,2.079,5.421,5.753,3.555,3.526,2.996,4.344,5.505,3.664,5.472,0.693,1.099,5.451,2.773,1.946,3.638,3.332,5.347,5.756,4.511,4.682,3.611,3.912,2.89,2.197,3.332,3.332,5.242,4.06,3.045,4.357,4.078,4.344,3.091,3.932,4.29,4.025,5.624,0.0,4.543,3.332,3.045,2.708,2.639,0.0,5.442,5.617,4.654,5.352,3.091,2.303,1.099,2.197,4.025,4.06,4.489,4.19,3.466,5.472,3.135,4.736,3.178,4.844,4.86,3.497,1.386,3.045,5.037,4.663,0.693,5.811,5.799,4.997,2.303,2.773,2.303,2.89,3.367,2.303,0.0,1.946,5.781,4.043,2.398,5.011,2.197,5.796,1.386,3.638,3.178,3.714,4.06,0.0,2.639,1.099,1.099,1.946,3.296,5.916,4.727,3.219,5.323,3.296,4.836,4.234,1.792,3.332,1.946,4.369,2.944,4.248,1.792,2.639,5.673,3.367,2.639,4.564,3.332,0.0,2.079,4.654,1.099,5.011,4.248,1.386,0.693,3.434,4.431,1.099,1.386,5.914,3.296,2.303,4.248,4.727,3.135,5.187,5.451,5.864,5.749,5.805,5.916,4.344,4.143,4.89,3.932,0.0,0.0,1.099,4.852,4.382,3.091,5.46,5.635,4.454,2.708,4.754,3.932,1.946,4.92,5.756,1.099,5.472,5.347,4.078,2.773,2.944,3.611,4.143,1.386,0.0,2.079,5.894,2.197,4.159,5.252,5.922,5.545,5.811,3.951,2.89,5.9,2.197,5.226,3.584,5.176,5.561,3.784,4.615,4.99,4.554,5.635,5.565,0.693,5.361,4.248,4.304,4.078,0.693,1.609,0.693,5.817,3.611,5.565,3.434,4.97,5.642,4.06,5.147,3.497,0.693,4.963,1.386,4.234,4.174,3.332,5.583,3.045,3.401,4.564,5.684,4.898,4.357,5.919,1.946,5.347,3.932,4.92,3.219,5.642,3.219,5.22,4.419,5.787,5.638,4.956,4.043,1.099,5.46,3.784,5.617,2.079,3.178,4.466,4.127,4.205,5.361,3.135,5.22,3.401,3.714,5.318,2.079,5.576,2.833,2.398,5.165,3.664,3.091,0.693,1.386,4.997,4.927,4.844,1.946,2.773,2.079,5.075,4.143,4.466,1.386,3.526,5.74,4.344,3.045,3.135,0.0,2.773,2.639,3.219,4.143,3.989,4.868,3.555,5.659,4.963,2.708,3.401,0.0,2.079,1.609,2.197,0.0,5.72,2.197,1.792,1.946,4.477,2.197,5.878,4.71,1.792,1.099,5.283,5.352,5.043,5.056,3.367,5.489,2.89,0.0,4.29,5.673,0.693,3.401,3.091,3.091,1.099,4.431,3.045,5.273,4.663,1.099,5.759,4.654,2.398,5.153,4.007,5.775,5.916,2.079,0.0,2.303,3.951,4.277,1.792,2.708,1.099,4.143,0.0,4.727,3.091,3.401,2.303,3.932,5.875,3.989,4.29,4.92,4.369,2.079,5.606,5.67,4.585,3.401,3.434,2.565,4.143,2.639,5.352,4.344,3.178,5.517,5.533,4.263,5.247,2.485,5.919,3.135,4.394,2.197,0.0,5.252,5.583,4.86,0.0,0.693,1.099,5.182,2.398,4.828,1.099,5.056,0.693,2.079,3.296,4.248,5.617,2.996,4.248,3.466,0.0,4.585,5.451,0.0,3.664,0.693,4.883,3.761,5.919,4.078,3.401,0.0,2.398,4.92,3.045,2.944,5.472,5.591,4.533,4.489,1.386,4.344,4.533,3.091,5.565,5.609,4.443,5.278,4.007,2.303,3.045,2.708,4.673,4.431,2.89,5.805,3.664,3.219,2.197,3.332,2.565,5.687,1.609,3.466,3.871,4.543,2.079,3.045,5.743,4.796,3.807,5.642,2.89,3.555,4.143,3.258,3.045,1.099,2.708,3.807,4.159,3.219,3.784,1.946,2.639,5.587,3.664,5.817,2.303,2.89,4.543,4.094,4.905,2.303,2.197,1.099,2.89,2.197,2.639,4.06,3.367,4.533,2.197,2.944,4.025,5.587,4.796,4.836,4.344,5.476,5.293,4.078,0.693,5.606,5.303,4.382,5.416,1.099,2.485,4.29,5.352,3.178,2.773,5.565,4.554,4.71,5.308,4.522,3.912,2.833,2.833,4.82,4.511,5.05,2.079,2.565,2.398,4.111,4.094,5.591,5.568,0.0,3.951,2.303,0.693,2.833,0.0,5.9,3.584,3.401,4.718,4.143,2.708,3.689,4.344,4.796,2.833,4.078,5.799,3.091,5.043,3.638,5.242,5.883,4.913,1.946,0.0,5.587,5.124,4.635,5.037,5.858,1.099,4.779,3.091,1.792,3.296,1.099,3.045,0.0,3.584,4.174,0.0,1.386,4.344,4.263,2.773,0.693,3.555,4.394,3.638,5.753,3.434,4.522,2.565,4.394,4.331,5.056,5.298,3.784,5.561,5.176,4.205,5.659,4.234,4.143,2.303,2.708,4.174,4.078,4.248,4.796,4.369,5.545,5.591,4.143,2.079,2.833,4.248,3.497,3.892,5.545,5.9,5.916,4.489,4.094,4.477,4.585,3.219,3.434,5.635,3.401,5.796,4.868,2.303,4.304,5.313,0.0,5.215,3.332,4.277,5.252,4.836,2.833,0.0,4.29,0.0,3.135,4.663,4.89,3.761,1.386,2.398,4.143,5.004,3.664,4.143,4.673,0.0,2.89,2.197,2.303,2.89,4.19,4.29,1.386,0.0,2.565,5.537,4.511,3.091,2.773,3.135,3.258,3.219,5.553,5.106,3.178,2.833,1.792,3.332,3.638,5.529,4.043,5.209,2.303,0.0,4.585,0.0,4.094,5.46,5.247,5.182,3.611,5.298,3.807,5.442,4.174,5.481,5.447,4.344,4.043,2.773,4.644,3.932,4.905,5.613,5.74,1.946,2.303,5.642,2.833,3.091,5.659,2.773,4.248,4.143,4.277,5.753,0.693,5.493,2.079,0.0,5.561,4.836,4.29,4.277,2.996,4.078,4.443,4.344,4.06,0.0,3.367,3.466,3.689,2.639,3.497,4.357,5.318,3.497,5.204,0.0,0.0,3.738,4.443,3.664,2.398,4.554,3.219,5.762,4.174,4.29,3.296,1.609,1.792,5.371,4.394,4.419,4.963,2.89,3.689,5.147,2.773,5.489,2.485,5.323,3.892,3.091,2.197,3.178,2.639,5.73,5.043,5.724,4.143,2.708,2.639,2.303,4.159,3.555,4.673,3.951,1.609,3.829,0.0,5.74,3.784,4.159,3.219,3.332,3.664,2.398,4.477,3.135,5.762,3.664,5.153,4.754,3.401,5.529,4.06,3.091,1.386,4.595,3.178,3.466,4.205,3.584,3.932,2.708,4.29,5.371,3.401,2.708,4.779,2.197,5.545,2.773,3.526,3.807,3.738,4.727,5.1,2.303,2.197,5.323,4.443,5.182,4.078,4.997,0.693,3.912,4.304,5.704,2.89,5.011,5.017,0.0,2.833,5.226,5.652,0.693,5.204,4.127,4.06,3.178,1.099,3.401,3.638,5.037,3.219,5.759,1.386,1.946,5.71,5.583,5.598,1.099,3.434,5.384,5.505,5.635,5.591,3.434,5.501,2.639,4.754,3.555,4.875,5.375,3.892,3.638,3.332,3.584,4.905,5.384,3.296,3.178,1.386,5.293,2.833,5.481,4.263,2.773,0.693,4.543,5.081,5.922,4.554,3.97,5.659,4.812,5.659,5.017,1.099,0.0,2.398,3.466,3.97,3.892,5.384,4.127,4.248,0.0,0.0,4.143,3.497,4.394,0.0,4.625,1.792,5.521,2.485,2.197,5.903,4.317,1.099,4.844,4.174,0.0,4.754,5.733,4.19,4.927,5.537,3.401,3.932,4.143,5.903,1.609,5.717,3.332,5.209,3.714,3.664,4.511,3.045,3.135,3.332,5.707,4.97,1.609,2.89,3.466,5.165,4.043,3.045,2.708,2.89,5.063,3.178,5.352,1.609,5.529,4.06,2.303,4.159,3.178,4.511,3.932,4.852,4.554,4.025,2.079,5.124,4.025,5.784,0.0,2.833,5.509,4.043,4.29,3.401,1.792,4.804,0.0,3.091,4.779,5.878,3.97,4.143,4.443,3.989,2.996,1.099,0.693,2.303,1.792,5.236,4.248,5.313,4.779,4.522,0.0,3.258,5.694,3.135,3.296,3.892,5.784,2.708,5.204,4.263,3.584,4.369,4.025,2.398,3.892,3.892,4.06,5.861,3.97,0.0,4.522,3.091,4.304,2.303,5.124,4.043,4.554,5.684,4.682,5.572,5.187,5.124,3.526,3.091,2.773,3.045,4.357,4.159,5.886,0.693,2.303,5.165,5.38,1.792,0.0,5.03,1.386,4.357,2.996,3.045,5.727,4.977,1.792,2.89,4.248,5.656,3.871,3.401,5.328,2.639,4.277,4.078,3.638,3.367,3.258,1.099,2.773,2.944,4.174,5.357,2.398,3.367,3.738,1.099,2.639,2.197,5.347,3.807,4.89,3.738,2.197,4.745,5.283,5.624,4.691,4.331,3.951,5.081,3.829,2.773,5.037,5.412,1.792,4.796,4.094,4.127,2.833,1.792,0.0,3.045,3.332,5.649,5.165,4.344,3.466,3.689,5.58,3.258,4.682,5.645,2.079,5.717,2.773,3.434,0.0,2.944,4.812,4.159,4.654,0.0,3.135,5.583,1.386,2.197,3.332,5.583,4.143,5.765,1.099,3.434,1.386,4.852,3.689,4.615,4.82,3.466,5.707,5.897,1.099,0.0,0.693,2.197,4.025,5.781,1.946,2.398,1.099,3.584,2.708,4.92,4.29,1.386,5.037,5.472,3.932,3.401,4.277,1.099,2.565,3.091,1.099,5.609,2.944,4.963,1.099,4.419,2.303,1.946,4.804,4.094,0.0,5.762,0.0,4.86,0.0,0.0,3.807,1.099,0.693,5.919,4.89,3.829,2.079,4.344,5.451,5.394,3.555,4.304,5.472,5.58,2.197,2.944,3.664,2.944,5.371,5.153,4.454,4.248,5.617,3.638,4.575,2.303,3.466,4.078,5.69,4.443,2.079,3.689,2.303,4.19,5.799,3.401,0.0,0.0,4.205,1.386,5.303,4.663,2.833,5.38,4.078,0.0,2.773,5.472,4.543,2.303,4.654,3.951,4.489,3.401,2.398,0.693,0.0,3.738,1.099,5.505,3.714,5.17,4.511,4.691,3.332,3.219,3.932,5.209,3.738,3.871,3.045,4.304,4.382,5.919,5.784,3.738,3.367,5.209,5.455,2.079,5.389,4.7,5.624,5.759,1.792,0.0,5.557,4.143,2.079,4.949,3.912,1.946,5.037,4.682,5.088,5.802,5.416,4.29,3.912,4.585,2.639,5.278,0.693,3.401,2.996,3.135,1.946,5.357,2.079,2.303,0.0,1.946,0.693,3.664,2.833,1.946,1.946,2.89,4.754,5.403,4.248,3.912,4.477,1.946,5.489,3.829,4.663,3.784,4.159,5.328,2.303,4.736,5.485,5.088,2.773,4.812,3.091,4.205,2.773,2.708,2.773,5.075,5.489,5.384,3.784,2.996,4.836,3.638,4.787,5.557,2.197,5.609,5.1,5.05,5.366,1.609,5.9,4.369,3.738,2.89,3.434,3.045,4.682,1.946,5.765,5.684,5.878,5.215,5.247,3.761,3.932,3.219,3.611,2.079,5.69,3.466,2.197,4.159,2.197,5.38,0.0,4.159,0.693,4.997,1.099,4.86,3.497,4.771,4.663,2.303,4.248,4.511,5.737,3.738,5.889,4.511,0.0,3.045,1.099,2.303,4.585,4.025,0.0,5.38,2.833,3.135,3.892,1.792,5.71,2.197,3.045,4.585,5.9,5.72,5.765,1.946,0.0,5.318,3.97,0.0,2.89,2.079,2.89,5.193,4.078,2.303,5.242,1.386,5.737,5.037,4.691,4.99,4.174,4.575,5.505,3.332,2.833,2.398,4.635,4.29,3.807,4.263,5.545,2.944,5.533,2.303,5.1,2.833,5.638,3.892,3.638,3.258,4.205,5.328,5.159,1.792,3.219,3.912,5.74,5.73,3.738,3.219,4.466,5.209,2.944,0.693,3.829,2.773,2.773,3.135,3.045,2.303,5.231,4.605,4.094,2.833,3.466,4.143,0.0,3.135,4.673,3.434,2.944,0.693,3.584,4.078,3.219,5.46,3.178,0.693,4.078,5.557,4.043,4.159,2.708,2.197,4.06,5.22,3.332,3.135,1.386,1.099,5.011,5.737,2.303,2.833,5.017,2.89,2.197,4.025,4.431,1.792,4.317,1.099,4.554,4.7,4.025,0.0,5.635,0.693,5.187,5.916,2.485,0.693,2.773,3.689,1.609,5.124,3.892,5.62,2.89,5.916,2.639,3.526,3.045,1.792,2.944,2.303,3.761,5.72,2.303,5.613,0.0,2.708,1.099,4.263,5.489,2.079,5.501,5.323,0.0,5.215,3.434,4.025,5.273,3.135,4.5,1.099,3.912,5.568,5.58,3.555,3.912,3.932,3.135,3.045,4.06,5.13,4.205,5.05,0.0,5.298,1.386,4.19,4.331,0.0,1.946,5.124,2.833,1.386,2.079,4.454,3.258,3.332,2.944,4.094,3.135,2.303,5.485,5.631,5.455,0.693,2.708,3.401,3.178,4.248,5.231,3.219,4.663,1.946,5.338,3.761,3.401,4.913,5.576,1.099,5.38,0.0,5.361,3.434,2.303,0.0,2.639,2.303,5.288,0.693,2.639,2.565,2.197,3.332,2.079,3.135,3.178,3.738,0.0,1.609,4.984,2.197,3.178,5.609,5.922,0.0,3.829,1.946,2.708,1.099,1.099,3.738,1.099,5.278,2.398,2.708,4.718,5.513,3.332,3.761,4.454,3.784,2.197,2.639,4.304,4.97,1.386,5.69,4.06,5.572,3.829,3.332,1.946,2.773,0.693,5.442,4.71,4.043,3.912,4.836,5.635,3.989,5.765,3.219,2.197,1.792,3.332,2.773,4.143,2.996,0.693,5.106,0.0,3.951,3.912,3.85,4.094,5.081,2.079,2.639,4.304,3.664,3.689,5.911,3.584,5.278,5.293,4.29,4.143,2.996,5.903,5.187,2.197,1.099,5.278,3.332,3.951,2.833,2.197,4.489,5.587,3.951,3.761,4.143,4.997,3.045,5.74,3.091,4.043,3.135,4.344,4.771,3.555,4.078,2.485,2.89,3.932,3.219,3.332,1.792,2.303,5.22,0.693,2.079,5.565,0.693,5.342,4.673,2.485,4.331,2.944,3.258,2.89,4.875,5.529,4.357,5.328,5.814,5.533,4.99,2.197,4.431,1.946,5.318,1.946,3.091,2.303,3.219,2.996,0.0,5.056,0.693,4.29,0.693,0.0,2.773,3.555,4.5,4.248,4.745,5.357,3.367,3.912,5.501,3.434,4.682,1.386,5.9,4.394,5.69,3.497,4.025,3.367,2.565,4.263,3.091,2.89,4.357,4.078,3.178,2.398,5.529,4.984,4.143,1.946,2.303,5.598,2.197,5.505,4.554,2.639,3.892,3.367,4.205,3.526,4.844,4.663,3.584,4.025,4.025,4.263,5.501,2.89,5.283,2.708,5.352,3.638,3.807,5.13,3.85,4.745,4.984,2.708,3.912,5.063,2.398,3.555,3.97,3.738,5.147,3.497,3.638,5.583,2.079,2.398,0.693,2.197,3.466,4.369,3.401,1.946,4.263,1.099,5.541,1.386,2.708,4.489,4.263,4.06,2.197,5.13,5.288,3.401,2.89,5.017,2.079,5.595,4.159,5.609,3.178,3.091,5.762,1.386,2.398,5.613,3.178,3.689,1.946,1.099,4.248,5.357,3.611,3.951,4.344,3.807,5.182,5.919,4.533,2.197,4.644,4.344,5.147,1.792,5.357,3.045,5.545,5.638,2.996,2.197,5.727,4.205,5.366,2.833,4.635,3.738,1.099,5.198,4.419,5.808,2.079,3.401,5.278,2.833,2.833,5.737,4.949,5.501,3.135,3.332,2.197,3.367,2.833,2.833,2.639,4.89,5.501,4.89,3.892,4.727,1.792,3.091,3.178,4.174,4.078,3.892,5.13,2.833,4.844,2.639,5.472,0.693,5.476,3.932,3.807,5.416,1.946,1.099,5.1,5.476,2.303,4.89,2.773,2.197,3.401,4.304,0.0,1.099,3.784,0.0,5.875,2.833,4.22,5.919,5.768,3.219,5.799,2.079,5.775,4.263,5.557,2.833,5.903,4.174,5.03,3.332,4.234,2.565,0.0,0.0,4.779,4.094,0.693,0.693,2.303,4.511,4.06,4.454,3.219,5.875,4.431,2.197,0.0,5.412,4.078,5.481,5.762,0.0,3.829,4.466,2.303,5.165,3.932,5.9,5.762,5.416,5.878,5.451,5.737,3.584,4.174,5.472,4.718,5.62,5.38,5.697,0.0,3.332,2.197,3.784,4.19,4.29,4.159,4.89,5.468,4.796,3.434,2.079,3.555,2.708,4.836,4.19,4.997,5.642,5.124,4.595,4.898,5.778,4.663,4.143,5.011,5.82,3.045,3.135,2.708,1.792,4.025,1.099,3.611,4.174,3.829,5.869,5.142,4.06,3.892,3.045,3.738,3.332,1.386,3.219,5.298,3.912,2.197,0.0,4.19,4.143,3.912,5.666,4.094,4.143,4.554,5.609,0.0,4.304,4.691,5.288,4.143,5.787,1.099,5.645,3.761,4.248,4.443,4.635,5.808,3.951,3.638,3.434,5.9,5.333,5.05,3.97,4.174,4.382,4.86,4.454,0.0,3.807,5.805,5.9,4.263,5.056,5.919,2.398,5.537,3.332,3.401,1.386,3.664,5.889,5.919,4.554,3.219,4.304,4.025,2.996,3.689,4.913,1.946,4.852,3.664,5.124,2.079,5.361,2.639,5.13,3.664,5.22,5.595,5.142,1.386,2.708,2.197,5.784,4.718,5.666,2.708,0.0,4.511,4.997,5.236,3.401,3.497,5.572,4.419,3.219,5.136,2.197,5.743,4.159,4.431,3.178,4.06,5.775,3.611,5.533,2.89,3.466,2.639,3.258,3.091,5.361,1.946,3.045,2.398,5.565,4.868,3.989,5.513,0.0,2.079,5.572,5.799,5.743,3.219,3.367,3.367,0.0,5.889,5.642,5.565,3.178,5.866,4.533,3.332,5.82,2.944,4.431,2.079,3.912,3.892,0.0,4.718,2.565,4.331,3.664,4.745,2.708,5.075,0.0,3.367,4.522,3.091,4.543,3.296,3.466,2.996,2.833,0.693,1.946,2.708,5.892,4.382,3.951,3.091,5.142,5.236,5.799,2.398,5.043,3.466,2.398,3.784,5.447,4.143,0.0,3.664,3.466,4.419,3.178,0.0,3.466,2.89,5.533,3.091,3.045,1.946,3.178,2.89,5.147,5.088,1.792,2.303,4.727,5.659,2.079,3.97,1.792,4.331,1.099,3.584,5.375,4.078,5.624,2.398,3.135,3.332,2.398,5.861,3.045,3.892,2.89,0.693,4.635,1.792,2.398,1.386,3.434,5.176,3.611,5.011,5.081,4.22,4.787,3.178,3.135,5.17,3.892,5.541,3.829,4.248,2.708,4.605,3.526,3.951,3.258,2.303,1.946,4.357,3.932,3.555,4.094,5.817,3.296,5.209,3.932,2.197,3.555,2.197,3.466,2.303,4.025,1.099,3.738,4.942,4.754,4.635,4.304,1.386,3.784,2.708,2.773,4.489,3.951,4.89,1.099,4.644,5.252,5.106,2.89,5.056,5.313,5.814,3.584,4.5,4.522,2.079,5.489,3.784,3.091,5.242,3.761,3.178,5.756,4.654,3.912,5.118,3.664,5.38,3.664,5.69,2.89,4.466,4.277,4.382,2.89,3.871,3.951,3.135,2.079,3.178,4.754,2.079,4.779,1.099,5.525,3.296,0.0,5.583,3.466,2.833,5.142,0.0,5.576,4.934,5.298,4.143,3.526,3.689,5.645,2.079,4.956,2.398,4.977,5.451,3.466,3.135,2.398,3.555,5.897,5.298,2.639,2.773,5.357,4.174,5.352,5.642,4.736,2.639,2.89,4.174,3.871,2.708,4.344,2.89,4.89,2.485,3.664,5.455,0.693,3.664,5.717,3.912,2.197,4.094,4.174,3.178,5.38,4.159,3.434,4.466,4.143,4.745,1.792,1.609,4.22,5.497,4.883,5.481,5.209,3.178,2.197,2.303,3.466,3.807,3.219,5.878,2.197,3.761,2.639,5.004,0.0,4.718,4.317,4.663,3.807,4.956,3.912,0.0,3.091,3.807,3.892,5.72,3.555,4.357,3.045,4.663,5.333,2.773,4.143,3.871,5.765,3.761,0.693,5.916,5.142,4.007,4.277,4.585,3.611,4.043,5.533,4.234,3.761,3.892,4.159,2.303,3.466,4.06,4.277,5.714,3.807,2.833,3.611,2.89,5.226,3.932,1.099,4.913,1.099,2.89,2.708,3.689,2.398,1.946,3.219,3.045,3.689,4.605,1.386,5.62,3.466,2.639,4.143,0.0,5.908,5.74,5.288,0.0,4.522,4.078,4.382,5.05,5.421,5.529,5.004,5.263,0.0,5.908,3.135,2.773,2.197,1.946,2.944,1.099,5.153,0.0,5.176,2.708,5.509,5.247,2.944,5.03,5.147,5.919,5.919,5.263,4.19,1.099,2.996,5.472,4.143,4.71,4.489,5.737,4.89,5.62,5.897,4.407,1.946,2.773,3.434,2.079,3.497,2.639,3.135,3.434,4.29,2.944,2.773,3.091,0.693,5.714,2.833,5.903,3.638,4.419,5.1,2.773,4.331,4.477,3.178,3.045,0.693,4.804,3.367,2.398,2.89,3.761,1.099,2.079,3.989,4.466,3.584,0.693,3.367,2.398,5.347,3.85,3.135,3.045,5.501,1.946,3.526,1.099,3.611,1.099,0.693,3.829,3.638,3.829,2.773,5.557,3.807,2.398,3.367,3.738,4.511,3.638,5.733,4.511,1.609,5.273,4.454,5.595,1.946,4.159,3.401,3.045,3.611,4.779,5.919,3.664,5.153,3.97,3.466,4.97,5.394,3.784,2.708,4.174,2.197,5.557,5.897,2.773,3.045,3.784,5.659,5.69,0.693,5.645,2.773,4.394,4.007,4.605,5.697,3.091,4.06,5.037,4.736,4.663,2.398,5.572,5.476,4.466,3.892,4.248,3.714,1.792,4.111,5.513,4.174,2.833,4.431,5.384,3.784,4.956,5.204,5.136,2.197,5.352,5.242,1.946,4.06,4.025,4.277,3.932,5.756,5.903,3.332,3.638,2.833,3.932,1.099,3.045,5.568,4.078,2.89,4.174,4.466,5.517,0.693,5.505,2.079,5.05,4.89,5.687,1.386,3.738,5.591,3.892,2.079,2.708,5.638,4.159,0.0,5.525,5.442,2.773,2.303,1.946,3.912,4.06,4.543,2.708,4.828,4.533,3.892,4.92,4.094,4.595,4.277,4.263,4.19,4.143,2.773,3.091,3.434,3.784,2.708,3.664,0.693,5.464,4.304,1.099,0.693,5.886,4.06,3.091,3.401,3.989,3.178,3.784,4.477,0.0,4.477,2.89,4.357,5.136,4.382,5.583,5.455,3.367,3.584,5.759,4.025,3.784,5.308,5.412,4.454,5.242,3.761,4.248,3.689,4.344,4.025,3.135,2.197,1.946,3.497,5.352,3.135,5.13,4.111,3.951,5.561,4.19,2.773,5.583,5.17,3.784,3.912,2.773,2.079,4.29,4.248,5.864,0.693,4.754,5.919,5.278,5.17,4.595,2.996,4.263,5.826,1.609,3.401,5.13,4.796,3.045,2.197,5.591,3.091,4.836,3.219,4.927,5.361,3.611,4.654,2.833,0.693,5.799,4.143,4.779,3.526,5.38,5.142,4.263,0.0,5.273,4.844,3.829,1.609,2.565,2.833,3.296,1.946,3.584,5.05,5.645,4.663,3.178,4.304,2.708,5.056,3.761,2.303,3.434,5.67,2.996,5.805,2.833,1.099,4.127,5.283,3.466,0.0,1.792,1.386,2.197,3.434,3.951,2.398,2.833,2.89,3.584,0.0,2.833,4.394,3.466,4.174,2.079,5.583,5.505,1.099,4.094,4.304,4.489,4.078,3.332,5.775,3.951,5.595,0.0,4.025,4.094,5.03,2.89,4.543,0.0,5.576,5.74,4.234,5.707,2.89,2.485,3.555,2.89,3.97,4.025,3.045,3.761,3.258,3.784,4.718,2.773,3.178,5.247,5.707,0.0,5.568,4.654,4.025,5.357,4.143,3.296,3.332,1.609,1.946,4.19,0.0,3.807,3.497,0.0,4.905,5.283,5.283,5.004,4.466,3.784,4.143,4.585,5.38,0.693,3.296,5.176,4.29,2.996,2.944,3.497,4.29,3.135,3.932,5.613,5.1,1.792,4.466,4.143,3.178,2.197,4.317,2.708,5.252,5.153,4.331,3.466,3.829,4.369,5.69,0.693,2.079,3.892,5.075,5.883,1.386,4.663,3.178,3.434,2.944,5.69,5.916,3.045,1.386,3.932,3.367,5.62,4.094,3.178,5.22,0.0,0.0,5.142,4.382,1.099,5.242,3.045,2.833,2.89,1.386,4.691,0.693,3.97,5.1,5.67,2.197,4.682,4.554,5.489,5.088,3.714,3.526,4.19,3.135,0.0,3.258,1.609,3.97,5.894,2.639,5.263,0.693,2.639,3.258,4.836,4.431,4.248,5.204,4.718,5.922,4.369,5.513,5.442,4.248,4.22,1.099,3.912,4.304,4.094,2.708,1.099,5.652,1.099,3.689,3.555,4.304,2.833,2.639,5.384,5.22,3.466,4.234,5.204,2.639,5.46,3.401,5.572,1.099,3.932,5.501,4.382,5.613,0.0,4.357,3.367,4.29,2.773,5.403,3.434,3.091,3.401,4.654,1.386,5.501,5.176,5.13,3.738,4.263,4.06,2.708,4.942,2.833,3.045,2.197,5.905,5.236,2.708,5.889,2.89,4.205,2.639,3.135,2.773,3.296,0.0,3.989,3.497,0.693,5.9,3.738,4.277,1.386,1.099,4.094,3.829,0.0,4.317,4.263,5.541,4.22,4.898,5.481,5.421,2.079,2.079,0.0,3.584,3.807,4.431,2.89,0.693,2.079,2.89,5.384,4.344,5.583,3.135,5.908,2.639,3.219,5.565,2.773,4.5,5.707,3.219,5.894,3.807,3.611,3.932,3.434,3.932,4.357,3.951,5.694,5.17,3.829,3.332,2.303,4.454,1.386,3.611,2.833,3.784,3.401,5.919,4.043,5.916,4.727,5.366,5.762,4.159,1.946,4.564,2.944,5.288,1.099,5.68,5.606,3.401,3.85,5.557,4.043,3.466,4.025,4.205,2.197,4.078,4.369,4.29,0.0,4.595,5.916,2.197,2.944,4.804,1.946,1.099,3.332,5.638,4.025,0.0,5.897,4.477,2.303,5.088,4.159,3.091,5.153,4.625,4.956,4.585,3.091,5.252,1.386,5.886,1.946,2.565,4.625,0.693,2.303,4.554,5.421,2.708,3.638,3.912,4.522,5.05,3.638,5.209,0.0,5.425,4.844,3.664,3.401,5.278,2.079,3.584,4.605,3.738,3.892,3.738,3.951,5.226,5.808,1.099,2.197,3.135,2.639,5.908,4.97,4.078,3.401,4.942,3.091,3.045,4.331,1.386,4.19,2.398,4.419,3.401,4.19,4.19,5.226,3.611,2.639,3.526,5.268,0.0,0.0,5.903,4.159,5.697,3.219,1.946,2.773,4.745,3.332,1.099,1.386,4.394,3.332,4.263,1.099,3.332,5.666,3.555,2.079,3.135,5.62,3.892,5.043,4.094,2.398,2.996,5.914,4.745,4.369,1.099,3.219,1.386,3.951,0.0,3.989,3.219,2.079,3.932,2.485,5.352,3.045,5.46,4.927,1.099,4.025,4.898,4.682,3.367,0.0,5.215,2.833,5.472,4.454,3.638,4.745,5.226,5.421,1.946,5.236,1.099,3.638,3.611,5.583,4.344,1.099,5.537,4.094,2.485,4.466,2.773,3.367,0.693,1.386,1.792,5.384,2.303,3.367,5.659,5.004,3.091,0.0,4.443,3.807,1.386,3.912,2.833,3.367,1.946,3.332,0.693,3.689,2.303,3.401,3.784,4.094,5.215,4.357,4.7,4.143,2.398,4.443,2.708,5.501,4.466,3.367,4.92,3.258,0.693,3.434,3.178,4.718,5.05,4.431,4.762,0.693,4.554,5.263,3.296,4.868,3.296,4.394,3.367,5.58,4.29,5.746,2.996,4.06,2.398,3.296,4.727,3.296,2.833,2.833,3.555,3.555,4.344,3.045,3.178,3.466,4.682,3.526,4.804,1.792,3.296,1.099,0.693,3.892,5.771,3.091,2.639,0.0,2.833,2.197,5.565,5.063,3.466,3.332,5.1,3.829,1.609,1.946,5.659,5.759,0.693,5.447,4.771,5.081,5.215,3.892,5.017,5.811,1.386,2.708,4.663,2.708,5.617,2.708,5.505,5.472,0.0,4.654,3.091,3.932,5.268,3.135,4.304,2.833,1.946,3.434,3.045,3.401,3.332,3.045,3.466,5.645,3.638,4.043,5.663,4.357,1.386,5.38,3.761,5.303,5.176,4.007,4.025,1.946,3.829,5.421,2.303,4.654,4.06,3.296,3.555,5.609,3.367,3.135,3.97,3.555,5.159,3.97,3.951,3.258,5.529,3.664,4.078,5.451,1.099,3.434,3.135,1.792,4.159,5.733,5.73,2.89,2.708,4.554,5.572,2.398,0.693,3.526,5.204,3.178,2.485,2.303,0.693,5.743,4.673,0.0,3.951,5.318,2.639,4.779,1.099,5.892,4.754,2.833,1.386,3.689,4.663,4.99,3.932,5.333,4.927,0.0,4.836,4.673,3.714,3.526,5.425,5.481,4.043,4.86,4.078,3.045,3.219,2.079,3.434,1.099,5.727,1.946,3.332,2.773,4.605,2.398,2.996,2.639,5.886,2.303,4.543,4.344,4.927,3.401,3.178,0.0,3.807,4.595,1.946,2.639,2.833,5.631,2.565,3.091,4.812,4.443,5.707,5.011,2.773,4.533,3.367,5.05,5.869,3.807,2.639,1.099,4.443,2.639,5.182,1.946,3.555,4.852,3.912,5.74,3.135,5.71,2.303,2.773,3.871,5.472,0.0,2.485,5.468,3.091,4.277,2.773,3.689,3.664,5.384,5.288,4.248,3.135,2.303,2.079,4.159,1.099,2.89,2.639,1.946,2.944,4.344,0.0,5.094,5.724,5.384,3.638,3.045,4.736,4.828,1.386,3.555,1.099,0.0,5.805,5.088,5.215,2.708,2.398,0.693,3.761,4.369,3.367,3.714,2.303,3.892,2.708,3.807,2.89,1.946,4.263,0.0,4.844,3.466,5.743,2.833,4.466,0.0,0.0,5.533,5.05,3.584,5.389,4.99,5.17,3.664,0.0,1.946,0.0,2.833,5.252,5.313,5.897,4.836,2.639,3.738,4.533,3.091,4.078,2.708,5.056,2.197,2.197,2.708,3.784,5.247,4.357,4.344,1.099,4.159,5.561,4.06,0.0,0.0,5.509,1.946,5.881,4.317,5.666,2.773,5.394,2.079,0.693,5.323,5.081,4.317,5.565,5.635,4.043,3.178,0.693,3.332,4.263,4.844,3.401,2.639,5.73,2.773,3.97,3.367,0.0,2.303,5.886,5.883,1.386,3.97,0.0,0.0,5.242,3.97,5.631,5.17,3.367,3.219,3.178,5.595,3.738,5.451,3.135,5.278,5.881,4.078,4.86,0.0,2.944,5.323,2.565,4.543,2.89,2.565,3.135,1.946,1.792,5.802,3.892,4.248,3.332,5.489,1.946,5.38,1.386,5.529,0.0,5.46,1.792,4.682,4.595,4.078,0.0,4.277,1.099,4.431,2.398,3.091,5.361,2.833,5.472,0.0,4.344,5.375,3.466,3.689,1.792,3.951,3.091,4.025,4.86,5.153,1.609,5.74,4.078,2.996,3.466,2.639,2.833,4.382,1.609,5.13,0.0,3.401,3.555,2.89,3.401,5.617,4.454,4.779,5.919,0.0,5.384,4.159,4.094,4.92,2.996,2.398,3.178,3.584,5.62,2.303,4.277,3.219,2.773,4.942,3.219,2.89,1.099,4.174,0.0,3.738,5.425,2.708,3.892,0.0,4.29,0.0,1.099,0.0,5.572,3.951,3.135,2.197,3.761,2.773,1.792,3.367,5.878,4.836,4.913,4.949,4.875,3.611,5.46,5.561,2.773,5.529,3.367,3.526,5.124,0.693,1.099,5.215,5.231,5.13,2.303,3.784,5.768,5.298,3.091,5.442,3.611,3.219,4.554,4.836,4.248,2.708,2.639,1.099,0.693,4.357,5.919,3.638,3.97,0.0,2.079,2.079,2.89,2.398,4.718,1.099,5.476,4.718,5.176,1.386,5.881,0.0,0.0,2.89,2.773,3.045,3.466,5.568,3.912,5.063,2.639,1.946,2.485,5.288,4.025,2.303,4.564,5.537,3.178,2.996,5.063,4.263,3.951,4.431,5.024,4.29,5.635,3.258,3.367,3.178,5.187,3.664,3.045,3.045,3.584,4.394,4.29,2.303,2.708,1.099,2.485,2.565,3.584,1.099,4.263,3.912,1.386,3.091,5.697,0.0,3.466,3.892,0.693,3.829,3.714,3.258,3.714,0.0,5.71,4.663,4.431,4.382,5.38,5.916,2.398,5.215,5.919,0.0,1.099,1.609,5.717,5.908,0.693,5.778,4.06,2.485,3.401,4.956,3.367,4.663,0.0,5.318,4.369,5.215,5.13,3.761,5.153,5.897,5.714,0.693,1.099,2.398,3.434,4.852,2.996,5.352,5.775,5.081,4.007,5.412,4.263,3.761,3.091,5.147,4.431,5.063,5.242,3.332,2.996,4.248,5.505,5.922,2.079,5.733,4.06,1.099,3.784,4.466,1.099,4.143,5.638,2.398,5.919,4.883,3.784,2.303,3.555,4.89,3.332,3.932,4.92,1.386,2.079,5.069,3.871,4.868,1.946,5.447,3.584,4.984,0.0,4.263,3.664,1.386,5.288,5.513,4.174,4.754,5.136,2.996,4.949,3.434,3.611,3.611,5.916,5.922,5.106,5.347,5.485,3.932,3.178,2.639,5.916,3.332,5.897,3.555,5.106,4.97,3.045,4.007,5.215,2.398,5.464,5.412,4.796,5.638,4.29,3.584,2.398,5.889,1.099,3.091,4.234,5.455,5.545,5.919,5.037,3.296,1.099,3.434,4.382,4.673,3.932,3.555,5.024,4.585,1.099,5.808,4.159,3.045,3.555,3.434,5.03,2.89,2.398,3.97,3.178,1.099,3.784,5.308,5.881,4.248,1.792,5.659,2.197,3.091,3.045,5.147,4.883,1.609,4.304,3.664,5.663,3.219,5.549,5.22,4.727,5.922,3.091,1.946,5.375,3.784,2.89,3.555,3.219,2.708,5.796,5.609,4.575,4.094,0.0,4.522,4.394,5.743,2.398,1.946,4.836,2.303,0.0,3.584,3.611,5.796,5.533,0.0,2.944,2.398,5.908,5.666,4.205,3.219,2.303,5.905,5.361,4.997,1.946,3.135,3.367,4.094,2.89,5.489,2.639,5.352,3.332,4.127,5.684,2.833,5.05,4.754,1.946,2.485,4.942,3.807,3.912,3.434,4.898,0.693,4.304,2.485,2.079,5.704,4.025,2.639,3.584,5.17,3.091,5.165,4.094,3.466,4.06,2.639,4.454,1.792,5.878,3.401,4.852,2.079,1.386,3.135,5.421,2.639,5.513,2.639,4.344,5.252,5.565,4.263,5.1,4.394,4.543,1.099,4.654,5.293,5.05,4.248,3.555,3.332,0.0,3.219,5.784,5.464,4.477,3.401,3.332,5.347,0.693,5.421,3.045,4.522,1.386,5.572,0.693,3.761,5.38,4.025,2.398,2.079,5.252,4.394,5.784,4.263,3.367,0.693,5.384,3.807,2.197,4.263,1.792,3.135,4.804,2.773,5.733,4.454,3.912,4.477,3.638,3.178,5.147,3.738,4.934,3.219,4.263,4.89,5.9,3.611,0.693,0.0,3.367,3.761,4.043,4.29,5.624,5.193,1.946,1.099,3.738],\"xaxis\":\"x2\",\"yaxis\":\"y2\",\"type\":\"box\"}],                        {\"template\":{\"data\":{\"histogram2dcontour\":[{\"type\":\"histogram2dcontour\",\"colorbar\":{\"outlinewidth\":0,\"ticks\":\"\"},\"colorscale\":[[0.0,\"#0d0887\"],[0.1111111111111111,\"#46039f\"],[0.2222222222222222,\"#7201a8\"],[0.3333333333333333,\"#9c179e\"],[0.4444444444444444,\"#bd3786\"],[0.5555555555555556,\"#d8576b\"],[0.6666666666666666,\"#ed7953\"],[0.7777777777777778,\"#fb9f3a\"],[0.8888888888888888,\"#fdca26\"],[1.0,\"#f0f921\"]]}],\"choropleth\":[{\"type\":\"choropleth\",\"colorbar\":{\"outlinewidth\":0,\"ticks\":\"\"}}],\"histogram2d\":[{\"type\":\"histogram2d\",\"colorbar\":{\"outlinewidth\":0,\"ticks\":\"\"},\"colorscale\":[[0.0,\"#0d0887\"],[0.1111111111111111,\"#46039f\"],[0.2222222222222222,\"#7201a8\"],[0.3333333333333333,\"#9c179e\"],[0.4444444444444444,\"#bd3786\"],[0.5555555555555556,\"#d8576b\"],[0.6666666666666666,\"#ed7953\"],[0.7777777777777778,\"#fb9f3a\"],[0.8888888888888888,\"#fdca26\"],[1.0,\"#f0f921\"]]}],\"heatmap\":[{\"type\":\"heatmap\",\"colorbar\":{\"outlinewidth\":0,\"ticks\":\"\"},\"colorscale\":[[0.0,\"#0d0887\"],[0.1111111111111111,\"#46039f\"],[0.2222222222222222,\"#7201a8\"],[0.3333333333333333,\"#9c179e\"],[0.4444444444444444,\"#bd3786\"],[0.5555555555555556,\"#d8576b\"],[0.6666666666666666,\"#ed7953\"],[0.7777777777777778,\"#fb9f3a\"],[0.8888888888888888,\"#fdca26\"],[1.0,\"#f0f921\"]]}],\"heatmapgl\":[{\"type\":\"heatmapgl\",\"colorbar\":{\"outlinewidth\":0,\"ticks\":\"\"},\"colorscale\":[[0.0,\"#0d0887\"],[0.1111111111111111,\"#46039f\"],[0.2222222222222222,\"#7201a8\"],[0.3333333333333333,\"#9c179e\"],[0.4444444444444444,\"#bd3786\"],[0.5555555555555556,\"#d8576b\"],[0.6666666666666666,\"#ed7953\"],[0.7777777777777778,\"#fb9f3a\"],[0.8888888888888888,\"#fdca26\"],[1.0,\"#f0f921\"]]}],\"contourcarpet\":[{\"type\":\"contourcarpet\",\"colorbar\":{\"outlinewidth\":0,\"ticks\":\"\"}}],\"contour\":[{\"type\":\"contour\",\"colorbar\":{\"outlinewidth\":0,\"ticks\":\"\"},\"colorscale\":[[0.0,\"#0d0887\"],[0.1111111111111111,\"#46039f\"],[0.2222222222222222,\"#7201a8\"],[0.3333333333333333,\"#9c179e\"],[0.4444444444444444,\"#bd3786\"],[0.5555555555555556,\"#d8576b\"],[0.6666666666666666,\"#ed7953\"],[0.7777777777777778,\"#fb9f3a\"],[0.8888888888888888,\"#fdca26\"],[1.0,\"#f0f921\"]]}],\"surface\":[{\"type\":\"surface\",\"colorbar\":{\"outlinewidth\":0,\"ticks\":\"\"},\"colorscale\":[[0.0,\"#0d0887\"],[0.1111111111111111,\"#46039f\"],[0.2222222222222222,\"#7201a8\"],[0.3333333333333333,\"#9c179e\"],[0.4444444444444444,\"#bd3786\"],[0.5555555555555556,\"#d8576b\"],[0.6666666666666666,\"#ed7953\"],[0.7777777777777778,\"#fb9f3a\"],[0.8888888888888888,\"#fdca26\"],[1.0,\"#f0f921\"]]}],\"mesh3d\":[{\"type\":\"mesh3d\",\"colorbar\":{\"outlinewidth\":0,\"ticks\":\"\"}}],\"scatter\":[{\"fillpattern\":{\"fillmode\":\"overlay\",\"size\":10,\"solidity\":0.2},\"type\":\"scatter\"}],\"parcoords\":[{\"type\":\"parcoords\",\"line\":{\"colorbar\":{\"outlinewidth\":0,\"ticks\":\"\"}}}],\"scatterpolargl\":[{\"type\":\"scatterpolargl\",\"marker\":{\"colorbar\":{\"outlinewidth\":0,\"ticks\":\"\"}}}],\"bar\":[{\"error_x\":{\"color\":\"#2a3f5f\"},\"error_y\":{\"color\":\"#2a3f5f\"},\"marker\":{\"line\":{\"color\":\"#E5ECF6\",\"width\":0.5},\"pattern\":{\"fillmode\":\"overlay\",\"size\":10,\"solidity\":0.2}},\"type\":\"bar\"}],\"scattergeo\":[{\"type\":\"scattergeo\",\"marker\":{\"colorbar\":{\"outlinewidth\":0,\"ticks\":\"\"}}}],\"scatterpolar\":[{\"type\":\"scatterpolar\",\"marker\":{\"colorbar\":{\"outlinewidth\":0,\"ticks\":\"\"}}}],\"histogram\":[{\"marker\":{\"pattern\":{\"fillmode\":\"overlay\",\"size\":10,\"solidity\":0.2}},\"type\":\"histogram\"}],\"scattergl\":[{\"type\":\"scattergl\",\"marker\":{\"colorbar\":{\"outlinewidth\":0,\"ticks\":\"\"}}}],\"scatter3d\":[{\"type\":\"scatter3d\",\"line\":{\"colorbar\":{\"outlinewidth\":0,\"ticks\":\"\"}},\"marker\":{\"colorbar\":{\"outlinewidth\":0,\"ticks\":\"\"}}}],\"scattermapbox\":[{\"type\":\"scattermapbox\",\"marker\":{\"colorbar\":{\"outlinewidth\":0,\"ticks\":\"\"}}}],\"scatterternary\":[{\"type\":\"scatterternary\",\"marker\":{\"colorbar\":{\"outlinewidth\":0,\"ticks\":\"\"}}}],\"scattercarpet\":[{\"type\":\"scattercarpet\",\"marker\":{\"colorbar\":{\"outlinewidth\":0,\"ticks\":\"\"}}}],\"carpet\":[{\"aaxis\":{\"endlinecolor\":\"#2a3f5f\",\"gridcolor\":\"white\",\"linecolor\":\"white\",\"minorgridcolor\":\"white\",\"startlinecolor\":\"#2a3f5f\"},\"baxis\":{\"endlinecolor\":\"#2a3f5f\",\"gridcolor\":\"white\",\"linecolor\":\"white\",\"minorgridcolor\":\"white\",\"startlinecolor\":\"#2a3f5f\"},\"type\":\"carpet\"}],\"table\":[{\"cells\":{\"fill\":{\"color\":\"#EBF0F8\"},\"line\":{\"color\":\"white\"}},\"header\":{\"fill\":{\"color\":\"#C8D4E3\"},\"line\":{\"color\":\"white\"}},\"type\":\"table\"}],\"barpolar\":[{\"marker\":{\"line\":{\"color\":\"#E5ECF6\",\"width\":0.5},\"pattern\":{\"fillmode\":\"overlay\",\"size\":10,\"solidity\":0.2}},\"type\":\"barpolar\"}],\"pie\":[{\"automargin\":true,\"type\":\"pie\"}]},\"layout\":{\"autotypenumbers\":\"strict\",\"colorway\":[\"#636efa\",\"#EF553B\",\"#00cc96\",\"#ab63fa\",\"#FFA15A\",\"#19d3f3\",\"#FF6692\",\"#B6E880\",\"#FF97FF\",\"#FECB52\"],\"font\":{\"color\":\"#2a3f5f\"},\"hovermode\":\"closest\",\"hoverlabel\":{\"align\":\"left\"},\"paper_bgcolor\":\"white\",\"plot_bgcolor\":\"#E5ECF6\",\"polar\":{\"bgcolor\":\"#E5ECF6\",\"angularaxis\":{\"gridcolor\":\"white\",\"linecolor\":\"white\",\"ticks\":\"\"},\"radialaxis\":{\"gridcolor\":\"white\",\"linecolor\":\"white\",\"ticks\":\"\"}},\"ternary\":{\"bgcolor\":\"#E5ECF6\",\"aaxis\":{\"gridcolor\":\"white\",\"linecolor\":\"white\",\"ticks\":\"\"},\"baxis\":{\"gridcolor\":\"white\",\"linecolor\":\"white\",\"ticks\":\"\"},\"caxis\":{\"gridcolor\":\"white\",\"linecolor\":\"white\",\"ticks\":\"\"}},\"coloraxis\":{\"colorbar\":{\"outlinewidth\":0,\"ticks\":\"\"}},\"colorscale\":{\"sequential\":[[0.0,\"#0d0887\"],[0.1111111111111111,\"#46039f\"],[0.2222222222222222,\"#7201a8\"],[0.3333333333333333,\"#9c179e\"],[0.4444444444444444,\"#bd3786\"],[0.5555555555555556,\"#d8576b\"],[0.6666666666666666,\"#ed7953\"],[0.7777777777777778,\"#fb9f3a\"],[0.8888888888888888,\"#fdca26\"],[1.0,\"#f0f921\"]],\"sequentialminus\":[[0.0,\"#0d0887\"],[0.1111111111111111,\"#46039f\"],[0.2222222222222222,\"#7201a8\"],[0.3333333333333333,\"#9c179e\"],[0.4444444444444444,\"#bd3786\"],[0.5555555555555556,\"#d8576b\"],[0.6666666666666666,\"#ed7953\"],[0.7777777777777778,\"#fb9f3a\"],[0.8888888888888888,\"#fdca26\"],[1.0,\"#f0f921\"]],\"diverging\":[[0,\"#8e0152\"],[0.1,\"#c51b7d\"],[0.2,\"#de77ae\"],[0.3,\"#f1b6da\"],[0.4,\"#fde0ef\"],[0.5,\"#f7f7f7\"],[0.6,\"#e6f5d0\"],[0.7,\"#b8e186\"],[0.8,\"#7fbc41\"],[0.9,\"#4d9221\"],[1,\"#276419\"]]},\"xaxis\":{\"gridcolor\":\"white\",\"linecolor\":\"white\",\"ticks\":\"\",\"title\":{\"standoff\":15},\"zerolinecolor\":\"white\",\"automargin\":true,\"zerolinewidth\":2},\"yaxis\":{\"gridcolor\":\"white\",\"linecolor\":\"white\",\"ticks\":\"\",\"title\":{\"standoff\":15},\"zerolinecolor\":\"white\",\"automargin\":true,\"zerolinewidth\":2},\"scene\":{\"xaxis\":{\"backgroundcolor\":\"#E5ECF6\",\"gridcolor\":\"white\",\"linecolor\":\"white\",\"showbackground\":true,\"ticks\":\"\",\"zerolinecolor\":\"white\",\"gridwidth\":2},\"yaxis\":{\"backgroundcolor\":\"#E5ECF6\",\"gridcolor\":\"white\",\"linecolor\":\"white\",\"showbackground\":true,\"ticks\":\"\",\"zerolinecolor\":\"white\",\"gridwidth\":2},\"zaxis\":{\"backgroundcolor\":\"#E5ECF6\",\"gridcolor\":\"white\",\"linecolor\":\"white\",\"showbackground\":true,\"ticks\":\"\",\"zerolinecolor\":\"white\",\"gridwidth\":2}},\"shapedefaults\":{\"line\":{\"color\":\"#2a3f5f\"}},\"annotationdefaults\":{\"arrowcolor\":\"#2a3f5f\",\"arrowhead\":0,\"arrowwidth\":1},\"geo\":{\"bgcolor\":\"white\",\"landcolor\":\"#E5ECF6\",\"subunitcolor\":\"white\",\"showland\":true,\"showlakes\":true,\"lakecolor\":\"white\"},\"title\":{\"x\":0.05},\"mapbox\":{\"style\":\"light\"}}},\"xaxis\":{\"anchor\":\"y\",\"domain\":[0.0,1.0],\"title\":{\"text\":\"value\"}},\"yaxis\":{\"anchor\":\"x\",\"domain\":[0.0,0.7326],\"title\":{\"text\":\"count\"}},\"xaxis2\":{\"anchor\":\"y2\",\"domain\":[0.0,1.0],\"matches\":\"x\",\"showticklabels\":false,\"showgrid\":true},\"yaxis2\":{\"anchor\":\"x2\",\"domain\":[0.7426,1.0],\"matches\":\"y2\",\"showticklabels\":false,\"showline\":false,\"ticks\":\"\",\"showgrid\":false},\"legend\":{\"title\":{\"text\":\"variable\"},\"tracegroupgap\":0},\"title\":{\"text\":\"Recency distribution\"},\"barmode\":\"relative\"},                        {\"responsive\": true}                    ).then(function(){\n",
       "                            \n",
       "var gd = document.getElementById('5fab74a6-c60a-42d0-8181-a290741421b9');\n",
       "var x = new MutationObserver(function (mutations, observer) {{\n",
       "        var display = window.getComputedStyle(gd).display;\n",
       "        if (!display || display === 'none') {{\n",
       "            console.log([gd, 'removed!']);\n",
       "            Plotly.purge(gd);\n",
       "            observer.disconnect();\n",
       "        }}\n",
       "}});\n",
       "\n",
       "// Listen for the removal of the full notebook cells\n",
       "var notebookContainer = gd.closest('#notebook-container');\n",
       "if (notebookContainer) {{\n",
       "    x.observe(notebookContainer, {childList: true});\n",
       "}}\n",
       "\n",
       "// Listen for the clearing of the current output cell\n",
       "var outputEl = gd.closest('.output');\n",
       "if (outputEl) {{\n",
       "    x.observe(outputEl, {childList: true});\n",
       "}}\n",
       "\n",
       "                        })                };                });            </script>        </div>"
      ]
     },
     "metadata": {},
     "output_type": "display_data"
    }
   ],
   "source": [
    "#Data distribution after data normalization for Recency\n",
    "#Recency_Plot = Log_Tfd_Data['Recency']\n",
    "#ax = sns.histplot(Recency_Plot)\n",
    "Recency_Plot = Log_Tfd_Data['Recency']\n",
    "fig1 = px.histogram(Recency_Plot, nbins=50, opacity=0.9, marginal='rug', title='Recency distribution')\n",
    "fig1.show()\n"
   ]
  },
  {
   "cell_type": "code",
   "execution_count": 20,
   "id": "48a1833a",
   "metadata": {
    "execution": {
     "iopub.execute_input": "2023-02-25T23:11:45.906156Z",
     "iopub.status.busy": "2023-02-25T23:11:45.905787Z",
     "iopub.status.idle": "2023-02-25T23:11:45.990682Z",
     "shell.execute_reply": "2023-02-25T23:11:45.989585Z"
    },
    "papermill": {
     "duration": 0.106844,
     "end_time": "2023-02-25T23:11:45.993055",
     "exception": false,
     "start_time": "2023-02-25T23:11:45.886211",
     "status": "completed"
    },
    "tags": []
   },
   "outputs": [
    {
     "data": {
      "text/html": [
       "<div>                            <div id=\"4e2227dc-2066-4749-b14d-f240fc4a3eab\" class=\"plotly-graph-div\" style=\"height:525px; width:100%;\"></div>            <script type=\"text/javascript\">                require([\"plotly\"], function(Plotly) {                    window.PLOTLYENV=window.PLOTLYENV || {};                                    if (document.getElementById(\"4e2227dc-2066-4749-b14d-f240fc4a3eab\")) {                    Plotly.newPlot(                        \"4e2227dc-2066-4749-b14d-f240fc4a3eab\",                        [{\"alignmentgroup\":\"True\",\"bingroup\":\"x\",\"hovertemplate\":\"variable=Frequency<br>value=%{x}<br>count=%{y}<extra></extra>\",\"legendgroup\":\"Frequency\",\"marker\":{\"color\":\"#636efa\",\"opacity\":0.7,\"pattern\":{\"shape\":\"\"}},\"name\":\"Frequency\",\"nbinsx\":50,\"offsetgroup\":\"Frequency\",\"orientation\":\"v\",\"showlegend\":true,\"x\":[0.0,5.204,3.434,4.29,2.833,4.443,1.386,4.06,2.565,4.078,4.875,2.944,5.501,4.86,2.303,5.583,3.135,4.443,3.091,2.398,5.112,4.143,3.951,2.639,3.497,2.833,4.344,5.389,3.689,4.644,4.466,4.595,3.296,2.303,4.605,3.466,4.533,4.159,3.296,5.05,4.836,4.443,4.078,1.609,2.398,1.609,3.989,4.654,4.344,4.654,4.691,3.258,4.111,3.638,2.89,6.574,5.257,3.526,3.367,3.807,3.664,4.828,3.401,3.584,3.401,3.434,5.684,4.575,2.398,5.46,4.682,6.04,3.912,3.584,2.773,5.298,4.585,2.398,2.485,5.176,1.386,4.06,3.258,3.091,5.252,2.079,5.869,3.091,3.761,2.708,4.5,4.828,4.143,3.638,3.555,4.127,4.419,3.367,3.85,3.638,6.129,5.826,5.118,6.045,3.584,5.451,5.704,3.584,3.434,5.037,5.375,4.317,5.838,4.007,2.708,5.501,3.258,2.996,3.091,4.344,2.639,3.135,4.111,5.004,4.99,2.197,3.135,3.091,4.22,1.946,3.497,3.434,3.555,3.932,2.773,3.258,5.631,4.82,2.833,5.024,3.638,2.485,4.663,4.97,4.263,2.89,4.522,4.19,2.833,2.773,4.143,3.526,5.565,3.045,5.609,6.17,3.951,2.944,3.912,4.234,2.079,1.609,4.043,2.303,2.996,5.252,4.779,3.497,2.398,3.045,4.654,2.773,5.124,3.045,2.197,2.944,6.1,5.236,3.526,4.094,3.332,2.398,4.477,4.984,4.736,3.367,3.178,2.708,3.091,5.509,4.564,4.466,2.398,1.386,2.303,3.555,4.22,3.258,2.89,3.045,4.771,3.296,5.328,4.883,4.127,4.159,3.332,2.485,1.099,2.773,4.615,4.094,4.663,4.174,2.944,5.03,2.996,4.654,3.466,3.714,2.398,4.5,4.522,6.146,2.398,2.89,3.638,4.454,5.684,5.438,3.714,4.159,3.434,4.615,4.615,5.945,3.664,3.091,3.97,2.303,3.85,3.178,3.434,4.29,3.807,4.804,3.045,3.434,2.996,2.197,3.871,3.761,3.638,4.836,3.85,3.584,1.609,2.565,5.438,3.611,1.099,3.497,5.081,4.615,4.522,2.303,3.738,4.419,3.807,5.106,3.871,3.951,6.458,6.261,5.841,4.654,5.056,1.946,5.142,4.277,2.773,3.466,3.664,3.611,3.296,3.714,5.591,3.97,2.485,3.045,4.477,5.811,3.497,5.056,5.333,4.344,4.89,3.638,5.557,2.996,4.234,4.007,2.944,3.664,5.869,5.081,3.97,4.234,3.97,3.178,4.82,4.934,3.829,3.258,5.613,2.485,3.091,1.386,3.761,1.386,2.398,3.638,3.296,4.875,5.403,4.635,8.392,5.293,2.708,3.97,5.283,4.143,1.386,1.386,5.897,4.575,4.554,4.234,2.89,3.807,5.737,3.466,2.485,4.007,4.19,3.912,5.004,3.219,4.635,4.431,4.043,2.639,2.996,1.386,3.045,0.693,3.219,3.178,3.807,2.639,2.565,2.079,3.219,3.332,3.219,3.434,2.708,0.693,3.85,3.367,1.386,2.639,4.078,1.792,3.829,1.609,3.219,4.511,3.219,4.025,2.398,3.638,2.197,3.296,3.178,2.89,5.159,2.485,4.787,5.749,4.727,6.026,3.526,4.635,3.951,3.296,4.431,3.871,3.85,2.833,4.357,4.691,1.099,5.74,3.829,1.609,1.099,4.554,3.258,6.28,4.673,2.398,4.19,1.386,0.693,4.443,5.037,3.85,2.303,1.946,2.565,3.738,1.946,4.263,4.407,1.609,4.369,1.099,3.434,3.091,1.386,4.754,2.303,4.263,4.143,0.693,4.511,4.317,3.178,3.912,3.091,4.635,0.693,3.912,3.296,6.579,3.332,3.332,3.401,3.807,4.431,2.079,3.219,4.407,4.663,4.86,4.127,4.787,2.197,3.85,4.564,4.248,3.401,3.135,4.575,4.754,5.371,3.135,4.143,4.369,2.833,5.193,2.944,5.472,2.773,4.554,4.682,2.303,2.944,1.609,4.86,5.72,2.079,3.091,2.197,2.996,2.996,3.332,1.386,4.331,3.332,4.419,4.159,2.565,3.434,3.296,4.111,1.099,4.078,3.332,3.434,5.82,1.946,1.792,6.001,3.258,1.386,2.639,1.099,4.477,5.389,4.7,5.165,3.85,0.0,6.127,4.875,3.689,3.689,3.258,3.807,2.303,4.522,4.263,2.398,3.611,3.296,3.871,3.332,3.761,2.565,3.497,2.89,3.555,5.147,4.905,2.639,5.999,2.89,4.331,2.079,2.079,2.708,2.303,2.398,4.22,2.639,3.871,2.708,0.693,6.05,2.197,1.946,3.091,4.71,5.881,1.792,1.792,6.935,4.29,2.89,3.091,7.503,5.043,3.045,3.219,5.069,3.178,1.792,6.043,6.349,0.0,2.079,5.717,2.079,2.996,0.0,4.06,2.303,3.85,4.977,5.303,4.787,3.401,4.331,4.369,0.0,3.912,4.007,5.403,4.942,2.708,0.693,3.784,1.099,1.946,4.585,0.0,4.844,6.532,4.143,5.136,3.807,4.905,3.135,1.099,1.792,2.833,1.386,5.743,4.454,4.304,2.708,4.443,4.466,4.369,4.787,1.386,2.079,4.369,3.738,3.714,4.174,4.836,2.565,3.401,3.829,3.761,5.68,4.205,2.833,5.58,2.398,4.543,5.187,0.0,4.369,3.611,0.693,3.367,4.143,3.219,1.099,4.7,5.421,4.779,3.829,4.043,2.079,4.997,5.771,3.091,4.007,4.949,4.5,1.609,1.386,1.609,3.045,4.19,1.609,4.682,3.466,2.773,2.197,0.693,2.303,6.375,5.308,3.761,4.06,3.584,3.434,3.091,4.205,2.565,4.043,3.296,2.773,4.913,3.219,3.258,3.135,3.584,2.565,0.0,3.584,4.394,2.079,2.197,2.398,7.419,4.5,5.231,5.352,6.071,5.753,0.0,4.466,2.708,2.773,3.401,2.079,3.829,2.197,4.407,3.611,1.946,2.565,5.231,3.738,3.434,3.989,2.303,1.609,4.078,0.693,1.609,2.996,4.394,0.0,3.045,4.394,0.0,3.989,4.673,4.277,3.258,4.357,4.127,4.454,4.82,2.996,6.165,4.654,2.398,3.219,3.045,4.317,2.485,4.682,2.833,2.833,3.97,3.045,5.58,3.932,2.944,3.989,4.898,3.738,2.944,4.754,2.996,2.079,2.639,2.773,3.689,2.773,3.178,3.932,3.466,3.738,4.489,3.367,3.135,5.112,4.094,2.303,4.852,0.0,3.367,2.639,3.664,3.135,5.063,3.611,3.97,4.575,5.147,2.708,5.024,3.555,3.555,3.932,2.565,0.0,5.043,3.045,3.761,3.638,3.258,3.664,1.099,2.398,3.296,6.17,3.332,2.89,3.178,2.944,3.332,5.717,2.773,2.079,4.625,4.844,4.357,5.056,3.367,4.263,4.205,3.892,3.829,2.303,4.615,2.485,5.118,3.989,2.565,4.078,5.268,2.944,4.263,6.071,0.693,2.833,3.829,4.143,5.945,2.833,3.296,2.197,3.714,2.833,4.585,5.71,2.303,5.537,3.045,4.127,4.454,4.06,4.369,2.708,4.691,2.398,2.303,2.079,3.135,4.234,3.526,6.045,2.639,4.454,3.912,2.079,2.89,3.871,3.555,2.944,3.738,4.174,3.951,2.89,2.833,3.091,5.371,3.258,5.088,2.485,3.784,4.745,2.708,2.303,1.386,4.078,3.784,4.949,3.584,2.079,4.533,6.035,1.609,5.147,3.296,1.792,5.38,2.708,3.091,4.19,4.317,5.69,5.182,3.219,3.611,4.357,4.575,4.812,3.932,1.386,4.691,4.905,3.526,5.13,3.466,2.639,4.407,3.892,4.394,3.638,5.13,3.761,4.369,3.296,5.829,3.497,3.219,3.829,4.836,4.419,3.135,2.303,3.97,3.178,2.079,5.159,3.045,4.466,4.06,2.773,4.844,3.258,4.984,3.555,5.505,2.944,4.595,3.135,3.296,3.689,4.575,5.371,4.277,5.273,3.135,3.784,2.565,2.944,4.357,2.944,4.522,4.078,4.263,2.398,4.977,5.226,4.127,4.143,4.595,2.079,3.689,4.043,3.332,4.984,1.609,4.357,3.135,4.564,1.792,4.143,5.112,4.025,3.892,2.773,4.682,4.635,3.951,2.565,2.485,4.419,6.138,2.197,3.219,1.792,4.094,3.219,2.773,5.268,4.043,1.099,3.367,3.664,2.079,1.792,2.197,3.97,6.342,4.5,2.485,2.639,5.268,0.0,4.898,3.332,2.996,3.871,3.892,5.814,2.079,2.565,2.303,4.644,3.045,4.625,2.485,4.094,3.761,3.332,4.443,1.792,4.644,3.738,2.996,4.143,3.761,3.638,3.497,5.273,5.247,3.401,1.099,3.135,3.526,5.746,3.714,4.143,3.219,0.0,3.332,3.178,2.197,4.317,3.555,2.485,5.771,4.956,4.762,3.219,4.043,4.248,1.946,2.708,5.333,5.908,4.905,4.779,5.153,3.091,5.283,2.197,4.043,2.833,4.727,3.434,1.946,3.434,3.807,2.398,2.565,5.855,3.664,3.497,3.135,4.094,2.833,4.905,2.565,2.303,1.946,4.331,2.485,3.555,2.565,3.584,4.234,4.043,5.17,3.332,3.178,3.584,4.078,4.564,3.689,3.829,2.303,4.522,2.708,4.277,1.099,3.332,4.007,2.89,5.106,0.0,5.328,2.996,2.197,4.007,1.609,4.615,4.533,4.394,3.135,4.7,2.639,2.398,3.332,4.331,4.934,2.996,3.401,1.946,4.094,3.497,5.717,4.745,5.817,3.135,2.89,4.644,1.946,1.099,3.555,5.106,5.182,4.174,4.956,4.078,3.332,2.773,2.944,3.664,2.708,4.7,3.296,3.045,3.296,4.771,2.833,2.485,2.944,3.761,5.004,3.258,4.804,4.997,3.497,2.89,3.401,3.332,1.946,2.996,4.762,3.714,2.398,3.045,3.296,2.197,2.833,4.06,2.773,3.135,3.434,3.258,2.197,1.946,3.807,3.892,3.807,2.398,1.609,1.099,5.075,3.555,3.664,4.92,2.996,3.219,3.497,4.99,4.5,2.485,2.398,3.555,0.693,6.428,5.004,2.708,2.398,3.332,5.796,2.303,2.708,3.989,2.398,4.71,4.673,2.773,5.861,2.565,5.455,3.714,2.773,4.407,1.609,4.796,4.997,4.454,5.338,2.708,3.664,3.85,5.142,4.431,3.401,3.738,2.398,3.526,3.664,2.996,5.081,4.19,3.664,3.091,3.332,3.434,2.773,1.792,2.708,5.489,5.521,4.963,4.454,4.19,3.638,3.332,4.522,1.792,5.434,3.045,5.328,1.792,2.639,3.466,4.443,6.17,3.989,5.347,4.025,1.386,1.792,2.303,6.992,5.645,2.079,5.308,4.71,4.344,1.946,3.951,3.178,5.778,2.565,3.761,3.784,3.738,4.174,2.485,1.386,5.011,3.367,5.176,6.105,4.22,6.378,2.565,0.0,5.366,4.605,8.539,3.045,5.521,3.219,3.555,4.06,3.045,4.304,4.812,3.526,2.197,5.05,2.303,5.075,3.526,2.708,4.277,1.099,5.069,1.609,5.112,2.708,3.784,3.829,3.951,4.19,5.298,3.332,4.898,3.829,3.258,4.19,3.689,3.091,1.946,2.398,5.347,1.609,1.099,3.332,3.258,3.892,3.951,1.792,7.241,3.829,3.714,7.069,4.644,3.219,3.951,3.367,3.178,3.912,4.06,3.367,3.258,5.004,3.434,3.714,5.762,5.056,5.481,3.178,1.099,4.174,5.58,5.557,3.738,6.361,1.946,1.792,3.664,0.693,3.611,3.664,3.178,2.996,2.303,4.466,4.625,4.718,2.197,4.205,4.682,4.078,4.605,2.485,1.946,3.045,5.263,3.714,4.094,4.727,4.19,5.165,3.689,3.912,4.745,3.555,4.99,4.369,2.708,2.197,2.079,4.718,3.738,2.303,2.773,4.949,4.682,4.317,2.996,2.079,4.71,4.357,3.97,4.663,4.71,1.609,3.951,4.963,2.833,3.434,4.007,3.367,2.303,3.497,3.367,4.159,5.403,2.079,5.037,3.466,3.296,5.635,2.197,2.773,3.85,4.615,5.468,4.605,4.111,1.609,4.127,7.401,4.963,1.099,2.565,2.833,4.654,3.497,5.193,4.762,2.996,4.466,2.079,4.615,3.178,3.434,4.812,3.584,2.079,2.485,5.553,3.332,3.219,2.708,5.088,4.094,4.5,3.434,2.639,1.792,4.852,3.045,4.263,1.792,4.094,2.89,3.434,2.89,0.0,3.85,1.792,2.197,2.398,3.497,3.689,4.007,4.762,3.611,4.234,6.256,2.079,1.386,1.386,4.19,2.398,3.829,4.025,4.836,4.078,2.639,1.946,4.934,5.226,3.807,5.649,1.609,5.852,4.29,4.466,3.219,5.204,2.996,4.605,2.079,4.29,4.663,3.989,5.247,2.639,3.761,3.091,4.575,6.361,2.639,4.82,5.308,3.367,3.296,5.403,1.099,0.0,5.412,2.833,4.92,2.833,5.932,2.485,2.197,1.609,2.197,3.466,4.007,3.932,4.143,4.533,5.624,4.248,2.996,5.521,3.689,4.654,4.094,3.091,6.853,1.386,3.611,2.773,5.193,5.451,1.792,4.812,4.277,4.489,3.761,5.58,1.946,3.367,3.738,2.833,2.303,2.89,2.565,3.401,4.92,2.197,2.639,3.829,4.942,3.829,3.401,2.833,4.787,1.946,1.792,2.944,3.367,5.263,5.247,1.946,2.303,6.41,5.1,4.673,6.666,5.687,4.554,4.007,4.22,3.135,2.485,4.234,4.585,2.89,2.773,1.386,2.833,2.485,5.283,5.642,6.878,2.89,5.361,5.361,4.159,4.127,6.23,5.793,2.89,2.303,2.944,3.466,4.263,4.654,1.609,4.263,4.71,5.984,5.872,1.386,4.025,3.85,2.303,4.043,4.727,5.313,2.944,2.773,4.304,4.234,6.038,4.844,1.386,3.497,2.485,3.367,5.568,5.425,0.0,4.812,3.178,2.833,1.792,5.71,4.585,3.367,2.944,5.916,1.099,5.17,5.063,5.017,3.951,4.625,3.85,3.912,3.219,1.946,0.693,7.892,4.394,2.996,1.386,1.099,2.773,2.996,3.258,4.522,3.045,4.89,2.565,3.97,4.804,3.178,5.011,3.714,2.079,2.996,3.332,2.773,5.147,4.654,1.946,0.693,3.434,3.258,3.401,7.64,3.332,5.226,4.615,3.367,5.455,3.892,4.382,4.836,3.367,5.533,3.401,1.386,5.056,4.585,4.5,2.639,6.34,5.112,4.812,4.111,4.304,4.575,3.738,5.553,1.946,0.693,5.966,2.708,5.781,2.565,3.871,4.263,4.22,2.079,4.868,3.091,5.298,2.079,4.718,5.79,5.835,3.091,5.974,0.0,3.332,5.278,4.913,5.844,3.219,5.823,2.303,4.263,3.932,5.46,3.611,3.332,5.557,3.85,2.303,4.263,6.136,3.807,4.99,5.308,5.268,2.833,3.989,4.094,4.489,4.078,3.258,4.234,2.89,4.489,1.609,3.401,3.714,5.46,3.638,2.944,4.263,4.625,1.609,2.398,3.045,1.792,3.664,4.905,1.609,6.968,3.951,2.197,4.094,4.762,3.555,3.714,3.296,1.792,2.708,1.099,3.401,1.792,3.829,0.693,2.639,4.382,1.792,7.032,2.485,2.565,5.948,4.043,3.784,2.485,3.829,2.398,5.442,5.537,3.367,3.97,1.386,4.143,3.871,2.565,3.367,0.693,4.248,3.367,4.787,2.833,3.738,3.664,4.205,1.792,4.682,1.386,4.927,4.977,4.868,2.565,5.961,3.045,3.332,4.963,2.197,4.836,2.996,4.174,4.094,4.06,2.398,1.792,3.871,2.398,1.386,4.595,3.584,4.97,4.248,2.565,4.533,3.332,3.85,4.804,3.829,2.833,2.398,3.97,2.708,2.89,1.792,2.996,2.303,1.946,3.497,4.29,3.135,6.211,3.761,4.007,4.691,4.564,2.996,5.858,4.234,2.833,5.106,2.197,3.401,8.643,3.296,4.466,2.485,4.344,3.807,4.043,4.357,3.784,2.303,2.398,4.844,3.714,2.833,4.466,2.303,5.897,3.526,5.136,1.099,2.639,4.143,2.944,2.996,4.927,3.989,4.344,2.485,3.714,4.078,3.296,5.743,1.609,5.257,2.565,4.394,3.584,1.792,3.611,3.526,5.043,2.89,3.466,2.833,2.398,4.277,5.366,2.079,3.664,4.419,1.386,3.689,4.094,3.258,4.304,4.344,4.745,5.037,7.014,4.883,2.485,5.193,2.996,4.804,3.497,2.996,2.996,3.434,4.19,6.096,4.796,6.315,5.024,4.205,4.111,3.555,3.871,1.946,4.7,3.951,6.217,5.966,3.296,4.779,4.828,7.298,4.19,1.609,1.099,6.096,2.485,5.303,3.091,4.543,1.099,4.331,4.956,3.332,4.234,4.736,3.219,5.583,5.468,4.745,5.999,4.043,1.609,5.043,3.738,4.407,4.644,4.248,0.0,3.258,3.989,3.714,3.296,3.892,6.087,3.85,3.497,1.609,2.708,4.043,4.977,3.135,3.401,3.258,4.682,3.85,2.398,3.219,1.099,3.135,1.099,2.079,3.555,4.205,4.615,4.605,2.833,4.094,3.332,3.555,4.431,4.575,5.283,3.045,3.807,4.369,0.0,2.639,3.045,3.332,4.407,4.663,2.708,4.844,2.773,4.625,4.431,3.091,3.951,3.367,4.29,2.197,4.22,2.565,4.382,3.258,2.639,5.38,4.205,4.511,3.332,2.996,3.135,5.832,5.602,3.091,4.263,4.007,4.828,1.946,6.565,1.386,3.367,4.615,3.296,3.664,1.609,1.609,4.7,2.398,3.135,1.099,4.533,1.792,2.773,3.367,4.127,3.045,2.944,4.511,5.357,3.932,2.944,5.737,0.0,3.466,2.303,2.565,4.234,4.956,2.197,3.611,2.197,3.738,2.996,3.951,1.609,3.178,4.7,3.555,0.693,5.112,2.197,4.762,1.609,1.609,2.996,2.639,3.135,2.079,4.06,4.828,3.135,3.434,2.639,4.963,2.708,4.595,3.912,3.892,4.357,4.7,3.091,3.526,4.489,3.497,1.792,5.858,4.71,3.784,3.97,2.89,3.85,1.792,1.946,3.526,4.344,2.944,2.303,2.485,3.135,4.407,1.792,2.398,0.693,3.714,5.576,4.143,3.85,3.714,3.892,2.485,2.944,2.773,4.934,1.099,2.996,4.477,4.06,5.318,4.635,3.178,5.268,3.664,5.257,1.946,3.332,5.489,3.434,3.135,4.06,2.485,2.944,7.769,3.85,0.0,3.178,3.611,0.0,3.497,2.773,3.584,4.554,3.738,3.871,3.367,2.303,4.043,2.565,3.555,2.773,4.585,3.555,4.454,2.833,3.178,3.045,3.258,2.996,2.833,1.609,2.197,4.263,1.609,5.389,4.111,2.639,6.213,6.312,2.565,1.946,2.773,3.367,4.736,3.784,4.554,1.386,4.543,3.296,4.883,1.099,4.754,5.268,3.584,2.079,5.71,3.714,2.485,3.434,2.303,0.0,4.431,2.485,4.443,1.946,2.639,1.792,4.29,3.912,2.485,3.738,2.079,3.97,4.997,3.526,4.804,4.585,2.303,3.664,3.85,5.257,3.332,2.079,3.97,1.792,0.693,2.833,5.617,5.677,1.792,4.407,2.303,3.714,4.007,3.367,5.673,3.807,3.219,4.127,0.693,5.919,5.366,1.609,2.197,3.332,4.094,3.401,4.025,5.631,3.219,4.06,4.06,1.946,4.025,2.398,1.946,5.043,4.575,4.043,3.951,3.178,3.178,4.29,4.331,2.398,3.367,3.784,3.807,4.575,4.431,5.231,4.443,0.693,3.912,5.037,3.555,5.666,4.804,2.708,6.238,4.22,5.361,4.19,2.565,4.575,5.081,3.807,4.522,0.0,5.063,1.946,5.73,5.112,2.708,3.296,5.347,2.89,5.22,4.025,2.303,0.0,5.05,1.386,5.088,3.258,6.495,4.673,5.389,5.525,4.419,4.277,3.178,3.714,2.708,3.367,3.332,5.557,4.382,6.544,4.736,4.111,3.367,2.833,4.007,2.639,6.788,3.434,2.944,3.296,0.0,4.727,2.079,1.946,3.97,3.434,5.765,4.043,5.357,4.575,5.024,3.761,3.664,2.565,3.871,4.99,3.784,4.804,3.434,2.197,3.367,3.178,1.609,4.635,4.344,3.091,2.639,3.951,6.016,3.85,0.693,2.833,4.205,4.344,2.565,4.094,2.773,1.792,3.761,1.792,6.047,3.807,1.099,4.605,2.773,5.22,2.944,3.526,4.159,3.892,5.043,4.094,5.118,2.708,3.219,2.708,3.219,6.165,4.779,3.497,5.447,3.951,3.555,3.178,0.693,3.466,3.045,1.792,3.045,3.526,3.85,0.0,3.871,2.398,4.5,1.609,2.197,2.833,4.745,2.565,0.0,3.497,2.485,4.357,4.927,4.736,3.045,5.308,3.497,2.485,4.7,4.357,3.97,2.303,5.112,2.197,2.944,0.693,2.485,4.357,3.091,5.124,2.89,4.454,5.438,1.609,4.762,1.792,4.007,5.323,5.609,1.792,3.97,2.944,3.526,4.762,1.946,6.836,4.852,4.431,4.205,3.638,2.398,3.466,5.707,1.609,4.248,2.639,2.303,3.258,4.263,5.153,2.079,2.197,4.454,1.099,4.127,3.332,4.5,2.996,2.303,5.673,6.004,0.0,3.332,4.949,5.252,3.807,2.197,1.946,3.611,4.111,5.193,2.398,3.296,4.868,2.303,3.219,1.946,2.89,3.045,3.367,2.996,3.761,2.639,4.419,5.583,5.298,3.219,3.526,4.317,2.485,3.738,4.883,2.079,4.585,4.762,4.159,0.0,2.079,5.572,5.7,3.434,3.871,5.273,3.555,4.489,4.89,3.714,3.689,4.277,3.892,4.812,2.833,4.127,3.497,0.0,2.996,4.22,4.745,3.932,3.664,4.19,3.989,5.595,3.912,2.303,3.178,5.118,4.127,3.296,3.85,2.079,2.398,4.927,3.091,4.533,3.091,3.401,4.927,4.382,6.443,2.639,5.236,4.934,6.292,4.99,2.89,2.996,3.689,3.761,6.129,2.708,4.304,4.682,4.787,4.836,4.564,3.367,3.135,3.892,2.89,2.485,2.485,4.443,4.094,3.611,2.398,3.091,4.431,1.386,3.85,4.71,4.304,3.401,5.011,5.421,1.946,5.583,2.944,5.017,2.485,3.689,4.804,4.094,3.178,2.398,3.045,2.485,3.045,4.745,4.304,2.485,1.946,2.89,4.331,0.0,2.639,1.792,0.693,3.367,4.094,2.944,4.575,3.714,4.431,4.575,5.209,3.738,1.946,3.332,4.71,4.382,2.996,2.398,3.555,1.386,5.17,3.178,4.564,4.174,3.892,3.761,4.575,4.718,5.553,3.611,2.639,4.852,3.258,3.951,1.099,6.297,3.466,4.844,6.223,2.197,4.635,5.303,2.079,5.943,3.497,4.407,4.369,5.347,4.543,4.934,4.927,5.198,5.412,3.466,3.332,5.075,3.829,4.263,4.615,4.143,3.332,3.466,2.773,5.485,3.367,4.585,7.028,3.091,4.007,3.664,3.258,4.174,1.792,4.248,3.664,4.419,2.079,5.7,2.303,3.526,4.431,4.248,2.079,4.19,4.796,5.182,4.159,3.135,4.29,4.615,3.497,3.045,3.135,0.0,4.86,0.0,3.045,2.303,5.407,3.434,3.638,5.118,3.664,2.89,3.932,0.0,4.143,2.485,2.303,4.205,3.664,4.331,4.043,3.871,3.332,2.565,1.792,3.434,3.871,2.89,5.835,2.773,3.401,2.079,5.631,3.526,3.401,2.773,3.401,5.318,3.638,2.773,2.398,2.565,4.762,3.689,4.489,4.357,5.826,3.555,3.045,3.611,3.434,3.555,3.401,3.611,4.762,0.0,5.412,3.367,3.091,0.0,2.89,4.762,3.367,4.489,4.852,2.89,2.639,2.996,6.155,0.693,1.792,3.526,4.585,4.443,4.828,1.099,4.234,4.431,3.135,4.06,2.708,2.079,2.398,5.088,2.398,3.332,2.708,3.807,3.434,5.384,5.687,4.205,2.398,1.792,4.898,2.944,2.708,5.147,4.71,2.89,3.555,3.912,4.575,4.143,2.944,4.19,3.829,4.812,3.135,3.714,1.792,3.784,2.639,3.611,2.708,4.431,4.554,4.804,4.564,4.898,2.079,1.792,3.85,3.555,3.611,3.091,3.829,2.996,2.944,4.905,6.485,5.677,3.932,4.511,4.5,2.773,1.946,4.234,3.178,4.812,5.598,2.565,0.693,4.905,2.89,4.779,5.553,4.111,3.807,3.989,4.868,3.219,4.174,3.497,1.792,3.135,4.663,2.833,2.398,5.112,4.635,2.079,2.833,4.771,4.369,2.996,3.296,2.398,5.088,3.091,3.714,1.386,3.738,3.611,2.773,2.639,5.017,4.234,2.944,1.099,4.025,2.485,3.611,0.0,4.71,2.89,5.704,5.759,3.664,5.017,3.807,2.303,2.398,2.89,4.949,4.344,2.708,3.761,0.693,3.611,4.443,5.403,2.197,4.043,2.079,3.332,4.543,3.664,3.434,3.526,4.691,4.19,6.455,4.644,4.344,1.609,3.951,3.932,2.89,4.844,4.234,4.762,5.398,4.522,4.691,4.804,1.609,3.135,4.682,3.434,4.585,3.497,4.043,4.394,1.386,3.526,3.761,5.79,4.419,5.328,4.407,4.277,3.367,5.226,4.043,2.303,3.135,1.609,4.078,5.124,5.442,3.784,3.401,3.434,1.946,3.85,4.263,4.554,3.912,5.911,2.89,1.609,3.045,5.866,2.197,0.693,1.792,4.331,2.079,2.833,4.673,4.883,5.642,3.178,5.142,4.431,4.143,1.099,3.526,2.944,3.689,2.398,2.639,0.693,4.595,4.7,2.197,5.308,4.883,3.466,1.099,4.407,5.438,4.984,0.693,5.142,5.1,2.565,2.89,5.82,3.332,4.984,2.833,3.555,3.97,2.89,2.944,3.219,3.738,3.367,3.664,4.025,3.912,4.477,4.554,4.913,2.708,2.944,2.398,4.431,4.419,1.386,1.099,2.565,2.565,5.069,3.555,4.71,1.792,2.833,3.689,2.565,5.05,5.67,5.209,2.708,2.639,2.833,3.401,4.344,1.386,5.17,3.434,3.989,3.807,1.609,1.099,3.219,6.83,5.525,3.466,2.833,4.431,3.951,2.833,5.333,2.398,6.131,4.043,3.434,2.944,1.099,2.89,3.555,1.609,4.836,4.466,4.043,3.738,3.332,2.197,1.792,2.639,3.332,2.079,2.565,3.497,2.303,5.375,3.296,3.97,4.443,2.485,1.946,2.303,4.127,3.401,3.367,3.526,5.147,5.62,1.792,2.303,4.19,3.401,3.258,3.497,1.609,4.564,2.639,2.197,3.367,1.609,3.871,3.135,5.187,2.996,4.762,4.094,5.024,2.197,4.234,4.543,3.912,2.485,3.526,3.296,4.127,2.639,2.944,3.178,4.771,4.234,3.367,5.553,4.29,5.257,2.079,0.693,2.773,2.197,3.466,3.951,2.996,5.05,5.529,1.792,4.736,4.533,4.489,5.094,1.099,2.303,3.784,3.401,5.624,4.127,6.299,4.127,2.565,2.485,1.099,4.078,2.303,3.045,1.609,5.73,4.97,5.598,4.812,3.296,4.369,5.976,3.091,6.082,6.428,4.466,2.944,0.693,5.288,3.784,5.278,3.219,3.611,5.416,3.738,4.977,5.182,3.784,5.572,6.486,4.407,3.332,3.951,4.754,0.0,0.0,2.565,0.0,5.247,5.464,5.872,6.096,3.738,4.234,4.554,3.219,2.197,3.526,0.693,5.106,2.565,1.946,3.091,3.738,2.565,4.143,3.135,6.551,0.0,3.526,5.398,3.989,3.638,4.942,5.537,3.258,3.871,5.056,4.263,3.871,2.773,5.802,4.078,2.833,5.209,1.099,4.997,1.609,4.533,5.749,2.485,2.773,5.628,4.19,2.89,5.05,4.317,3.178,4.094,4.585,4.533,4.205,3.135,5.004,2.708,3.332,2.708,6.054,5.765,3.332,4.454,5.242,3.258,3.638,3.258,3.332,3.091,2.079,2.398,3.135,2.485,3.85,3.178,2.303,2.398,5.106,3.219,5.583,4.754,4.143,5.935,2.398,2.485,2.639,2.079,2.944,2.996,2.197,2.944,0.693,2.303,3.951,1.792,3.258,2.398,4.844,4.92,1.946,5.631,4.718,5.05,1.099,5.159,0.0,3.664,3.611,3.258,4.564,3.584,4.905,5.226,4.575,3.807,4.127,3.611,5.056,4.812,4.369,3.784,4.025,6.5,5.293,4.454,4.942,2.89,6.301,4.605,2.079,3.401,4.043,4.913,2.197,4.852,5.787,4.007,6.439,4.394,2.639,1.792,5.318,4.344,3.97,6.787,3.871,3.784,4.111,4.025,5.46,5.72,5.624,3.497,5.517,3.045,2.944,4.094,3.738,4.454,2.773,0.0,3.989,3.219,2.773,2.773,1.946,4.615,2.639,1.946,3.258,3.332,3.045,3.434,3.738,3.714,0.693,3.664,4.489,4.394,3.091,4.963,5.991,4.787,1.099,4.852,1.946,2.485,0.0,4.533,3.611,2.485,1.386,3.135,5.13,3.892,3.761,3.784,3.951,2.398,2.708,4.277,5.366,5.529,2.773,5.429,1.946,1.099,2.197,1.386,4.997,0.693,2.398,3.091,3.332,3.401,3.332,4.317,3.091,2.708,4.234,4.575,4.625,1.792,3.091,3.091,4.174,3.761,5.759,5.73,3.738,4.419,2.565,4.419,4.127,6.242,1.609,4.595,4.234,4.357,4.111,5.69,4.963,4.127,4.942,5.159,4.344,3.219,3.332,0.693,2.079,4.143,4.394,3.951,5.004,5.226,4.564,4.745,4.111,5.273,4.82,2.639,4.304,3.871,5.352,4.174,3.738,0.0,4.5,6.031,4.754,2.485,3.367,4.812,3.664,2.197,2.303,3.555,2.89,1.946,2.197,3.434,3.555,5.513,2.639,4.898,3.296,3.135,3.951,3.178,6.168,2.89,2.708,3.871,3.555,4.394,2.197,2.639,2.639,3.135,2.996,2.565,4.205,4.615,5.434,4.644,1.609,4.97,2.303,2.485,3.989,2.773,2.708,4.454,1.386,4.143,2.708,4.382,4.828,3.135,4.29,0.693,2.303,4.431,4.094,2.944,5.464,3.466,3.367,3.367,4.564,3.638,4.997,4.043,2.565,1.946,5.352,1.386,5.056,4.615,2.197,5.602,3.219,6.146,4.127,3.296,3.871,3.045,3.85,5.338,3.85,4.234,6.275,3.555,3.219,2.639,3.367,4.654,2.944,6.319,2.708,3.689,5.958,3.434,2.197,3.989,4.234,4.025,3.611,4.454,2.89,4.71,4.304,2.773,4.754,2.485,3.135,4.804,4.29,3.611,1.792,4.736,3.219,4.234,2.708,2.197,4.489,5.673,3.784,4.804,4.942,4.644,4.564,0.0,4.883,4.22,3.892,3.401,4.007,4.078,4.369,3.97,4.19,2.485,4.007,2.639,3.178,4.875,6.155,2.197,4.29,4.595,5.273,3.892,1.792,3.497,1.792,0.0,3.332,2.398,6.256,6.581,2.197,6.009,5.056,2.833,3.434,4.419,6.18,0.0,5.361,2.079,4.248,3.296,2.079,2.773,2.944,3.784,4.06,2.708,4.828,3.367,3.555,6.006,6.142,3.497,4.673,3.497,4.454,5.525,4.043,3.332,4.234,3.178,6.001,4.357,4.691,0.693,3.892,2.708,3.807,3.332,4.331,2.708,5.361,1.099,4.025,1.386,3.296,4.489,3.638,5.328,4.078,3.466,5.288,4.407,4.71,0.693,2.565,4.159,3.714,4.19,1.792,2.639,5.595,3.401,5.328,3.401,4.762,3.258,3.761,5.602,0.693,5.793,3.664,2.639,3.761,3.871,3.989,4.898,2.197,2.833,1.609,4.905,0.0,4.905,2.197,3.584,5.62,5.817,4.605,2.944,4.111,2.079,2.833,2.944,3.989,4.71,3.367,4.663,3.296,5.338,2.197,3.714,1.609,4.477,4.357,5.159,2.639,3.367,4.407,3.045,3.178,3.367,4.331,4.691,2.485,3.296,2.303,2.833,3.689,1.609,2.89,3.332,3.638,4.844,3.951,2.639,4.477,3.091,5.897,2.996,6.87,4.654,1.792,3.689,4.466,4.905,2.398,4.407,3.401,3.807,4.29,3.497,1.792,2.197,2.944,3.85,5.533,5.966,2.639,2.197,2.565,1.099,4.304,2.197,3.219,3.219,4.949,1.609,1.792,3.738,3.664,3.892,0.693,4.477,4.654,1.792,3.526,3.296,3.807,4.143,3.892,4.956,5.106,3.367,5.602,2.485,3.219,2.079,5.996,1.609,3.912,3.807,6.084,3.367,3.555,5.338,3.135,5.533,5.278,5.056,5.357,3.912,4.407,5.58,4.007,2.565,2.197,6.312,2.398,4.143,4.025,5.451,6.34,4.905,5.724,4.585,2.639,1.099,4.205,4.304,1.386,3.258,3.497,3.912,5.724,1.609,4.812,3.258,3.664,4.248,5.69,2.996,3.555,1.946,1.609,3.689,2.079,5.056,3.932,1.946,4.511,3.951,2.079,5.447,5.557,3.784,3.091,4.511,4.407,2.944,5.063,3.638,4.454,3.761,2.89,4.762,2.708,4.22,2.398,3.97,4.7,5.384,3.296,6.558,4.344,5.714,2.773,3.401,2.398,4.771,2.708,4.844,5.656,5.529,2.944,3.829,2.773,2.708,3.555,4.745,2.944,2.079,4.956,3.178,4.304,4.007,3.434,4.635,5.945,1.609,3.526,1.946,3.135,3.367,2.303,0.0,5.501,1.792,5.613,3.912,4.745,2.303,3.689,5.257,4.19,5.106,5.384,4.205,2.89,3.555,3.761,6.537,3.219,2.303,4.575,3.85,2.708,4.913,1.792,0.0,3.555,5.215,0.0,4.489,6.607,6.001,4.5,3.219,2.944,0.0,4.263,4.025,3.045,4.585,5.717,3.638,3.989,3.912,5.03,1.099,5.247,4.394,2.485,4.205,2.565,4.22,4.852,1.609,2.639,5.242,2.303,3.951,3.807,4.394,4.71,6.001,4.635,4.942,2.303,3.761,4.111,6.719,4.89,5.852,2.833,3.497,3.871,2.565,5.371,4.205,3.401,3.135,0.693,4.111,4.078,3.178,5.088,4.762,3.951,8.946,3.611,1.609,0.0,3.932,3.258,5.694,3.178,2.708,2.833,2.708,3.989,5.283,3.135,3.951,5.389,2.398,4.997,4.5,5.914,2.197,4.22,3.689,5.598,2.303,3.761,3.829,2.485,3.258,1.792,3.258,2.079,4.956,4.727,3.97,4.625,2.303,4.174,2.996,4.511,3.526,3.332,2.708,5.257,2.708,0.693,4.682,3.332,3.434,1.792,2.944,3.526,3.497,2.485,3.989,3.664,3.611,4.06,4.317,4.522,3.135,6.5,4.956,0.0,3.434,0.0,3.045,3.135,1.609,3.664,4.174,4.5,3.045,3.367,4.277,3.761,2.485,2.89,0.693,0.693,2.996,2.197,0.0,4.248,4.263,2.996,6.168,2.944,0.0,3.434,1.946,3.258,5.517,3.526,4.585,5.784,4.22,3.738,4.394,2.639,3.367,3.401,2.708,5.106,5.68,4.043,3.045,2.485,4.927,3.401,3.871,3.045,0.0,2.565,3.638,3.367,1.609,4.369,0.693,5.1,4.511,4.043,3.611,3.97,3.091,3.401,3.434,2.639,3.332,3.434,3.401,3.829,4.804,1.099,3.367,1.609,5.1,3.045,3.045,2.197,1.609,3.497,4.7,3.892,4.543,2.944,2.944,6.127,1.946,4.745,4.844,3.761,1.946,1.609,2.996,5.881,2.944,1.099,2.944,3.829,3.296,1.946,4.92,2.303,3.611,0.0,6.125,3.219,2.89,4.277,2.565,4.956,5.407,3.367,4.812,0.693,2.833,4.248,0.0,3.367,1.946,0.693,3.611,4.489,3.584,4.248,3.045,5.278,4.663,2.944,3.689,6.066,3.638,2.89,3.611,2.833,6.089,3.611,3.258,0.0,3.332,5.916,4.277,7.141,3.367,2.833,3.434,5.878,3.526,5.257,3.951,3.829,2.639,4.248,0.0,2.996,3.638,2.079,5.069,2.708,4.111,3.761,5.398,2.303,1.946,2.773,3.611,3.638,3.045,3.219,4.804,3.526,3.135,3.664,4.382,3.178,2.303,3.611,4.868,2.197,3.638,3.989,5.242,3.434,0.0,3.401,4.29,4.575,4.5,4.779,3.714,3.611,0.0,2.833,4.263,4.22,2.708,1.946,3.807,2.773,1.946,4.934,5.069,3.401,4.22,2.944,5.257,3.466,2.079,4.898,3.738,3.526,2.708,2.565,3.258,3.434,2.996,4.736,0.693,4.159,2.944,5.606,2.303,5.595,5.489,1.609,3.401,5.1,4.454,4.812,3.611,0.0,4.644,3.892,4.111,4.477,1.792,4.644,4.357,5.165,1.386,3.85,2.079,3.045,2.773,4.543,1.792,4.771,3.738,4.89,3.045,2.565,4.111,3.829,0.0,1.946,2.398,5.112,1.099,2.398,2.639,2.079,2.197,2.303,1.946,2.485,6.581,4.248],\"xaxis\":\"x\",\"yaxis\":\"y\",\"type\":\"histogram\"},{\"alignmentgroup\":\"True\",\"boxpoints\":\"all\",\"fillcolor\":\"rgba(255,255,255,0)\",\"hoveron\":\"points\",\"hovertemplate\":\"variable=Frequency<br>value=%{x}<extra></extra>\",\"jitter\":0,\"legendgroup\":\"Frequency\",\"line\":{\"color\":\"rgba(255,255,255,0)\"},\"marker\":{\"color\":\"#636efa\",\"symbol\":\"line-ns-open\"},\"name\":\"Frequency\",\"offsetgroup\":\"Frequency\",\"showlegend\":false,\"x\":[0.0,5.204,3.434,4.29,2.833,4.443,1.386,4.06,2.565,4.078,4.875,2.944,5.501,4.86,2.303,5.583,3.135,4.443,3.091,2.398,5.112,4.143,3.951,2.639,3.497,2.833,4.344,5.389,3.689,4.644,4.466,4.595,3.296,2.303,4.605,3.466,4.533,4.159,3.296,5.05,4.836,4.443,4.078,1.609,2.398,1.609,3.989,4.654,4.344,4.654,4.691,3.258,4.111,3.638,2.89,6.574,5.257,3.526,3.367,3.807,3.664,4.828,3.401,3.584,3.401,3.434,5.684,4.575,2.398,5.46,4.682,6.04,3.912,3.584,2.773,5.298,4.585,2.398,2.485,5.176,1.386,4.06,3.258,3.091,5.252,2.079,5.869,3.091,3.761,2.708,4.5,4.828,4.143,3.638,3.555,4.127,4.419,3.367,3.85,3.638,6.129,5.826,5.118,6.045,3.584,5.451,5.704,3.584,3.434,5.037,5.375,4.317,5.838,4.007,2.708,5.501,3.258,2.996,3.091,4.344,2.639,3.135,4.111,5.004,4.99,2.197,3.135,3.091,4.22,1.946,3.497,3.434,3.555,3.932,2.773,3.258,5.631,4.82,2.833,5.024,3.638,2.485,4.663,4.97,4.263,2.89,4.522,4.19,2.833,2.773,4.143,3.526,5.565,3.045,5.609,6.17,3.951,2.944,3.912,4.234,2.079,1.609,4.043,2.303,2.996,5.252,4.779,3.497,2.398,3.045,4.654,2.773,5.124,3.045,2.197,2.944,6.1,5.236,3.526,4.094,3.332,2.398,4.477,4.984,4.736,3.367,3.178,2.708,3.091,5.509,4.564,4.466,2.398,1.386,2.303,3.555,4.22,3.258,2.89,3.045,4.771,3.296,5.328,4.883,4.127,4.159,3.332,2.485,1.099,2.773,4.615,4.094,4.663,4.174,2.944,5.03,2.996,4.654,3.466,3.714,2.398,4.5,4.522,6.146,2.398,2.89,3.638,4.454,5.684,5.438,3.714,4.159,3.434,4.615,4.615,5.945,3.664,3.091,3.97,2.303,3.85,3.178,3.434,4.29,3.807,4.804,3.045,3.434,2.996,2.197,3.871,3.761,3.638,4.836,3.85,3.584,1.609,2.565,5.438,3.611,1.099,3.497,5.081,4.615,4.522,2.303,3.738,4.419,3.807,5.106,3.871,3.951,6.458,6.261,5.841,4.654,5.056,1.946,5.142,4.277,2.773,3.466,3.664,3.611,3.296,3.714,5.591,3.97,2.485,3.045,4.477,5.811,3.497,5.056,5.333,4.344,4.89,3.638,5.557,2.996,4.234,4.007,2.944,3.664,5.869,5.081,3.97,4.234,3.97,3.178,4.82,4.934,3.829,3.258,5.613,2.485,3.091,1.386,3.761,1.386,2.398,3.638,3.296,4.875,5.403,4.635,8.392,5.293,2.708,3.97,5.283,4.143,1.386,1.386,5.897,4.575,4.554,4.234,2.89,3.807,5.737,3.466,2.485,4.007,4.19,3.912,5.004,3.219,4.635,4.431,4.043,2.639,2.996,1.386,3.045,0.693,3.219,3.178,3.807,2.639,2.565,2.079,3.219,3.332,3.219,3.434,2.708,0.693,3.85,3.367,1.386,2.639,4.078,1.792,3.829,1.609,3.219,4.511,3.219,4.025,2.398,3.638,2.197,3.296,3.178,2.89,5.159,2.485,4.787,5.749,4.727,6.026,3.526,4.635,3.951,3.296,4.431,3.871,3.85,2.833,4.357,4.691,1.099,5.74,3.829,1.609,1.099,4.554,3.258,6.28,4.673,2.398,4.19,1.386,0.693,4.443,5.037,3.85,2.303,1.946,2.565,3.738,1.946,4.263,4.407,1.609,4.369,1.099,3.434,3.091,1.386,4.754,2.303,4.263,4.143,0.693,4.511,4.317,3.178,3.912,3.091,4.635,0.693,3.912,3.296,6.579,3.332,3.332,3.401,3.807,4.431,2.079,3.219,4.407,4.663,4.86,4.127,4.787,2.197,3.85,4.564,4.248,3.401,3.135,4.575,4.754,5.371,3.135,4.143,4.369,2.833,5.193,2.944,5.472,2.773,4.554,4.682,2.303,2.944,1.609,4.86,5.72,2.079,3.091,2.197,2.996,2.996,3.332,1.386,4.331,3.332,4.419,4.159,2.565,3.434,3.296,4.111,1.099,4.078,3.332,3.434,5.82,1.946,1.792,6.001,3.258,1.386,2.639,1.099,4.477,5.389,4.7,5.165,3.85,0.0,6.127,4.875,3.689,3.689,3.258,3.807,2.303,4.522,4.263,2.398,3.611,3.296,3.871,3.332,3.761,2.565,3.497,2.89,3.555,5.147,4.905,2.639,5.999,2.89,4.331,2.079,2.079,2.708,2.303,2.398,4.22,2.639,3.871,2.708,0.693,6.05,2.197,1.946,3.091,4.71,5.881,1.792,1.792,6.935,4.29,2.89,3.091,7.503,5.043,3.045,3.219,5.069,3.178,1.792,6.043,6.349,0.0,2.079,5.717,2.079,2.996,0.0,4.06,2.303,3.85,4.977,5.303,4.787,3.401,4.331,4.369,0.0,3.912,4.007,5.403,4.942,2.708,0.693,3.784,1.099,1.946,4.585,0.0,4.844,6.532,4.143,5.136,3.807,4.905,3.135,1.099,1.792,2.833,1.386,5.743,4.454,4.304,2.708,4.443,4.466,4.369,4.787,1.386,2.079,4.369,3.738,3.714,4.174,4.836,2.565,3.401,3.829,3.761,5.68,4.205,2.833,5.58,2.398,4.543,5.187,0.0,4.369,3.611,0.693,3.367,4.143,3.219,1.099,4.7,5.421,4.779,3.829,4.043,2.079,4.997,5.771,3.091,4.007,4.949,4.5,1.609,1.386,1.609,3.045,4.19,1.609,4.682,3.466,2.773,2.197,0.693,2.303,6.375,5.308,3.761,4.06,3.584,3.434,3.091,4.205,2.565,4.043,3.296,2.773,4.913,3.219,3.258,3.135,3.584,2.565,0.0,3.584,4.394,2.079,2.197,2.398,7.419,4.5,5.231,5.352,6.071,5.753,0.0,4.466,2.708,2.773,3.401,2.079,3.829,2.197,4.407,3.611,1.946,2.565,5.231,3.738,3.434,3.989,2.303,1.609,4.078,0.693,1.609,2.996,4.394,0.0,3.045,4.394,0.0,3.989,4.673,4.277,3.258,4.357,4.127,4.454,4.82,2.996,6.165,4.654,2.398,3.219,3.045,4.317,2.485,4.682,2.833,2.833,3.97,3.045,5.58,3.932,2.944,3.989,4.898,3.738,2.944,4.754,2.996,2.079,2.639,2.773,3.689,2.773,3.178,3.932,3.466,3.738,4.489,3.367,3.135,5.112,4.094,2.303,4.852,0.0,3.367,2.639,3.664,3.135,5.063,3.611,3.97,4.575,5.147,2.708,5.024,3.555,3.555,3.932,2.565,0.0,5.043,3.045,3.761,3.638,3.258,3.664,1.099,2.398,3.296,6.17,3.332,2.89,3.178,2.944,3.332,5.717,2.773,2.079,4.625,4.844,4.357,5.056,3.367,4.263,4.205,3.892,3.829,2.303,4.615,2.485,5.118,3.989,2.565,4.078,5.268,2.944,4.263,6.071,0.693,2.833,3.829,4.143,5.945,2.833,3.296,2.197,3.714,2.833,4.585,5.71,2.303,5.537,3.045,4.127,4.454,4.06,4.369,2.708,4.691,2.398,2.303,2.079,3.135,4.234,3.526,6.045,2.639,4.454,3.912,2.079,2.89,3.871,3.555,2.944,3.738,4.174,3.951,2.89,2.833,3.091,5.371,3.258,5.088,2.485,3.784,4.745,2.708,2.303,1.386,4.078,3.784,4.949,3.584,2.079,4.533,6.035,1.609,5.147,3.296,1.792,5.38,2.708,3.091,4.19,4.317,5.69,5.182,3.219,3.611,4.357,4.575,4.812,3.932,1.386,4.691,4.905,3.526,5.13,3.466,2.639,4.407,3.892,4.394,3.638,5.13,3.761,4.369,3.296,5.829,3.497,3.219,3.829,4.836,4.419,3.135,2.303,3.97,3.178,2.079,5.159,3.045,4.466,4.06,2.773,4.844,3.258,4.984,3.555,5.505,2.944,4.595,3.135,3.296,3.689,4.575,5.371,4.277,5.273,3.135,3.784,2.565,2.944,4.357,2.944,4.522,4.078,4.263,2.398,4.977,5.226,4.127,4.143,4.595,2.079,3.689,4.043,3.332,4.984,1.609,4.357,3.135,4.564,1.792,4.143,5.112,4.025,3.892,2.773,4.682,4.635,3.951,2.565,2.485,4.419,6.138,2.197,3.219,1.792,4.094,3.219,2.773,5.268,4.043,1.099,3.367,3.664,2.079,1.792,2.197,3.97,6.342,4.5,2.485,2.639,5.268,0.0,4.898,3.332,2.996,3.871,3.892,5.814,2.079,2.565,2.303,4.644,3.045,4.625,2.485,4.094,3.761,3.332,4.443,1.792,4.644,3.738,2.996,4.143,3.761,3.638,3.497,5.273,5.247,3.401,1.099,3.135,3.526,5.746,3.714,4.143,3.219,0.0,3.332,3.178,2.197,4.317,3.555,2.485,5.771,4.956,4.762,3.219,4.043,4.248,1.946,2.708,5.333,5.908,4.905,4.779,5.153,3.091,5.283,2.197,4.043,2.833,4.727,3.434,1.946,3.434,3.807,2.398,2.565,5.855,3.664,3.497,3.135,4.094,2.833,4.905,2.565,2.303,1.946,4.331,2.485,3.555,2.565,3.584,4.234,4.043,5.17,3.332,3.178,3.584,4.078,4.564,3.689,3.829,2.303,4.522,2.708,4.277,1.099,3.332,4.007,2.89,5.106,0.0,5.328,2.996,2.197,4.007,1.609,4.615,4.533,4.394,3.135,4.7,2.639,2.398,3.332,4.331,4.934,2.996,3.401,1.946,4.094,3.497,5.717,4.745,5.817,3.135,2.89,4.644,1.946,1.099,3.555,5.106,5.182,4.174,4.956,4.078,3.332,2.773,2.944,3.664,2.708,4.7,3.296,3.045,3.296,4.771,2.833,2.485,2.944,3.761,5.004,3.258,4.804,4.997,3.497,2.89,3.401,3.332,1.946,2.996,4.762,3.714,2.398,3.045,3.296,2.197,2.833,4.06,2.773,3.135,3.434,3.258,2.197,1.946,3.807,3.892,3.807,2.398,1.609,1.099,5.075,3.555,3.664,4.92,2.996,3.219,3.497,4.99,4.5,2.485,2.398,3.555,0.693,6.428,5.004,2.708,2.398,3.332,5.796,2.303,2.708,3.989,2.398,4.71,4.673,2.773,5.861,2.565,5.455,3.714,2.773,4.407,1.609,4.796,4.997,4.454,5.338,2.708,3.664,3.85,5.142,4.431,3.401,3.738,2.398,3.526,3.664,2.996,5.081,4.19,3.664,3.091,3.332,3.434,2.773,1.792,2.708,5.489,5.521,4.963,4.454,4.19,3.638,3.332,4.522,1.792,5.434,3.045,5.328,1.792,2.639,3.466,4.443,6.17,3.989,5.347,4.025,1.386,1.792,2.303,6.992,5.645,2.079,5.308,4.71,4.344,1.946,3.951,3.178,5.778,2.565,3.761,3.784,3.738,4.174,2.485,1.386,5.011,3.367,5.176,6.105,4.22,6.378,2.565,0.0,5.366,4.605,8.539,3.045,5.521,3.219,3.555,4.06,3.045,4.304,4.812,3.526,2.197,5.05,2.303,5.075,3.526,2.708,4.277,1.099,5.069,1.609,5.112,2.708,3.784,3.829,3.951,4.19,5.298,3.332,4.898,3.829,3.258,4.19,3.689,3.091,1.946,2.398,5.347,1.609,1.099,3.332,3.258,3.892,3.951,1.792,7.241,3.829,3.714,7.069,4.644,3.219,3.951,3.367,3.178,3.912,4.06,3.367,3.258,5.004,3.434,3.714,5.762,5.056,5.481,3.178,1.099,4.174,5.58,5.557,3.738,6.361,1.946,1.792,3.664,0.693,3.611,3.664,3.178,2.996,2.303,4.466,4.625,4.718,2.197,4.205,4.682,4.078,4.605,2.485,1.946,3.045,5.263,3.714,4.094,4.727,4.19,5.165,3.689,3.912,4.745,3.555,4.99,4.369,2.708,2.197,2.079,4.718,3.738,2.303,2.773,4.949,4.682,4.317,2.996,2.079,4.71,4.357,3.97,4.663,4.71,1.609,3.951,4.963,2.833,3.434,4.007,3.367,2.303,3.497,3.367,4.159,5.403,2.079,5.037,3.466,3.296,5.635,2.197,2.773,3.85,4.615,5.468,4.605,4.111,1.609,4.127,7.401,4.963,1.099,2.565,2.833,4.654,3.497,5.193,4.762,2.996,4.466,2.079,4.615,3.178,3.434,4.812,3.584,2.079,2.485,5.553,3.332,3.219,2.708,5.088,4.094,4.5,3.434,2.639,1.792,4.852,3.045,4.263,1.792,4.094,2.89,3.434,2.89,0.0,3.85,1.792,2.197,2.398,3.497,3.689,4.007,4.762,3.611,4.234,6.256,2.079,1.386,1.386,4.19,2.398,3.829,4.025,4.836,4.078,2.639,1.946,4.934,5.226,3.807,5.649,1.609,5.852,4.29,4.466,3.219,5.204,2.996,4.605,2.079,4.29,4.663,3.989,5.247,2.639,3.761,3.091,4.575,6.361,2.639,4.82,5.308,3.367,3.296,5.403,1.099,0.0,5.412,2.833,4.92,2.833,5.932,2.485,2.197,1.609,2.197,3.466,4.007,3.932,4.143,4.533,5.624,4.248,2.996,5.521,3.689,4.654,4.094,3.091,6.853,1.386,3.611,2.773,5.193,5.451,1.792,4.812,4.277,4.489,3.761,5.58,1.946,3.367,3.738,2.833,2.303,2.89,2.565,3.401,4.92,2.197,2.639,3.829,4.942,3.829,3.401,2.833,4.787,1.946,1.792,2.944,3.367,5.263,5.247,1.946,2.303,6.41,5.1,4.673,6.666,5.687,4.554,4.007,4.22,3.135,2.485,4.234,4.585,2.89,2.773,1.386,2.833,2.485,5.283,5.642,6.878,2.89,5.361,5.361,4.159,4.127,6.23,5.793,2.89,2.303,2.944,3.466,4.263,4.654,1.609,4.263,4.71,5.984,5.872,1.386,4.025,3.85,2.303,4.043,4.727,5.313,2.944,2.773,4.304,4.234,6.038,4.844,1.386,3.497,2.485,3.367,5.568,5.425,0.0,4.812,3.178,2.833,1.792,5.71,4.585,3.367,2.944,5.916,1.099,5.17,5.063,5.017,3.951,4.625,3.85,3.912,3.219,1.946,0.693,7.892,4.394,2.996,1.386,1.099,2.773,2.996,3.258,4.522,3.045,4.89,2.565,3.97,4.804,3.178,5.011,3.714,2.079,2.996,3.332,2.773,5.147,4.654,1.946,0.693,3.434,3.258,3.401,7.64,3.332,5.226,4.615,3.367,5.455,3.892,4.382,4.836,3.367,5.533,3.401,1.386,5.056,4.585,4.5,2.639,6.34,5.112,4.812,4.111,4.304,4.575,3.738,5.553,1.946,0.693,5.966,2.708,5.781,2.565,3.871,4.263,4.22,2.079,4.868,3.091,5.298,2.079,4.718,5.79,5.835,3.091,5.974,0.0,3.332,5.278,4.913,5.844,3.219,5.823,2.303,4.263,3.932,5.46,3.611,3.332,5.557,3.85,2.303,4.263,6.136,3.807,4.99,5.308,5.268,2.833,3.989,4.094,4.489,4.078,3.258,4.234,2.89,4.489,1.609,3.401,3.714,5.46,3.638,2.944,4.263,4.625,1.609,2.398,3.045,1.792,3.664,4.905,1.609,6.968,3.951,2.197,4.094,4.762,3.555,3.714,3.296,1.792,2.708,1.099,3.401,1.792,3.829,0.693,2.639,4.382,1.792,7.032,2.485,2.565,5.948,4.043,3.784,2.485,3.829,2.398,5.442,5.537,3.367,3.97,1.386,4.143,3.871,2.565,3.367,0.693,4.248,3.367,4.787,2.833,3.738,3.664,4.205,1.792,4.682,1.386,4.927,4.977,4.868,2.565,5.961,3.045,3.332,4.963,2.197,4.836,2.996,4.174,4.094,4.06,2.398,1.792,3.871,2.398,1.386,4.595,3.584,4.97,4.248,2.565,4.533,3.332,3.85,4.804,3.829,2.833,2.398,3.97,2.708,2.89,1.792,2.996,2.303,1.946,3.497,4.29,3.135,6.211,3.761,4.007,4.691,4.564,2.996,5.858,4.234,2.833,5.106,2.197,3.401,8.643,3.296,4.466,2.485,4.344,3.807,4.043,4.357,3.784,2.303,2.398,4.844,3.714,2.833,4.466,2.303,5.897,3.526,5.136,1.099,2.639,4.143,2.944,2.996,4.927,3.989,4.344,2.485,3.714,4.078,3.296,5.743,1.609,5.257,2.565,4.394,3.584,1.792,3.611,3.526,5.043,2.89,3.466,2.833,2.398,4.277,5.366,2.079,3.664,4.419,1.386,3.689,4.094,3.258,4.304,4.344,4.745,5.037,7.014,4.883,2.485,5.193,2.996,4.804,3.497,2.996,2.996,3.434,4.19,6.096,4.796,6.315,5.024,4.205,4.111,3.555,3.871,1.946,4.7,3.951,6.217,5.966,3.296,4.779,4.828,7.298,4.19,1.609,1.099,6.096,2.485,5.303,3.091,4.543,1.099,4.331,4.956,3.332,4.234,4.736,3.219,5.583,5.468,4.745,5.999,4.043,1.609,5.043,3.738,4.407,4.644,4.248,0.0,3.258,3.989,3.714,3.296,3.892,6.087,3.85,3.497,1.609,2.708,4.043,4.977,3.135,3.401,3.258,4.682,3.85,2.398,3.219,1.099,3.135,1.099,2.079,3.555,4.205,4.615,4.605,2.833,4.094,3.332,3.555,4.431,4.575,5.283,3.045,3.807,4.369,0.0,2.639,3.045,3.332,4.407,4.663,2.708,4.844,2.773,4.625,4.431,3.091,3.951,3.367,4.29,2.197,4.22,2.565,4.382,3.258,2.639,5.38,4.205,4.511,3.332,2.996,3.135,5.832,5.602,3.091,4.263,4.007,4.828,1.946,6.565,1.386,3.367,4.615,3.296,3.664,1.609,1.609,4.7,2.398,3.135,1.099,4.533,1.792,2.773,3.367,4.127,3.045,2.944,4.511,5.357,3.932,2.944,5.737,0.0,3.466,2.303,2.565,4.234,4.956,2.197,3.611,2.197,3.738,2.996,3.951,1.609,3.178,4.7,3.555,0.693,5.112,2.197,4.762,1.609,1.609,2.996,2.639,3.135,2.079,4.06,4.828,3.135,3.434,2.639,4.963,2.708,4.595,3.912,3.892,4.357,4.7,3.091,3.526,4.489,3.497,1.792,5.858,4.71,3.784,3.97,2.89,3.85,1.792,1.946,3.526,4.344,2.944,2.303,2.485,3.135,4.407,1.792,2.398,0.693,3.714,5.576,4.143,3.85,3.714,3.892,2.485,2.944,2.773,4.934,1.099,2.996,4.477,4.06,5.318,4.635,3.178,5.268,3.664,5.257,1.946,3.332,5.489,3.434,3.135,4.06,2.485,2.944,7.769,3.85,0.0,3.178,3.611,0.0,3.497,2.773,3.584,4.554,3.738,3.871,3.367,2.303,4.043,2.565,3.555,2.773,4.585,3.555,4.454,2.833,3.178,3.045,3.258,2.996,2.833,1.609,2.197,4.263,1.609,5.389,4.111,2.639,6.213,6.312,2.565,1.946,2.773,3.367,4.736,3.784,4.554,1.386,4.543,3.296,4.883,1.099,4.754,5.268,3.584,2.079,5.71,3.714,2.485,3.434,2.303,0.0,4.431,2.485,4.443,1.946,2.639,1.792,4.29,3.912,2.485,3.738,2.079,3.97,4.997,3.526,4.804,4.585,2.303,3.664,3.85,5.257,3.332,2.079,3.97,1.792,0.693,2.833,5.617,5.677,1.792,4.407,2.303,3.714,4.007,3.367,5.673,3.807,3.219,4.127,0.693,5.919,5.366,1.609,2.197,3.332,4.094,3.401,4.025,5.631,3.219,4.06,4.06,1.946,4.025,2.398,1.946,5.043,4.575,4.043,3.951,3.178,3.178,4.29,4.331,2.398,3.367,3.784,3.807,4.575,4.431,5.231,4.443,0.693,3.912,5.037,3.555,5.666,4.804,2.708,6.238,4.22,5.361,4.19,2.565,4.575,5.081,3.807,4.522,0.0,5.063,1.946,5.73,5.112,2.708,3.296,5.347,2.89,5.22,4.025,2.303,0.0,5.05,1.386,5.088,3.258,6.495,4.673,5.389,5.525,4.419,4.277,3.178,3.714,2.708,3.367,3.332,5.557,4.382,6.544,4.736,4.111,3.367,2.833,4.007,2.639,6.788,3.434,2.944,3.296,0.0,4.727,2.079,1.946,3.97,3.434,5.765,4.043,5.357,4.575,5.024,3.761,3.664,2.565,3.871,4.99,3.784,4.804,3.434,2.197,3.367,3.178,1.609,4.635,4.344,3.091,2.639,3.951,6.016,3.85,0.693,2.833,4.205,4.344,2.565,4.094,2.773,1.792,3.761,1.792,6.047,3.807,1.099,4.605,2.773,5.22,2.944,3.526,4.159,3.892,5.043,4.094,5.118,2.708,3.219,2.708,3.219,6.165,4.779,3.497,5.447,3.951,3.555,3.178,0.693,3.466,3.045,1.792,3.045,3.526,3.85,0.0,3.871,2.398,4.5,1.609,2.197,2.833,4.745,2.565,0.0,3.497,2.485,4.357,4.927,4.736,3.045,5.308,3.497,2.485,4.7,4.357,3.97,2.303,5.112,2.197,2.944,0.693,2.485,4.357,3.091,5.124,2.89,4.454,5.438,1.609,4.762,1.792,4.007,5.323,5.609,1.792,3.97,2.944,3.526,4.762,1.946,6.836,4.852,4.431,4.205,3.638,2.398,3.466,5.707,1.609,4.248,2.639,2.303,3.258,4.263,5.153,2.079,2.197,4.454,1.099,4.127,3.332,4.5,2.996,2.303,5.673,6.004,0.0,3.332,4.949,5.252,3.807,2.197,1.946,3.611,4.111,5.193,2.398,3.296,4.868,2.303,3.219,1.946,2.89,3.045,3.367,2.996,3.761,2.639,4.419,5.583,5.298,3.219,3.526,4.317,2.485,3.738,4.883,2.079,4.585,4.762,4.159,0.0,2.079,5.572,5.7,3.434,3.871,5.273,3.555,4.489,4.89,3.714,3.689,4.277,3.892,4.812,2.833,4.127,3.497,0.0,2.996,4.22,4.745,3.932,3.664,4.19,3.989,5.595,3.912,2.303,3.178,5.118,4.127,3.296,3.85,2.079,2.398,4.927,3.091,4.533,3.091,3.401,4.927,4.382,6.443,2.639,5.236,4.934,6.292,4.99,2.89,2.996,3.689,3.761,6.129,2.708,4.304,4.682,4.787,4.836,4.564,3.367,3.135,3.892,2.89,2.485,2.485,4.443,4.094,3.611,2.398,3.091,4.431,1.386,3.85,4.71,4.304,3.401,5.011,5.421,1.946,5.583,2.944,5.017,2.485,3.689,4.804,4.094,3.178,2.398,3.045,2.485,3.045,4.745,4.304,2.485,1.946,2.89,4.331,0.0,2.639,1.792,0.693,3.367,4.094,2.944,4.575,3.714,4.431,4.575,5.209,3.738,1.946,3.332,4.71,4.382,2.996,2.398,3.555,1.386,5.17,3.178,4.564,4.174,3.892,3.761,4.575,4.718,5.553,3.611,2.639,4.852,3.258,3.951,1.099,6.297,3.466,4.844,6.223,2.197,4.635,5.303,2.079,5.943,3.497,4.407,4.369,5.347,4.543,4.934,4.927,5.198,5.412,3.466,3.332,5.075,3.829,4.263,4.615,4.143,3.332,3.466,2.773,5.485,3.367,4.585,7.028,3.091,4.007,3.664,3.258,4.174,1.792,4.248,3.664,4.419,2.079,5.7,2.303,3.526,4.431,4.248,2.079,4.19,4.796,5.182,4.159,3.135,4.29,4.615,3.497,3.045,3.135,0.0,4.86,0.0,3.045,2.303,5.407,3.434,3.638,5.118,3.664,2.89,3.932,0.0,4.143,2.485,2.303,4.205,3.664,4.331,4.043,3.871,3.332,2.565,1.792,3.434,3.871,2.89,5.835,2.773,3.401,2.079,5.631,3.526,3.401,2.773,3.401,5.318,3.638,2.773,2.398,2.565,4.762,3.689,4.489,4.357,5.826,3.555,3.045,3.611,3.434,3.555,3.401,3.611,4.762,0.0,5.412,3.367,3.091,0.0,2.89,4.762,3.367,4.489,4.852,2.89,2.639,2.996,6.155,0.693,1.792,3.526,4.585,4.443,4.828,1.099,4.234,4.431,3.135,4.06,2.708,2.079,2.398,5.088,2.398,3.332,2.708,3.807,3.434,5.384,5.687,4.205,2.398,1.792,4.898,2.944,2.708,5.147,4.71,2.89,3.555,3.912,4.575,4.143,2.944,4.19,3.829,4.812,3.135,3.714,1.792,3.784,2.639,3.611,2.708,4.431,4.554,4.804,4.564,4.898,2.079,1.792,3.85,3.555,3.611,3.091,3.829,2.996,2.944,4.905,6.485,5.677,3.932,4.511,4.5,2.773,1.946,4.234,3.178,4.812,5.598,2.565,0.693,4.905,2.89,4.779,5.553,4.111,3.807,3.989,4.868,3.219,4.174,3.497,1.792,3.135,4.663,2.833,2.398,5.112,4.635,2.079,2.833,4.771,4.369,2.996,3.296,2.398,5.088,3.091,3.714,1.386,3.738,3.611,2.773,2.639,5.017,4.234,2.944,1.099,4.025,2.485,3.611,0.0,4.71,2.89,5.704,5.759,3.664,5.017,3.807,2.303,2.398,2.89,4.949,4.344,2.708,3.761,0.693,3.611,4.443,5.403,2.197,4.043,2.079,3.332,4.543,3.664,3.434,3.526,4.691,4.19,6.455,4.644,4.344,1.609,3.951,3.932,2.89,4.844,4.234,4.762,5.398,4.522,4.691,4.804,1.609,3.135,4.682,3.434,4.585,3.497,4.043,4.394,1.386,3.526,3.761,5.79,4.419,5.328,4.407,4.277,3.367,5.226,4.043,2.303,3.135,1.609,4.078,5.124,5.442,3.784,3.401,3.434,1.946,3.85,4.263,4.554,3.912,5.911,2.89,1.609,3.045,5.866,2.197,0.693,1.792,4.331,2.079,2.833,4.673,4.883,5.642,3.178,5.142,4.431,4.143,1.099,3.526,2.944,3.689,2.398,2.639,0.693,4.595,4.7,2.197,5.308,4.883,3.466,1.099,4.407,5.438,4.984,0.693,5.142,5.1,2.565,2.89,5.82,3.332,4.984,2.833,3.555,3.97,2.89,2.944,3.219,3.738,3.367,3.664,4.025,3.912,4.477,4.554,4.913,2.708,2.944,2.398,4.431,4.419,1.386,1.099,2.565,2.565,5.069,3.555,4.71,1.792,2.833,3.689,2.565,5.05,5.67,5.209,2.708,2.639,2.833,3.401,4.344,1.386,5.17,3.434,3.989,3.807,1.609,1.099,3.219,6.83,5.525,3.466,2.833,4.431,3.951,2.833,5.333,2.398,6.131,4.043,3.434,2.944,1.099,2.89,3.555,1.609,4.836,4.466,4.043,3.738,3.332,2.197,1.792,2.639,3.332,2.079,2.565,3.497,2.303,5.375,3.296,3.97,4.443,2.485,1.946,2.303,4.127,3.401,3.367,3.526,5.147,5.62,1.792,2.303,4.19,3.401,3.258,3.497,1.609,4.564,2.639,2.197,3.367,1.609,3.871,3.135,5.187,2.996,4.762,4.094,5.024,2.197,4.234,4.543,3.912,2.485,3.526,3.296,4.127,2.639,2.944,3.178,4.771,4.234,3.367,5.553,4.29,5.257,2.079,0.693,2.773,2.197,3.466,3.951,2.996,5.05,5.529,1.792,4.736,4.533,4.489,5.094,1.099,2.303,3.784,3.401,5.624,4.127,6.299,4.127,2.565,2.485,1.099,4.078,2.303,3.045,1.609,5.73,4.97,5.598,4.812,3.296,4.369,5.976,3.091,6.082,6.428,4.466,2.944,0.693,5.288,3.784,5.278,3.219,3.611,5.416,3.738,4.977,5.182,3.784,5.572,6.486,4.407,3.332,3.951,4.754,0.0,0.0,2.565,0.0,5.247,5.464,5.872,6.096,3.738,4.234,4.554,3.219,2.197,3.526,0.693,5.106,2.565,1.946,3.091,3.738,2.565,4.143,3.135,6.551,0.0,3.526,5.398,3.989,3.638,4.942,5.537,3.258,3.871,5.056,4.263,3.871,2.773,5.802,4.078,2.833,5.209,1.099,4.997,1.609,4.533,5.749,2.485,2.773,5.628,4.19,2.89,5.05,4.317,3.178,4.094,4.585,4.533,4.205,3.135,5.004,2.708,3.332,2.708,6.054,5.765,3.332,4.454,5.242,3.258,3.638,3.258,3.332,3.091,2.079,2.398,3.135,2.485,3.85,3.178,2.303,2.398,5.106,3.219,5.583,4.754,4.143,5.935,2.398,2.485,2.639,2.079,2.944,2.996,2.197,2.944,0.693,2.303,3.951,1.792,3.258,2.398,4.844,4.92,1.946,5.631,4.718,5.05,1.099,5.159,0.0,3.664,3.611,3.258,4.564,3.584,4.905,5.226,4.575,3.807,4.127,3.611,5.056,4.812,4.369,3.784,4.025,6.5,5.293,4.454,4.942,2.89,6.301,4.605,2.079,3.401,4.043,4.913,2.197,4.852,5.787,4.007,6.439,4.394,2.639,1.792,5.318,4.344,3.97,6.787,3.871,3.784,4.111,4.025,5.46,5.72,5.624,3.497,5.517,3.045,2.944,4.094,3.738,4.454,2.773,0.0,3.989,3.219,2.773,2.773,1.946,4.615,2.639,1.946,3.258,3.332,3.045,3.434,3.738,3.714,0.693,3.664,4.489,4.394,3.091,4.963,5.991,4.787,1.099,4.852,1.946,2.485,0.0,4.533,3.611,2.485,1.386,3.135,5.13,3.892,3.761,3.784,3.951,2.398,2.708,4.277,5.366,5.529,2.773,5.429,1.946,1.099,2.197,1.386,4.997,0.693,2.398,3.091,3.332,3.401,3.332,4.317,3.091,2.708,4.234,4.575,4.625,1.792,3.091,3.091,4.174,3.761,5.759,5.73,3.738,4.419,2.565,4.419,4.127,6.242,1.609,4.595,4.234,4.357,4.111,5.69,4.963,4.127,4.942,5.159,4.344,3.219,3.332,0.693,2.079,4.143,4.394,3.951,5.004,5.226,4.564,4.745,4.111,5.273,4.82,2.639,4.304,3.871,5.352,4.174,3.738,0.0,4.5,6.031,4.754,2.485,3.367,4.812,3.664,2.197,2.303,3.555,2.89,1.946,2.197,3.434,3.555,5.513,2.639,4.898,3.296,3.135,3.951,3.178,6.168,2.89,2.708,3.871,3.555,4.394,2.197,2.639,2.639,3.135,2.996,2.565,4.205,4.615,5.434,4.644,1.609,4.97,2.303,2.485,3.989,2.773,2.708,4.454,1.386,4.143,2.708,4.382,4.828,3.135,4.29,0.693,2.303,4.431,4.094,2.944,5.464,3.466,3.367,3.367,4.564,3.638,4.997,4.043,2.565,1.946,5.352,1.386,5.056,4.615,2.197,5.602,3.219,6.146,4.127,3.296,3.871,3.045,3.85,5.338,3.85,4.234,6.275,3.555,3.219,2.639,3.367,4.654,2.944,6.319,2.708,3.689,5.958,3.434,2.197,3.989,4.234,4.025,3.611,4.454,2.89,4.71,4.304,2.773,4.754,2.485,3.135,4.804,4.29,3.611,1.792,4.736,3.219,4.234,2.708,2.197,4.489,5.673,3.784,4.804,4.942,4.644,4.564,0.0,4.883,4.22,3.892,3.401,4.007,4.078,4.369,3.97,4.19,2.485,4.007,2.639,3.178,4.875,6.155,2.197,4.29,4.595,5.273,3.892,1.792,3.497,1.792,0.0,3.332,2.398,6.256,6.581,2.197,6.009,5.056,2.833,3.434,4.419,6.18,0.0,5.361,2.079,4.248,3.296,2.079,2.773,2.944,3.784,4.06,2.708,4.828,3.367,3.555,6.006,6.142,3.497,4.673,3.497,4.454,5.525,4.043,3.332,4.234,3.178,6.001,4.357,4.691,0.693,3.892,2.708,3.807,3.332,4.331,2.708,5.361,1.099,4.025,1.386,3.296,4.489,3.638,5.328,4.078,3.466,5.288,4.407,4.71,0.693,2.565,4.159,3.714,4.19,1.792,2.639,5.595,3.401,5.328,3.401,4.762,3.258,3.761,5.602,0.693,5.793,3.664,2.639,3.761,3.871,3.989,4.898,2.197,2.833,1.609,4.905,0.0,4.905,2.197,3.584,5.62,5.817,4.605,2.944,4.111,2.079,2.833,2.944,3.989,4.71,3.367,4.663,3.296,5.338,2.197,3.714,1.609,4.477,4.357,5.159,2.639,3.367,4.407,3.045,3.178,3.367,4.331,4.691,2.485,3.296,2.303,2.833,3.689,1.609,2.89,3.332,3.638,4.844,3.951,2.639,4.477,3.091,5.897,2.996,6.87,4.654,1.792,3.689,4.466,4.905,2.398,4.407,3.401,3.807,4.29,3.497,1.792,2.197,2.944,3.85,5.533,5.966,2.639,2.197,2.565,1.099,4.304,2.197,3.219,3.219,4.949,1.609,1.792,3.738,3.664,3.892,0.693,4.477,4.654,1.792,3.526,3.296,3.807,4.143,3.892,4.956,5.106,3.367,5.602,2.485,3.219,2.079,5.996,1.609,3.912,3.807,6.084,3.367,3.555,5.338,3.135,5.533,5.278,5.056,5.357,3.912,4.407,5.58,4.007,2.565,2.197,6.312,2.398,4.143,4.025,5.451,6.34,4.905,5.724,4.585,2.639,1.099,4.205,4.304,1.386,3.258,3.497,3.912,5.724,1.609,4.812,3.258,3.664,4.248,5.69,2.996,3.555,1.946,1.609,3.689,2.079,5.056,3.932,1.946,4.511,3.951,2.079,5.447,5.557,3.784,3.091,4.511,4.407,2.944,5.063,3.638,4.454,3.761,2.89,4.762,2.708,4.22,2.398,3.97,4.7,5.384,3.296,6.558,4.344,5.714,2.773,3.401,2.398,4.771,2.708,4.844,5.656,5.529,2.944,3.829,2.773,2.708,3.555,4.745,2.944,2.079,4.956,3.178,4.304,4.007,3.434,4.635,5.945,1.609,3.526,1.946,3.135,3.367,2.303,0.0,5.501,1.792,5.613,3.912,4.745,2.303,3.689,5.257,4.19,5.106,5.384,4.205,2.89,3.555,3.761,6.537,3.219,2.303,4.575,3.85,2.708,4.913,1.792,0.0,3.555,5.215,0.0,4.489,6.607,6.001,4.5,3.219,2.944,0.0,4.263,4.025,3.045,4.585,5.717,3.638,3.989,3.912,5.03,1.099,5.247,4.394,2.485,4.205,2.565,4.22,4.852,1.609,2.639,5.242,2.303,3.951,3.807,4.394,4.71,6.001,4.635,4.942,2.303,3.761,4.111,6.719,4.89,5.852,2.833,3.497,3.871,2.565,5.371,4.205,3.401,3.135,0.693,4.111,4.078,3.178,5.088,4.762,3.951,8.946,3.611,1.609,0.0,3.932,3.258,5.694,3.178,2.708,2.833,2.708,3.989,5.283,3.135,3.951,5.389,2.398,4.997,4.5,5.914,2.197,4.22,3.689,5.598,2.303,3.761,3.829,2.485,3.258,1.792,3.258,2.079,4.956,4.727,3.97,4.625,2.303,4.174,2.996,4.511,3.526,3.332,2.708,5.257,2.708,0.693,4.682,3.332,3.434,1.792,2.944,3.526,3.497,2.485,3.989,3.664,3.611,4.06,4.317,4.522,3.135,6.5,4.956,0.0,3.434,0.0,3.045,3.135,1.609,3.664,4.174,4.5,3.045,3.367,4.277,3.761,2.485,2.89,0.693,0.693,2.996,2.197,0.0,4.248,4.263,2.996,6.168,2.944,0.0,3.434,1.946,3.258,5.517,3.526,4.585,5.784,4.22,3.738,4.394,2.639,3.367,3.401,2.708,5.106,5.68,4.043,3.045,2.485,4.927,3.401,3.871,3.045,0.0,2.565,3.638,3.367,1.609,4.369,0.693,5.1,4.511,4.043,3.611,3.97,3.091,3.401,3.434,2.639,3.332,3.434,3.401,3.829,4.804,1.099,3.367,1.609,5.1,3.045,3.045,2.197,1.609,3.497,4.7,3.892,4.543,2.944,2.944,6.127,1.946,4.745,4.844,3.761,1.946,1.609,2.996,5.881,2.944,1.099,2.944,3.829,3.296,1.946,4.92,2.303,3.611,0.0,6.125,3.219,2.89,4.277,2.565,4.956,5.407,3.367,4.812,0.693,2.833,4.248,0.0,3.367,1.946,0.693,3.611,4.489,3.584,4.248,3.045,5.278,4.663,2.944,3.689,6.066,3.638,2.89,3.611,2.833,6.089,3.611,3.258,0.0,3.332,5.916,4.277,7.141,3.367,2.833,3.434,5.878,3.526,5.257,3.951,3.829,2.639,4.248,0.0,2.996,3.638,2.079,5.069,2.708,4.111,3.761,5.398,2.303,1.946,2.773,3.611,3.638,3.045,3.219,4.804,3.526,3.135,3.664,4.382,3.178,2.303,3.611,4.868,2.197,3.638,3.989,5.242,3.434,0.0,3.401,4.29,4.575,4.5,4.779,3.714,3.611,0.0,2.833,4.263,4.22,2.708,1.946,3.807,2.773,1.946,4.934,5.069,3.401,4.22,2.944,5.257,3.466,2.079,4.898,3.738,3.526,2.708,2.565,3.258,3.434,2.996,4.736,0.693,4.159,2.944,5.606,2.303,5.595,5.489,1.609,3.401,5.1,4.454,4.812,3.611,0.0,4.644,3.892,4.111,4.477,1.792,4.644,4.357,5.165,1.386,3.85,2.079,3.045,2.773,4.543,1.792,4.771,3.738,4.89,3.045,2.565,4.111,3.829,0.0,1.946,2.398,5.112,1.099,2.398,2.639,2.079,2.197,2.303,1.946,2.485,6.581,4.248],\"xaxis\":\"x2\",\"yaxis\":\"y2\",\"type\":\"box\"}],                        {\"template\":{\"data\":{\"histogram2dcontour\":[{\"type\":\"histogram2dcontour\",\"colorbar\":{\"outlinewidth\":0,\"ticks\":\"\"},\"colorscale\":[[0.0,\"#0d0887\"],[0.1111111111111111,\"#46039f\"],[0.2222222222222222,\"#7201a8\"],[0.3333333333333333,\"#9c179e\"],[0.4444444444444444,\"#bd3786\"],[0.5555555555555556,\"#d8576b\"],[0.6666666666666666,\"#ed7953\"],[0.7777777777777778,\"#fb9f3a\"],[0.8888888888888888,\"#fdca26\"],[1.0,\"#f0f921\"]]}],\"choropleth\":[{\"type\":\"choropleth\",\"colorbar\":{\"outlinewidth\":0,\"ticks\":\"\"}}],\"histogram2d\":[{\"type\":\"histogram2d\",\"colorbar\":{\"outlinewidth\":0,\"ticks\":\"\"},\"colorscale\":[[0.0,\"#0d0887\"],[0.1111111111111111,\"#46039f\"],[0.2222222222222222,\"#7201a8\"],[0.3333333333333333,\"#9c179e\"],[0.4444444444444444,\"#bd3786\"],[0.5555555555555556,\"#d8576b\"],[0.6666666666666666,\"#ed7953\"],[0.7777777777777778,\"#fb9f3a\"],[0.8888888888888888,\"#fdca26\"],[1.0,\"#f0f921\"]]}],\"heatmap\":[{\"type\":\"heatmap\",\"colorbar\":{\"outlinewidth\":0,\"ticks\":\"\"},\"colorscale\":[[0.0,\"#0d0887\"],[0.1111111111111111,\"#46039f\"],[0.2222222222222222,\"#7201a8\"],[0.3333333333333333,\"#9c179e\"],[0.4444444444444444,\"#bd3786\"],[0.5555555555555556,\"#d8576b\"],[0.6666666666666666,\"#ed7953\"],[0.7777777777777778,\"#fb9f3a\"],[0.8888888888888888,\"#fdca26\"],[1.0,\"#f0f921\"]]}],\"heatmapgl\":[{\"type\":\"heatmapgl\",\"colorbar\":{\"outlinewidth\":0,\"ticks\":\"\"},\"colorscale\":[[0.0,\"#0d0887\"],[0.1111111111111111,\"#46039f\"],[0.2222222222222222,\"#7201a8\"],[0.3333333333333333,\"#9c179e\"],[0.4444444444444444,\"#bd3786\"],[0.5555555555555556,\"#d8576b\"],[0.6666666666666666,\"#ed7953\"],[0.7777777777777778,\"#fb9f3a\"],[0.8888888888888888,\"#fdca26\"],[1.0,\"#f0f921\"]]}],\"contourcarpet\":[{\"type\":\"contourcarpet\",\"colorbar\":{\"outlinewidth\":0,\"ticks\":\"\"}}],\"contour\":[{\"type\":\"contour\",\"colorbar\":{\"outlinewidth\":0,\"ticks\":\"\"},\"colorscale\":[[0.0,\"#0d0887\"],[0.1111111111111111,\"#46039f\"],[0.2222222222222222,\"#7201a8\"],[0.3333333333333333,\"#9c179e\"],[0.4444444444444444,\"#bd3786\"],[0.5555555555555556,\"#d8576b\"],[0.6666666666666666,\"#ed7953\"],[0.7777777777777778,\"#fb9f3a\"],[0.8888888888888888,\"#fdca26\"],[1.0,\"#f0f921\"]]}],\"surface\":[{\"type\":\"surface\",\"colorbar\":{\"outlinewidth\":0,\"ticks\":\"\"},\"colorscale\":[[0.0,\"#0d0887\"],[0.1111111111111111,\"#46039f\"],[0.2222222222222222,\"#7201a8\"],[0.3333333333333333,\"#9c179e\"],[0.4444444444444444,\"#bd3786\"],[0.5555555555555556,\"#d8576b\"],[0.6666666666666666,\"#ed7953\"],[0.7777777777777778,\"#fb9f3a\"],[0.8888888888888888,\"#fdca26\"],[1.0,\"#f0f921\"]]}],\"mesh3d\":[{\"type\":\"mesh3d\",\"colorbar\":{\"outlinewidth\":0,\"ticks\":\"\"}}],\"scatter\":[{\"fillpattern\":{\"fillmode\":\"overlay\",\"size\":10,\"solidity\":0.2},\"type\":\"scatter\"}],\"parcoords\":[{\"type\":\"parcoords\",\"line\":{\"colorbar\":{\"outlinewidth\":0,\"ticks\":\"\"}}}],\"scatterpolargl\":[{\"type\":\"scatterpolargl\",\"marker\":{\"colorbar\":{\"outlinewidth\":0,\"ticks\":\"\"}}}],\"bar\":[{\"error_x\":{\"color\":\"#2a3f5f\"},\"error_y\":{\"color\":\"#2a3f5f\"},\"marker\":{\"line\":{\"color\":\"#E5ECF6\",\"width\":0.5},\"pattern\":{\"fillmode\":\"overlay\",\"size\":10,\"solidity\":0.2}},\"type\":\"bar\"}],\"scattergeo\":[{\"type\":\"scattergeo\",\"marker\":{\"colorbar\":{\"outlinewidth\":0,\"ticks\":\"\"}}}],\"scatterpolar\":[{\"type\":\"scatterpolar\",\"marker\":{\"colorbar\":{\"outlinewidth\":0,\"ticks\":\"\"}}}],\"histogram\":[{\"marker\":{\"pattern\":{\"fillmode\":\"overlay\",\"size\":10,\"solidity\":0.2}},\"type\":\"histogram\"}],\"scattergl\":[{\"type\":\"scattergl\",\"marker\":{\"colorbar\":{\"outlinewidth\":0,\"ticks\":\"\"}}}],\"scatter3d\":[{\"type\":\"scatter3d\",\"line\":{\"colorbar\":{\"outlinewidth\":0,\"ticks\":\"\"}},\"marker\":{\"colorbar\":{\"outlinewidth\":0,\"ticks\":\"\"}}}],\"scattermapbox\":[{\"type\":\"scattermapbox\",\"marker\":{\"colorbar\":{\"outlinewidth\":0,\"ticks\":\"\"}}}],\"scatterternary\":[{\"type\":\"scatterternary\",\"marker\":{\"colorbar\":{\"outlinewidth\":0,\"ticks\":\"\"}}}],\"scattercarpet\":[{\"type\":\"scattercarpet\",\"marker\":{\"colorbar\":{\"outlinewidth\":0,\"ticks\":\"\"}}}],\"carpet\":[{\"aaxis\":{\"endlinecolor\":\"#2a3f5f\",\"gridcolor\":\"white\",\"linecolor\":\"white\",\"minorgridcolor\":\"white\",\"startlinecolor\":\"#2a3f5f\"},\"baxis\":{\"endlinecolor\":\"#2a3f5f\",\"gridcolor\":\"white\",\"linecolor\":\"white\",\"minorgridcolor\":\"white\",\"startlinecolor\":\"#2a3f5f\"},\"type\":\"carpet\"}],\"table\":[{\"cells\":{\"fill\":{\"color\":\"#EBF0F8\"},\"line\":{\"color\":\"white\"}},\"header\":{\"fill\":{\"color\":\"#C8D4E3\"},\"line\":{\"color\":\"white\"}},\"type\":\"table\"}],\"barpolar\":[{\"marker\":{\"line\":{\"color\":\"#E5ECF6\",\"width\":0.5},\"pattern\":{\"fillmode\":\"overlay\",\"size\":10,\"solidity\":0.2}},\"type\":\"barpolar\"}],\"pie\":[{\"automargin\":true,\"type\":\"pie\"}]},\"layout\":{\"autotypenumbers\":\"strict\",\"colorway\":[\"#636efa\",\"#EF553B\",\"#00cc96\",\"#ab63fa\",\"#FFA15A\",\"#19d3f3\",\"#FF6692\",\"#B6E880\",\"#FF97FF\",\"#FECB52\"],\"font\":{\"color\":\"#2a3f5f\"},\"hovermode\":\"closest\",\"hoverlabel\":{\"align\":\"left\"},\"paper_bgcolor\":\"white\",\"plot_bgcolor\":\"#E5ECF6\",\"polar\":{\"bgcolor\":\"#E5ECF6\",\"angularaxis\":{\"gridcolor\":\"white\",\"linecolor\":\"white\",\"ticks\":\"\"},\"radialaxis\":{\"gridcolor\":\"white\",\"linecolor\":\"white\",\"ticks\":\"\"}},\"ternary\":{\"bgcolor\":\"#E5ECF6\",\"aaxis\":{\"gridcolor\":\"white\",\"linecolor\":\"white\",\"ticks\":\"\"},\"baxis\":{\"gridcolor\":\"white\",\"linecolor\":\"white\",\"ticks\":\"\"},\"caxis\":{\"gridcolor\":\"white\",\"linecolor\":\"white\",\"ticks\":\"\"}},\"coloraxis\":{\"colorbar\":{\"outlinewidth\":0,\"ticks\":\"\"}},\"colorscale\":{\"sequential\":[[0.0,\"#0d0887\"],[0.1111111111111111,\"#46039f\"],[0.2222222222222222,\"#7201a8\"],[0.3333333333333333,\"#9c179e\"],[0.4444444444444444,\"#bd3786\"],[0.5555555555555556,\"#d8576b\"],[0.6666666666666666,\"#ed7953\"],[0.7777777777777778,\"#fb9f3a\"],[0.8888888888888888,\"#fdca26\"],[1.0,\"#f0f921\"]],\"sequentialminus\":[[0.0,\"#0d0887\"],[0.1111111111111111,\"#46039f\"],[0.2222222222222222,\"#7201a8\"],[0.3333333333333333,\"#9c179e\"],[0.4444444444444444,\"#bd3786\"],[0.5555555555555556,\"#d8576b\"],[0.6666666666666666,\"#ed7953\"],[0.7777777777777778,\"#fb9f3a\"],[0.8888888888888888,\"#fdca26\"],[1.0,\"#f0f921\"]],\"diverging\":[[0,\"#8e0152\"],[0.1,\"#c51b7d\"],[0.2,\"#de77ae\"],[0.3,\"#f1b6da\"],[0.4,\"#fde0ef\"],[0.5,\"#f7f7f7\"],[0.6,\"#e6f5d0\"],[0.7,\"#b8e186\"],[0.8,\"#7fbc41\"],[0.9,\"#4d9221\"],[1,\"#276419\"]]},\"xaxis\":{\"gridcolor\":\"white\",\"linecolor\":\"white\",\"ticks\":\"\",\"title\":{\"standoff\":15},\"zerolinecolor\":\"white\",\"automargin\":true,\"zerolinewidth\":2},\"yaxis\":{\"gridcolor\":\"white\",\"linecolor\":\"white\",\"ticks\":\"\",\"title\":{\"standoff\":15},\"zerolinecolor\":\"white\",\"automargin\":true,\"zerolinewidth\":2},\"scene\":{\"xaxis\":{\"backgroundcolor\":\"#E5ECF6\",\"gridcolor\":\"white\",\"linecolor\":\"white\",\"showbackground\":true,\"ticks\":\"\",\"zerolinecolor\":\"white\",\"gridwidth\":2},\"yaxis\":{\"backgroundcolor\":\"#E5ECF6\",\"gridcolor\":\"white\",\"linecolor\":\"white\",\"showbackground\":true,\"ticks\":\"\",\"zerolinecolor\":\"white\",\"gridwidth\":2},\"zaxis\":{\"backgroundcolor\":\"#E5ECF6\",\"gridcolor\":\"white\",\"linecolor\":\"white\",\"showbackground\":true,\"ticks\":\"\",\"zerolinecolor\":\"white\",\"gridwidth\":2}},\"shapedefaults\":{\"line\":{\"color\":\"#2a3f5f\"}},\"annotationdefaults\":{\"arrowcolor\":\"#2a3f5f\",\"arrowhead\":0,\"arrowwidth\":1},\"geo\":{\"bgcolor\":\"white\",\"landcolor\":\"#E5ECF6\",\"subunitcolor\":\"white\",\"showland\":true,\"showlakes\":true,\"lakecolor\":\"white\"},\"title\":{\"x\":0.05},\"mapbox\":{\"style\":\"light\"}}},\"xaxis\":{\"anchor\":\"y\",\"domain\":[0.0,1.0],\"title\":{\"text\":\"value\"}},\"yaxis\":{\"anchor\":\"x\",\"domain\":[0.0,0.7326],\"title\":{\"text\":\"count\"}},\"xaxis2\":{\"anchor\":\"y2\",\"domain\":[0.0,1.0],\"matches\":\"x\",\"showticklabels\":false,\"showgrid\":true},\"yaxis2\":{\"anchor\":\"x2\",\"domain\":[0.7426,1.0],\"matches\":\"y2\",\"showticklabels\":false,\"showline\":false,\"ticks\":\"\",\"showgrid\":false},\"legend\":{\"title\":{\"text\":\"variable\"},\"tracegroupgap\":0},\"title\":{\"text\":\"Frequency distribution\"},\"barmode\":\"relative\"},                        {\"responsive\": true}                    ).then(function(){\n",
       "                            \n",
       "var gd = document.getElementById('4e2227dc-2066-4749-b14d-f240fc4a3eab');\n",
       "var x = new MutationObserver(function (mutations, observer) {{\n",
       "        var display = window.getComputedStyle(gd).display;\n",
       "        if (!display || display === 'none') {{\n",
       "            console.log([gd, 'removed!']);\n",
       "            Plotly.purge(gd);\n",
       "            observer.disconnect();\n",
       "        }}\n",
       "}});\n",
       "\n",
       "// Listen for the removal of the full notebook cells\n",
       "var notebookContainer = gd.closest('#notebook-container');\n",
       "if (notebookContainer) {{\n",
       "    x.observe(notebookContainer, {childList: true});\n",
       "}}\n",
       "\n",
       "// Listen for the clearing of the current output cell\n",
       "var outputEl = gd.closest('.output');\n",
       "if (outputEl) {{\n",
       "    x.observe(outputEl, {childList: true});\n",
       "}}\n",
       "\n",
       "                        })                };                });            </script>        </div>"
      ]
     },
     "metadata": {},
     "output_type": "display_data"
    }
   ],
   "source": [
    "#Data distribution after data normalization for Frequency\n",
    "#Frequency_Plot = Log_Tfd_Data.query('Frequency < 1000')['Frequency']\n",
    "#ax = sns.histplot(Frequency_Plot)\n",
    "Frequency_Plot = Log_Tfd_Data.query('Frequency < 1000')['Frequency']\n",
    "fig2 = px.histogram(Frequency_Plot, nbins=50, opacity=0.7, marginal='rug', title='Frequency distribution')\n",
    "fig2.show()"
   ]
  },
  {
   "cell_type": "code",
   "execution_count": 21,
   "id": "cfff1ecd",
   "metadata": {
    "execution": {
     "iopub.execute_input": "2023-02-25T23:11:46.032239Z",
     "iopub.status.busy": "2023-02-25T23:11:46.031880Z",
     "iopub.status.idle": "2023-02-25T23:11:46.113997Z",
     "shell.execute_reply": "2023-02-25T23:11:46.112661Z"
    },
    "papermill": {
     "duration": 0.103137,
     "end_time": "2023-02-25T23:11:46.115918",
     "exception": false,
     "start_time": "2023-02-25T23:11:46.012781",
     "status": "completed"
    },
    "tags": []
   },
   "outputs": [
    {
     "data": {
      "text/html": [
       "<div>                            <div id=\"6b6114cb-7c6b-4094-afbb-350003415b52\" class=\"plotly-graph-div\" style=\"height:525px; width:100%;\"></div>            <script type=\"text/javascript\">                require([\"plotly\"], function(Plotly) {                    window.PLOTLYENV=window.PLOTLYENV || {};                                    if (document.getElementById(\"6b6114cb-7c6b-4094-afbb-350003415b52\")) {                    Plotly.newPlot(                        \"6b6114cb-7c6b-4094-afbb-350003415b52\",                        [{\"alignmentgroup\":\"True\",\"bingroup\":\"x\",\"hovertemplate\":\"variable=Monetary<br>value=%{x}<br>count=%{y}<extra></extra>\",\"legendgroup\":\"Monetary\",\"marker\":{\"color\":\"#636efa\",\"opacity\":0.7,\"pattern\":{\"shape\":\"\"}},\"name\":\"Monetary\",\"nbinsx\":50,\"offsetgroup\":\"Monetary\",\"orientation\":\"v\",\"showlegend\":true,\"x\":[11.254,8.369,7.494,7.472,5.812,7.826,4.489,6.984,6.13,7.941,8.734,7.063,8.75,7.887,5.246,8.561,6.314,7.18,6.464,5.129,8.172,7.543,7.169,5.899,6.611,6.126,7.395,8.296,6.748,7.91,7.52,7.523,6.372,5.996,7.93,6.31,6.086,7.367,7.149,8.013,7.787,7.4,7.011,4.434,5.419,6.058,7.444,8.136,7.443,7.969,9.312,6.542,7.112,6.631,6.332,11.735,8.202,6.505,6.398,6.693,6.689,7.528,7.474,6.656,6.368,6.716,8.982,8.23,5.547,8.767,8.529,9.501,6.692,8.966,6.232,8.507,7.975,5.156,5.148,8.518,4.893,6.91,6.166,6.108,8.311,5.288,9.109,6.065,6.561,8.169,7.811,8.065,7.768,6.854,6.718,7.081,7.204,7.1,6.61,6.592,9.893,8.791,8.276,8.899,6.584,8.827,9.489,6.524,6.268,8.096,8.627,7.818,8.418,7.169,5.814,8.597,6.132,5.573,6.072,7.128,6.95,6.001,8.357,7.682,8.223,6.178,4.297,7.174,5.986,5.173,6.89,4.884,6.417,6.925,5.95,7.179,7.817,7.629,5.802,7.876,6.396,5.261,7.49,8.409,7.183,5.854,7.567,7.416,4.83,5.857,6.993,6.574,9.442,5.897,8.625,9.503,6.889,5.921,6.908,7.057,5.337,4.556,6.872,5.124,6.082,8.214,6.396,9.392,5.598,6.331,7.666,5.476,8.238,6.124,4.983,5.863,9.149,8.325,6.253,6.928,5.079,5.387,7.182,6.44,7.935,6.088,6.03,5.287,6.237,8.893,7.757,7.621,5.283,4.97,5.37,6.472,9.197,6.116,6.081,6.036,8.113,6.427,8.246,8.014,6.94,7.863,6.358,5.031,6.606,5.538,7.365,7.027,7.649,7.084,6.557,8.115,5.754,7.737,6.57,5.866,5.178,8.2,7.2,9.524,5.194,5.721,6.463,7.895,8.798,8.407,6.668,7.147,6.462,7.68,7.432,8.7,6.51,6.186,7.069,5.225,6.921,8.115,6.169,7.482,7.206,8.222,5.762,6.435,5.751,4.736,6.824,7.701,6.4,8.307,7.404,6.531,4.518,5.502,8.256,8.493,4.143,6.43,8.245,7.917,8.005,5.42,6.414,7.586,7.194,9.777,7.015,6.76,9.532,9.416,9.045,7.734,7.96,4.49,8.492,7.129,5.964,6.943,6.752,6.768,6.367,6.864,8.505,6.682,5.389,5.647,7.758,8.835,6.403,7.906,9.181,7.047,8.388,6.744,8.457,5.839,6.96,6.938,5.473,6.469,8.662,7.885,6.905,6.586,6.939,6.059,7.867,8.289,6.729,6.116,9.847,5.465,5.951,4.704,6.659,5.455,5.046,6.921,6.058,6.292,9.965,8.342,10.406,8.317,5.62,8.382,9.973,8.01,8.246,4.719,8.966,7.934,7.334,7.549,6.203,7.435,8.852,7.042,7.209,6.794,7.234,6.712,8.289,6.717,7.754,7.708,6.278,5.743,6.139,4.52,5.784,5.261,5.993,6.302,6.757,6.065,5.537,8.85,6.058,6.181,6.193,6.244,5.437,4.836,6.969,6.349,5.112,7.341,6.848,4.53,6.855,7.473,5.984,7.296,6.064,6.926,5.68,8.827,5.371,5.948,6.034,5.744,7.867,4.899,6.51,8.629,7.911,8.292,7.02,7.44,5.787,5.87,6.738,6.918,4.881,5.742,7.579,7.183,3.64,7.683,7.009,6.256,4.991,7.358,6.326,8.296,7.382,5.942,6.397,5.924,5.838,7.704,7.337,6.751,6.351,5.697,7.288,6.556,5.734,7.069,7.229,5.87,5.932,5.802,5.174,5.921,5.378,9.779,4.932,6.207,7.979,6.62,7.686,8.031,7.416,7.817,5.896,7.988,6.387,7.197,5.092,9.716,6.005,5.152,6.839,6.543,7.632,4.769,6.03,10.647,6.409,7.678,6.97,7.316,4.737,9.357,6.802,6.516,6.404,6.138,7.38,7.633,8.335,7.519,6.97,7.235,5.799,8.467,4.683,8.298,5.585,7.527,6.646,5.076,7.415,4.912,6.005,9.323,4.975,6.605,3.67,8.906,5.919,5.968,4.58,7.122,6.326,6.226,8.843,6.015,6.222,6.028,6.882,5.353,7.112,6.122,6.282,9.189,4.795,5.004,8.64,6.242,4.401,5.436,3.923,7.407,8.479,8.151,8.114,6.672,5.318,8.893,7.87,6.537,6.883,8.841,6.494,7.129,6.623,6.918,5.25,6.466,6.826,6.781,6.812,6.518,6.247,6.329,5.721,6.445,8.083,7.506,6.487,8.672,5.853,7.102,5.604,5.212,5.729,5.516,5.849,7.008,5.327,6.154,4.749,5.841,8.396,5.433,5.177,6.824,6.59,9.444,5.394,4.062,10.252,8.192,5.716,6.031,10.981,9.095,5.846,6.169,8.966,7.564,4.309,8.7,10.271,5.334,4.617,8.768,5.497,7.002,4.337,7.334,5.858,6.668,7.306,9.413,7.738,6.217,6.893,7.088,3.421,5.648,6.827,8.231,7.65,5.557,4.159,6.978,4.348,4.699,7.492,8.038,7.866,8.19,6.869,8.53,6.046,7.779,5.727,4.709,6.427,5.433,6.569,8.212,7.424,7.137,6.187,6.879,7.462,7.091,7.265,4.52,4.725,7.431,6.929,6.034,6.674,7.17,6.569,4.69,6.149,5.868,7.917,6.177,5.644,8.653,4.797,8.283,7.42,4.268,7.363,5.464,4.741,5.563,6.816,4.719,4.106,7.494,8.132,9.192,6.769,6.768,5.523,7.105,8.681,5.868,6.999,6.668,7.327,5.81,6.28,4.137,6.708,6.742,5.095,7.676,8.774,4.684,5.552,5.881,5.081,7.921,7.192,6.405,6.938,6.613,6.552,5.798,6.498,5.6,6.372,4.802,6.065,7.581,6.217,6.143,6.567,6.938,5.99,0.0,6.511,5.646,6.324,6.85,5.3,8.914,7.646,8.252,8.417,8.063,8.584,6.38,5.354,5.622,4.934,6.382,5.555,6.297,4.925,6.683,7.032,4.54,5.304,7.904,5.889,6.361,6.773,5.304,4.47,7.645,5.886,4.959,5.919,6.427,4.155,5.705,7.601,2.708,7.234,7.284,7.032,6.395,7.349,6.654,8.654,7.729,6.463,9.292,7.334,6.341,5.296,6.669,8.871,6.515,8.196,7.177,6.671,7.04,5.861,8.161,6.678,6.188,6.757,9.281,6.654,5.868,7.829,5.965,5.833,5.454,5.511,6.887,5.924,5.986,6.611,6.514,6.644,6.412,6.085,6.086,8.036,6.9,4.905,7.708,4.028,6.435,5.731,6.627,5.937,8.105,6.658,6.927,6.35,8.2,5.407,8.331,6.281,6.518,6.682,6.299,4.091,7.832,5.729,7.216,7.342,6.125,6.432,4.317,5.531,6.35,10.244,6.911,5.364,7.237,6.569,6.463,8.721,5.398,5.074,7.514,7.873,7.393,8.2,6.368,5.307,6.915,6.521,7.146,6.281,8.245,5.283,8.134,5.648,5.693,7.029,8.17,5.676,7.623,7.972,6.38,5.878,6.964,7.477,9.174,5.212,7.276,5.021,6.514,5.73,6.977,8.649,5.106,7.825,6.047,5.424,7.267,7.122,7.282,5.707,7.498,5.218,4.944,5.749,6.119,7.023,6.355,9.101,6.108,7.103,7.147,6.428,5.757,7.623,6.482,5.852,7.055,7.062,7.201,5.677,5.379,5.69,8.388,6.128,7.816,4.709,6.887,7.491,5.526,5.323,5.025,6.792,7.237,7.663,6.441,4.81,8.195,6.977,4.835,8.285,6.522,6.444,7.715,5.729,6.182,5.349,5.595,8.678,8.145,7.155,6.448,5.621,6.431,6.519,6.822,4.52,8.227,8.318,6.37,6.388,5.144,4.955,7.495,6.656,7.453,5.482,6.753,5.231,5.825,5.479,7.644,7.233,5.671,6.596,8.812,7.431,6.146,4.771,6.661,4.959,6.569,7.816,5.939,7.592,7.019,5.513,7.607,5.984,6.498,5.075,8.547,5.391,6.541,6.061,5.102,5.623,6.515,6.987,7.051,7.369,6.035,6.299,5.178,5.365,6.59,5.55,7.402,8.961,7.617,8.03,7.659,7.344,6.976,6.856,6.69,4.809,6.941,5.744,6.253,7.873,5.53,7.407,5.848,7.516,4.545,6.999,7.904,6.838,5.939,5.946,7.878,7.354,6.781,5.244,4.439,5.701,8.75,5.387,5.857,5.228,5.96,6.188,5.449,8.221,6.719,4.086,4.176,8.045,4.277,6.813,5.149,7.305,11.083,7.826,5.019,5.732,7.718,4.6,7.744,6.568,5.801,6.693,5.654,8.75,5.196,5.53,5.433,6.982,4.929,7.276,5.725,6.949,6.684,6.262,7.773,5.298,7.591,6.984,5.81,6.924,6.624,6.414,6.198,7.967,6.593,5.828,5.379,5.86,6.505,8.042,7.202,6.985,5.704,4.377,6.855,7.407,5.691,7.069,6.608,5.644,7.654,8.554,8.068,6.491,5.659,6.976,5.726,7.447,7.326,9.754,7.936,7.876,7.023,5.844,10.165,5.186,5.886,4.851,6.812,7.809,5.44,5.733,5.854,7.324,5.276,10.523,6.535,6.325,5.783,8.434,5.624,7.859,6.829,5.547,4.724,7.466,5.044,7.313,6.703,6.29,7.22,7.365,8.301,6.349,5.948,7.039,5.955,6.449,6.864,7.438,5.244,6.016,5.345,7.696,3.955,5.95,6.727,5.586,6.514,4.443,8.127,5.891,5.746,6.763,7.135,7.338,7.375,7.883,6.994,9.001,5.962,5.376,5.304,7.128,7.7,5.723,6.218,4.981,6.913,8.069,8.034,7.927,8.765,5.965,6.292,7.488,4.81,4.764,7.148,8.077,9.75,7.083,7.892,6.669,6.228,5.495,5.857,6.39,6.033,7.541,6.45,6.711,6.336,7.861,5.74,5.049,5.962,6.608,7.961,5.807,7.77,7.856,6.44,5.606,7.101,5.953,5.149,5.861,7.517,6.52,5.411,5.855,6.141,6.737,5.821,7.121,5.728,6.411,6.827,5.931,5.068,4.272,6.343,6.732,8.54,6.331,4.506,4.625,7.795,6.613,6.514,8.087,8.165,6.087,5.778,6.927,6.387,5.439,5.133,6.499,4.391,9.108,7.922,5.248,5.579,6.025,7.808,5.88,5.282,6.768,5.299,7.535,7.865,6.825,8.862,5.77,8.33,7.144,5.741,6.749,4.341,8.151,7.729,7.24,8.269,6.455,7.622,6.272,8.43,7.964,6.869,6.545,5.795,6.159,6.225,6.821,8.376,7.26,6.466,6.449,6.087,6.37,5.792,4.652,6.148,7.766,9.758,7.998,6.475,7.264,6.44,4.992,7.353,5.025,8.178,4.952,6.471,7.414,5.043,7.177,6.016,8.627,6.615,9.656,5.418,5.562,4.527,6.587,9.006,8.734,5.213,8.723,9.256,7.196,5.027,5.926,5.583,7.271,5.018,6.848,4.776,6.213,6.956,5.927,3.82,6.826,5.205,6.911,8.394,5.255,10.83,5.067,4.335,8.313,6.073,11.085,4.993,8.041,5.257,8.696,7.008,5.376,7.144,7.902,6.393,4.971,8.645,6.541,7.978,7.518,5.957,7.232,4.5,7.93,6.039,7.909,6.56,6.565,6.458,7.025,6.176,8.185,6.406,8.453,6.873,6.03,6.841,6.819,5.742,4.752,8.227,8.341,6.181,5.058,6.102,6.49,6.432,7.205,4.777,11.672,6.052,6.23,8.44,7.001,5.668,7.802,7.397,4.791,6.333,5.897,6.111,4.901,8.078,6.358,6.309,7.378,6.553,8.466,6.116,5.286,7.628,8.445,8.452,6.749,9.337,6.92,5.816,6.553,5.223,6.617,5.015,6.146,5.794,5.022,7.637,7.553,7.715,6.976,6.912,7.49,7.517,7.603,5.133,4.499,6.45,8.141,6.527,6.899,6.917,7.703,8.117,7.344,6.831,7.625,7.288,6.626,8.054,6.196,5.081,4.989,7.775,6.792,5.365,5.637,7.859,7.435,7.296,4.918,5.712,7.552,7.965,6.876,8.039,9.447,4.787,7.059,7.87,5.811,6.273,7.324,6.2,4.721,6.082,6.328,7.021,8.34,4.898,8.216,6.389,7.555,8.44,5.174,6.056,6.815,7.747,8.264,8.491,6.953,5.113,7.174,10.85,8.285,3.766,6.462,5.949,7.528,7.647,8.005,7.763,5.737,7.385,4.787,7.816,6.232,6.169,7.334,6.405,5.214,5.742,8.512,6.137,6.734,6.029,7.845,6.12,7.387,6.377,5.735,4.903,7.681,6.505,6.791,4.691,6.929,6.015,4.894,5.645,3.932,6.984,4.506,5.098,5.161,6.553,5.417,6.816,7.658,5.021,8.221,9.13,5.043,4.61,4.338,5.462,6.425,5.852,5.312,6.422,7.129,5.309,4.959,7.454,8.075,6.95,8.443,4.219,8.155,6.19,7.868,6.354,8.307,7.297,7.279,5.055,7.677,7.863,7.63,7.003,6.969,6.646,4.796,7.311,8.675,6.195,7.569,6.958,5.96,6.701,8.358,5.58,5.775,8.408,5.895,7.11,6.153,7.718,7.225,4.489,4.143,4.882,7.887,7.765,7.446,7.371,7.259,6.918,7.059,5.928,6.786,6.181,6.468,5.557,4.787,8.012,4.733,7.516,6.074,7.651,7.591,6.272,6.945,7.729,6.391,6.134,7.524,5.457,6.306,6.831,5.263,7.177,5.757,5.631,6.456,7.612,4.921,5.774,5.093,7.061,6.97,6.139,5.832,7.776,4.938,4.819,6.289,6.164,7.579,6.695,5.877,5.526,7.796,8.173,6.512,8.676,7.581,7.221,5.591,7.181,5.618,6.122,6.898,7.639,5.8,5.161,5.601,6.882,5.485,7.52,8.347,9.049,5.898,6.361,7.959,6.838,7.575,8.389,7.957,5.141,5.874,5.962,6.287,6.859,7.282,4.637,8.189,7.603,7.853,8.288,6.481,5.667,6.63,5.227,5.101,6.756,7.732,5.745,6.67,7.713,6.985,8.519,8.039,7.267,7.333,5.427,5.385,7.939,7.402,3.567,6.757,5.128,4.932,4.737,6.895,6.94,5.057,5.47,7.365,3.683,7.186,6.324,6.425,5.895,7.462,6.764,5.403,5.975,5.366,6.492,9.399,9.693,7.487,6.4,6.007,6.316,5.977,6.023,7.489,5.77,6.788,5.42,6.802,7.934,6.51,6.862,6.915,4.741,5.843,6.413,6.095,8.001,7.653,4.705,4.566,6.542,6.722,6.392,12.543,5.464,7.246,6.483,4.738,7.564,7.566,5.673,6.743,5.51,7.836,5.655,4.682,6.608,6.456,7.515,5.274,9.124,7.138,5.973,6.641,7.46,6.391,7.843,10.267,6.213,3.951,7.091,6.443,8.627,4.726,5.872,7.656,6.383,5.153,7.64,5.24,7.104,4.693,7.694,7.834,8.087,5.763,7.309,5.187,7.027,8.501,6.396,7.951,6.821,7.887,5.076,6.765,5.729,7.366,6.498,5.195,7.023,6.486,5.593,5.748,7.548,5.94,7.902,9.168,8.71,7.06,7.181,8.269,7.278,7.244,7.003,7.107,5.794,7.255,5.965,6.334,6.458,8.519,6.605,6.041,7.303,7.394,4.491,5.545,5.706,5.629,5.538,7.813,5.261,9.251,6.776,4.936,6.92,7.839,6.594,5.956,6.104,5.299,5.67,4.349,6.521,5.286,6.613,1.825,5.434,7.185,4.879,8.984,5.158,5.061,8.374,5.244,6.74,5.867,6.303,5.265,7.908,7.643,5.03,6.657,5.605,7.012,6.489,5.606,6.229,3.888,5.773,7.028,7.706,7.668,6.548,5.241,7.45,4.629,7.408,4.141,8.1,7.946,8.068,5.735,8.978,5.786,6.237,7.95,6.165,7.916,6.47,7.163,7.067,7.211,5.138,4.835,6.735,5.586,3.955,9.574,6.566,7.991,6.581,5.791,6.217,6.253,7.29,7.297,6.538,5.543,6.38,6.635,6.64,5.899,7.529,5.911,4.912,4.834,6.318,7.121,6.486,9.318,6.15,7.22,7.146,7.259,5.807,7.936,6.933,6.423,8.161,5.627,6.074,11.876,6.766,7.113,5.728,7.146,7.384,6.885,7.182,6.619,5.737,5.411,7.768,7.137,5.896,7.545,7.487,9.004,7.391,8.683,4.614,5.673,7.005,5.917,5.742,9.0,5.655,5.686,4.069,6.182,6.545,5.399,8.86,4.842,7.295,5.329,6.39,5.21,6.139,4.994,7.373,7.001,4.743,7.181,4.499,5.635,6.673,7.561,4.626,5.31,5.677,5.788,5.813,5.447,6.303,6.028,6.195,7.404,7.107,8.748,6.175,5.056,7.138,5.733,6.004,5.552,5.136,4.833,6.207,5.533,7.535,6.748,8.813,7.4,5.892,6.151,6.972,6.441,6.251,6.482,8.509,7.847,8.36,5.532,6.063,6.53,9.892,5.193,4.912,6.286,8.94,6.601,8.535,5.84,5.943,4.797,7.46,7.232,5.336,6.542,5.711,7.306,7.651,7.199,5.684,10.907,6.896,5.916,8.058,6.795,7.464,6.316,7.012,4.665,6.89,6.95,6.601,6.65,6.781,9.184,6.798,6.224,4.48,5.727,7.056,7.792,5.944,6.175,6.126,8.433,7.223,5.391,5.514,10.595,6.017,6.775,5.761,6.556,6.901,7.74,7.26,5.767,7.17,6.184,6.904,7.357,8.163,7.923,5.829,7.21,7.347,5.5,5.585,5.883,6.126,7.399,7.696,5.216,9.353,6.008,7.294,8.145,5.799,6.885,6.89,7.236,4.935,7.16,5.187,7.764,6.212,5.559,8.792,7.086,7.191,6.435,5.708,6.255,8.574,8.465,5.797,5.538,6.868,7.568,5.995,9.833,5.064,5.719,6.715,6.19,5.068,4.669,7.162,7.393,4.911,5.412,3.701,7.699,4.472,6.536,6.434,5.997,5.739,6.02,8.472,9.694,6.951,6.213,8.938,8.259,6.984,5.266,7.146,7.12,7.511,5.758,6.482,6.041,6.769,5.803,6.796,4.623,5.794,7.415,6.6,4.571,8.658,5.723,7.484,6.0,6.372,6.628,5.775,6.015,5.04,7.106,8.128,6.063,6.417,5.283,7.718,5.772,7.253,6.977,6.66,7.442,7.471,5.758,6.448,7.83,6.243,5.875,8.808,9.258,6.608,6.822,5.705,6.792,4.59,5.759,6.435,7.502,5.541,5.187,5.053,5.976,7.317,4.782,7.449,6.013,7.775,7.821,6.582,6.574,6.422,4.857,5.545,5.672,4.728,7.755,5.483,6.188,7.743,6.846,8.98,8.449,5.184,8.209,6.464,8.476,8.413,6.207,8.527,6.353,6.543,7.068,5.324,5.738,11.013,6.83,3.951,5.793,6.347,5.106,5.745,5.321,5.588,7.919,6.522,5.086,5.742,5.341,6.956,6.572,7.415,6.936,5.86,5.137,6.353,7.611,6.007,5.899,6.335,5.975,5.531,5.306,5.063,6.14,4.751,7.568,6.647,5.624,7.908,9.03,6.059,6.038,5.787,6.817,7.747,6.401,7.538,6.102,7.777,7.605,7.79,5.124,7.108,8.217,7.433,6.392,8.692,6.465,5.759,5.977,4.945,6.215,7.337,5.446,7.689,4.677,5.664,4.543,7.205,6.704,6.574,6.441,5.855,6.236,6.953,5.588,8.146,7.207,5.25,6.653,6.327,8.29,6.232,4.912,6.857,4.582,3.773,5.949,7.247,7.266,4.541,5.985,5.143,6.279,6.948,5.006,6.973,5.299,5.054,5.95,6.387,8.075,7.252,4.732,5.045,6.204,6.882,6.063,6.27,7.224,5.188,6.074,5.468,5.085,5.367,5.458,4.837,6.951,8.903,5.813,6.263,6.147,6.289,6.119,5.918,7.479,6.118,7.244,6.808,9.295,5.417,8.186,7.85,4.514,7.034,8.039,6.491,7.577,7.155,7.141,9.497,7.031,9.248,4.949,3.967,8.192,6.879,6.165,6.908,5.521,6.803,4.796,9.6,8.3,4.134,5.587,7.561,5.839,8.006,5.986,6.021,6.087,6.599,5.0,7.795,5.435,8.285,7.311,7.587,7.355,6.694,6.22,4.709,6.289,5.363,4.444,4.851,8.174,5.666,8.499,7.427,6.355,6.078,4.501,6.061,5.381,8.475,5.634,6.15,6.685,4.902,7.245,5.154,5.226,6.631,7.227,8.331,6.478,7.837,6.382,6.516,6.826,5.556,4.845,5.792,8.21,6.526,6.58,6.121,6.817,6.171,5.962,5.297,7.48,7.249,5.783,5.483,6.636,8.821,7.168,3.881,5.377,7.089,7.979,4.652,6.997,5.699,4.723,7.372,5.274,9.25,6.655,5.818,7.348,7.165,8.219,5.707,6.377,7.336,6.516,7.962,7.079,8.097,5.495,6.586,5.409,6.053,9.427,7.543,6.498,6.689,6.417,6.104,6.461,6.704,6.471,5.822,6.777,6.827,6.329,6.618,3.401,6.932,5.725,7.378,5.736,4.928,5.957,7.706,5.708,4.335,6.528,5.154,7.885,7.911,7.802,5.78,8.142,6.488,5.866,6.661,7.196,7.263,5.267,8.004,5.538,5.48,4.919,5.252,8.776,6.016,7.905,5.735,6.546,7.332,5.354,7.738,4.964,6.967,6.821,8.082,4.892,6.978,5.877,5.799,7.004,5.013,8.523,6.395,6.156,7.701,5.251,5.386,6.029,8.549,4.443,7.022,5.684,5.089,7.2,7.08,8.479,6.107,5.043,6.654,3.55,6.998,5.283,6.853,4.972,10.704,7.809,7.873,4.372,6.128,7.768,6.269,6.571,5.324,5.534,6.369,6.991,8.096,5.753,6.433,10.938,6.455,5.601,4.653,5.487,6.954,6.164,5.845,7.869,5.507,7.753,8.501,6.839,5.862,5.388,7.386,6.873,6.413,7.904,7.7,6.785,6.547,6.97,6.112,6.03,8.344,8.61,6.665,6.807,8.203,6.246,7.238,7.705,7.496,7.173,7.573,7.65,7.552,5.333,6.347,6.786,2.708,6.278,7.411,7.515,6.455,6.356,6.678,6.73,7.708,6.861,4.923,5.971,10.424,6.955,5.874,7.11,4.779,4.873,8.219,5.964,5.459,5.08,4.708,7.996,6.568,9.689,5.694,7.264,6.872,8.054,6.725,4.232,7.569,6.797,5.356,8.245,5.008,5.862,5.757,8.391,6.195,5.796,6.217,6.247,5.983,5.938,5.199,5.126,6.04,6.238,5.554,5.188,5.34,7.233,4.03,5.821,5.863,8.542,5.104,7.357,6.783,5.257,7.114,5.578,7.315,4.813,5.812,6.265,5.121,5.778,5.912,4.845,5.333,6.056,7.822,7.01,6.033,4.979,6.003,8.719,3.578,5.821,5.784,5.198,7.443,6.862,5.899,7.464,6.563,6.662,7.413,8.393,6.061,4.648,6.154,6.696,5.986,6.501,5.75,8.343,5.73,8.144,5.916,6.058,6.961,7.002,7.783,8.134,7.29,7.93,7.041,5.125,7.267,5.055,6.675,3.737,7.929,6.027,6.94,8.033,9.425,7.914,6.361,4.619,7.435,6.171,6.879,5.972,8.118,7.255,10.522,6.472,6.558,7.29,5.356,6.013,8.239,6.746,6.401,6.579,5.526,6.086,5.464,6.84,11.3,5.803,6.306,9.08,6.082,6.632,6.751,6.157,7.18,8.06,7.071,6.652,7.201,5.547,6.98,4.927,5.892,7.321,6.664,4.904,6.478,7.724,7.281,7.051,5.815,5.906,7.327,6.748,5.788,6.37,4.807,7.712,4.372,7.209,5.381,7.937,7.184,6.078,6.889,7.022,5.753,6.707,2.833,6.983,5.77,5.221,7.604,6.596,7.163,7.519,7.265,5.698,5.82,4.686,8.072,6.736,6.417,7.186,5.277,5.084,4.911,7.415,6.418,5.448,6.048,7.177,6.751,6.529,5.729,5.517,5.668,8.746,6.487,7.539,8.162,9.588,6.427,6.249,6.564,6.454,6.586,6.43,6.283,7.794,5.166,8.243,6.599,5.927,4.335,5.637,7.627,7.512,7.509,8.037,6.487,5.853,6.933,8.619,3.622,6.753,6.712,8.239,7.508,7.542,4.293,7.039,7.257,6.917,6.945,5.805,5.288,5.374,9.235,5.722,8.797,5.825,7.055,6.272,8.296,8.841,6.889,5.373,5.371,8.553,5.751,5.993,6.974,7.53,5.901,6.385,5.951,6.63,6.286,5.977,6.499,7.724,9.956,6.304,6.537,5.069,6.969,5.49,6.819,5.718,8.034,6.758,6.651,7.166,7.0,5.542,5.75,6.918,6.295,6.899,6.285,6.765,6.069,6.026,8.221,7.86,8.183,6.014,7.328,7.254,4.741,5.03,7.496,5.965,8.212,7.871,6.623,3.849,8.557,6.943,6.591,8.603,6.759,6.504,7.04,7.248,6.02,5.863,6.328,6.698,6.339,7.315,7.631,5.126,7.359,6.7,4.959,5.711,7.718,7.192,5.71,6.394,5.452,8.587,5.889,6.449,7.848,6.56,6.424,5.614,5.422,7.986,7.202,5.793,6.002,6.945,5.923,5.789,5.335,6.013,6.387,8.019,8.248,5.529,7.367,10.19,5.018,5.37,4.544,6.281,7.587,5.776,5.795,4.616,6.338,6.742,7.255,3.98,7.018,5.036,6.203,8.806,5.981,5.356,6.491,7.615,7.468,8.146,6.793,6.565,4.695,6.559,7.34,5.791,6.685,6.174,7.343,7.172,5.874,6.146,6.882,6.516,5.894,7.677,7.463,6.467,6.371,6.319,5.712,4.547,7.231,5.384,8.02,7.349,7.301,7.442,6.011,5.717,8.318,5.682,5.179,6.094,5.119,5.039,7.64,7.612,5.355,4.913,5.569,4.838,5.3,6.958,6.447,6.866,10.454,5.847,4.895,5.713,7.53,5.485,5.651,5.707,6.435,5.661,5.216,7.321,6.683,8.2,5.943,6.412,6.484,5.44,12.035,5.545,5.209,6.562,5.743,5.587,1.932,7.518,7.677,5.339,8.156,6.699,4.962,4.913,7.26,7.169,7.375,4.316,6.438,6.624,5.411,5.756,7.501,6.3,7.822,5.802,5.707,6.645,5.396,4.937,6.002,5.896,6.212,6.595,7.209,6.717,6.474,7.377,7.995,4.615,5.901,5.994,7.267,6.144,6.656,4.503,5.896,5.514,6.823,6.774,7.393,4.622,5.092,6.183,5.371,6.953,9.15,9.475,5.671,5.43,5.499,6.121,7.127,8.817,6.987,6.386,6.306,7.236,4.784,5.827,6.668,8.303,7.74,6.827,5.939,8.652,6.73,5.656,8.106,5.641,9.029,6.735,6.237,6.983,5.157,6.421,6.763,4.822,8.226,7.26,6.917,6.498,6.112,4.662,5.748,5.453,6.842,6.14,5.417,6.13,5.364,8.322,5.799,5.199,5.887,5.522,4.5,4.977,6.701,5.492,6.269,6.179,8.116,8.611,4.326,4.864,7.08,6.427,6.227,6.215,5.023,7.881,5.421,5.187,6.701,4.863,6.698,5.808,8.392,5.777,7.691,6.013,7.967,5.384,7.051,7.427,7.137,5.443,6.534,6.189,6.726,5.366,5.672,6.251,8.821,7.101,6.399,8.24,9.063,6.774,4.814,3.667,7.145,4.908,4.779,6.341,5.726,7.207,8.318,7.434,9.004,5.718,7.373,8.042,4.866,5.213,7.479,6.935,11.107,5.781,7.993,7.14,6.046,5.419,7.151,6.169,6.489,4.725,7.6,8.532,8.594,9.549,6.275,6.487,8.016,7.811,7.409,8.192,8.841,7.029,5.709,6.804,8.254,6.407,7.479,5.03,5.678,8.462,6.357,6.631,7.214,5.546,6.955,8.883,6.611,6.403,6.472,7.718,6.035,1.322,5.778,6.142,7.702,7.164,8.879,8.807,6.729,7.324,6.436,7.476,5.335,5.411,7.602,7.297,5.478,4.671,5.912,6.672,5.758,7.096,6.416,7.934,3.526,7.044,8.626,6.17,5.89,6.629,7.715,5.145,6.495,7.433,5.918,5.405,5.505,9.27,6.046,5.741,7.727,4.678,6.388,4.392,7.343,7.442,4.704,5.497,7.087,6.028,5.722,7.058,7.374,5.806,6.286,6.133,6.636,7.023,5.664,6.819,5.735,6.305,6.172,7.41,8.767,6.033,7.381,8.117,6.21,5.882,6.133,6.653,5.834,4.856,5.284,5.787,5.294,7.009,6.025,5.198,5.529,8.062,6.378,9.717,7.534,7.142,9.23,5.367,5.265,5.64,4.825,5.806,5.836,4.976,5.794,3.567,5.929,6.617,5.158,6.22,5.336,6.706,7.942,6.522,8.871,7.648,6.741,2.588,7.307,6.068,6.558,5.608,6.063,6.11,5.259,7.364,6.61,6.25,4.983,5.31,5.669,6.217,7.148,6.788,7.442,5.895,8.204,8.019,6.327,6.834,5.938,7.319,7.846,4.731,5.214,6.432,6.332,5.97,6.974,7.86,5.038,8.863,6.721,5.439,6.297,7.943,7.167,5.937,8.424,5.012,6.334,6.836,5.568,7.905,8.023,7.552,6.705,8.377,6.008,6.075,7.16,7.072,7.153,5.122,3.035,7.643,6.251,5.732,6.032,4.765,6.229,5.456,4.705,5.304,7.676,5.765,6.085,6.478,5.878,5.528,5.842,7.524,6.936,5.951,7.553,8.403,8.606,7.535,7.388,4.837,7.033,5.187,7.387,7.284,6.554,5.687,6.184,8.291,7.309,7.179,6.662,6.791,5.275,5.602,6.369,7.517,9.07,6.824,7.137,4.263,4.563,5.88,5.042,6.777,6.574,4.99,5.941,6.937,6.614,6.072,7.145,4.722,6.109,6.977,6.944,7.459,6.855,5.827,6.465,7.004,6.83,8.64,8.066,5.484,5.989,6.212,7.213,7.073,8.033,5.456,8.563,6.279,7.287,6.752,8.423,7.905,5.718,7.795,7.277,6.726,6.735,5.935,4.777,5.662,5.666,7.603,7.248,7.919,7.354,7.626,7.596,7.588,8.25,7.481,5.71,7.189,6.93,6.861,6.879,7.391,3.239,6.501,9.287,6.781,5.096,5.445,6.686,6.73,4.755,5.056,6.408,5.728,4.93,5.844,5.684,5.44,6.897,5.057,7.809,8.495,6.024,7.039,5.941,9.273,6.118,6.361,6.892,6.62,7.447,4.827,7.432,5.365,5.797,5.528,5.765,7.144,7.339,8.166,7.447,5.681,7.811,5.067,5.33,6.728,5.416,5.761,8.234,4.093,7.275,5.724,6.568,6.664,5.48,8.116,4.97,5.318,7.814,5.95,6.097,7.647,7.438,5.571,6.921,6.54,5.669,8.178,7.355,5.951,5.319,7.748,5.424,7.931,6.965,4.732,7.577,4.738,8.067,5.813,5.795,6.033,5.975,6.845,7.553,5.764,8.199,8.047,6.035,5.252,5.01,6.31,6.82,5.752,8.221,5.947,7.034,9.053,6.862,5.144,5.635,5.764,5.945,5.598,5.855,5.183,5.603,5.675,5.481,6.365,7.134,4.15,6.31,5.692,5.76,6.638,7.673,4.68,6.971,5.505,5.236,7.43,7.407,5.02,6.956,7.257,6.836,6.24,6.311,7.525,6.304,4.853,6.211,6.487,5.095,7.035,5.522,9.063,4.416,7.233,6.468,7.753,7.835,8.745,7.863,7.091,6.488,6.81,6.894,4.573,6.26,5.897,5.166,6.203,5.727,7.591,8.779,5.495,9.422,6.525,5.266,5.06,6.253,7.872,5.434,7.053,4.588,7.156,6.375,7.462,7.239,5.183,5.952,5.888,4.851,6.343,6.191,5.744,8.404,8.47,5.121,7.538,6.101,6.036,7.198,6.472,6.206,5.992,5.314,8.309,5.965,9.917,4.181,5.265,5.818,5.546,7.896,6.616,7.139,10.368,6.232,6.034,5.317,8.9,6.524,6.482,7.649,7.876,5.576,10.371,6.939,7.689,3.486,6.649,7.102,6.658,7.137,6.657,6.23,8.838,6.139,8.349,6.395,7.591,6.549,6.632,8.525,4.613,9.756,6.263,5.583,6.0,5.902,5.714,7.772,5.377,5.962,5.228,7.718,6.281,7.986,4.795,6.294,7.832,12.178,7.451,6.188,6.249,4.881,5.521,7.46,5.757,6.488,6.434,6.601,6.516,7.537,5.67,6.638,4.92,7.534,7.026,6.548,5.27,6.238,7.135,6.026,5.984,5.931,7.646,8.177,5.926,6.21,5.602,5.607,6.434,7.037,5.665,6.535,6.326,8.005,7.044,5.711,6.406,5.959,8.713,5.732,11.419,7.981,6.241,5.341,6.46,6.64,5.037,7.52,6.304,6.584,6.976,6.481,4.977,6.047,7.087,6.845,8.197,7.769,5.693,5.409,5.102,4.337,6.789,4.589,6.361,5.14,6.465,4.638,5.003,5.588,5.671,6.836,7.305,7.577,6.174,5.062,6.294,6.751,5.107,7.023,6.118,6.768,8.374,5.841,7.262,5.424,5.942,5.224,8.179,4.966,6.107,5.374,9.308,5.166,7.125,7.018,7.123,7.785,7.292,7.698,8.275,6.901,5.958,7.94,7.623,5.086,4.754,8.528,5.978,5.735,5.257,7.008,8.284,7.625,8.422,5.957,5.798,6.348,6.835,5.368,4.4,7.23,6.267,6.738,7.611,4.327,7.503,6.222,6.27,7.189,7.766,5.654,6.305,4.687,6.432,6.568,4.621,7.971,6.916,4.891,7.494,6.767,5.112,8.28,8.49,7.096,4.767,7.878,7.423,6.389,8.006,5.186,7.497,6.405,6.591,7.628,5.851,8.134,5.326,7.361,8.064,7.375,6.312,9.922,7.223,9.702,5.697,7.597,5.217,7.814,5.478,8.057,8.655,8.461,5.671,6.608,5.301,5.646,6.64,7.734,5.826,5.043,7.838,6.035,7.509,6.683,6.786,7.509,9.26,5.027,5.573,4.923,5.954,6.259,5.03,5.788,8.64,4.937,8.593,7.087,7.793,8.095,6.94,8.143,6.966,7.964,8.575,7.123,5.717,6.54,6.552,9.481,5.933,5.125,7.539,7.934,5.872,7.75,4.703,4.268,6.514,7.445,4.39,7.417,8.629,8.134,6.709,5.662,6.569,2.708,6.65,5.907,5.603,7.641,8.283,7.042,5.505,5.156,7.101,4.032,6.473,6.477,5.237,5.647,4.882,5.587,7.505,7.019,5.42,7.583,4.664,5.705,5.837,6.537,6.66,8.019,7.079,7.159,6.239,6.303,8.596,8.957,6.551,7.437,3.599,5.96,8.217,5.698,7.595,7.507,6.79,5.988,3.567,5.046,5.836,4.702,7.34,7.909,5.763,10.61,5.325,3.943,7.617,6.804,6.407,8.593,4.739,5.741,5.342,7.257,10.199,8.545,4.955,5.423,7.649,5.802,8.058,6.319,9.262,5.798,7.054,6.06,7.531,5.049,7.522,6.527,5.471,5.939,5.185,6.129,4.893,6.499,6.544,5.052,6.768,4.713,6.574,5.305,6.375,5.317,5.498,4.675,7.02,4.559,5.546,6.295,5.024,5.041,4.72,4.704,5.199,6.683,4.289,5.447,5.903,5.737,6.013,5.797,5.814,7.173,8.323,6.71,5.335,7.994,5.497,5.985,5.359,6.737,7.462,6.012,7.194,6.557,4.982,5.941,8.367,4.597,8.299,5.719,4.35,5.008,5.174,5.882,10.977,6.178,6.916,7.747,6.323,2.546,4.716,6.231,4.301,7.167,4.629,6.138,7.863,7.002,4.721,5.58,5.43,6.333,4.907,5.82,6.557,8.408,5.774,5.663,5.707,6.596,6.699,5.028,6.448,3.035,5.291,5.304,6.447,4.536,6.515,4.332,7.582,5.941,6.029,5.062,5.423,6.097,7.657,5.511,5.164,4.633,5.233,5.089,4.788,7.298,6.26,4.805,3.649,6.418,5.966,4.748,5.441,4.297,4.541,6.037,6.571,5.999,4.249,5.878,8.318,5.106,6.272,7.644,5.184,5.149,4.309,5.704,8.819,5.896,5.137,5.725,7.659,6.58,6.702,7.78,5.762,5.982,4.622,7.606,6.116,5.511,8.258,6.194,7.868,7.857,5.817,8.192,7.116,5.839,6.523,4.505,6.537,4.618,8.308,5.112,9.113,7.653,8.012,6.363,6.744,7.887,5.126,5.404,12.467,6.626,4.732,6.045,5.602,8.988,5.292,5.866,4.335,5.394,7.246,5.755,8.635,5.197,4.711,6.482,7.492,6.353,7.032,5.303,5.85,4.723,6.965,6.837,6.525,6.665,5.028,9.041,6.927,6.908,7.969,7.959,5.077,5.189,6.417,6.34,6.482,5.989,5.918,6.516,6.117,6.273,6.458,7.389,5.991,5.712,7.233,7.056,5.311,6.888,7.116,8.931,7.653,4.644,6.166,7.201,7.372,7.492,7.52,5.905,6.449,3.908,5.718,7.601,6.994,5.651,5.337,6.865,5.496,6.881,6.532,8.599,5.013,7.242,5.078,7.589,6.249,4.935,7.871,6.397,5.376,5.449,5.702,6.177,6.433,6.464,7.635,5.721,6.949,6.094,8.777,5.069,8.613,8.562,4.541,6.659,8.892,7.941,7.636,6.385,6.087,7.494,6.782,6.895,7.353,6.046,7.637,7.711,7.851,6.39,6.69,4.557,5.856,8.37,6.25,4.638,7.757,7.757,7.874,5.781,5.007,7.101,6.686,3.239,5.128,5.646,8.032,5.318,5.17,5.817,4.704,5.158,5.196,4.392,5.182,7.623,7.516],\"xaxis\":\"x\",\"yaxis\":\"y\",\"type\":\"histogram\"},{\"alignmentgroup\":\"True\",\"boxpoints\":\"all\",\"fillcolor\":\"rgba(255,255,255,0)\",\"hoveron\":\"points\",\"hovertemplate\":\"variable=Monetary<br>value=%{x}<extra></extra>\",\"jitter\":0,\"legendgroup\":\"Monetary\",\"line\":{\"color\":\"rgba(255,255,255,0)\"},\"marker\":{\"color\":\"#636efa\",\"symbol\":\"line-ns-open\"},\"name\":\"Monetary\",\"offsetgroup\":\"Monetary\",\"showlegend\":false,\"x\":[11.254,8.369,7.494,7.472,5.812,7.826,4.489,6.984,6.13,7.941,8.734,7.063,8.75,7.887,5.246,8.561,6.314,7.18,6.464,5.129,8.172,7.543,7.169,5.899,6.611,6.126,7.395,8.296,6.748,7.91,7.52,7.523,6.372,5.996,7.93,6.31,6.086,7.367,7.149,8.013,7.787,7.4,7.011,4.434,5.419,6.058,7.444,8.136,7.443,7.969,9.312,6.542,7.112,6.631,6.332,11.735,8.202,6.505,6.398,6.693,6.689,7.528,7.474,6.656,6.368,6.716,8.982,8.23,5.547,8.767,8.529,9.501,6.692,8.966,6.232,8.507,7.975,5.156,5.148,8.518,4.893,6.91,6.166,6.108,8.311,5.288,9.109,6.065,6.561,8.169,7.811,8.065,7.768,6.854,6.718,7.081,7.204,7.1,6.61,6.592,9.893,8.791,8.276,8.899,6.584,8.827,9.489,6.524,6.268,8.096,8.627,7.818,8.418,7.169,5.814,8.597,6.132,5.573,6.072,7.128,6.95,6.001,8.357,7.682,8.223,6.178,4.297,7.174,5.986,5.173,6.89,4.884,6.417,6.925,5.95,7.179,7.817,7.629,5.802,7.876,6.396,5.261,7.49,8.409,7.183,5.854,7.567,7.416,4.83,5.857,6.993,6.574,9.442,5.897,8.625,9.503,6.889,5.921,6.908,7.057,5.337,4.556,6.872,5.124,6.082,8.214,6.396,9.392,5.598,6.331,7.666,5.476,8.238,6.124,4.983,5.863,9.149,8.325,6.253,6.928,5.079,5.387,7.182,6.44,7.935,6.088,6.03,5.287,6.237,8.893,7.757,7.621,5.283,4.97,5.37,6.472,9.197,6.116,6.081,6.036,8.113,6.427,8.246,8.014,6.94,7.863,6.358,5.031,6.606,5.538,7.365,7.027,7.649,7.084,6.557,8.115,5.754,7.737,6.57,5.866,5.178,8.2,7.2,9.524,5.194,5.721,6.463,7.895,8.798,8.407,6.668,7.147,6.462,7.68,7.432,8.7,6.51,6.186,7.069,5.225,6.921,8.115,6.169,7.482,7.206,8.222,5.762,6.435,5.751,4.736,6.824,7.701,6.4,8.307,7.404,6.531,4.518,5.502,8.256,8.493,4.143,6.43,8.245,7.917,8.005,5.42,6.414,7.586,7.194,9.777,7.015,6.76,9.532,9.416,9.045,7.734,7.96,4.49,8.492,7.129,5.964,6.943,6.752,6.768,6.367,6.864,8.505,6.682,5.389,5.647,7.758,8.835,6.403,7.906,9.181,7.047,8.388,6.744,8.457,5.839,6.96,6.938,5.473,6.469,8.662,7.885,6.905,6.586,6.939,6.059,7.867,8.289,6.729,6.116,9.847,5.465,5.951,4.704,6.659,5.455,5.046,6.921,6.058,6.292,9.965,8.342,10.406,8.317,5.62,8.382,9.973,8.01,8.246,4.719,8.966,7.934,7.334,7.549,6.203,7.435,8.852,7.042,7.209,6.794,7.234,6.712,8.289,6.717,7.754,7.708,6.278,5.743,6.139,4.52,5.784,5.261,5.993,6.302,6.757,6.065,5.537,8.85,6.058,6.181,6.193,6.244,5.437,4.836,6.969,6.349,5.112,7.341,6.848,4.53,6.855,7.473,5.984,7.296,6.064,6.926,5.68,8.827,5.371,5.948,6.034,5.744,7.867,4.899,6.51,8.629,7.911,8.292,7.02,7.44,5.787,5.87,6.738,6.918,4.881,5.742,7.579,7.183,3.64,7.683,7.009,6.256,4.991,7.358,6.326,8.296,7.382,5.942,6.397,5.924,5.838,7.704,7.337,6.751,6.351,5.697,7.288,6.556,5.734,7.069,7.229,5.87,5.932,5.802,5.174,5.921,5.378,9.779,4.932,6.207,7.979,6.62,7.686,8.031,7.416,7.817,5.896,7.988,6.387,7.197,5.092,9.716,6.005,5.152,6.839,6.543,7.632,4.769,6.03,10.647,6.409,7.678,6.97,7.316,4.737,9.357,6.802,6.516,6.404,6.138,7.38,7.633,8.335,7.519,6.97,7.235,5.799,8.467,4.683,8.298,5.585,7.527,6.646,5.076,7.415,4.912,6.005,9.323,4.975,6.605,3.67,8.906,5.919,5.968,4.58,7.122,6.326,6.226,8.843,6.015,6.222,6.028,6.882,5.353,7.112,6.122,6.282,9.189,4.795,5.004,8.64,6.242,4.401,5.436,3.923,7.407,8.479,8.151,8.114,6.672,5.318,8.893,7.87,6.537,6.883,8.841,6.494,7.129,6.623,6.918,5.25,6.466,6.826,6.781,6.812,6.518,6.247,6.329,5.721,6.445,8.083,7.506,6.487,8.672,5.853,7.102,5.604,5.212,5.729,5.516,5.849,7.008,5.327,6.154,4.749,5.841,8.396,5.433,5.177,6.824,6.59,9.444,5.394,4.062,10.252,8.192,5.716,6.031,10.981,9.095,5.846,6.169,8.966,7.564,4.309,8.7,10.271,5.334,4.617,8.768,5.497,7.002,4.337,7.334,5.858,6.668,7.306,9.413,7.738,6.217,6.893,7.088,3.421,5.648,6.827,8.231,7.65,5.557,4.159,6.978,4.348,4.699,7.492,8.038,7.866,8.19,6.869,8.53,6.046,7.779,5.727,4.709,6.427,5.433,6.569,8.212,7.424,7.137,6.187,6.879,7.462,7.091,7.265,4.52,4.725,7.431,6.929,6.034,6.674,7.17,6.569,4.69,6.149,5.868,7.917,6.177,5.644,8.653,4.797,8.283,7.42,4.268,7.363,5.464,4.741,5.563,6.816,4.719,4.106,7.494,8.132,9.192,6.769,6.768,5.523,7.105,8.681,5.868,6.999,6.668,7.327,5.81,6.28,4.137,6.708,6.742,5.095,7.676,8.774,4.684,5.552,5.881,5.081,7.921,7.192,6.405,6.938,6.613,6.552,5.798,6.498,5.6,6.372,4.802,6.065,7.581,6.217,6.143,6.567,6.938,5.99,0.0,6.511,5.646,6.324,6.85,5.3,8.914,7.646,8.252,8.417,8.063,8.584,6.38,5.354,5.622,4.934,6.382,5.555,6.297,4.925,6.683,7.032,4.54,5.304,7.904,5.889,6.361,6.773,5.304,4.47,7.645,5.886,4.959,5.919,6.427,4.155,5.705,7.601,2.708,7.234,7.284,7.032,6.395,7.349,6.654,8.654,7.729,6.463,9.292,7.334,6.341,5.296,6.669,8.871,6.515,8.196,7.177,6.671,7.04,5.861,8.161,6.678,6.188,6.757,9.281,6.654,5.868,7.829,5.965,5.833,5.454,5.511,6.887,5.924,5.986,6.611,6.514,6.644,6.412,6.085,6.086,8.036,6.9,4.905,7.708,4.028,6.435,5.731,6.627,5.937,8.105,6.658,6.927,6.35,8.2,5.407,8.331,6.281,6.518,6.682,6.299,4.091,7.832,5.729,7.216,7.342,6.125,6.432,4.317,5.531,6.35,10.244,6.911,5.364,7.237,6.569,6.463,8.721,5.398,5.074,7.514,7.873,7.393,8.2,6.368,5.307,6.915,6.521,7.146,6.281,8.245,5.283,8.134,5.648,5.693,7.029,8.17,5.676,7.623,7.972,6.38,5.878,6.964,7.477,9.174,5.212,7.276,5.021,6.514,5.73,6.977,8.649,5.106,7.825,6.047,5.424,7.267,7.122,7.282,5.707,7.498,5.218,4.944,5.749,6.119,7.023,6.355,9.101,6.108,7.103,7.147,6.428,5.757,7.623,6.482,5.852,7.055,7.062,7.201,5.677,5.379,5.69,8.388,6.128,7.816,4.709,6.887,7.491,5.526,5.323,5.025,6.792,7.237,7.663,6.441,4.81,8.195,6.977,4.835,8.285,6.522,6.444,7.715,5.729,6.182,5.349,5.595,8.678,8.145,7.155,6.448,5.621,6.431,6.519,6.822,4.52,8.227,8.318,6.37,6.388,5.144,4.955,7.495,6.656,7.453,5.482,6.753,5.231,5.825,5.479,7.644,7.233,5.671,6.596,8.812,7.431,6.146,4.771,6.661,4.959,6.569,7.816,5.939,7.592,7.019,5.513,7.607,5.984,6.498,5.075,8.547,5.391,6.541,6.061,5.102,5.623,6.515,6.987,7.051,7.369,6.035,6.299,5.178,5.365,6.59,5.55,7.402,8.961,7.617,8.03,7.659,7.344,6.976,6.856,6.69,4.809,6.941,5.744,6.253,7.873,5.53,7.407,5.848,7.516,4.545,6.999,7.904,6.838,5.939,5.946,7.878,7.354,6.781,5.244,4.439,5.701,8.75,5.387,5.857,5.228,5.96,6.188,5.449,8.221,6.719,4.086,4.176,8.045,4.277,6.813,5.149,7.305,11.083,7.826,5.019,5.732,7.718,4.6,7.744,6.568,5.801,6.693,5.654,8.75,5.196,5.53,5.433,6.982,4.929,7.276,5.725,6.949,6.684,6.262,7.773,5.298,7.591,6.984,5.81,6.924,6.624,6.414,6.198,7.967,6.593,5.828,5.379,5.86,6.505,8.042,7.202,6.985,5.704,4.377,6.855,7.407,5.691,7.069,6.608,5.644,7.654,8.554,8.068,6.491,5.659,6.976,5.726,7.447,7.326,9.754,7.936,7.876,7.023,5.844,10.165,5.186,5.886,4.851,6.812,7.809,5.44,5.733,5.854,7.324,5.276,10.523,6.535,6.325,5.783,8.434,5.624,7.859,6.829,5.547,4.724,7.466,5.044,7.313,6.703,6.29,7.22,7.365,8.301,6.349,5.948,7.039,5.955,6.449,6.864,7.438,5.244,6.016,5.345,7.696,3.955,5.95,6.727,5.586,6.514,4.443,8.127,5.891,5.746,6.763,7.135,7.338,7.375,7.883,6.994,9.001,5.962,5.376,5.304,7.128,7.7,5.723,6.218,4.981,6.913,8.069,8.034,7.927,8.765,5.965,6.292,7.488,4.81,4.764,7.148,8.077,9.75,7.083,7.892,6.669,6.228,5.495,5.857,6.39,6.033,7.541,6.45,6.711,6.336,7.861,5.74,5.049,5.962,6.608,7.961,5.807,7.77,7.856,6.44,5.606,7.101,5.953,5.149,5.861,7.517,6.52,5.411,5.855,6.141,6.737,5.821,7.121,5.728,6.411,6.827,5.931,5.068,4.272,6.343,6.732,8.54,6.331,4.506,4.625,7.795,6.613,6.514,8.087,8.165,6.087,5.778,6.927,6.387,5.439,5.133,6.499,4.391,9.108,7.922,5.248,5.579,6.025,7.808,5.88,5.282,6.768,5.299,7.535,7.865,6.825,8.862,5.77,8.33,7.144,5.741,6.749,4.341,8.151,7.729,7.24,8.269,6.455,7.622,6.272,8.43,7.964,6.869,6.545,5.795,6.159,6.225,6.821,8.376,7.26,6.466,6.449,6.087,6.37,5.792,4.652,6.148,7.766,9.758,7.998,6.475,7.264,6.44,4.992,7.353,5.025,8.178,4.952,6.471,7.414,5.043,7.177,6.016,8.627,6.615,9.656,5.418,5.562,4.527,6.587,9.006,8.734,5.213,8.723,9.256,7.196,5.027,5.926,5.583,7.271,5.018,6.848,4.776,6.213,6.956,5.927,3.82,6.826,5.205,6.911,8.394,5.255,10.83,5.067,4.335,8.313,6.073,11.085,4.993,8.041,5.257,8.696,7.008,5.376,7.144,7.902,6.393,4.971,8.645,6.541,7.978,7.518,5.957,7.232,4.5,7.93,6.039,7.909,6.56,6.565,6.458,7.025,6.176,8.185,6.406,8.453,6.873,6.03,6.841,6.819,5.742,4.752,8.227,8.341,6.181,5.058,6.102,6.49,6.432,7.205,4.777,11.672,6.052,6.23,8.44,7.001,5.668,7.802,7.397,4.791,6.333,5.897,6.111,4.901,8.078,6.358,6.309,7.378,6.553,8.466,6.116,5.286,7.628,8.445,8.452,6.749,9.337,6.92,5.816,6.553,5.223,6.617,5.015,6.146,5.794,5.022,7.637,7.553,7.715,6.976,6.912,7.49,7.517,7.603,5.133,4.499,6.45,8.141,6.527,6.899,6.917,7.703,8.117,7.344,6.831,7.625,7.288,6.626,8.054,6.196,5.081,4.989,7.775,6.792,5.365,5.637,7.859,7.435,7.296,4.918,5.712,7.552,7.965,6.876,8.039,9.447,4.787,7.059,7.87,5.811,6.273,7.324,6.2,4.721,6.082,6.328,7.021,8.34,4.898,8.216,6.389,7.555,8.44,5.174,6.056,6.815,7.747,8.264,8.491,6.953,5.113,7.174,10.85,8.285,3.766,6.462,5.949,7.528,7.647,8.005,7.763,5.737,7.385,4.787,7.816,6.232,6.169,7.334,6.405,5.214,5.742,8.512,6.137,6.734,6.029,7.845,6.12,7.387,6.377,5.735,4.903,7.681,6.505,6.791,4.691,6.929,6.015,4.894,5.645,3.932,6.984,4.506,5.098,5.161,6.553,5.417,6.816,7.658,5.021,8.221,9.13,5.043,4.61,4.338,5.462,6.425,5.852,5.312,6.422,7.129,5.309,4.959,7.454,8.075,6.95,8.443,4.219,8.155,6.19,7.868,6.354,8.307,7.297,7.279,5.055,7.677,7.863,7.63,7.003,6.969,6.646,4.796,7.311,8.675,6.195,7.569,6.958,5.96,6.701,8.358,5.58,5.775,8.408,5.895,7.11,6.153,7.718,7.225,4.489,4.143,4.882,7.887,7.765,7.446,7.371,7.259,6.918,7.059,5.928,6.786,6.181,6.468,5.557,4.787,8.012,4.733,7.516,6.074,7.651,7.591,6.272,6.945,7.729,6.391,6.134,7.524,5.457,6.306,6.831,5.263,7.177,5.757,5.631,6.456,7.612,4.921,5.774,5.093,7.061,6.97,6.139,5.832,7.776,4.938,4.819,6.289,6.164,7.579,6.695,5.877,5.526,7.796,8.173,6.512,8.676,7.581,7.221,5.591,7.181,5.618,6.122,6.898,7.639,5.8,5.161,5.601,6.882,5.485,7.52,8.347,9.049,5.898,6.361,7.959,6.838,7.575,8.389,7.957,5.141,5.874,5.962,6.287,6.859,7.282,4.637,8.189,7.603,7.853,8.288,6.481,5.667,6.63,5.227,5.101,6.756,7.732,5.745,6.67,7.713,6.985,8.519,8.039,7.267,7.333,5.427,5.385,7.939,7.402,3.567,6.757,5.128,4.932,4.737,6.895,6.94,5.057,5.47,7.365,3.683,7.186,6.324,6.425,5.895,7.462,6.764,5.403,5.975,5.366,6.492,9.399,9.693,7.487,6.4,6.007,6.316,5.977,6.023,7.489,5.77,6.788,5.42,6.802,7.934,6.51,6.862,6.915,4.741,5.843,6.413,6.095,8.001,7.653,4.705,4.566,6.542,6.722,6.392,12.543,5.464,7.246,6.483,4.738,7.564,7.566,5.673,6.743,5.51,7.836,5.655,4.682,6.608,6.456,7.515,5.274,9.124,7.138,5.973,6.641,7.46,6.391,7.843,10.267,6.213,3.951,7.091,6.443,8.627,4.726,5.872,7.656,6.383,5.153,7.64,5.24,7.104,4.693,7.694,7.834,8.087,5.763,7.309,5.187,7.027,8.501,6.396,7.951,6.821,7.887,5.076,6.765,5.729,7.366,6.498,5.195,7.023,6.486,5.593,5.748,7.548,5.94,7.902,9.168,8.71,7.06,7.181,8.269,7.278,7.244,7.003,7.107,5.794,7.255,5.965,6.334,6.458,8.519,6.605,6.041,7.303,7.394,4.491,5.545,5.706,5.629,5.538,7.813,5.261,9.251,6.776,4.936,6.92,7.839,6.594,5.956,6.104,5.299,5.67,4.349,6.521,5.286,6.613,1.825,5.434,7.185,4.879,8.984,5.158,5.061,8.374,5.244,6.74,5.867,6.303,5.265,7.908,7.643,5.03,6.657,5.605,7.012,6.489,5.606,6.229,3.888,5.773,7.028,7.706,7.668,6.548,5.241,7.45,4.629,7.408,4.141,8.1,7.946,8.068,5.735,8.978,5.786,6.237,7.95,6.165,7.916,6.47,7.163,7.067,7.211,5.138,4.835,6.735,5.586,3.955,9.574,6.566,7.991,6.581,5.791,6.217,6.253,7.29,7.297,6.538,5.543,6.38,6.635,6.64,5.899,7.529,5.911,4.912,4.834,6.318,7.121,6.486,9.318,6.15,7.22,7.146,7.259,5.807,7.936,6.933,6.423,8.161,5.627,6.074,11.876,6.766,7.113,5.728,7.146,7.384,6.885,7.182,6.619,5.737,5.411,7.768,7.137,5.896,7.545,7.487,9.004,7.391,8.683,4.614,5.673,7.005,5.917,5.742,9.0,5.655,5.686,4.069,6.182,6.545,5.399,8.86,4.842,7.295,5.329,6.39,5.21,6.139,4.994,7.373,7.001,4.743,7.181,4.499,5.635,6.673,7.561,4.626,5.31,5.677,5.788,5.813,5.447,6.303,6.028,6.195,7.404,7.107,8.748,6.175,5.056,7.138,5.733,6.004,5.552,5.136,4.833,6.207,5.533,7.535,6.748,8.813,7.4,5.892,6.151,6.972,6.441,6.251,6.482,8.509,7.847,8.36,5.532,6.063,6.53,9.892,5.193,4.912,6.286,8.94,6.601,8.535,5.84,5.943,4.797,7.46,7.232,5.336,6.542,5.711,7.306,7.651,7.199,5.684,10.907,6.896,5.916,8.058,6.795,7.464,6.316,7.012,4.665,6.89,6.95,6.601,6.65,6.781,9.184,6.798,6.224,4.48,5.727,7.056,7.792,5.944,6.175,6.126,8.433,7.223,5.391,5.514,10.595,6.017,6.775,5.761,6.556,6.901,7.74,7.26,5.767,7.17,6.184,6.904,7.357,8.163,7.923,5.829,7.21,7.347,5.5,5.585,5.883,6.126,7.399,7.696,5.216,9.353,6.008,7.294,8.145,5.799,6.885,6.89,7.236,4.935,7.16,5.187,7.764,6.212,5.559,8.792,7.086,7.191,6.435,5.708,6.255,8.574,8.465,5.797,5.538,6.868,7.568,5.995,9.833,5.064,5.719,6.715,6.19,5.068,4.669,7.162,7.393,4.911,5.412,3.701,7.699,4.472,6.536,6.434,5.997,5.739,6.02,8.472,9.694,6.951,6.213,8.938,8.259,6.984,5.266,7.146,7.12,7.511,5.758,6.482,6.041,6.769,5.803,6.796,4.623,5.794,7.415,6.6,4.571,8.658,5.723,7.484,6.0,6.372,6.628,5.775,6.015,5.04,7.106,8.128,6.063,6.417,5.283,7.718,5.772,7.253,6.977,6.66,7.442,7.471,5.758,6.448,7.83,6.243,5.875,8.808,9.258,6.608,6.822,5.705,6.792,4.59,5.759,6.435,7.502,5.541,5.187,5.053,5.976,7.317,4.782,7.449,6.013,7.775,7.821,6.582,6.574,6.422,4.857,5.545,5.672,4.728,7.755,5.483,6.188,7.743,6.846,8.98,8.449,5.184,8.209,6.464,8.476,8.413,6.207,8.527,6.353,6.543,7.068,5.324,5.738,11.013,6.83,3.951,5.793,6.347,5.106,5.745,5.321,5.588,7.919,6.522,5.086,5.742,5.341,6.956,6.572,7.415,6.936,5.86,5.137,6.353,7.611,6.007,5.899,6.335,5.975,5.531,5.306,5.063,6.14,4.751,7.568,6.647,5.624,7.908,9.03,6.059,6.038,5.787,6.817,7.747,6.401,7.538,6.102,7.777,7.605,7.79,5.124,7.108,8.217,7.433,6.392,8.692,6.465,5.759,5.977,4.945,6.215,7.337,5.446,7.689,4.677,5.664,4.543,7.205,6.704,6.574,6.441,5.855,6.236,6.953,5.588,8.146,7.207,5.25,6.653,6.327,8.29,6.232,4.912,6.857,4.582,3.773,5.949,7.247,7.266,4.541,5.985,5.143,6.279,6.948,5.006,6.973,5.299,5.054,5.95,6.387,8.075,7.252,4.732,5.045,6.204,6.882,6.063,6.27,7.224,5.188,6.074,5.468,5.085,5.367,5.458,4.837,6.951,8.903,5.813,6.263,6.147,6.289,6.119,5.918,7.479,6.118,7.244,6.808,9.295,5.417,8.186,7.85,4.514,7.034,8.039,6.491,7.577,7.155,7.141,9.497,7.031,9.248,4.949,3.967,8.192,6.879,6.165,6.908,5.521,6.803,4.796,9.6,8.3,4.134,5.587,7.561,5.839,8.006,5.986,6.021,6.087,6.599,5.0,7.795,5.435,8.285,7.311,7.587,7.355,6.694,6.22,4.709,6.289,5.363,4.444,4.851,8.174,5.666,8.499,7.427,6.355,6.078,4.501,6.061,5.381,8.475,5.634,6.15,6.685,4.902,7.245,5.154,5.226,6.631,7.227,8.331,6.478,7.837,6.382,6.516,6.826,5.556,4.845,5.792,8.21,6.526,6.58,6.121,6.817,6.171,5.962,5.297,7.48,7.249,5.783,5.483,6.636,8.821,7.168,3.881,5.377,7.089,7.979,4.652,6.997,5.699,4.723,7.372,5.274,9.25,6.655,5.818,7.348,7.165,8.219,5.707,6.377,7.336,6.516,7.962,7.079,8.097,5.495,6.586,5.409,6.053,9.427,7.543,6.498,6.689,6.417,6.104,6.461,6.704,6.471,5.822,6.777,6.827,6.329,6.618,3.401,6.932,5.725,7.378,5.736,4.928,5.957,7.706,5.708,4.335,6.528,5.154,7.885,7.911,7.802,5.78,8.142,6.488,5.866,6.661,7.196,7.263,5.267,8.004,5.538,5.48,4.919,5.252,8.776,6.016,7.905,5.735,6.546,7.332,5.354,7.738,4.964,6.967,6.821,8.082,4.892,6.978,5.877,5.799,7.004,5.013,8.523,6.395,6.156,7.701,5.251,5.386,6.029,8.549,4.443,7.022,5.684,5.089,7.2,7.08,8.479,6.107,5.043,6.654,3.55,6.998,5.283,6.853,4.972,10.704,7.809,7.873,4.372,6.128,7.768,6.269,6.571,5.324,5.534,6.369,6.991,8.096,5.753,6.433,10.938,6.455,5.601,4.653,5.487,6.954,6.164,5.845,7.869,5.507,7.753,8.501,6.839,5.862,5.388,7.386,6.873,6.413,7.904,7.7,6.785,6.547,6.97,6.112,6.03,8.344,8.61,6.665,6.807,8.203,6.246,7.238,7.705,7.496,7.173,7.573,7.65,7.552,5.333,6.347,6.786,2.708,6.278,7.411,7.515,6.455,6.356,6.678,6.73,7.708,6.861,4.923,5.971,10.424,6.955,5.874,7.11,4.779,4.873,8.219,5.964,5.459,5.08,4.708,7.996,6.568,9.689,5.694,7.264,6.872,8.054,6.725,4.232,7.569,6.797,5.356,8.245,5.008,5.862,5.757,8.391,6.195,5.796,6.217,6.247,5.983,5.938,5.199,5.126,6.04,6.238,5.554,5.188,5.34,7.233,4.03,5.821,5.863,8.542,5.104,7.357,6.783,5.257,7.114,5.578,7.315,4.813,5.812,6.265,5.121,5.778,5.912,4.845,5.333,6.056,7.822,7.01,6.033,4.979,6.003,8.719,3.578,5.821,5.784,5.198,7.443,6.862,5.899,7.464,6.563,6.662,7.413,8.393,6.061,4.648,6.154,6.696,5.986,6.501,5.75,8.343,5.73,8.144,5.916,6.058,6.961,7.002,7.783,8.134,7.29,7.93,7.041,5.125,7.267,5.055,6.675,3.737,7.929,6.027,6.94,8.033,9.425,7.914,6.361,4.619,7.435,6.171,6.879,5.972,8.118,7.255,10.522,6.472,6.558,7.29,5.356,6.013,8.239,6.746,6.401,6.579,5.526,6.086,5.464,6.84,11.3,5.803,6.306,9.08,6.082,6.632,6.751,6.157,7.18,8.06,7.071,6.652,7.201,5.547,6.98,4.927,5.892,7.321,6.664,4.904,6.478,7.724,7.281,7.051,5.815,5.906,7.327,6.748,5.788,6.37,4.807,7.712,4.372,7.209,5.381,7.937,7.184,6.078,6.889,7.022,5.753,6.707,2.833,6.983,5.77,5.221,7.604,6.596,7.163,7.519,7.265,5.698,5.82,4.686,8.072,6.736,6.417,7.186,5.277,5.084,4.911,7.415,6.418,5.448,6.048,7.177,6.751,6.529,5.729,5.517,5.668,8.746,6.487,7.539,8.162,9.588,6.427,6.249,6.564,6.454,6.586,6.43,6.283,7.794,5.166,8.243,6.599,5.927,4.335,5.637,7.627,7.512,7.509,8.037,6.487,5.853,6.933,8.619,3.622,6.753,6.712,8.239,7.508,7.542,4.293,7.039,7.257,6.917,6.945,5.805,5.288,5.374,9.235,5.722,8.797,5.825,7.055,6.272,8.296,8.841,6.889,5.373,5.371,8.553,5.751,5.993,6.974,7.53,5.901,6.385,5.951,6.63,6.286,5.977,6.499,7.724,9.956,6.304,6.537,5.069,6.969,5.49,6.819,5.718,8.034,6.758,6.651,7.166,7.0,5.542,5.75,6.918,6.295,6.899,6.285,6.765,6.069,6.026,8.221,7.86,8.183,6.014,7.328,7.254,4.741,5.03,7.496,5.965,8.212,7.871,6.623,3.849,8.557,6.943,6.591,8.603,6.759,6.504,7.04,7.248,6.02,5.863,6.328,6.698,6.339,7.315,7.631,5.126,7.359,6.7,4.959,5.711,7.718,7.192,5.71,6.394,5.452,8.587,5.889,6.449,7.848,6.56,6.424,5.614,5.422,7.986,7.202,5.793,6.002,6.945,5.923,5.789,5.335,6.013,6.387,8.019,8.248,5.529,7.367,10.19,5.018,5.37,4.544,6.281,7.587,5.776,5.795,4.616,6.338,6.742,7.255,3.98,7.018,5.036,6.203,8.806,5.981,5.356,6.491,7.615,7.468,8.146,6.793,6.565,4.695,6.559,7.34,5.791,6.685,6.174,7.343,7.172,5.874,6.146,6.882,6.516,5.894,7.677,7.463,6.467,6.371,6.319,5.712,4.547,7.231,5.384,8.02,7.349,7.301,7.442,6.011,5.717,8.318,5.682,5.179,6.094,5.119,5.039,7.64,7.612,5.355,4.913,5.569,4.838,5.3,6.958,6.447,6.866,10.454,5.847,4.895,5.713,7.53,5.485,5.651,5.707,6.435,5.661,5.216,7.321,6.683,8.2,5.943,6.412,6.484,5.44,12.035,5.545,5.209,6.562,5.743,5.587,1.932,7.518,7.677,5.339,8.156,6.699,4.962,4.913,7.26,7.169,7.375,4.316,6.438,6.624,5.411,5.756,7.501,6.3,7.822,5.802,5.707,6.645,5.396,4.937,6.002,5.896,6.212,6.595,7.209,6.717,6.474,7.377,7.995,4.615,5.901,5.994,7.267,6.144,6.656,4.503,5.896,5.514,6.823,6.774,7.393,4.622,5.092,6.183,5.371,6.953,9.15,9.475,5.671,5.43,5.499,6.121,7.127,8.817,6.987,6.386,6.306,7.236,4.784,5.827,6.668,8.303,7.74,6.827,5.939,8.652,6.73,5.656,8.106,5.641,9.029,6.735,6.237,6.983,5.157,6.421,6.763,4.822,8.226,7.26,6.917,6.498,6.112,4.662,5.748,5.453,6.842,6.14,5.417,6.13,5.364,8.322,5.799,5.199,5.887,5.522,4.5,4.977,6.701,5.492,6.269,6.179,8.116,8.611,4.326,4.864,7.08,6.427,6.227,6.215,5.023,7.881,5.421,5.187,6.701,4.863,6.698,5.808,8.392,5.777,7.691,6.013,7.967,5.384,7.051,7.427,7.137,5.443,6.534,6.189,6.726,5.366,5.672,6.251,8.821,7.101,6.399,8.24,9.063,6.774,4.814,3.667,7.145,4.908,4.779,6.341,5.726,7.207,8.318,7.434,9.004,5.718,7.373,8.042,4.866,5.213,7.479,6.935,11.107,5.781,7.993,7.14,6.046,5.419,7.151,6.169,6.489,4.725,7.6,8.532,8.594,9.549,6.275,6.487,8.016,7.811,7.409,8.192,8.841,7.029,5.709,6.804,8.254,6.407,7.479,5.03,5.678,8.462,6.357,6.631,7.214,5.546,6.955,8.883,6.611,6.403,6.472,7.718,6.035,1.322,5.778,6.142,7.702,7.164,8.879,8.807,6.729,7.324,6.436,7.476,5.335,5.411,7.602,7.297,5.478,4.671,5.912,6.672,5.758,7.096,6.416,7.934,3.526,7.044,8.626,6.17,5.89,6.629,7.715,5.145,6.495,7.433,5.918,5.405,5.505,9.27,6.046,5.741,7.727,4.678,6.388,4.392,7.343,7.442,4.704,5.497,7.087,6.028,5.722,7.058,7.374,5.806,6.286,6.133,6.636,7.023,5.664,6.819,5.735,6.305,6.172,7.41,8.767,6.033,7.381,8.117,6.21,5.882,6.133,6.653,5.834,4.856,5.284,5.787,5.294,7.009,6.025,5.198,5.529,8.062,6.378,9.717,7.534,7.142,9.23,5.367,5.265,5.64,4.825,5.806,5.836,4.976,5.794,3.567,5.929,6.617,5.158,6.22,5.336,6.706,7.942,6.522,8.871,7.648,6.741,2.588,7.307,6.068,6.558,5.608,6.063,6.11,5.259,7.364,6.61,6.25,4.983,5.31,5.669,6.217,7.148,6.788,7.442,5.895,8.204,8.019,6.327,6.834,5.938,7.319,7.846,4.731,5.214,6.432,6.332,5.97,6.974,7.86,5.038,8.863,6.721,5.439,6.297,7.943,7.167,5.937,8.424,5.012,6.334,6.836,5.568,7.905,8.023,7.552,6.705,8.377,6.008,6.075,7.16,7.072,7.153,5.122,3.035,7.643,6.251,5.732,6.032,4.765,6.229,5.456,4.705,5.304,7.676,5.765,6.085,6.478,5.878,5.528,5.842,7.524,6.936,5.951,7.553,8.403,8.606,7.535,7.388,4.837,7.033,5.187,7.387,7.284,6.554,5.687,6.184,8.291,7.309,7.179,6.662,6.791,5.275,5.602,6.369,7.517,9.07,6.824,7.137,4.263,4.563,5.88,5.042,6.777,6.574,4.99,5.941,6.937,6.614,6.072,7.145,4.722,6.109,6.977,6.944,7.459,6.855,5.827,6.465,7.004,6.83,8.64,8.066,5.484,5.989,6.212,7.213,7.073,8.033,5.456,8.563,6.279,7.287,6.752,8.423,7.905,5.718,7.795,7.277,6.726,6.735,5.935,4.777,5.662,5.666,7.603,7.248,7.919,7.354,7.626,7.596,7.588,8.25,7.481,5.71,7.189,6.93,6.861,6.879,7.391,3.239,6.501,9.287,6.781,5.096,5.445,6.686,6.73,4.755,5.056,6.408,5.728,4.93,5.844,5.684,5.44,6.897,5.057,7.809,8.495,6.024,7.039,5.941,9.273,6.118,6.361,6.892,6.62,7.447,4.827,7.432,5.365,5.797,5.528,5.765,7.144,7.339,8.166,7.447,5.681,7.811,5.067,5.33,6.728,5.416,5.761,8.234,4.093,7.275,5.724,6.568,6.664,5.48,8.116,4.97,5.318,7.814,5.95,6.097,7.647,7.438,5.571,6.921,6.54,5.669,8.178,7.355,5.951,5.319,7.748,5.424,7.931,6.965,4.732,7.577,4.738,8.067,5.813,5.795,6.033,5.975,6.845,7.553,5.764,8.199,8.047,6.035,5.252,5.01,6.31,6.82,5.752,8.221,5.947,7.034,9.053,6.862,5.144,5.635,5.764,5.945,5.598,5.855,5.183,5.603,5.675,5.481,6.365,7.134,4.15,6.31,5.692,5.76,6.638,7.673,4.68,6.971,5.505,5.236,7.43,7.407,5.02,6.956,7.257,6.836,6.24,6.311,7.525,6.304,4.853,6.211,6.487,5.095,7.035,5.522,9.063,4.416,7.233,6.468,7.753,7.835,8.745,7.863,7.091,6.488,6.81,6.894,4.573,6.26,5.897,5.166,6.203,5.727,7.591,8.779,5.495,9.422,6.525,5.266,5.06,6.253,7.872,5.434,7.053,4.588,7.156,6.375,7.462,7.239,5.183,5.952,5.888,4.851,6.343,6.191,5.744,8.404,8.47,5.121,7.538,6.101,6.036,7.198,6.472,6.206,5.992,5.314,8.309,5.965,9.917,4.181,5.265,5.818,5.546,7.896,6.616,7.139,10.368,6.232,6.034,5.317,8.9,6.524,6.482,7.649,7.876,5.576,10.371,6.939,7.689,3.486,6.649,7.102,6.658,7.137,6.657,6.23,8.838,6.139,8.349,6.395,7.591,6.549,6.632,8.525,4.613,9.756,6.263,5.583,6.0,5.902,5.714,7.772,5.377,5.962,5.228,7.718,6.281,7.986,4.795,6.294,7.832,12.178,7.451,6.188,6.249,4.881,5.521,7.46,5.757,6.488,6.434,6.601,6.516,7.537,5.67,6.638,4.92,7.534,7.026,6.548,5.27,6.238,7.135,6.026,5.984,5.931,7.646,8.177,5.926,6.21,5.602,5.607,6.434,7.037,5.665,6.535,6.326,8.005,7.044,5.711,6.406,5.959,8.713,5.732,11.419,7.981,6.241,5.341,6.46,6.64,5.037,7.52,6.304,6.584,6.976,6.481,4.977,6.047,7.087,6.845,8.197,7.769,5.693,5.409,5.102,4.337,6.789,4.589,6.361,5.14,6.465,4.638,5.003,5.588,5.671,6.836,7.305,7.577,6.174,5.062,6.294,6.751,5.107,7.023,6.118,6.768,8.374,5.841,7.262,5.424,5.942,5.224,8.179,4.966,6.107,5.374,9.308,5.166,7.125,7.018,7.123,7.785,7.292,7.698,8.275,6.901,5.958,7.94,7.623,5.086,4.754,8.528,5.978,5.735,5.257,7.008,8.284,7.625,8.422,5.957,5.798,6.348,6.835,5.368,4.4,7.23,6.267,6.738,7.611,4.327,7.503,6.222,6.27,7.189,7.766,5.654,6.305,4.687,6.432,6.568,4.621,7.971,6.916,4.891,7.494,6.767,5.112,8.28,8.49,7.096,4.767,7.878,7.423,6.389,8.006,5.186,7.497,6.405,6.591,7.628,5.851,8.134,5.326,7.361,8.064,7.375,6.312,9.922,7.223,9.702,5.697,7.597,5.217,7.814,5.478,8.057,8.655,8.461,5.671,6.608,5.301,5.646,6.64,7.734,5.826,5.043,7.838,6.035,7.509,6.683,6.786,7.509,9.26,5.027,5.573,4.923,5.954,6.259,5.03,5.788,8.64,4.937,8.593,7.087,7.793,8.095,6.94,8.143,6.966,7.964,8.575,7.123,5.717,6.54,6.552,9.481,5.933,5.125,7.539,7.934,5.872,7.75,4.703,4.268,6.514,7.445,4.39,7.417,8.629,8.134,6.709,5.662,6.569,2.708,6.65,5.907,5.603,7.641,8.283,7.042,5.505,5.156,7.101,4.032,6.473,6.477,5.237,5.647,4.882,5.587,7.505,7.019,5.42,7.583,4.664,5.705,5.837,6.537,6.66,8.019,7.079,7.159,6.239,6.303,8.596,8.957,6.551,7.437,3.599,5.96,8.217,5.698,7.595,7.507,6.79,5.988,3.567,5.046,5.836,4.702,7.34,7.909,5.763,10.61,5.325,3.943,7.617,6.804,6.407,8.593,4.739,5.741,5.342,7.257,10.199,8.545,4.955,5.423,7.649,5.802,8.058,6.319,9.262,5.798,7.054,6.06,7.531,5.049,7.522,6.527,5.471,5.939,5.185,6.129,4.893,6.499,6.544,5.052,6.768,4.713,6.574,5.305,6.375,5.317,5.498,4.675,7.02,4.559,5.546,6.295,5.024,5.041,4.72,4.704,5.199,6.683,4.289,5.447,5.903,5.737,6.013,5.797,5.814,7.173,8.323,6.71,5.335,7.994,5.497,5.985,5.359,6.737,7.462,6.012,7.194,6.557,4.982,5.941,8.367,4.597,8.299,5.719,4.35,5.008,5.174,5.882,10.977,6.178,6.916,7.747,6.323,2.546,4.716,6.231,4.301,7.167,4.629,6.138,7.863,7.002,4.721,5.58,5.43,6.333,4.907,5.82,6.557,8.408,5.774,5.663,5.707,6.596,6.699,5.028,6.448,3.035,5.291,5.304,6.447,4.536,6.515,4.332,7.582,5.941,6.029,5.062,5.423,6.097,7.657,5.511,5.164,4.633,5.233,5.089,4.788,7.298,6.26,4.805,3.649,6.418,5.966,4.748,5.441,4.297,4.541,6.037,6.571,5.999,4.249,5.878,8.318,5.106,6.272,7.644,5.184,5.149,4.309,5.704,8.819,5.896,5.137,5.725,7.659,6.58,6.702,7.78,5.762,5.982,4.622,7.606,6.116,5.511,8.258,6.194,7.868,7.857,5.817,8.192,7.116,5.839,6.523,4.505,6.537,4.618,8.308,5.112,9.113,7.653,8.012,6.363,6.744,7.887,5.126,5.404,12.467,6.626,4.732,6.045,5.602,8.988,5.292,5.866,4.335,5.394,7.246,5.755,8.635,5.197,4.711,6.482,7.492,6.353,7.032,5.303,5.85,4.723,6.965,6.837,6.525,6.665,5.028,9.041,6.927,6.908,7.969,7.959,5.077,5.189,6.417,6.34,6.482,5.989,5.918,6.516,6.117,6.273,6.458,7.389,5.991,5.712,7.233,7.056,5.311,6.888,7.116,8.931,7.653,4.644,6.166,7.201,7.372,7.492,7.52,5.905,6.449,3.908,5.718,7.601,6.994,5.651,5.337,6.865,5.496,6.881,6.532,8.599,5.013,7.242,5.078,7.589,6.249,4.935,7.871,6.397,5.376,5.449,5.702,6.177,6.433,6.464,7.635,5.721,6.949,6.094,8.777,5.069,8.613,8.562,4.541,6.659,8.892,7.941,7.636,6.385,6.087,7.494,6.782,6.895,7.353,6.046,7.637,7.711,7.851,6.39,6.69,4.557,5.856,8.37,6.25,4.638,7.757,7.757,7.874,5.781,5.007,7.101,6.686,3.239,5.128,5.646,8.032,5.318,5.17,5.817,4.704,5.158,5.196,4.392,5.182,7.623,7.516],\"xaxis\":\"x2\",\"yaxis\":\"y2\",\"type\":\"box\"}],                        {\"template\":{\"data\":{\"histogram2dcontour\":[{\"type\":\"histogram2dcontour\",\"colorbar\":{\"outlinewidth\":0,\"ticks\":\"\"},\"colorscale\":[[0.0,\"#0d0887\"],[0.1111111111111111,\"#46039f\"],[0.2222222222222222,\"#7201a8\"],[0.3333333333333333,\"#9c179e\"],[0.4444444444444444,\"#bd3786\"],[0.5555555555555556,\"#d8576b\"],[0.6666666666666666,\"#ed7953\"],[0.7777777777777778,\"#fb9f3a\"],[0.8888888888888888,\"#fdca26\"],[1.0,\"#f0f921\"]]}],\"choropleth\":[{\"type\":\"choropleth\",\"colorbar\":{\"outlinewidth\":0,\"ticks\":\"\"}}],\"histogram2d\":[{\"type\":\"histogram2d\",\"colorbar\":{\"outlinewidth\":0,\"ticks\":\"\"},\"colorscale\":[[0.0,\"#0d0887\"],[0.1111111111111111,\"#46039f\"],[0.2222222222222222,\"#7201a8\"],[0.3333333333333333,\"#9c179e\"],[0.4444444444444444,\"#bd3786\"],[0.5555555555555556,\"#d8576b\"],[0.6666666666666666,\"#ed7953\"],[0.7777777777777778,\"#fb9f3a\"],[0.8888888888888888,\"#fdca26\"],[1.0,\"#f0f921\"]]}],\"heatmap\":[{\"type\":\"heatmap\",\"colorbar\":{\"outlinewidth\":0,\"ticks\":\"\"},\"colorscale\":[[0.0,\"#0d0887\"],[0.1111111111111111,\"#46039f\"],[0.2222222222222222,\"#7201a8\"],[0.3333333333333333,\"#9c179e\"],[0.4444444444444444,\"#bd3786\"],[0.5555555555555556,\"#d8576b\"],[0.6666666666666666,\"#ed7953\"],[0.7777777777777778,\"#fb9f3a\"],[0.8888888888888888,\"#fdca26\"],[1.0,\"#f0f921\"]]}],\"heatmapgl\":[{\"type\":\"heatmapgl\",\"colorbar\":{\"outlinewidth\":0,\"ticks\":\"\"},\"colorscale\":[[0.0,\"#0d0887\"],[0.1111111111111111,\"#46039f\"],[0.2222222222222222,\"#7201a8\"],[0.3333333333333333,\"#9c179e\"],[0.4444444444444444,\"#bd3786\"],[0.5555555555555556,\"#d8576b\"],[0.6666666666666666,\"#ed7953\"],[0.7777777777777778,\"#fb9f3a\"],[0.8888888888888888,\"#fdca26\"],[1.0,\"#f0f921\"]]}],\"contourcarpet\":[{\"type\":\"contourcarpet\",\"colorbar\":{\"outlinewidth\":0,\"ticks\":\"\"}}],\"contour\":[{\"type\":\"contour\",\"colorbar\":{\"outlinewidth\":0,\"ticks\":\"\"},\"colorscale\":[[0.0,\"#0d0887\"],[0.1111111111111111,\"#46039f\"],[0.2222222222222222,\"#7201a8\"],[0.3333333333333333,\"#9c179e\"],[0.4444444444444444,\"#bd3786\"],[0.5555555555555556,\"#d8576b\"],[0.6666666666666666,\"#ed7953\"],[0.7777777777777778,\"#fb9f3a\"],[0.8888888888888888,\"#fdca26\"],[1.0,\"#f0f921\"]]}],\"surface\":[{\"type\":\"surface\",\"colorbar\":{\"outlinewidth\":0,\"ticks\":\"\"},\"colorscale\":[[0.0,\"#0d0887\"],[0.1111111111111111,\"#46039f\"],[0.2222222222222222,\"#7201a8\"],[0.3333333333333333,\"#9c179e\"],[0.4444444444444444,\"#bd3786\"],[0.5555555555555556,\"#d8576b\"],[0.6666666666666666,\"#ed7953\"],[0.7777777777777778,\"#fb9f3a\"],[0.8888888888888888,\"#fdca26\"],[1.0,\"#f0f921\"]]}],\"mesh3d\":[{\"type\":\"mesh3d\",\"colorbar\":{\"outlinewidth\":0,\"ticks\":\"\"}}],\"scatter\":[{\"fillpattern\":{\"fillmode\":\"overlay\",\"size\":10,\"solidity\":0.2},\"type\":\"scatter\"}],\"parcoords\":[{\"type\":\"parcoords\",\"line\":{\"colorbar\":{\"outlinewidth\":0,\"ticks\":\"\"}}}],\"scatterpolargl\":[{\"type\":\"scatterpolargl\",\"marker\":{\"colorbar\":{\"outlinewidth\":0,\"ticks\":\"\"}}}],\"bar\":[{\"error_x\":{\"color\":\"#2a3f5f\"},\"error_y\":{\"color\":\"#2a3f5f\"},\"marker\":{\"line\":{\"color\":\"#E5ECF6\",\"width\":0.5},\"pattern\":{\"fillmode\":\"overlay\",\"size\":10,\"solidity\":0.2}},\"type\":\"bar\"}],\"scattergeo\":[{\"type\":\"scattergeo\",\"marker\":{\"colorbar\":{\"outlinewidth\":0,\"ticks\":\"\"}}}],\"scatterpolar\":[{\"type\":\"scatterpolar\",\"marker\":{\"colorbar\":{\"outlinewidth\":0,\"ticks\":\"\"}}}],\"histogram\":[{\"marker\":{\"pattern\":{\"fillmode\":\"overlay\",\"size\":10,\"solidity\":0.2}},\"type\":\"histogram\"}],\"scattergl\":[{\"type\":\"scattergl\",\"marker\":{\"colorbar\":{\"outlinewidth\":0,\"ticks\":\"\"}}}],\"scatter3d\":[{\"type\":\"scatter3d\",\"line\":{\"colorbar\":{\"outlinewidth\":0,\"ticks\":\"\"}},\"marker\":{\"colorbar\":{\"outlinewidth\":0,\"ticks\":\"\"}}}],\"scattermapbox\":[{\"type\":\"scattermapbox\",\"marker\":{\"colorbar\":{\"outlinewidth\":0,\"ticks\":\"\"}}}],\"scatterternary\":[{\"type\":\"scatterternary\",\"marker\":{\"colorbar\":{\"outlinewidth\":0,\"ticks\":\"\"}}}],\"scattercarpet\":[{\"type\":\"scattercarpet\",\"marker\":{\"colorbar\":{\"outlinewidth\":0,\"ticks\":\"\"}}}],\"carpet\":[{\"aaxis\":{\"endlinecolor\":\"#2a3f5f\",\"gridcolor\":\"white\",\"linecolor\":\"white\",\"minorgridcolor\":\"white\",\"startlinecolor\":\"#2a3f5f\"},\"baxis\":{\"endlinecolor\":\"#2a3f5f\",\"gridcolor\":\"white\",\"linecolor\":\"white\",\"minorgridcolor\":\"white\",\"startlinecolor\":\"#2a3f5f\"},\"type\":\"carpet\"}],\"table\":[{\"cells\":{\"fill\":{\"color\":\"#EBF0F8\"},\"line\":{\"color\":\"white\"}},\"header\":{\"fill\":{\"color\":\"#C8D4E3\"},\"line\":{\"color\":\"white\"}},\"type\":\"table\"}],\"barpolar\":[{\"marker\":{\"line\":{\"color\":\"#E5ECF6\",\"width\":0.5},\"pattern\":{\"fillmode\":\"overlay\",\"size\":10,\"solidity\":0.2}},\"type\":\"barpolar\"}],\"pie\":[{\"automargin\":true,\"type\":\"pie\"}]},\"layout\":{\"autotypenumbers\":\"strict\",\"colorway\":[\"#636efa\",\"#EF553B\",\"#00cc96\",\"#ab63fa\",\"#FFA15A\",\"#19d3f3\",\"#FF6692\",\"#B6E880\",\"#FF97FF\",\"#FECB52\"],\"font\":{\"color\":\"#2a3f5f\"},\"hovermode\":\"closest\",\"hoverlabel\":{\"align\":\"left\"},\"paper_bgcolor\":\"white\",\"plot_bgcolor\":\"#E5ECF6\",\"polar\":{\"bgcolor\":\"#E5ECF6\",\"angularaxis\":{\"gridcolor\":\"white\",\"linecolor\":\"white\",\"ticks\":\"\"},\"radialaxis\":{\"gridcolor\":\"white\",\"linecolor\":\"white\",\"ticks\":\"\"}},\"ternary\":{\"bgcolor\":\"#E5ECF6\",\"aaxis\":{\"gridcolor\":\"white\",\"linecolor\":\"white\",\"ticks\":\"\"},\"baxis\":{\"gridcolor\":\"white\",\"linecolor\":\"white\",\"ticks\":\"\"},\"caxis\":{\"gridcolor\":\"white\",\"linecolor\":\"white\",\"ticks\":\"\"}},\"coloraxis\":{\"colorbar\":{\"outlinewidth\":0,\"ticks\":\"\"}},\"colorscale\":{\"sequential\":[[0.0,\"#0d0887\"],[0.1111111111111111,\"#46039f\"],[0.2222222222222222,\"#7201a8\"],[0.3333333333333333,\"#9c179e\"],[0.4444444444444444,\"#bd3786\"],[0.5555555555555556,\"#d8576b\"],[0.6666666666666666,\"#ed7953\"],[0.7777777777777778,\"#fb9f3a\"],[0.8888888888888888,\"#fdca26\"],[1.0,\"#f0f921\"]],\"sequentialminus\":[[0.0,\"#0d0887\"],[0.1111111111111111,\"#46039f\"],[0.2222222222222222,\"#7201a8\"],[0.3333333333333333,\"#9c179e\"],[0.4444444444444444,\"#bd3786\"],[0.5555555555555556,\"#d8576b\"],[0.6666666666666666,\"#ed7953\"],[0.7777777777777778,\"#fb9f3a\"],[0.8888888888888888,\"#fdca26\"],[1.0,\"#f0f921\"]],\"diverging\":[[0,\"#8e0152\"],[0.1,\"#c51b7d\"],[0.2,\"#de77ae\"],[0.3,\"#f1b6da\"],[0.4,\"#fde0ef\"],[0.5,\"#f7f7f7\"],[0.6,\"#e6f5d0\"],[0.7,\"#b8e186\"],[0.8,\"#7fbc41\"],[0.9,\"#4d9221\"],[1,\"#276419\"]]},\"xaxis\":{\"gridcolor\":\"white\",\"linecolor\":\"white\",\"ticks\":\"\",\"title\":{\"standoff\":15},\"zerolinecolor\":\"white\",\"automargin\":true,\"zerolinewidth\":2},\"yaxis\":{\"gridcolor\":\"white\",\"linecolor\":\"white\",\"ticks\":\"\",\"title\":{\"standoff\":15},\"zerolinecolor\":\"white\",\"automargin\":true,\"zerolinewidth\":2},\"scene\":{\"xaxis\":{\"backgroundcolor\":\"#E5ECF6\",\"gridcolor\":\"white\",\"linecolor\":\"white\",\"showbackground\":true,\"ticks\":\"\",\"zerolinecolor\":\"white\",\"gridwidth\":2},\"yaxis\":{\"backgroundcolor\":\"#E5ECF6\",\"gridcolor\":\"white\",\"linecolor\":\"white\",\"showbackground\":true,\"ticks\":\"\",\"zerolinecolor\":\"white\",\"gridwidth\":2},\"zaxis\":{\"backgroundcolor\":\"#E5ECF6\",\"gridcolor\":\"white\",\"linecolor\":\"white\",\"showbackground\":true,\"ticks\":\"\",\"zerolinecolor\":\"white\",\"gridwidth\":2}},\"shapedefaults\":{\"line\":{\"color\":\"#2a3f5f\"}},\"annotationdefaults\":{\"arrowcolor\":\"#2a3f5f\",\"arrowhead\":0,\"arrowwidth\":1},\"geo\":{\"bgcolor\":\"white\",\"landcolor\":\"#E5ECF6\",\"subunitcolor\":\"white\",\"showland\":true,\"showlakes\":true,\"lakecolor\":\"white\"},\"title\":{\"x\":0.05},\"mapbox\":{\"style\":\"light\"}}},\"xaxis\":{\"anchor\":\"y\",\"domain\":[0.0,1.0],\"title\":{\"text\":\"value\"}},\"yaxis\":{\"anchor\":\"x\",\"domain\":[0.0,0.7326],\"title\":{\"text\":\"count\"}},\"xaxis2\":{\"anchor\":\"y2\",\"domain\":[0.0,1.0],\"matches\":\"x\",\"showticklabels\":false,\"showgrid\":true},\"yaxis2\":{\"anchor\":\"x2\",\"domain\":[0.7426,1.0],\"matches\":\"y2\",\"showticklabels\":false,\"showline\":false,\"ticks\":\"\",\"showgrid\":false},\"legend\":{\"title\":{\"text\":\"variable\"},\"tracegroupgap\":0},\"title\":{\"text\":\"Monetary distribution\"},\"barmode\":\"relative\"},                        {\"responsive\": true}                    ).then(function(){\n",
       "                            \n",
       "var gd = document.getElementById('6b6114cb-7c6b-4094-afbb-350003415b52');\n",
       "var x = new MutationObserver(function (mutations, observer) {{\n",
       "        var display = window.getComputedStyle(gd).display;\n",
       "        if (!display || display === 'none') {{\n",
       "            console.log([gd, 'removed!']);\n",
       "            Plotly.purge(gd);\n",
       "            observer.disconnect();\n",
       "        }}\n",
       "}});\n",
       "\n",
       "// Listen for the removal of the full notebook cells\n",
       "var notebookContainer = gd.closest('#notebook-container');\n",
       "if (notebookContainer) {{\n",
       "    x.observe(notebookContainer, {childList: true});\n",
       "}}\n",
       "\n",
       "// Listen for the clearing of the current output cell\n",
       "var outputEl = gd.closest('.output');\n",
       "if (outputEl) {{\n",
       "    x.observe(outputEl, {childList: true});\n",
       "}}\n",
       "\n",
       "                        })                };                });            </script>        </div>"
      ]
     },
     "metadata": {},
     "output_type": "display_data"
    }
   ],
   "source": [
    "#Data distribution after data normalization for Monetary\n",
    "#Monetary_Plot = Log_Tfd_Data.query('Monetary < 10000')['Monetary']\n",
    "#ax = sns.histplot(Monetary_Plot)\n",
    "Monetary_Plot = Log_Tfd_Data.query('Monetary < 10000')['Monetary']\n",
    "fig3 = px.histogram(Monetary_Plot, nbins=50, opacity=0.7, marginal='rug', title='Monetary distribution')\n",
    "fig3.show()"
   ]
  },
  {
   "cell_type": "markdown",
   "id": "fa0f7f21",
   "metadata": {
    "papermill": {
     "duration": 0.018117,
     "end_time": "2023-02-25T23:11:46.152362",
     "exception": false,
     "start_time": "2023-02-25T23:11:46.134245",
     "status": "completed"
    },
    "tags": []
   },
   "source": [
    "# Descriptive Statistics for R F M"
   ]
  },
  {
   "cell_type": "code",
   "execution_count": 22,
   "id": "514f637d",
   "metadata": {
    "execution": {
     "iopub.execute_input": "2023-02-25T23:11:46.192546Z",
     "iopub.status.busy": "2023-02-25T23:11:46.192139Z",
     "iopub.status.idle": "2023-02-25T23:11:46.202717Z",
     "shell.execute_reply": "2023-02-25T23:11:46.201523Z"
    },
    "papermill": {
     "duration": 0.033089,
     "end_time": "2023-02-25T23:11:46.205059",
     "exception": false,
     "start_time": "2023-02-25T23:11:46.171970",
     "status": "completed"
    },
    "tags": []
   },
   "outputs": [
    {
     "data": {
      "text/plain": [
       "count    4339.000000\n",
       "mean       91.539756\n",
       "std        99.990232\n",
       "min         1.000000\n",
       "25%        17.000000\n",
       "50%        50.000000\n",
       "75%       141.000000\n",
       "max       373.000000\n",
       "Name: Recency, dtype: float64"
      ]
     },
     "execution_count": 22,
     "metadata": {},
     "output_type": "execute_result"
    }
   ],
   "source": [
    "#Descriptive Statistics (Recency)\n",
    "RFM.Recency.describe()"
   ]
  },
  {
   "cell_type": "code",
   "execution_count": 23,
   "id": "187dbc80",
   "metadata": {
    "execution": {
     "iopub.execute_input": "2023-02-25T23:11:46.246110Z",
     "iopub.status.busy": "2023-02-25T23:11:46.245563Z",
     "iopub.status.idle": "2023-02-25T23:11:46.254301Z",
     "shell.execute_reply": "2023-02-25T23:11:46.253186Z"
    },
    "papermill": {
     "duration": 0.031812,
     "end_time": "2023-02-25T23:11:46.256170",
     "exception": false,
     "start_time": "2023-02-25T23:11:46.224358",
     "status": "completed"
    },
    "tags": []
   },
   "outputs": [
    {
     "data": {
      "text/plain": [
       "count    4339.000000\n",
       "mean       90.512100\n",
       "std       225.515328\n",
       "min         1.000000\n",
       "25%        17.000000\n",
       "50%        41.000000\n",
       "75%        98.000000\n",
       "max      7676.000000\n",
       "Name: Frequency, dtype: float64"
      ]
     },
     "execution_count": 23,
     "metadata": {},
     "output_type": "execute_result"
    }
   ],
   "source": [
    "#Descriptive Statistics (Frequency)\n",
    "RFM.Frequency.describe()\n"
   ]
  },
  {
   "cell_type": "code",
   "execution_count": 24,
   "id": "a110d419",
   "metadata": {
    "execution": {
     "iopub.execute_input": "2023-02-25T23:11:46.298190Z",
     "iopub.status.busy": "2023-02-25T23:11:46.297633Z",
     "iopub.status.idle": "2023-02-25T23:11:46.305864Z",
     "shell.execute_reply": "2023-02-25T23:11:46.305126Z"
    },
    "papermill": {
     "duration": 0.031309,
     "end_time": "2023-02-25T23:11:46.307734",
     "exception": false,
     "start_time": "2023-02-25T23:11:46.276425",
     "status": "completed"
    },
    "tags": []
   },
   "outputs": [
    {
     "data": {
      "text/plain": [
       "count      4339.000000\n",
       "mean       2048.216154\n",
       "std        8984.248299\n",
       "min           1.000000\n",
       "25%         306.455000\n",
       "50%         668.560000\n",
       "75%        1660.315000\n",
       "max      280206.020000\n",
       "Name: Monetary, dtype: float64"
      ]
     },
     "execution_count": 24,
     "metadata": {},
     "output_type": "execute_result"
    }
   ],
   "source": [
    "#Descriptive Statistics (Monetary)\n",
    "RFM.Monetary.describe()"
   ]
  },
  {
   "cell_type": "markdown",
   "id": "0984eac2",
   "metadata": {
    "papermill": {
     "duration": 0.01937,
     "end_time": "2023-02-25T23:11:46.346570",
     "exception": false,
     "start_time": "2023-02-25T23:11:46.327200",
     "status": "completed"
    },
    "tags": []
   },
   "source": [
    "# Split into Four Segments"
   ]
  },
  {
   "cell_type": "code",
   "execution_count": 25,
   "id": "c16fb48e",
   "metadata": {
    "execution": {
     "iopub.execute_input": "2023-02-25T23:11:46.387546Z",
     "iopub.status.busy": "2023-02-25T23:11:46.387076Z",
     "iopub.status.idle": "2023-02-25T23:11:46.394653Z",
     "shell.execute_reply": "2023-02-25T23:11:46.393099Z"
    },
    "papermill": {
     "duration": 0.031061,
     "end_time": "2023-02-25T23:11:46.397223",
     "exception": false,
     "start_time": "2023-02-25T23:11:46.366162",
     "status": "completed"
    },
    "tags": []
   },
   "outputs": [],
   "source": [
    "#Split into three segments using quantiles\n",
    "quantiles = RFM.quantile(q=[0.25,0.5,0.75])\n",
    "quantiles = quantiles.to_dict()\n"
   ]
  },
  {
   "cell_type": "code",
   "execution_count": 26,
   "id": "4f9454d5",
   "metadata": {
    "execution": {
     "iopub.execute_input": "2023-02-25T23:11:46.440115Z",
     "iopub.status.busy": "2023-02-25T23:11:46.439687Z",
     "iopub.status.idle": "2023-02-25T23:11:46.446250Z",
     "shell.execute_reply": "2023-02-25T23:11:46.445115Z"
    },
    "papermill": {
     "duration": 0.030529,
     "end_time": "2023-02-25T23:11:46.448957",
     "exception": false,
     "start_time": "2023-02-25T23:11:46.418428",
     "status": "completed"
    },
    "tags": []
   },
   "outputs": [
    {
     "data": {
      "text/plain": [
       "{'CustomerID': {0.25: 13812.5, 0.5: 15299.0, 0.75: 16778.5},\n",
       " 'Recency': {0.25: 17.0, 0.5: 50.0, 0.75: 141.0},\n",
       " 'Frequency': {0.25: 17.0, 0.5: 41.0, 0.75: 98.0},\n",
       " 'Monetary': {0.25: 306.455, 0.5: 668.5600000000001, 0.75: 1660.315}}"
      ]
     },
     "execution_count": 26,
     "metadata": {},
     "output_type": "execute_result"
    }
   ],
   "source": [
    "quantiles"
   ]
  },
  {
   "cell_type": "code",
   "execution_count": 27,
   "id": "11dde4b9",
   "metadata": {
    "execution": {
     "iopub.execute_input": "2023-02-25T23:11:46.489476Z",
     "iopub.status.busy": "2023-02-25T23:11:46.489089Z",
     "iopub.status.idle": "2023-02-25T23:11:46.496952Z",
     "shell.execute_reply": "2023-02-25T23:11:46.495662Z"
    },
    "papermill": {
     "duration": 0.031462,
     "end_time": "2023-02-25T23:11:46.499694",
     "exception": false,
     "start_time": "2023-02-25T23:11:46.468232",
     "status": "completed"
    },
    "tags": []
   },
   "outputs": [],
   "source": [
    " #Functions to create R, F and M segments\n",
    "def RScoring(x,p,d):\n",
    "    if x <= d[p][0.25]:\n",
    "        return 1\n",
    "    elif x <= d[p][0.50]:\n",
    "        return 2\n",
    "    elif x <= d[p][0.75]: \n",
    "        return 3\n",
    "    else:\n",
    "        return 4\n",
    "def FnMScoring(x,p,d):\n",
    "    if x <= d[p][0.25]:\n",
    "        return 4\n",
    "    elif x <= d[p][0.50]:\n",
    "        return 3\n",
    "    elif x <= d[p][0.75]: \n",
    "        return 2\n",
    "    else:\n",
    "        return 1"
   ]
  },
  {
   "cell_type": "code",
   "execution_count": 28,
   "id": "f308da61",
   "metadata": {
    "execution": {
     "iopub.execute_input": "2023-02-25T23:11:46.539425Z",
     "iopub.status.busy": "2023-02-25T23:11:46.539057Z",
     "iopub.status.idle": "2023-02-25T23:11:46.569308Z",
     "shell.execute_reply": "2023-02-25T23:11:46.568218Z"
    },
    "papermill": {
     "duration": 0.052337,
     "end_time": "2023-02-25T23:11:46.571292",
     "exception": false,
     "start_time": "2023-02-25T23:11:46.518955",
     "status": "completed"
    },
    "tags": []
   },
   "outputs": [
    {
     "data": {
      "text/html": [
       "<div>\n",
       "<style scoped>\n",
       "    .dataframe tbody tr th:only-of-type {\n",
       "        vertical-align: middle;\n",
       "    }\n",
       "\n",
       "    .dataframe tbody tr th {\n",
       "        vertical-align: top;\n",
       "    }\n",
       "\n",
       "    .dataframe thead th {\n",
       "        text-align: right;\n",
       "    }\n",
       "</style>\n",
       "<table border=\"1\" class=\"dataframe\">\n",
       "  <thead>\n",
       "    <tr style=\"text-align: right;\">\n",
       "      <th></th>\n",
       "      <th>CustomerID</th>\n",
       "      <th>Recency</th>\n",
       "      <th>Frequency</th>\n",
       "      <th>Monetary</th>\n",
       "      <th>R</th>\n",
       "      <th>F</th>\n",
       "      <th>M</th>\n",
       "    </tr>\n",
       "  </thead>\n",
       "  <tbody>\n",
       "    <tr>\n",
       "      <th>0</th>\n",
       "      <td>12346.0</td>\n",
       "      <td>325</td>\n",
       "      <td>1</td>\n",
       "      <td>77183.60</td>\n",
       "      <td>4</td>\n",
       "      <td>4</td>\n",
       "      <td>1</td>\n",
       "    </tr>\n",
       "    <tr>\n",
       "      <th>1</th>\n",
       "      <td>12347.0</td>\n",
       "      <td>1</td>\n",
       "      <td>182</td>\n",
       "      <td>4310.00</td>\n",
       "      <td>1</td>\n",
       "      <td>1</td>\n",
       "      <td>1</td>\n",
       "    </tr>\n",
       "    <tr>\n",
       "      <th>2</th>\n",
       "      <td>12348.0</td>\n",
       "      <td>74</td>\n",
       "      <td>31</td>\n",
       "      <td>1797.24</td>\n",
       "      <td>3</td>\n",
       "      <td>3</td>\n",
       "      <td>1</td>\n",
       "    </tr>\n",
       "    <tr>\n",
       "      <th>3</th>\n",
       "      <td>12349.0</td>\n",
       "      <td>18</td>\n",
       "      <td>73</td>\n",
       "      <td>1757.55</td>\n",
       "      <td>2</td>\n",
       "      <td>2</td>\n",
       "      <td>1</td>\n",
       "    </tr>\n",
       "    <tr>\n",
       "      <th>4</th>\n",
       "      <td>12350.0</td>\n",
       "      <td>309</td>\n",
       "      <td>17</td>\n",
       "      <td>334.40</td>\n",
       "      <td>4</td>\n",
       "      <td>4</td>\n",
       "      <td>3</td>\n",
       "    </tr>\n",
       "  </tbody>\n",
       "</table>\n",
       "</div>"
      ],
      "text/plain": [
       "   CustomerID  Recency  Frequency  Monetary  R  F  M\n",
       "0     12346.0      325          1  77183.60  4  4  1\n",
       "1     12347.0        1        182   4310.00  1  1  1\n",
       "2     12348.0       74         31   1797.24  3  3  1\n",
       "3     12349.0       18         73   1757.55  2  2  1\n",
       "4     12350.0      309         17    334.40  4  4  3"
      ]
     },
     "execution_count": 28,
     "metadata": {},
     "output_type": "execute_result"
    }
   ],
   "source": [
    "#Calculate Add R, F and M segment value columns in the existing dataset to show R, F and M segment values\n",
    "RFM['R'] = RFM['Recency'].apply(RScoring, args=('Recency',quantiles,))\n",
    "RFM['F'] = RFM['Frequency'].apply(FnMScoring, args=('Frequency',quantiles,))\n",
    "RFM['M'] = RFM['Monetary'].apply(FnMScoring, args=('Monetary',quantiles,))\n",
    "RFM.head()"
   ]
  },
  {
   "cell_type": "code",
   "execution_count": 29,
   "id": "d89ba197",
   "metadata": {
    "execution": {
     "iopub.execute_input": "2023-02-25T23:11:46.612818Z",
     "iopub.status.busy": "2023-02-25T23:11:46.612373Z",
     "iopub.status.idle": "2023-02-25T23:11:46.633934Z",
     "shell.execute_reply": "2023-02-25T23:11:46.632879Z"
    },
    "papermill": {
     "duration": 0.044809,
     "end_time": "2023-02-25T23:11:46.636023",
     "exception": false,
     "start_time": "2023-02-25T23:11:46.591214",
     "status": "completed"
    },
    "tags": []
   },
   "outputs": [
    {
     "data": {
      "text/html": [
       "<div>\n",
       "<style scoped>\n",
       "    .dataframe tbody tr th:only-of-type {\n",
       "        vertical-align: middle;\n",
       "    }\n",
       "\n",
       "    .dataframe tbody tr th {\n",
       "        vertical-align: top;\n",
       "    }\n",
       "\n",
       "    .dataframe thead th {\n",
       "        text-align: right;\n",
       "    }\n",
       "</style>\n",
       "<table border=\"1\" class=\"dataframe\">\n",
       "  <thead>\n",
       "    <tr style=\"text-align: right;\">\n",
       "      <th></th>\n",
       "      <th>CustomerID</th>\n",
       "      <th>Recency</th>\n",
       "      <th>Frequency</th>\n",
       "      <th>Monetary</th>\n",
       "      <th>R</th>\n",
       "      <th>F</th>\n",
       "      <th>M</th>\n",
       "      <th>RFMGroup</th>\n",
       "      <th>RFMScore</th>\n",
       "    </tr>\n",
       "  </thead>\n",
       "  <tbody>\n",
       "    <tr>\n",
       "      <th>0</th>\n",
       "      <td>12346.0</td>\n",
       "      <td>325</td>\n",
       "      <td>1</td>\n",
       "      <td>77183.60</td>\n",
       "      <td>4</td>\n",
       "      <td>4</td>\n",
       "      <td>1</td>\n",
       "      <td>441</td>\n",
       "      <td>9</td>\n",
       "    </tr>\n",
       "    <tr>\n",
       "      <th>1</th>\n",
       "      <td>12347.0</td>\n",
       "      <td>1</td>\n",
       "      <td>182</td>\n",
       "      <td>4310.00</td>\n",
       "      <td>1</td>\n",
       "      <td>1</td>\n",
       "      <td>1</td>\n",
       "      <td>111</td>\n",
       "      <td>3</td>\n",
       "    </tr>\n",
       "    <tr>\n",
       "      <th>2</th>\n",
       "      <td>12348.0</td>\n",
       "      <td>74</td>\n",
       "      <td>31</td>\n",
       "      <td>1797.24</td>\n",
       "      <td>3</td>\n",
       "      <td>3</td>\n",
       "      <td>1</td>\n",
       "      <td>331</td>\n",
       "      <td>7</td>\n",
       "    </tr>\n",
       "    <tr>\n",
       "      <th>3</th>\n",
       "      <td>12349.0</td>\n",
       "      <td>18</td>\n",
       "      <td>73</td>\n",
       "      <td>1757.55</td>\n",
       "      <td>2</td>\n",
       "      <td>2</td>\n",
       "      <td>1</td>\n",
       "      <td>221</td>\n",
       "      <td>5</td>\n",
       "    </tr>\n",
       "    <tr>\n",
       "      <th>4</th>\n",
       "      <td>12350.0</td>\n",
       "      <td>309</td>\n",
       "      <td>17</td>\n",
       "      <td>334.40</td>\n",
       "      <td>4</td>\n",
       "      <td>4</td>\n",
       "      <td>3</td>\n",
       "      <td>443</td>\n",
       "      <td>11</td>\n",
       "    </tr>\n",
       "  </tbody>\n",
       "</table>\n",
       "</div>"
      ],
      "text/plain": [
       "   CustomerID  Recency  Frequency  Monetary  R  F  M RFMGroup  RFMScore\n",
       "0     12346.0      325          1  77183.60  4  4  1      441         9\n",
       "1     12347.0        1        182   4310.00  1  1  1      111         3\n",
       "2     12348.0       74         31   1797.24  3  3  1      331         7\n",
       "3     12349.0       18         73   1757.55  2  2  1      221         5\n",
       "4     12350.0      309         17    334.40  4  4  3      443        11"
      ]
     },
     "execution_count": 29,
     "metadata": {},
     "output_type": "execute_result"
    }
   ],
   "source": [
    "#Calculate and Add RFMGroup value column showing combined concatenated score of RFM\n",
    "RFM['RFMGroup'] = RFM.R.map(str) + RFM.F.map(str) + RFM.M.map(str)\n",
    "#Calculate and Add RFMScore value column showing total sum of RFMGroup values\n",
    "RFM['RFMScore'] = RFM[['R', 'F', 'M']].sum(axis = 1)\n",
    "RFM.head()"
   ]
  },
  {
   "cell_type": "markdown",
   "id": "a11769ab",
   "metadata": {
    "papermill": {
     "duration": 0.019718,
     "end_time": "2023-02-25T23:11:46.676048",
     "exception": false,
     "start_time": "2023-02-25T23:11:46.656330",
     "status": "completed"
    },
    "tags": []
   },
   "source": [
    "#  Divide Customers according to their loyalty"
   ]
  },
  {
   "cell_type": "code",
   "execution_count": 30,
   "id": "75fed4e7",
   "metadata": {
    "execution": {
     "iopub.execute_input": "2023-02-25T23:11:46.717128Z",
     "iopub.status.busy": "2023-02-25T23:11:46.716751Z",
     "iopub.status.idle": "2023-02-25T23:11:46.743959Z",
     "shell.execute_reply": "2023-02-25T23:11:46.742679Z"
    },
    "papermill": {
     "duration": 0.050341,
     "end_time": "2023-02-25T23:11:46.746016",
     "exception": false,
     "start_time": "2023-02-25T23:11:46.695675",
     "status": "completed"
    },
    "tags": []
   },
   "outputs": [
    {
     "data": {
      "text/html": [
       "<div>\n",
       "<style scoped>\n",
       "    .dataframe tbody tr th:only-of-type {\n",
       "        vertical-align: middle;\n",
       "    }\n",
       "\n",
       "    .dataframe tbody tr th {\n",
       "        vertical-align: top;\n",
       "    }\n",
       "\n",
       "    .dataframe thead th {\n",
       "        text-align: right;\n",
       "    }\n",
       "</style>\n",
       "<table border=\"1\" class=\"dataframe\">\n",
       "  <thead>\n",
       "    <tr style=\"text-align: right;\">\n",
       "      <th></th>\n",
       "      <th>index</th>\n",
       "      <th>CustomerID</th>\n",
       "      <th>Recency</th>\n",
       "      <th>Frequency</th>\n",
       "      <th>Monetary</th>\n",
       "      <th>R</th>\n",
       "      <th>F</th>\n",
       "      <th>M</th>\n",
       "      <th>RFMGroup</th>\n",
       "      <th>RFMScore</th>\n",
       "      <th>RFM_Loyalty_Level</th>\n",
       "    </tr>\n",
       "  </thead>\n",
       "  <tbody>\n",
       "    <tr>\n",
       "      <th>0</th>\n",
       "      <td>0</td>\n",
       "      <td>12346.0</td>\n",
       "      <td>325</td>\n",
       "      <td>1</td>\n",
       "      <td>77183.60</td>\n",
       "      <td>4</td>\n",
       "      <td>4</td>\n",
       "      <td>1</td>\n",
       "      <td>441</td>\n",
       "      <td>9</td>\n",
       "      <td>Silver</td>\n",
       "    </tr>\n",
       "    <tr>\n",
       "      <th>1</th>\n",
       "      <td>1</td>\n",
       "      <td>12347.0</td>\n",
       "      <td>1</td>\n",
       "      <td>182</td>\n",
       "      <td>4310.00</td>\n",
       "      <td>1</td>\n",
       "      <td>1</td>\n",
       "      <td>1</td>\n",
       "      <td>111</td>\n",
       "      <td>3</td>\n",
       "      <td>Platinum</td>\n",
       "    </tr>\n",
       "    <tr>\n",
       "      <th>2</th>\n",
       "      <td>2</td>\n",
       "      <td>12348.0</td>\n",
       "      <td>74</td>\n",
       "      <td>31</td>\n",
       "      <td>1797.24</td>\n",
       "      <td>3</td>\n",
       "      <td>3</td>\n",
       "      <td>1</td>\n",
       "      <td>331</td>\n",
       "      <td>7</td>\n",
       "      <td>Gold</td>\n",
       "    </tr>\n",
       "    <tr>\n",
       "      <th>3</th>\n",
       "      <td>3</td>\n",
       "      <td>12349.0</td>\n",
       "      <td>18</td>\n",
       "      <td>73</td>\n",
       "      <td>1757.55</td>\n",
       "      <td>2</td>\n",
       "      <td>2</td>\n",
       "      <td>1</td>\n",
       "      <td>221</td>\n",
       "      <td>5</td>\n",
       "      <td>Platinum</td>\n",
       "    </tr>\n",
       "    <tr>\n",
       "      <th>4</th>\n",
       "      <td>4</td>\n",
       "      <td>12350.0</td>\n",
       "      <td>309</td>\n",
       "      <td>17</td>\n",
       "      <td>334.40</td>\n",
       "      <td>4</td>\n",
       "      <td>4</td>\n",
       "      <td>3</td>\n",
       "      <td>443</td>\n",
       "      <td>11</td>\n",
       "      <td>Bronze</td>\n",
       "    </tr>\n",
       "    <tr>\n",
       "      <th>5</th>\n",
       "      <td>5</td>\n",
       "      <td>12352.0</td>\n",
       "      <td>35</td>\n",
       "      <td>85</td>\n",
       "      <td>2506.04</td>\n",
       "      <td>2</td>\n",
       "      <td>2</td>\n",
       "      <td>1</td>\n",
       "      <td>221</td>\n",
       "      <td>5</td>\n",
       "      <td>Platinum</td>\n",
       "    </tr>\n",
       "    <tr>\n",
       "      <th>6</th>\n",
       "      <td>6</td>\n",
       "      <td>12353.0</td>\n",
       "      <td>203</td>\n",
       "      <td>4</td>\n",
       "      <td>89.00</td>\n",
       "      <td>4</td>\n",
       "      <td>4</td>\n",
       "      <td>4</td>\n",
       "      <td>444</td>\n",
       "      <td>12</td>\n",
       "      <td>Bronze</td>\n",
       "    </tr>\n",
       "    <tr>\n",
       "      <th>7</th>\n",
       "      <td>7</td>\n",
       "      <td>12354.0</td>\n",
       "      <td>231</td>\n",
       "      <td>58</td>\n",
       "      <td>1079.40</td>\n",
       "      <td>4</td>\n",
       "      <td>2</td>\n",
       "      <td>2</td>\n",
       "      <td>422</td>\n",
       "      <td>8</td>\n",
       "      <td>Gold</td>\n",
       "    </tr>\n",
       "    <tr>\n",
       "      <th>8</th>\n",
       "      <td>8</td>\n",
       "      <td>12355.0</td>\n",
       "      <td>213</td>\n",
       "      <td>13</td>\n",
       "      <td>459.40</td>\n",
       "      <td>4</td>\n",
       "      <td>4</td>\n",
       "      <td>3</td>\n",
       "      <td>443</td>\n",
       "      <td>11</td>\n",
       "      <td>Bronze</td>\n",
       "    </tr>\n",
       "    <tr>\n",
       "      <th>9</th>\n",
       "      <td>9</td>\n",
       "      <td>12356.0</td>\n",
       "      <td>22</td>\n",
       "      <td>59</td>\n",
       "      <td>2811.43</td>\n",
       "      <td>2</td>\n",
       "      <td>2</td>\n",
       "      <td>1</td>\n",
       "      <td>221</td>\n",
       "      <td>5</td>\n",
       "      <td>Platinum</td>\n",
       "    </tr>\n",
       "    <tr>\n",
       "      <th>10</th>\n",
       "      <td>10</td>\n",
       "      <td>12357.0</td>\n",
       "      <td>32</td>\n",
       "      <td>131</td>\n",
       "      <td>6207.67</td>\n",
       "      <td>2</td>\n",
       "      <td>1</td>\n",
       "      <td>1</td>\n",
       "      <td>211</td>\n",
       "      <td>4</td>\n",
       "      <td>Platinum</td>\n",
       "    </tr>\n",
       "    <tr>\n",
       "      <th>11</th>\n",
       "      <td>11</td>\n",
       "      <td>12358.0</td>\n",
       "      <td>1</td>\n",
       "      <td>19</td>\n",
       "      <td>1168.06</td>\n",
       "      <td>1</td>\n",
       "      <td>3</td>\n",
       "      <td>2</td>\n",
       "      <td>132</td>\n",
       "      <td>6</td>\n",
       "      <td>Gold</td>\n",
       "    </tr>\n",
       "    <tr>\n",
       "      <th>12</th>\n",
       "      <td>12</td>\n",
       "      <td>12359.0</td>\n",
       "      <td>57</td>\n",
       "      <td>245</td>\n",
       "      <td>6310.03</td>\n",
       "      <td>3</td>\n",
       "      <td>1</td>\n",
       "      <td>1</td>\n",
       "      <td>311</td>\n",
       "      <td>5</td>\n",
       "      <td>Platinum</td>\n",
       "    </tr>\n",
       "    <tr>\n",
       "      <th>13</th>\n",
       "      <td>13</td>\n",
       "      <td>12360.0</td>\n",
       "      <td>51</td>\n",
       "      <td>129</td>\n",
       "      <td>2662.06</td>\n",
       "      <td>3</td>\n",
       "      <td>1</td>\n",
       "      <td>1</td>\n",
       "      <td>311</td>\n",
       "      <td>5</td>\n",
       "      <td>Platinum</td>\n",
       "    </tr>\n",
       "    <tr>\n",
       "      <th>14</th>\n",
       "      <td>14</td>\n",
       "      <td>12361.0</td>\n",
       "      <td>286</td>\n",
       "      <td>10</td>\n",
       "      <td>189.90</td>\n",
       "      <td>4</td>\n",
       "      <td>4</td>\n",
       "      <td>4</td>\n",
       "      <td>444</td>\n",
       "      <td>12</td>\n",
       "      <td>Bronze</td>\n",
       "    </tr>\n",
       "    <tr>\n",
       "      <th>15</th>\n",
       "      <td>15</td>\n",
       "      <td>12362.0</td>\n",
       "      <td>2</td>\n",
       "      <td>266</td>\n",
       "      <td>5226.23</td>\n",
       "      <td>1</td>\n",
       "      <td>1</td>\n",
       "      <td>1</td>\n",
       "      <td>111</td>\n",
       "      <td>3</td>\n",
       "      <td>Platinum</td>\n",
       "    </tr>\n",
       "    <tr>\n",
       "      <th>16</th>\n",
       "      <td>16</td>\n",
       "      <td>12363.0</td>\n",
       "      <td>109</td>\n",
       "      <td>23</td>\n",
       "      <td>552.00</td>\n",
       "      <td>3</td>\n",
       "      <td>3</td>\n",
       "      <td>3</td>\n",
       "      <td>333</td>\n",
       "      <td>9</td>\n",
       "      <td>Silver</td>\n",
       "    </tr>\n",
       "    <tr>\n",
       "      <th>17</th>\n",
       "      <td>17</td>\n",
       "      <td>12364.0</td>\n",
       "      <td>7</td>\n",
       "      <td>85</td>\n",
       "      <td>1313.10</td>\n",
       "      <td>1</td>\n",
       "      <td>2</td>\n",
       "      <td>2</td>\n",
       "      <td>122</td>\n",
       "      <td>5</td>\n",
       "      <td>Platinum</td>\n",
       "    </tr>\n",
       "    <tr>\n",
       "      <th>18</th>\n",
       "      <td>18</td>\n",
       "      <td>12365.0</td>\n",
       "      <td>290</td>\n",
       "      <td>22</td>\n",
       "      <td>641.38</td>\n",
       "      <td>4</td>\n",
       "      <td>3</td>\n",
       "      <td>3</td>\n",
       "      <td>433</td>\n",
       "      <td>10</td>\n",
       "      <td>Silver</td>\n",
       "    </tr>\n",
       "    <tr>\n",
       "      <th>19</th>\n",
       "      <td>19</td>\n",
       "      <td>12367.0</td>\n",
       "      <td>3</td>\n",
       "      <td>11</td>\n",
       "      <td>168.90</td>\n",
       "      <td>1</td>\n",
       "      <td>4</td>\n",
       "      <td>4</td>\n",
       "      <td>144</td>\n",
       "      <td>9</td>\n",
       "      <td>Silver</td>\n",
       "    </tr>\n",
       "  </tbody>\n",
       "</table>\n",
       "</div>"
      ],
      "text/plain": [
       "    index  CustomerID  Recency  Frequency  Monetary  R  F  M RFMGroup  \\\n",
       "0       0     12346.0      325          1  77183.60  4  4  1      441   \n",
       "1       1     12347.0        1        182   4310.00  1  1  1      111   \n",
       "2       2     12348.0       74         31   1797.24  3  3  1      331   \n",
       "3       3     12349.0       18         73   1757.55  2  2  1      221   \n",
       "4       4     12350.0      309         17    334.40  4  4  3      443   \n",
       "5       5     12352.0       35         85   2506.04  2  2  1      221   \n",
       "6       6     12353.0      203          4     89.00  4  4  4      444   \n",
       "7       7     12354.0      231         58   1079.40  4  2  2      422   \n",
       "8       8     12355.0      213         13    459.40  4  4  3      443   \n",
       "9       9     12356.0       22         59   2811.43  2  2  1      221   \n",
       "10     10     12357.0       32        131   6207.67  2  1  1      211   \n",
       "11     11     12358.0        1         19   1168.06  1  3  2      132   \n",
       "12     12     12359.0       57        245   6310.03  3  1  1      311   \n",
       "13     13     12360.0       51        129   2662.06  3  1  1      311   \n",
       "14     14     12361.0      286         10    189.90  4  4  4      444   \n",
       "15     15     12362.0        2        266   5226.23  1  1  1      111   \n",
       "16     16     12363.0      109         23    552.00  3  3  3      333   \n",
       "17     17     12364.0        7         85   1313.10  1  2  2      122   \n",
       "18     18     12365.0      290         22    641.38  4  3  3      433   \n",
       "19     19     12367.0        3         11    168.90  1  4  4      144   \n",
       "\n",
       "    RFMScore RFM_Loyalty_Level  \n",
       "0          9            Silver  \n",
       "1          3          Platinum  \n",
       "2          7              Gold  \n",
       "3          5          Platinum  \n",
       "4         11            Bronze  \n",
       "5          5          Platinum  \n",
       "6         12            Bronze  \n",
       "7          8              Gold  \n",
       "8         11            Bronze  \n",
       "9          5          Platinum  \n",
       "10         4          Platinum  \n",
       "11         6              Gold  \n",
       "12         5          Platinum  \n",
       "13         5          Platinum  \n",
       "14        12            Bronze  \n",
       "15         3          Platinum  \n",
       "16         9            Silver  \n",
       "17         5          Platinum  \n",
       "18        10            Silver  \n",
       "19         9            Silver  "
      ]
     },
     "execution_count": 30,
     "metadata": {},
     "output_type": "execute_result"
    }
   ],
   "source": [
    "#Assign Loyalty Level to each customer\n",
    "Loyalty_Level = ['Platinum', 'Gold', 'Silver','Bronze']\n",
    "Score_cuts = pd.qcut(RFM.RFMScore, q = 4, labels = Loyalty_Level)\n",
    "RFM['RFM_Loyalty_Level'] = Score_cuts.values\n",
    "RFM.reset_index().head(20)"
   ]
  },
  {
   "cell_type": "code",
   "execution_count": 31,
   "id": "c2dd7a90",
   "metadata": {
    "execution": {
     "iopub.execute_input": "2023-02-25T23:11:46.787738Z",
     "iopub.status.busy": "2023-02-25T23:11:46.787272Z",
     "iopub.status.idle": "2023-02-25T23:11:46.797171Z",
     "shell.execute_reply": "2023-02-25T23:11:46.796249Z"
    },
    "papermill": {
     "duration": 0.033725,
     "end_time": "2023-02-25T23:11:46.799632",
     "exception": false,
     "start_time": "2023-02-25T23:11:46.765907",
     "status": "completed"
    },
    "tags": []
   },
   "outputs": [
    {
     "data": {
      "text/plain": [
       "Gold        1332\n",
       "Platinum    1263\n",
       "Silver       975\n",
       "Bronze       769\n",
       "Name: RFM_Loyalty_Level, dtype: int64"
      ]
     },
     "execution_count": 31,
     "metadata": {},
     "output_type": "execute_result"
    }
   ],
   "source": [
    "RFM['RFM_Loyalty_Level'].value_counts()"
   ]
  },
  {
   "cell_type": "code",
   "execution_count": 32,
   "id": "5ed0af0f",
   "metadata": {
    "execution": {
     "iopub.execute_input": "2023-02-25T23:11:46.843032Z",
     "iopub.status.busy": "2023-02-25T23:11:46.842691Z",
     "iopub.status.idle": "2023-02-25T23:11:46.862825Z",
     "shell.execute_reply": "2023-02-25T23:11:46.861511Z"
    },
    "papermill": {
     "duration": 0.044892,
     "end_time": "2023-02-25T23:11:46.864909",
     "exception": false,
     "start_time": "2023-02-25T23:11:46.820017",
     "status": "completed"
    },
    "tags": []
   },
   "outputs": [
    {
     "data": {
      "text/html": [
       "<div>\n",
       "<style scoped>\n",
       "    .dataframe tbody tr th:only-of-type {\n",
       "        vertical-align: middle;\n",
       "    }\n",
       "\n",
       "    .dataframe tbody tr th {\n",
       "        vertical-align: top;\n",
       "    }\n",
       "\n",
       "    .dataframe thead th {\n",
       "        text-align: right;\n",
       "    }\n",
       "</style>\n",
       "<table border=\"1\" class=\"dataframe\">\n",
       "  <thead>\n",
       "    <tr style=\"text-align: right;\">\n",
       "      <th></th>\n",
       "      <th>index</th>\n",
       "      <th>CustomerID</th>\n",
       "      <th>Recency</th>\n",
       "      <th>Frequency</th>\n",
       "      <th>Monetary</th>\n",
       "      <th>R</th>\n",
       "      <th>F</th>\n",
       "      <th>M</th>\n",
       "      <th>RFMGroup</th>\n",
       "      <th>RFMScore</th>\n",
       "      <th>RFM_Loyalty_Level</th>\n",
       "    </tr>\n",
       "  </thead>\n",
       "  <tbody>\n",
       "    <tr>\n",
       "      <th>0</th>\n",
       "      <td>1690</td>\n",
       "      <td>14646.0</td>\n",
       "      <td>1</td>\n",
       "      <td>2080</td>\n",
       "      <td>280206.02</td>\n",
       "      <td>1</td>\n",
       "      <td>1</td>\n",
       "      <td>1</td>\n",
       "      <td>111</td>\n",
       "      <td>3</td>\n",
       "      <td>Platinum</td>\n",
       "    </tr>\n",
       "    <tr>\n",
       "      <th>1</th>\n",
       "      <td>4202</td>\n",
       "      <td>18102.0</td>\n",
       "      <td>1</td>\n",
       "      <td>431</td>\n",
       "      <td>259657.30</td>\n",
       "      <td>1</td>\n",
       "      <td>1</td>\n",
       "      <td>1</td>\n",
       "      <td>111</td>\n",
       "      <td>3</td>\n",
       "      <td>Platinum</td>\n",
       "    </tr>\n",
       "    <tr>\n",
       "      <th>2</th>\n",
       "      <td>3729</td>\n",
       "      <td>17450.0</td>\n",
       "      <td>7</td>\n",
       "      <td>336</td>\n",
       "      <td>194390.79</td>\n",
       "      <td>1</td>\n",
       "      <td>1</td>\n",
       "      <td>1</td>\n",
       "      <td>111</td>\n",
       "      <td>3</td>\n",
       "      <td>Platinum</td>\n",
       "    </tr>\n",
       "    <tr>\n",
       "      <th>3</th>\n",
       "      <td>1880</td>\n",
       "      <td>14911.0</td>\n",
       "      <td>1</td>\n",
       "      <td>5672</td>\n",
       "      <td>143711.17</td>\n",
       "      <td>1</td>\n",
       "      <td>1</td>\n",
       "      <td>1</td>\n",
       "      <td>111</td>\n",
       "      <td>3</td>\n",
       "      <td>Platinum</td>\n",
       "    </tr>\n",
       "    <tr>\n",
       "      <th>4</th>\n",
       "      <td>1334</td>\n",
       "      <td>14156.0</td>\n",
       "      <td>9</td>\n",
       "      <td>1395</td>\n",
       "      <td>117210.08</td>\n",
       "      <td>1</td>\n",
       "      <td>1</td>\n",
       "      <td>1</td>\n",
       "      <td>111</td>\n",
       "      <td>3</td>\n",
       "      <td>Platinum</td>\n",
       "    </tr>\n",
       "    <tr>\n",
       "      <th>5</th>\n",
       "      <td>3772</td>\n",
       "      <td>17511.0</td>\n",
       "      <td>2</td>\n",
       "      <td>963</td>\n",
       "      <td>91062.38</td>\n",
       "      <td>1</td>\n",
       "      <td>1</td>\n",
       "      <td>1</td>\n",
       "      <td>111</td>\n",
       "      <td>3</td>\n",
       "      <td>Platinum</td>\n",
       "    </tr>\n",
       "    <tr>\n",
       "      <th>6</th>\n",
       "      <td>3177</td>\n",
       "      <td>16684.0</td>\n",
       "      <td>3</td>\n",
       "      <td>277</td>\n",
       "      <td>66653.56</td>\n",
       "      <td>1</td>\n",
       "      <td>1</td>\n",
       "      <td>1</td>\n",
       "      <td>111</td>\n",
       "      <td>3</td>\n",
       "      <td>Platinum</td>\n",
       "    </tr>\n",
       "    <tr>\n",
       "      <th>7</th>\n",
       "      <td>1290</td>\n",
       "      <td>14096.0</td>\n",
       "      <td>3</td>\n",
       "      <td>5111</td>\n",
       "      <td>65164.79</td>\n",
       "      <td>1</td>\n",
       "      <td>1</td>\n",
       "      <td>1</td>\n",
       "      <td>111</td>\n",
       "      <td>3</td>\n",
       "      <td>Platinum</td>\n",
       "    </tr>\n",
       "    <tr>\n",
       "      <th>8</th>\n",
       "      <td>997</td>\n",
       "      <td>13694.0</td>\n",
       "      <td>3</td>\n",
       "      <td>568</td>\n",
       "      <td>65039.62</td>\n",
       "      <td>1</td>\n",
       "      <td>1</td>\n",
       "      <td>1</td>\n",
       "      <td>111</td>\n",
       "      <td>3</td>\n",
       "      <td>Platinum</td>\n",
       "    </tr>\n",
       "    <tr>\n",
       "      <th>9</th>\n",
       "      <td>2177</td>\n",
       "      <td>15311.0</td>\n",
       "      <td>1</td>\n",
       "      <td>2366</td>\n",
       "      <td>60632.75</td>\n",
       "      <td>1</td>\n",
       "      <td>1</td>\n",
       "      <td>1</td>\n",
       "      <td>111</td>\n",
       "      <td>3</td>\n",
       "      <td>Platinum</td>\n",
       "    </tr>\n",
       "  </tbody>\n",
       "</table>\n",
       "</div>"
      ],
      "text/plain": [
       "   index  CustomerID  Recency  Frequency   Monetary  R  F  M RFMGroup  \\\n",
       "0   1690     14646.0        1       2080  280206.02  1  1  1      111   \n",
       "1   4202     18102.0        1        431  259657.30  1  1  1      111   \n",
       "2   3729     17450.0        7        336  194390.79  1  1  1      111   \n",
       "3   1880     14911.0        1       5672  143711.17  1  1  1      111   \n",
       "4   1334     14156.0        9       1395  117210.08  1  1  1      111   \n",
       "5   3772     17511.0        2        963   91062.38  1  1  1      111   \n",
       "6   3177     16684.0        3        277   66653.56  1  1  1      111   \n",
       "7   1290     14096.0        3       5111   65164.79  1  1  1      111   \n",
       "8    997     13694.0        3        568   65039.62  1  1  1      111   \n",
       "9   2177     15311.0        1       2366   60632.75  1  1  1      111   \n",
       "\n",
       "   RFMScore RFM_Loyalty_Level  \n",
       "0         3          Platinum  \n",
       "1         3          Platinum  \n",
       "2         3          Platinum  \n",
       "3         3          Platinum  \n",
       "4         3          Platinum  \n",
       "5         3          Platinum  \n",
       "6         3          Platinum  \n",
       "7         3          Platinum  \n",
       "8         3          Platinum  \n",
       "9         3          Platinum  "
      ]
     },
     "execution_count": 32,
     "metadata": {},
     "output_type": "execute_result"
    }
   ],
   "source": [
    "#Validate the data for RFMGroup = 111\n",
    "RFM[RFM['RFMGroup']=='111'].sort_values('Monetary', ascending=False).reset_index().head(10)\n"
   ]
  },
  {
   "cell_type": "code",
   "execution_count": 33,
   "id": "60a4e2f4",
   "metadata": {
    "execution": {
     "iopub.execute_input": "2023-02-25T23:11:46.907894Z",
     "iopub.status.busy": "2023-02-25T23:11:46.907532Z",
     "iopub.status.idle": "2023-02-25T23:11:46.918260Z",
     "shell.execute_reply": "2023-02-25T23:11:46.916783Z"
    },
    "papermill": {
     "duration": 0.035666,
     "end_time": "2023-02-25T23:11:46.920917",
     "exception": false,
     "start_time": "2023-02-25T23:11:46.885251",
     "status": "completed"
    },
    "tags": []
   },
   "outputs": [
    {
     "data": {
      "text/plain": [
       "CustomerID           450\n",
       "Recency              450\n",
       "Frequency            450\n",
       "Monetary             450\n",
       "R                    450\n",
       "F                    450\n",
       "M                    450\n",
       "RFMGroup             450\n",
       "RFMScore             450\n",
       "RFM_Loyalty_Level    450\n",
       "dtype: int64"
      ]
     },
     "execution_count": 33,
     "metadata": {},
     "output_type": "execute_result"
    }
   ],
   "source": [
    "#Number of Best customers\n",
    "RFM[RFM['RFMScore']==3].count()"
   ]
  },
  {
   "cell_type": "code",
   "execution_count": 34,
   "id": "cbced0d7",
   "metadata": {
    "execution": {
     "iopub.execute_input": "2023-02-25T23:11:46.964992Z",
     "iopub.status.busy": "2023-02-25T23:11:46.964592Z",
     "iopub.status.idle": "2023-02-25T23:11:47.052093Z",
     "shell.execute_reply": "2023-02-25T23:11:47.050513Z"
    },
    "papermill": {
     "duration": 0.112273,
     "end_time": "2023-02-25T23:11:47.054466",
     "exception": false,
     "start_time": "2023-02-25T23:11:46.942193",
     "status": "completed"
    },
    "tags": []
   },
   "outputs": [
    {
     "data": {
      "text/html": [
       "<div>                            <div id=\"5bb47401-7ee9-4bfb-8c83-5d43436ebc34\" class=\"plotly-graph-div\" style=\"height:525px; width:100%;\"></div>            <script type=\"text/javascript\">                require([\"plotly\"], function(Plotly) {                    window.PLOTLYENV=window.PLOTLYENV || {};                                    if (document.getElementById(\"5bb47401-7ee9-4bfb-8c83-5d43436ebc34\")) {                    Plotly.newPlot(                        \"5bb47401-7ee9-4bfb-8c83-5d43436ebc34\",                        [{\"alignmentgroup\":\"True\",\"bingroup\":\"x\",\"hovertemplate\":\"RFM_Loyalty_Level=%{x}<br>count=%{y}<extra></extra>\",\"legendgroup\":\"Silver\",\"marker\":{\"color\":\"#636efa\",\"pattern\":{\"shape\":\"\"}},\"name\":\"Silver\",\"offsetgroup\":\"Silver\",\"orientation\":\"v\",\"showlegend\":true,\"x\":[\"Silver\",\"Silver\",\"Silver\",\"Silver\",\"Silver\",\"Silver\",\"Silver\",\"Silver\",\"Silver\",\"Silver\",\"Silver\",\"Silver\",\"Silver\",\"Silver\",\"Silver\",\"Silver\",\"Silver\",\"Silver\",\"Silver\",\"Silver\",\"Silver\",\"Silver\",\"Silver\",\"Silver\",\"Silver\",\"Silver\",\"Silver\",\"Silver\",\"Silver\",\"Silver\",\"Silver\",\"Silver\",\"Silver\",\"Silver\",\"Silver\",\"Silver\",\"Silver\",\"Silver\",\"Silver\",\"Silver\",\"Silver\",\"Silver\",\"Silver\",\"Silver\",\"Silver\",\"Silver\",\"Silver\",\"Silver\",\"Silver\",\"Silver\",\"Silver\",\"Silver\",\"Silver\",\"Silver\",\"Silver\",\"Silver\",\"Silver\",\"Silver\",\"Silver\",\"Silver\",\"Silver\",\"Silver\",\"Silver\",\"Silver\",\"Silver\",\"Silver\",\"Silver\",\"Silver\",\"Silver\",\"Silver\",\"Silver\",\"Silver\",\"Silver\",\"Silver\",\"Silver\",\"Silver\",\"Silver\",\"Silver\",\"Silver\",\"Silver\",\"Silver\",\"Silver\",\"Silver\",\"Silver\",\"Silver\",\"Silver\",\"Silver\",\"Silver\",\"Silver\",\"Silver\",\"Silver\",\"Silver\",\"Silver\",\"Silver\",\"Silver\",\"Silver\",\"Silver\",\"Silver\",\"Silver\",\"Silver\",\"Silver\",\"Silver\",\"Silver\",\"Silver\",\"Silver\",\"Silver\",\"Silver\",\"Silver\",\"Silver\",\"Silver\",\"Silver\",\"Silver\",\"Silver\",\"Silver\",\"Silver\",\"Silver\",\"Silver\",\"Silver\",\"Silver\",\"Silver\",\"Silver\",\"Silver\",\"Silver\",\"Silver\",\"Silver\",\"Silver\",\"Silver\",\"Silver\",\"Silver\",\"Silver\",\"Silver\",\"Silver\",\"Silver\",\"Silver\",\"Silver\",\"Silver\",\"Silver\",\"Silver\",\"Silver\",\"Silver\",\"Silver\",\"Silver\",\"Silver\",\"Silver\",\"Silver\",\"Silver\",\"Silver\",\"Silver\",\"Silver\",\"Silver\",\"Silver\",\"Silver\",\"Silver\",\"Silver\",\"Silver\",\"Silver\",\"Silver\",\"Silver\",\"Silver\",\"Silver\",\"Silver\",\"Silver\",\"Silver\",\"Silver\",\"Silver\",\"Silver\",\"Silver\",\"Silver\",\"Silver\",\"Silver\",\"Silver\",\"Silver\",\"Silver\",\"Silver\",\"Silver\",\"Silver\",\"Silver\",\"Silver\",\"Silver\",\"Silver\",\"Silver\",\"Silver\",\"Silver\",\"Silver\",\"Silver\",\"Silver\",\"Silver\",\"Silver\",\"Silver\",\"Silver\",\"Silver\",\"Silver\",\"Silver\",\"Silver\",\"Silver\",\"Silver\",\"Silver\",\"Silver\",\"Silver\",\"Silver\",\"Silver\",\"Silver\",\"Silver\",\"Silver\",\"Silver\",\"Silver\",\"Silver\",\"Silver\",\"Silver\",\"Silver\",\"Silver\",\"Silver\",\"Silver\",\"Silver\",\"Silver\",\"Silver\",\"Silver\",\"Silver\",\"Silver\",\"Silver\",\"Silver\",\"Silver\",\"Silver\",\"Silver\",\"Silver\",\"Silver\",\"Silver\",\"Silver\",\"Silver\",\"Silver\",\"Silver\",\"Silver\",\"Silver\",\"Silver\",\"Silver\",\"Silver\",\"Silver\",\"Silver\",\"Silver\",\"Silver\",\"Silver\",\"Silver\",\"Silver\",\"Silver\",\"Silver\",\"Silver\",\"Silver\",\"Silver\",\"Silver\",\"Silver\",\"Silver\",\"Silver\",\"Silver\",\"Silver\",\"Silver\",\"Silver\",\"Silver\",\"Silver\",\"Silver\",\"Silver\",\"Silver\",\"Silver\",\"Silver\",\"Silver\",\"Silver\",\"Silver\",\"Silver\",\"Silver\",\"Silver\",\"Silver\",\"Silver\",\"Silver\",\"Silver\",\"Silver\",\"Silver\",\"Silver\",\"Silver\",\"Silver\",\"Silver\",\"Silver\",\"Silver\",\"Silver\",\"Silver\",\"Silver\",\"Silver\",\"Silver\",\"Silver\",\"Silver\",\"Silver\",\"Silver\",\"Silver\",\"Silver\",\"Silver\",\"Silver\",\"Silver\",\"Silver\",\"Silver\",\"Silver\",\"Silver\",\"Silver\",\"Silver\",\"Silver\",\"Silver\",\"Silver\",\"Silver\",\"Silver\",\"Silver\",\"Silver\",\"Silver\",\"Silver\",\"Silver\",\"Silver\",\"Silver\",\"Silver\",\"Silver\",\"Silver\",\"Silver\",\"Silver\",\"Silver\",\"Silver\",\"Silver\",\"Silver\",\"Silver\",\"Silver\",\"Silver\",\"Silver\",\"Silver\",\"Silver\",\"Silver\",\"Silver\",\"Silver\",\"Silver\",\"Silver\",\"Silver\",\"Silver\",\"Silver\",\"Silver\",\"Silver\",\"Silver\",\"Silver\",\"Silver\",\"Silver\",\"Silver\",\"Silver\",\"Silver\",\"Silver\",\"Silver\",\"Silver\",\"Silver\",\"Silver\",\"Silver\",\"Silver\",\"Silver\",\"Silver\",\"Silver\",\"Silver\",\"Silver\",\"Silver\",\"Silver\",\"Silver\",\"Silver\",\"Silver\",\"Silver\",\"Silver\",\"Silver\",\"Silver\",\"Silver\",\"Silver\",\"Silver\",\"Silver\",\"Silver\",\"Silver\",\"Silver\",\"Silver\",\"Silver\",\"Silver\",\"Silver\",\"Silver\",\"Silver\",\"Silver\",\"Silver\",\"Silver\",\"Silver\",\"Silver\",\"Silver\",\"Silver\",\"Silver\",\"Silver\",\"Silver\",\"Silver\",\"Silver\",\"Silver\",\"Silver\",\"Silver\",\"Silver\",\"Silver\",\"Silver\",\"Silver\",\"Silver\",\"Silver\",\"Silver\",\"Silver\",\"Silver\",\"Silver\",\"Silver\",\"Silver\",\"Silver\",\"Silver\",\"Silver\",\"Silver\",\"Silver\",\"Silver\",\"Silver\",\"Silver\",\"Silver\",\"Silver\",\"Silver\",\"Silver\",\"Silver\",\"Silver\",\"Silver\",\"Silver\",\"Silver\",\"Silver\",\"Silver\",\"Silver\",\"Silver\",\"Silver\",\"Silver\",\"Silver\",\"Silver\",\"Silver\",\"Silver\",\"Silver\",\"Silver\",\"Silver\",\"Silver\",\"Silver\",\"Silver\",\"Silver\",\"Silver\",\"Silver\",\"Silver\",\"Silver\",\"Silver\",\"Silver\",\"Silver\",\"Silver\",\"Silver\",\"Silver\",\"Silver\",\"Silver\",\"Silver\",\"Silver\",\"Silver\",\"Silver\",\"Silver\",\"Silver\",\"Silver\",\"Silver\",\"Silver\",\"Silver\",\"Silver\",\"Silver\",\"Silver\",\"Silver\",\"Silver\",\"Silver\",\"Silver\",\"Silver\",\"Silver\",\"Silver\",\"Silver\",\"Silver\",\"Silver\",\"Silver\",\"Silver\",\"Silver\",\"Silver\",\"Silver\",\"Silver\",\"Silver\",\"Silver\",\"Silver\",\"Silver\",\"Silver\",\"Silver\",\"Silver\",\"Silver\",\"Silver\",\"Silver\",\"Silver\",\"Silver\",\"Silver\",\"Silver\",\"Silver\",\"Silver\",\"Silver\",\"Silver\",\"Silver\",\"Silver\",\"Silver\",\"Silver\",\"Silver\",\"Silver\",\"Silver\",\"Silver\",\"Silver\",\"Silver\",\"Silver\",\"Silver\",\"Silver\",\"Silver\",\"Silver\",\"Silver\",\"Silver\",\"Silver\",\"Silver\",\"Silver\",\"Silver\",\"Silver\",\"Silver\",\"Silver\",\"Silver\",\"Silver\",\"Silver\",\"Silver\",\"Silver\",\"Silver\",\"Silver\",\"Silver\",\"Silver\",\"Silver\",\"Silver\",\"Silver\",\"Silver\",\"Silver\",\"Silver\",\"Silver\",\"Silver\",\"Silver\",\"Silver\",\"Silver\",\"Silver\",\"Silver\",\"Silver\",\"Silver\",\"Silver\",\"Silver\",\"Silver\",\"Silver\",\"Silver\",\"Silver\",\"Silver\",\"Silver\",\"Silver\",\"Silver\",\"Silver\",\"Silver\",\"Silver\",\"Silver\",\"Silver\",\"Silver\",\"Silver\",\"Silver\",\"Silver\",\"Silver\",\"Silver\",\"Silver\",\"Silver\",\"Silver\",\"Silver\",\"Silver\",\"Silver\",\"Silver\",\"Silver\",\"Silver\",\"Silver\",\"Silver\",\"Silver\",\"Silver\",\"Silver\",\"Silver\",\"Silver\",\"Silver\",\"Silver\",\"Silver\",\"Silver\",\"Silver\",\"Silver\",\"Silver\",\"Silver\",\"Silver\",\"Silver\",\"Silver\",\"Silver\",\"Silver\",\"Silver\",\"Silver\",\"Silver\",\"Silver\",\"Silver\",\"Silver\",\"Silver\",\"Silver\",\"Silver\",\"Silver\",\"Silver\",\"Silver\",\"Silver\",\"Silver\",\"Silver\",\"Silver\",\"Silver\",\"Silver\",\"Silver\",\"Silver\",\"Silver\",\"Silver\",\"Silver\",\"Silver\",\"Silver\",\"Silver\",\"Silver\",\"Silver\",\"Silver\",\"Silver\",\"Silver\",\"Silver\",\"Silver\",\"Silver\",\"Silver\",\"Silver\",\"Silver\",\"Silver\",\"Silver\",\"Silver\",\"Silver\",\"Silver\",\"Silver\",\"Silver\",\"Silver\",\"Silver\",\"Silver\",\"Silver\",\"Silver\",\"Silver\",\"Silver\",\"Silver\",\"Silver\",\"Silver\",\"Silver\",\"Silver\",\"Silver\",\"Silver\",\"Silver\",\"Silver\",\"Silver\",\"Silver\",\"Silver\",\"Silver\",\"Silver\",\"Silver\",\"Silver\",\"Silver\",\"Silver\",\"Silver\",\"Silver\",\"Silver\",\"Silver\",\"Silver\",\"Silver\",\"Silver\",\"Silver\",\"Silver\",\"Silver\",\"Silver\",\"Silver\",\"Silver\",\"Silver\",\"Silver\",\"Silver\",\"Silver\",\"Silver\",\"Silver\",\"Silver\",\"Silver\",\"Silver\",\"Silver\",\"Silver\",\"Silver\",\"Silver\",\"Silver\",\"Silver\",\"Silver\",\"Silver\",\"Silver\",\"Silver\",\"Silver\",\"Silver\",\"Silver\",\"Silver\",\"Silver\",\"Silver\",\"Silver\",\"Silver\",\"Silver\",\"Silver\",\"Silver\",\"Silver\",\"Silver\",\"Silver\",\"Silver\",\"Silver\",\"Silver\",\"Silver\",\"Silver\",\"Silver\",\"Silver\",\"Silver\",\"Silver\",\"Silver\",\"Silver\",\"Silver\",\"Silver\",\"Silver\",\"Silver\",\"Silver\",\"Silver\",\"Silver\",\"Silver\",\"Silver\",\"Silver\",\"Silver\",\"Silver\",\"Silver\",\"Silver\",\"Silver\",\"Silver\",\"Silver\",\"Silver\",\"Silver\",\"Silver\",\"Silver\",\"Silver\",\"Silver\",\"Silver\",\"Silver\",\"Silver\",\"Silver\",\"Silver\",\"Silver\",\"Silver\",\"Silver\",\"Silver\",\"Silver\",\"Silver\",\"Silver\",\"Silver\",\"Silver\",\"Silver\",\"Silver\",\"Silver\",\"Silver\",\"Silver\",\"Silver\",\"Silver\",\"Silver\",\"Silver\",\"Silver\",\"Silver\",\"Silver\",\"Silver\",\"Silver\",\"Silver\",\"Silver\",\"Silver\",\"Silver\",\"Silver\",\"Silver\",\"Silver\",\"Silver\",\"Silver\",\"Silver\",\"Silver\",\"Silver\",\"Silver\",\"Silver\",\"Silver\",\"Silver\",\"Silver\",\"Silver\",\"Silver\",\"Silver\",\"Silver\",\"Silver\",\"Silver\",\"Silver\",\"Silver\",\"Silver\",\"Silver\",\"Silver\",\"Silver\",\"Silver\",\"Silver\",\"Silver\",\"Silver\",\"Silver\",\"Silver\",\"Silver\",\"Silver\",\"Silver\",\"Silver\",\"Silver\",\"Silver\",\"Silver\",\"Silver\",\"Silver\",\"Silver\",\"Silver\",\"Silver\",\"Silver\",\"Silver\",\"Silver\",\"Silver\",\"Silver\",\"Silver\",\"Silver\",\"Silver\",\"Silver\",\"Silver\",\"Silver\",\"Silver\",\"Silver\",\"Silver\",\"Silver\",\"Silver\",\"Silver\",\"Silver\",\"Silver\",\"Silver\",\"Silver\",\"Silver\",\"Silver\",\"Silver\",\"Silver\",\"Silver\",\"Silver\",\"Silver\",\"Silver\",\"Silver\",\"Silver\",\"Silver\",\"Silver\",\"Silver\",\"Silver\",\"Silver\",\"Silver\",\"Silver\",\"Silver\",\"Silver\",\"Silver\",\"Silver\",\"Silver\",\"Silver\",\"Silver\",\"Silver\",\"Silver\",\"Silver\",\"Silver\",\"Silver\",\"Silver\",\"Silver\",\"Silver\",\"Silver\",\"Silver\",\"Silver\",\"Silver\",\"Silver\",\"Silver\",\"Silver\",\"Silver\",\"Silver\",\"Silver\",\"Silver\",\"Silver\",\"Silver\",\"Silver\",\"Silver\",\"Silver\",\"Silver\",\"Silver\",\"Silver\",\"Silver\",\"Silver\",\"Silver\",\"Silver\",\"Silver\",\"Silver\",\"Silver\",\"Silver\",\"Silver\",\"Silver\",\"Silver\",\"Silver\",\"Silver\",\"Silver\",\"Silver\",\"Silver\",\"Silver\",\"Silver\",\"Silver\",\"Silver\",\"Silver\",\"Silver\",\"Silver\",\"Silver\",\"Silver\",\"Silver\",\"Silver\",\"Silver\",\"Silver\",\"Silver\",\"Silver\",\"Silver\",\"Silver\",\"Silver\",\"Silver\",\"Silver\",\"Silver\",\"Silver\",\"Silver\",\"Silver\",\"Silver\",\"Silver\",\"Silver\",\"Silver\",\"Silver\",\"Silver\",\"Silver\",\"Silver\",\"Silver\",\"Silver\",\"Silver\",\"Silver\",\"Silver\",\"Silver\",\"Silver\",\"Silver\",\"Silver\",\"Silver\",\"Silver\",\"Silver\",\"Silver\",\"Silver\",\"Silver\",\"Silver\",\"Silver\",\"Silver\",\"Silver\",\"Silver\",\"Silver\",\"Silver\",\"Silver\",\"Silver\",\"Silver\",\"Silver\",\"Silver\",\"Silver\",\"Silver\",\"Silver\",\"Silver\",\"Silver\",\"Silver\",\"Silver\"],\"xaxis\":\"x\",\"yaxis\":\"y\",\"type\":\"histogram\"},{\"alignmentgroup\":\"True\",\"bingroup\":\"x\",\"hovertemplate\":\"RFM_Loyalty_Level=%{x}<br>count=%{y}<extra></extra>\",\"legendgroup\":\"Platinum\",\"marker\":{\"color\":\"#EF553B\",\"pattern\":{\"shape\":\"\"}},\"name\":\"Platinum\",\"offsetgroup\":\"Platinum\",\"orientation\":\"v\",\"showlegend\":true,\"x\":[\"Platinum\",\"Platinum\",\"Platinum\",\"Platinum\",\"Platinum\",\"Platinum\",\"Platinum\",\"Platinum\",\"Platinum\",\"Platinum\",\"Platinum\",\"Platinum\",\"Platinum\",\"Platinum\",\"Platinum\",\"Platinum\",\"Platinum\",\"Platinum\",\"Platinum\",\"Platinum\",\"Platinum\",\"Platinum\",\"Platinum\",\"Platinum\",\"Platinum\",\"Platinum\",\"Platinum\",\"Platinum\",\"Platinum\",\"Platinum\",\"Platinum\",\"Platinum\",\"Platinum\",\"Platinum\",\"Platinum\",\"Platinum\",\"Platinum\",\"Platinum\",\"Platinum\",\"Platinum\",\"Platinum\",\"Platinum\",\"Platinum\",\"Platinum\",\"Platinum\",\"Platinum\",\"Platinum\",\"Platinum\",\"Platinum\",\"Platinum\",\"Platinum\",\"Platinum\",\"Platinum\",\"Platinum\",\"Platinum\",\"Platinum\",\"Platinum\",\"Platinum\",\"Platinum\",\"Platinum\",\"Platinum\",\"Platinum\",\"Platinum\",\"Platinum\",\"Platinum\",\"Platinum\",\"Platinum\",\"Platinum\",\"Platinum\",\"Platinum\",\"Platinum\",\"Platinum\",\"Platinum\",\"Platinum\",\"Platinum\",\"Platinum\",\"Platinum\",\"Platinum\",\"Platinum\",\"Platinum\",\"Platinum\",\"Platinum\",\"Platinum\",\"Platinum\",\"Platinum\",\"Platinum\",\"Platinum\",\"Platinum\",\"Platinum\",\"Platinum\",\"Platinum\",\"Platinum\",\"Platinum\",\"Platinum\",\"Platinum\",\"Platinum\",\"Platinum\",\"Platinum\",\"Platinum\",\"Platinum\",\"Platinum\",\"Platinum\",\"Platinum\",\"Platinum\",\"Platinum\",\"Platinum\",\"Platinum\",\"Platinum\",\"Platinum\",\"Platinum\",\"Platinum\",\"Platinum\",\"Platinum\",\"Platinum\",\"Platinum\",\"Platinum\",\"Platinum\",\"Platinum\",\"Platinum\",\"Platinum\",\"Platinum\",\"Platinum\",\"Platinum\",\"Platinum\",\"Platinum\",\"Platinum\",\"Platinum\",\"Platinum\",\"Platinum\",\"Platinum\",\"Platinum\",\"Platinum\",\"Platinum\",\"Platinum\",\"Platinum\",\"Platinum\",\"Platinum\",\"Platinum\",\"Platinum\",\"Platinum\",\"Platinum\",\"Platinum\",\"Platinum\",\"Platinum\",\"Platinum\",\"Platinum\",\"Platinum\",\"Platinum\",\"Platinum\",\"Platinum\",\"Platinum\",\"Platinum\",\"Platinum\",\"Platinum\",\"Platinum\",\"Platinum\",\"Platinum\",\"Platinum\",\"Platinum\",\"Platinum\",\"Platinum\",\"Platinum\",\"Platinum\",\"Platinum\",\"Platinum\",\"Platinum\",\"Platinum\",\"Platinum\",\"Platinum\",\"Platinum\",\"Platinum\",\"Platinum\",\"Platinum\",\"Platinum\",\"Platinum\",\"Platinum\",\"Platinum\",\"Platinum\",\"Platinum\",\"Platinum\",\"Platinum\",\"Platinum\",\"Platinum\",\"Platinum\",\"Platinum\",\"Platinum\",\"Platinum\",\"Platinum\",\"Platinum\",\"Platinum\",\"Platinum\",\"Platinum\",\"Platinum\",\"Platinum\",\"Platinum\",\"Platinum\",\"Platinum\",\"Platinum\",\"Platinum\",\"Platinum\",\"Platinum\",\"Platinum\",\"Platinum\",\"Platinum\",\"Platinum\",\"Platinum\",\"Platinum\",\"Platinum\",\"Platinum\",\"Platinum\",\"Platinum\",\"Platinum\",\"Platinum\",\"Platinum\",\"Platinum\",\"Platinum\",\"Platinum\",\"Platinum\",\"Platinum\",\"Platinum\",\"Platinum\",\"Platinum\",\"Platinum\",\"Platinum\",\"Platinum\",\"Platinum\",\"Platinum\",\"Platinum\",\"Platinum\",\"Platinum\",\"Platinum\",\"Platinum\",\"Platinum\",\"Platinum\",\"Platinum\",\"Platinum\",\"Platinum\",\"Platinum\",\"Platinum\",\"Platinum\",\"Platinum\",\"Platinum\",\"Platinum\",\"Platinum\",\"Platinum\",\"Platinum\",\"Platinum\",\"Platinum\",\"Platinum\",\"Platinum\",\"Platinum\",\"Platinum\",\"Platinum\",\"Platinum\",\"Platinum\",\"Platinum\",\"Platinum\",\"Platinum\",\"Platinum\",\"Platinum\",\"Platinum\",\"Platinum\",\"Platinum\",\"Platinum\",\"Platinum\",\"Platinum\",\"Platinum\",\"Platinum\",\"Platinum\",\"Platinum\",\"Platinum\",\"Platinum\",\"Platinum\",\"Platinum\",\"Platinum\",\"Platinum\",\"Platinum\",\"Platinum\",\"Platinum\",\"Platinum\",\"Platinum\",\"Platinum\",\"Platinum\",\"Platinum\",\"Platinum\",\"Platinum\",\"Platinum\",\"Platinum\",\"Platinum\",\"Platinum\",\"Platinum\",\"Platinum\",\"Platinum\",\"Platinum\",\"Platinum\",\"Platinum\",\"Platinum\",\"Platinum\",\"Platinum\",\"Platinum\",\"Platinum\",\"Platinum\",\"Platinum\",\"Platinum\",\"Platinum\",\"Platinum\",\"Platinum\",\"Platinum\",\"Platinum\",\"Platinum\",\"Platinum\",\"Platinum\",\"Platinum\",\"Platinum\",\"Platinum\",\"Platinum\",\"Platinum\",\"Platinum\",\"Platinum\",\"Platinum\",\"Platinum\",\"Platinum\",\"Platinum\",\"Platinum\",\"Platinum\",\"Platinum\",\"Platinum\",\"Platinum\",\"Platinum\",\"Platinum\",\"Platinum\",\"Platinum\",\"Platinum\",\"Platinum\",\"Platinum\",\"Platinum\",\"Platinum\",\"Platinum\",\"Platinum\",\"Platinum\",\"Platinum\",\"Platinum\",\"Platinum\",\"Platinum\",\"Platinum\",\"Platinum\",\"Platinum\",\"Platinum\",\"Platinum\",\"Platinum\",\"Platinum\",\"Platinum\",\"Platinum\",\"Platinum\",\"Platinum\",\"Platinum\",\"Platinum\",\"Platinum\",\"Platinum\",\"Platinum\",\"Platinum\",\"Platinum\",\"Platinum\",\"Platinum\",\"Platinum\",\"Platinum\",\"Platinum\",\"Platinum\",\"Platinum\",\"Platinum\",\"Platinum\",\"Platinum\",\"Platinum\",\"Platinum\",\"Platinum\",\"Platinum\",\"Platinum\",\"Platinum\",\"Platinum\",\"Platinum\",\"Platinum\",\"Platinum\",\"Platinum\",\"Platinum\",\"Platinum\",\"Platinum\",\"Platinum\",\"Platinum\",\"Platinum\",\"Platinum\",\"Platinum\",\"Platinum\",\"Platinum\",\"Platinum\",\"Platinum\",\"Platinum\",\"Platinum\",\"Platinum\",\"Platinum\",\"Platinum\",\"Platinum\",\"Platinum\",\"Platinum\",\"Platinum\",\"Platinum\",\"Platinum\",\"Platinum\",\"Platinum\",\"Platinum\",\"Platinum\",\"Platinum\",\"Platinum\",\"Platinum\",\"Platinum\",\"Platinum\",\"Platinum\",\"Platinum\",\"Platinum\",\"Platinum\",\"Platinum\",\"Platinum\",\"Platinum\",\"Platinum\",\"Platinum\",\"Platinum\",\"Platinum\",\"Platinum\",\"Platinum\",\"Platinum\",\"Platinum\",\"Platinum\",\"Platinum\",\"Platinum\",\"Platinum\",\"Platinum\",\"Platinum\",\"Platinum\",\"Platinum\",\"Platinum\",\"Platinum\",\"Platinum\",\"Platinum\",\"Platinum\",\"Platinum\",\"Platinum\",\"Platinum\",\"Platinum\",\"Platinum\",\"Platinum\",\"Platinum\",\"Platinum\",\"Platinum\",\"Platinum\",\"Platinum\",\"Platinum\",\"Platinum\",\"Platinum\",\"Platinum\",\"Platinum\",\"Platinum\",\"Platinum\",\"Platinum\",\"Platinum\",\"Platinum\",\"Platinum\",\"Platinum\",\"Platinum\",\"Platinum\",\"Platinum\",\"Platinum\",\"Platinum\",\"Platinum\",\"Platinum\",\"Platinum\",\"Platinum\",\"Platinum\",\"Platinum\",\"Platinum\",\"Platinum\",\"Platinum\",\"Platinum\",\"Platinum\",\"Platinum\",\"Platinum\",\"Platinum\",\"Platinum\",\"Platinum\",\"Platinum\",\"Platinum\",\"Platinum\",\"Platinum\",\"Platinum\",\"Platinum\",\"Platinum\",\"Platinum\",\"Platinum\",\"Platinum\",\"Platinum\",\"Platinum\",\"Platinum\",\"Platinum\",\"Platinum\",\"Platinum\",\"Platinum\",\"Platinum\",\"Platinum\",\"Platinum\",\"Platinum\",\"Platinum\",\"Platinum\",\"Platinum\",\"Platinum\",\"Platinum\",\"Platinum\",\"Platinum\",\"Platinum\",\"Platinum\",\"Platinum\",\"Platinum\",\"Platinum\",\"Platinum\",\"Platinum\",\"Platinum\",\"Platinum\",\"Platinum\",\"Platinum\",\"Platinum\",\"Platinum\",\"Platinum\",\"Platinum\",\"Platinum\",\"Platinum\",\"Platinum\",\"Platinum\",\"Platinum\",\"Platinum\",\"Platinum\",\"Platinum\",\"Platinum\",\"Platinum\",\"Platinum\",\"Platinum\",\"Platinum\",\"Platinum\",\"Platinum\",\"Platinum\",\"Platinum\",\"Platinum\",\"Platinum\",\"Platinum\",\"Platinum\",\"Platinum\",\"Platinum\",\"Platinum\",\"Platinum\",\"Platinum\",\"Platinum\",\"Platinum\",\"Platinum\",\"Platinum\",\"Platinum\",\"Platinum\",\"Platinum\",\"Platinum\",\"Platinum\",\"Platinum\",\"Platinum\",\"Platinum\",\"Platinum\",\"Platinum\",\"Platinum\",\"Platinum\",\"Platinum\",\"Platinum\",\"Platinum\",\"Platinum\",\"Platinum\",\"Platinum\",\"Platinum\",\"Platinum\",\"Platinum\",\"Platinum\",\"Platinum\",\"Platinum\",\"Platinum\",\"Platinum\",\"Platinum\",\"Platinum\",\"Platinum\",\"Platinum\",\"Platinum\",\"Platinum\",\"Platinum\",\"Platinum\",\"Platinum\",\"Platinum\",\"Platinum\",\"Platinum\",\"Platinum\",\"Platinum\",\"Platinum\",\"Platinum\",\"Platinum\",\"Platinum\",\"Platinum\",\"Platinum\",\"Platinum\",\"Platinum\",\"Platinum\",\"Platinum\",\"Platinum\",\"Platinum\",\"Platinum\",\"Platinum\",\"Platinum\",\"Platinum\",\"Platinum\",\"Platinum\",\"Platinum\",\"Platinum\",\"Platinum\",\"Platinum\",\"Platinum\",\"Platinum\",\"Platinum\",\"Platinum\",\"Platinum\",\"Platinum\",\"Platinum\",\"Platinum\",\"Platinum\",\"Platinum\",\"Platinum\",\"Platinum\",\"Platinum\",\"Platinum\",\"Platinum\",\"Platinum\",\"Platinum\",\"Platinum\",\"Platinum\",\"Platinum\",\"Platinum\",\"Platinum\",\"Platinum\",\"Platinum\",\"Platinum\",\"Platinum\",\"Platinum\",\"Platinum\",\"Platinum\",\"Platinum\",\"Platinum\",\"Platinum\",\"Platinum\",\"Platinum\",\"Platinum\",\"Platinum\",\"Platinum\",\"Platinum\",\"Platinum\",\"Platinum\",\"Platinum\",\"Platinum\",\"Platinum\",\"Platinum\",\"Platinum\",\"Platinum\",\"Platinum\",\"Platinum\",\"Platinum\",\"Platinum\",\"Platinum\",\"Platinum\",\"Platinum\",\"Platinum\",\"Platinum\",\"Platinum\",\"Platinum\",\"Platinum\",\"Platinum\",\"Platinum\",\"Platinum\",\"Platinum\",\"Platinum\",\"Platinum\",\"Platinum\",\"Platinum\",\"Platinum\",\"Platinum\",\"Platinum\",\"Platinum\",\"Platinum\",\"Platinum\",\"Platinum\",\"Platinum\",\"Platinum\",\"Platinum\",\"Platinum\",\"Platinum\",\"Platinum\",\"Platinum\",\"Platinum\",\"Platinum\",\"Platinum\",\"Platinum\",\"Platinum\",\"Platinum\",\"Platinum\",\"Platinum\",\"Platinum\",\"Platinum\",\"Platinum\",\"Platinum\",\"Platinum\",\"Platinum\",\"Platinum\",\"Platinum\",\"Platinum\",\"Platinum\",\"Platinum\",\"Platinum\",\"Platinum\",\"Platinum\",\"Platinum\",\"Platinum\",\"Platinum\",\"Platinum\",\"Platinum\",\"Platinum\",\"Platinum\",\"Platinum\",\"Platinum\",\"Platinum\",\"Platinum\",\"Platinum\",\"Platinum\",\"Platinum\",\"Platinum\",\"Platinum\",\"Platinum\",\"Platinum\",\"Platinum\",\"Platinum\",\"Platinum\",\"Platinum\",\"Platinum\",\"Platinum\",\"Platinum\",\"Platinum\",\"Platinum\",\"Platinum\",\"Platinum\",\"Platinum\",\"Platinum\",\"Platinum\",\"Platinum\",\"Platinum\",\"Platinum\",\"Platinum\",\"Platinum\",\"Platinum\",\"Platinum\",\"Platinum\",\"Platinum\",\"Platinum\",\"Platinum\",\"Platinum\",\"Platinum\",\"Platinum\",\"Platinum\",\"Platinum\",\"Platinum\",\"Platinum\",\"Platinum\",\"Platinum\",\"Platinum\",\"Platinum\",\"Platinum\",\"Platinum\",\"Platinum\",\"Platinum\",\"Platinum\",\"Platinum\",\"Platinum\",\"Platinum\",\"Platinum\",\"Platinum\",\"Platinum\",\"Platinum\",\"Platinum\",\"Platinum\",\"Platinum\",\"Platinum\",\"Platinum\",\"Platinum\",\"Platinum\",\"Platinum\",\"Platinum\",\"Platinum\",\"Platinum\",\"Platinum\",\"Platinum\",\"Platinum\",\"Platinum\",\"Platinum\",\"Platinum\",\"Platinum\",\"Platinum\",\"Platinum\",\"Platinum\",\"Platinum\",\"Platinum\",\"Platinum\",\"Platinum\",\"Platinum\",\"Platinum\",\"Platinum\",\"Platinum\",\"Platinum\",\"Platinum\",\"Platinum\",\"Platinum\",\"Platinum\",\"Platinum\",\"Platinum\",\"Platinum\",\"Platinum\",\"Platinum\",\"Platinum\",\"Platinum\",\"Platinum\",\"Platinum\",\"Platinum\",\"Platinum\",\"Platinum\",\"Platinum\",\"Platinum\",\"Platinum\",\"Platinum\",\"Platinum\",\"Platinum\",\"Platinum\",\"Platinum\",\"Platinum\",\"Platinum\",\"Platinum\",\"Platinum\",\"Platinum\",\"Platinum\",\"Platinum\",\"Platinum\",\"Platinum\",\"Platinum\",\"Platinum\",\"Platinum\",\"Platinum\",\"Platinum\",\"Platinum\",\"Platinum\",\"Platinum\",\"Platinum\",\"Platinum\",\"Platinum\",\"Platinum\",\"Platinum\",\"Platinum\",\"Platinum\",\"Platinum\",\"Platinum\",\"Platinum\",\"Platinum\",\"Platinum\",\"Platinum\",\"Platinum\",\"Platinum\",\"Platinum\",\"Platinum\",\"Platinum\",\"Platinum\",\"Platinum\",\"Platinum\",\"Platinum\",\"Platinum\",\"Platinum\",\"Platinum\",\"Platinum\",\"Platinum\",\"Platinum\",\"Platinum\",\"Platinum\",\"Platinum\",\"Platinum\",\"Platinum\",\"Platinum\",\"Platinum\",\"Platinum\",\"Platinum\",\"Platinum\",\"Platinum\",\"Platinum\",\"Platinum\",\"Platinum\",\"Platinum\",\"Platinum\",\"Platinum\",\"Platinum\",\"Platinum\",\"Platinum\",\"Platinum\",\"Platinum\",\"Platinum\",\"Platinum\",\"Platinum\",\"Platinum\",\"Platinum\",\"Platinum\",\"Platinum\",\"Platinum\",\"Platinum\",\"Platinum\",\"Platinum\",\"Platinum\",\"Platinum\",\"Platinum\",\"Platinum\",\"Platinum\",\"Platinum\",\"Platinum\",\"Platinum\",\"Platinum\",\"Platinum\",\"Platinum\",\"Platinum\",\"Platinum\",\"Platinum\",\"Platinum\",\"Platinum\",\"Platinum\",\"Platinum\",\"Platinum\",\"Platinum\",\"Platinum\",\"Platinum\",\"Platinum\",\"Platinum\",\"Platinum\",\"Platinum\",\"Platinum\",\"Platinum\",\"Platinum\",\"Platinum\",\"Platinum\",\"Platinum\",\"Platinum\",\"Platinum\",\"Platinum\",\"Platinum\",\"Platinum\",\"Platinum\",\"Platinum\",\"Platinum\",\"Platinum\",\"Platinum\",\"Platinum\",\"Platinum\",\"Platinum\",\"Platinum\",\"Platinum\",\"Platinum\",\"Platinum\",\"Platinum\",\"Platinum\",\"Platinum\",\"Platinum\",\"Platinum\",\"Platinum\",\"Platinum\",\"Platinum\",\"Platinum\",\"Platinum\",\"Platinum\",\"Platinum\",\"Platinum\",\"Platinum\",\"Platinum\",\"Platinum\",\"Platinum\",\"Platinum\",\"Platinum\",\"Platinum\",\"Platinum\",\"Platinum\",\"Platinum\",\"Platinum\",\"Platinum\",\"Platinum\",\"Platinum\",\"Platinum\",\"Platinum\",\"Platinum\",\"Platinum\",\"Platinum\",\"Platinum\",\"Platinum\",\"Platinum\",\"Platinum\",\"Platinum\",\"Platinum\",\"Platinum\",\"Platinum\",\"Platinum\",\"Platinum\",\"Platinum\",\"Platinum\",\"Platinum\",\"Platinum\",\"Platinum\",\"Platinum\",\"Platinum\",\"Platinum\",\"Platinum\",\"Platinum\",\"Platinum\",\"Platinum\",\"Platinum\",\"Platinum\",\"Platinum\",\"Platinum\",\"Platinum\",\"Platinum\",\"Platinum\",\"Platinum\",\"Platinum\",\"Platinum\",\"Platinum\",\"Platinum\",\"Platinum\",\"Platinum\",\"Platinum\",\"Platinum\",\"Platinum\",\"Platinum\",\"Platinum\",\"Platinum\",\"Platinum\",\"Platinum\",\"Platinum\",\"Platinum\",\"Platinum\",\"Platinum\",\"Platinum\",\"Platinum\",\"Platinum\",\"Platinum\",\"Platinum\",\"Platinum\",\"Platinum\",\"Platinum\",\"Platinum\",\"Platinum\",\"Platinum\",\"Platinum\",\"Platinum\",\"Platinum\",\"Platinum\",\"Platinum\",\"Platinum\",\"Platinum\",\"Platinum\",\"Platinum\",\"Platinum\",\"Platinum\",\"Platinum\",\"Platinum\",\"Platinum\",\"Platinum\",\"Platinum\",\"Platinum\",\"Platinum\",\"Platinum\",\"Platinum\",\"Platinum\",\"Platinum\",\"Platinum\",\"Platinum\",\"Platinum\",\"Platinum\",\"Platinum\",\"Platinum\",\"Platinum\",\"Platinum\",\"Platinum\",\"Platinum\",\"Platinum\",\"Platinum\",\"Platinum\",\"Platinum\",\"Platinum\",\"Platinum\",\"Platinum\",\"Platinum\",\"Platinum\",\"Platinum\",\"Platinum\",\"Platinum\",\"Platinum\",\"Platinum\",\"Platinum\",\"Platinum\",\"Platinum\",\"Platinum\",\"Platinum\",\"Platinum\",\"Platinum\",\"Platinum\",\"Platinum\",\"Platinum\",\"Platinum\",\"Platinum\",\"Platinum\",\"Platinum\",\"Platinum\",\"Platinum\",\"Platinum\",\"Platinum\",\"Platinum\",\"Platinum\",\"Platinum\",\"Platinum\",\"Platinum\",\"Platinum\",\"Platinum\",\"Platinum\",\"Platinum\",\"Platinum\",\"Platinum\",\"Platinum\",\"Platinum\",\"Platinum\",\"Platinum\",\"Platinum\",\"Platinum\",\"Platinum\",\"Platinum\",\"Platinum\",\"Platinum\",\"Platinum\",\"Platinum\",\"Platinum\",\"Platinum\",\"Platinum\",\"Platinum\",\"Platinum\",\"Platinum\",\"Platinum\",\"Platinum\",\"Platinum\",\"Platinum\",\"Platinum\",\"Platinum\",\"Platinum\",\"Platinum\",\"Platinum\",\"Platinum\",\"Platinum\",\"Platinum\",\"Platinum\",\"Platinum\",\"Platinum\",\"Platinum\",\"Platinum\",\"Platinum\",\"Platinum\",\"Platinum\",\"Platinum\",\"Platinum\",\"Platinum\",\"Platinum\",\"Platinum\",\"Platinum\",\"Platinum\",\"Platinum\",\"Platinum\",\"Platinum\",\"Platinum\",\"Platinum\",\"Platinum\",\"Platinum\",\"Platinum\",\"Platinum\",\"Platinum\",\"Platinum\",\"Platinum\",\"Platinum\",\"Platinum\",\"Platinum\",\"Platinum\",\"Platinum\",\"Platinum\",\"Platinum\",\"Platinum\",\"Platinum\",\"Platinum\",\"Platinum\",\"Platinum\",\"Platinum\",\"Platinum\",\"Platinum\",\"Platinum\",\"Platinum\",\"Platinum\",\"Platinum\",\"Platinum\",\"Platinum\",\"Platinum\",\"Platinum\",\"Platinum\",\"Platinum\",\"Platinum\",\"Platinum\",\"Platinum\",\"Platinum\",\"Platinum\",\"Platinum\",\"Platinum\",\"Platinum\",\"Platinum\",\"Platinum\",\"Platinum\",\"Platinum\",\"Platinum\",\"Platinum\",\"Platinum\",\"Platinum\",\"Platinum\",\"Platinum\",\"Platinum\",\"Platinum\",\"Platinum\",\"Platinum\",\"Platinum\",\"Platinum\",\"Platinum\",\"Platinum\",\"Platinum\",\"Platinum\",\"Platinum\",\"Platinum\",\"Platinum\",\"Platinum\",\"Platinum\",\"Platinum\",\"Platinum\",\"Platinum\",\"Platinum\",\"Platinum\",\"Platinum\",\"Platinum\",\"Platinum\",\"Platinum\",\"Platinum\",\"Platinum\"],\"xaxis\":\"x\",\"yaxis\":\"y\",\"type\":\"histogram\"},{\"alignmentgroup\":\"True\",\"bingroup\":\"x\",\"hovertemplate\":\"RFM_Loyalty_Level=%{x}<br>count=%{y}<extra></extra>\",\"legendgroup\":\"Gold\",\"marker\":{\"color\":\"#00cc96\",\"pattern\":{\"shape\":\"\"}},\"name\":\"Gold\",\"offsetgroup\":\"Gold\",\"orientation\":\"v\",\"showlegend\":true,\"x\":[\"Gold\",\"Gold\",\"Gold\",\"Gold\",\"Gold\",\"Gold\",\"Gold\",\"Gold\",\"Gold\",\"Gold\",\"Gold\",\"Gold\",\"Gold\",\"Gold\",\"Gold\",\"Gold\",\"Gold\",\"Gold\",\"Gold\",\"Gold\",\"Gold\",\"Gold\",\"Gold\",\"Gold\",\"Gold\",\"Gold\",\"Gold\",\"Gold\",\"Gold\",\"Gold\",\"Gold\",\"Gold\",\"Gold\",\"Gold\",\"Gold\",\"Gold\",\"Gold\",\"Gold\",\"Gold\",\"Gold\",\"Gold\",\"Gold\",\"Gold\",\"Gold\",\"Gold\",\"Gold\",\"Gold\",\"Gold\",\"Gold\",\"Gold\",\"Gold\",\"Gold\",\"Gold\",\"Gold\",\"Gold\",\"Gold\",\"Gold\",\"Gold\",\"Gold\",\"Gold\",\"Gold\",\"Gold\",\"Gold\",\"Gold\",\"Gold\",\"Gold\",\"Gold\",\"Gold\",\"Gold\",\"Gold\",\"Gold\",\"Gold\",\"Gold\",\"Gold\",\"Gold\",\"Gold\",\"Gold\",\"Gold\",\"Gold\",\"Gold\",\"Gold\",\"Gold\",\"Gold\",\"Gold\",\"Gold\",\"Gold\",\"Gold\",\"Gold\",\"Gold\",\"Gold\",\"Gold\",\"Gold\",\"Gold\",\"Gold\",\"Gold\",\"Gold\",\"Gold\",\"Gold\",\"Gold\",\"Gold\",\"Gold\",\"Gold\",\"Gold\",\"Gold\",\"Gold\",\"Gold\",\"Gold\",\"Gold\",\"Gold\",\"Gold\",\"Gold\",\"Gold\",\"Gold\",\"Gold\",\"Gold\",\"Gold\",\"Gold\",\"Gold\",\"Gold\",\"Gold\",\"Gold\",\"Gold\",\"Gold\",\"Gold\",\"Gold\",\"Gold\",\"Gold\",\"Gold\",\"Gold\",\"Gold\",\"Gold\",\"Gold\",\"Gold\",\"Gold\",\"Gold\",\"Gold\",\"Gold\",\"Gold\",\"Gold\",\"Gold\",\"Gold\",\"Gold\",\"Gold\",\"Gold\",\"Gold\",\"Gold\",\"Gold\",\"Gold\",\"Gold\",\"Gold\",\"Gold\",\"Gold\",\"Gold\",\"Gold\",\"Gold\",\"Gold\",\"Gold\",\"Gold\",\"Gold\",\"Gold\",\"Gold\",\"Gold\",\"Gold\",\"Gold\",\"Gold\",\"Gold\",\"Gold\",\"Gold\",\"Gold\",\"Gold\",\"Gold\",\"Gold\",\"Gold\",\"Gold\",\"Gold\",\"Gold\",\"Gold\",\"Gold\",\"Gold\",\"Gold\",\"Gold\",\"Gold\",\"Gold\",\"Gold\",\"Gold\",\"Gold\",\"Gold\",\"Gold\",\"Gold\",\"Gold\",\"Gold\",\"Gold\",\"Gold\",\"Gold\",\"Gold\",\"Gold\",\"Gold\",\"Gold\",\"Gold\",\"Gold\",\"Gold\",\"Gold\",\"Gold\",\"Gold\",\"Gold\",\"Gold\",\"Gold\",\"Gold\",\"Gold\",\"Gold\",\"Gold\",\"Gold\",\"Gold\",\"Gold\",\"Gold\",\"Gold\",\"Gold\",\"Gold\",\"Gold\",\"Gold\",\"Gold\",\"Gold\",\"Gold\",\"Gold\",\"Gold\",\"Gold\",\"Gold\",\"Gold\",\"Gold\",\"Gold\",\"Gold\",\"Gold\",\"Gold\",\"Gold\",\"Gold\",\"Gold\",\"Gold\",\"Gold\",\"Gold\",\"Gold\",\"Gold\",\"Gold\",\"Gold\",\"Gold\",\"Gold\",\"Gold\",\"Gold\",\"Gold\",\"Gold\",\"Gold\",\"Gold\",\"Gold\",\"Gold\",\"Gold\",\"Gold\",\"Gold\",\"Gold\",\"Gold\",\"Gold\",\"Gold\",\"Gold\",\"Gold\",\"Gold\",\"Gold\",\"Gold\",\"Gold\",\"Gold\",\"Gold\",\"Gold\",\"Gold\",\"Gold\",\"Gold\",\"Gold\",\"Gold\",\"Gold\",\"Gold\",\"Gold\",\"Gold\",\"Gold\",\"Gold\",\"Gold\",\"Gold\",\"Gold\",\"Gold\",\"Gold\",\"Gold\",\"Gold\",\"Gold\",\"Gold\",\"Gold\",\"Gold\",\"Gold\",\"Gold\",\"Gold\",\"Gold\",\"Gold\",\"Gold\",\"Gold\",\"Gold\",\"Gold\",\"Gold\",\"Gold\",\"Gold\",\"Gold\",\"Gold\",\"Gold\",\"Gold\",\"Gold\",\"Gold\",\"Gold\",\"Gold\",\"Gold\",\"Gold\",\"Gold\",\"Gold\",\"Gold\",\"Gold\",\"Gold\",\"Gold\",\"Gold\",\"Gold\",\"Gold\",\"Gold\",\"Gold\",\"Gold\",\"Gold\",\"Gold\",\"Gold\",\"Gold\",\"Gold\",\"Gold\",\"Gold\",\"Gold\",\"Gold\",\"Gold\",\"Gold\",\"Gold\",\"Gold\",\"Gold\",\"Gold\",\"Gold\",\"Gold\",\"Gold\",\"Gold\",\"Gold\",\"Gold\",\"Gold\",\"Gold\",\"Gold\",\"Gold\",\"Gold\",\"Gold\",\"Gold\",\"Gold\",\"Gold\",\"Gold\",\"Gold\",\"Gold\",\"Gold\",\"Gold\",\"Gold\",\"Gold\",\"Gold\",\"Gold\",\"Gold\",\"Gold\",\"Gold\",\"Gold\",\"Gold\",\"Gold\",\"Gold\",\"Gold\",\"Gold\",\"Gold\",\"Gold\",\"Gold\",\"Gold\",\"Gold\",\"Gold\",\"Gold\",\"Gold\",\"Gold\",\"Gold\",\"Gold\",\"Gold\",\"Gold\",\"Gold\",\"Gold\",\"Gold\",\"Gold\",\"Gold\",\"Gold\",\"Gold\",\"Gold\",\"Gold\",\"Gold\",\"Gold\",\"Gold\",\"Gold\",\"Gold\",\"Gold\",\"Gold\",\"Gold\",\"Gold\",\"Gold\",\"Gold\",\"Gold\",\"Gold\",\"Gold\",\"Gold\",\"Gold\",\"Gold\",\"Gold\",\"Gold\",\"Gold\",\"Gold\",\"Gold\",\"Gold\",\"Gold\",\"Gold\",\"Gold\",\"Gold\",\"Gold\",\"Gold\",\"Gold\",\"Gold\",\"Gold\",\"Gold\",\"Gold\",\"Gold\",\"Gold\",\"Gold\",\"Gold\",\"Gold\",\"Gold\",\"Gold\",\"Gold\",\"Gold\",\"Gold\",\"Gold\",\"Gold\",\"Gold\",\"Gold\",\"Gold\",\"Gold\",\"Gold\",\"Gold\",\"Gold\",\"Gold\",\"Gold\",\"Gold\",\"Gold\",\"Gold\",\"Gold\",\"Gold\",\"Gold\",\"Gold\",\"Gold\",\"Gold\",\"Gold\",\"Gold\",\"Gold\",\"Gold\",\"Gold\",\"Gold\",\"Gold\",\"Gold\",\"Gold\",\"Gold\",\"Gold\",\"Gold\",\"Gold\",\"Gold\",\"Gold\",\"Gold\",\"Gold\",\"Gold\",\"Gold\",\"Gold\",\"Gold\",\"Gold\",\"Gold\",\"Gold\",\"Gold\",\"Gold\",\"Gold\",\"Gold\",\"Gold\",\"Gold\",\"Gold\",\"Gold\",\"Gold\",\"Gold\",\"Gold\",\"Gold\",\"Gold\",\"Gold\",\"Gold\",\"Gold\",\"Gold\",\"Gold\",\"Gold\",\"Gold\",\"Gold\",\"Gold\",\"Gold\",\"Gold\",\"Gold\",\"Gold\",\"Gold\",\"Gold\",\"Gold\",\"Gold\",\"Gold\",\"Gold\",\"Gold\",\"Gold\",\"Gold\",\"Gold\",\"Gold\",\"Gold\",\"Gold\",\"Gold\",\"Gold\",\"Gold\",\"Gold\",\"Gold\",\"Gold\",\"Gold\",\"Gold\",\"Gold\",\"Gold\",\"Gold\",\"Gold\",\"Gold\",\"Gold\",\"Gold\",\"Gold\",\"Gold\",\"Gold\",\"Gold\",\"Gold\",\"Gold\",\"Gold\",\"Gold\",\"Gold\",\"Gold\",\"Gold\",\"Gold\",\"Gold\",\"Gold\",\"Gold\",\"Gold\",\"Gold\",\"Gold\",\"Gold\",\"Gold\",\"Gold\",\"Gold\",\"Gold\",\"Gold\",\"Gold\",\"Gold\",\"Gold\",\"Gold\",\"Gold\",\"Gold\",\"Gold\",\"Gold\",\"Gold\",\"Gold\",\"Gold\",\"Gold\",\"Gold\",\"Gold\",\"Gold\",\"Gold\",\"Gold\",\"Gold\",\"Gold\",\"Gold\",\"Gold\",\"Gold\",\"Gold\",\"Gold\",\"Gold\",\"Gold\",\"Gold\",\"Gold\",\"Gold\",\"Gold\",\"Gold\",\"Gold\",\"Gold\",\"Gold\",\"Gold\",\"Gold\",\"Gold\",\"Gold\",\"Gold\",\"Gold\",\"Gold\",\"Gold\",\"Gold\",\"Gold\",\"Gold\",\"Gold\",\"Gold\",\"Gold\",\"Gold\",\"Gold\",\"Gold\",\"Gold\",\"Gold\",\"Gold\",\"Gold\",\"Gold\",\"Gold\",\"Gold\",\"Gold\",\"Gold\",\"Gold\",\"Gold\",\"Gold\",\"Gold\",\"Gold\",\"Gold\",\"Gold\",\"Gold\",\"Gold\",\"Gold\",\"Gold\",\"Gold\",\"Gold\",\"Gold\",\"Gold\",\"Gold\",\"Gold\",\"Gold\",\"Gold\",\"Gold\",\"Gold\",\"Gold\",\"Gold\",\"Gold\",\"Gold\",\"Gold\",\"Gold\",\"Gold\",\"Gold\",\"Gold\",\"Gold\",\"Gold\",\"Gold\",\"Gold\",\"Gold\",\"Gold\",\"Gold\",\"Gold\",\"Gold\",\"Gold\",\"Gold\",\"Gold\",\"Gold\",\"Gold\",\"Gold\",\"Gold\",\"Gold\",\"Gold\",\"Gold\",\"Gold\",\"Gold\",\"Gold\",\"Gold\",\"Gold\",\"Gold\",\"Gold\",\"Gold\",\"Gold\",\"Gold\",\"Gold\",\"Gold\",\"Gold\",\"Gold\",\"Gold\",\"Gold\",\"Gold\",\"Gold\",\"Gold\",\"Gold\",\"Gold\",\"Gold\",\"Gold\",\"Gold\",\"Gold\",\"Gold\",\"Gold\",\"Gold\",\"Gold\",\"Gold\",\"Gold\",\"Gold\",\"Gold\",\"Gold\",\"Gold\",\"Gold\",\"Gold\",\"Gold\",\"Gold\",\"Gold\",\"Gold\",\"Gold\",\"Gold\",\"Gold\",\"Gold\",\"Gold\",\"Gold\",\"Gold\",\"Gold\",\"Gold\",\"Gold\",\"Gold\",\"Gold\",\"Gold\",\"Gold\",\"Gold\",\"Gold\",\"Gold\",\"Gold\",\"Gold\",\"Gold\",\"Gold\",\"Gold\",\"Gold\",\"Gold\",\"Gold\",\"Gold\",\"Gold\",\"Gold\",\"Gold\",\"Gold\",\"Gold\",\"Gold\",\"Gold\",\"Gold\",\"Gold\",\"Gold\",\"Gold\",\"Gold\",\"Gold\",\"Gold\",\"Gold\",\"Gold\",\"Gold\",\"Gold\",\"Gold\",\"Gold\",\"Gold\",\"Gold\",\"Gold\",\"Gold\",\"Gold\",\"Gold\",\"Gold\",\"Gold\",\"Gold\",\"Gold\",\"Gold\",\"Gold\",\"Gold\",\"Gold\",\"Gold\",\"Gold\",\"Gold\",\"Gold\",\"Gold\",\"Gold\",\"Gold\",\"Gold\",\"Gold\",\"Gold\",\"Gold\",\"Gold\",\"Gold\",\"Gold\",\"Gold\",\"Gold\",\"Gold\",\"Gold\",\"Gold\",\"Gold\",\"Gold\",\"Gold\",\"Gold\",\"Gold\",\"Gold\",\"Gold\",\"Gold\",\"Gold\",\"Gold\",\"Gold\",\"Gold\",\"Gold\",\"Gold\",\"Gold\",\"Gold\",\"Gold\",\"Gold\",\"Gold\",\"Gold\",\"Gold\",\"Gold\",\"Gold\",\"Gold\",\"Gold\",\"Gold\",\"Gold\",\"Gold\",\"Gold\",\"Gold\",\"Gold\",\"Gold\",\"Gold\",\"Gold\",\"Gold\",\"Gold\",\"Gold\",\"Gold\",\"Gold\",\"Gold\",\"Gold\",\"Gold\",\"Gold\",\"Gold\",\"Gold\",\"Gold\",\"Gold\",\"Gold\",\"Gold\",\"Gold\",\"Gold\",\"Gold\",\"Gold\",\"Gold\",\"Gold\",\"Gold\",\"Gold\",\"Gold\",\"Gold\",\"Gold\",\"Gold\",\"Gold\",\"Gold\",\"Gold\",\"Gold\",\"Gold\",\"Gold\",\"Gold\",\"Gold\",\"Gold\",\"Gold\",\"Gold\",\"Gold\",\"Gold\",\"Gold\",\"Gold\",\"Gold\",\"Gold\",\"Gold\",\"Gold\",\"Gold\",\"Gold\",\"Gold\",\"Gold\",\"Gold\",\"Gold\",\"Gold\",\"Gold\",\"Gold\",\"Gold\",\"Gold\",\"Gold\",\"Gold\",\"Gold\",\"Gold\",\"Gold\",\"Gold\",\"Gold\",\"Gold\",\"Gold\",\"Gold\",\"Gold\",\"Gold\",\"Gold\",\"Gold\",\"Gold\",\"Gold\",\"Gold\",\"Gold\",\"Gold\",\"Gold\",\"Gold\",\"Gold\",\"Gold\",\"Gold\",\"Gold\",\"Gold\",\"Gold\",\"Gold\",\"Gold\",\"Gold\",\"Gold\",\"Gold\",\"Gold\",\"Gold\",\"Gold\",\"Gold\",\"Gold\",\"Gold\",\"Gold\",\"Gold\",\"Gold\",\"Gold\",\"Gold\",\"Gold\",\"Gold\",\"Gold\",\"Gold\",\"Gold\",\"Gold\",\"Gold\",\"Gold\",\"Gold\",\"Gold\",\"Gold\",\"Gold\",\"Gold\",\"Gold\",\"Gold\",\"Gold\",\"Gold\",\"Gold\",\"Gold\",\"Gold\",\"Gold\",\"Gold\",\"Gold\",\"Gold\",\"Gold\",\"Gold\",\"Gold\",\"Gold\",\"Gold\",\"Gold\",\"Gold\",\"Gold\",\"Gold\",\"Gold\",\"Gold\",\"Gold\",\"Gold\",\"Gold\",\"Gold\",\"Gold\",\"Gold\",\"Gold\",\"Gold\",\"Gold\",\"Gold\",\"Gold\",\"Gold\",\"Gold\",\"Gold\",\"Gold\",\"Gold\",\"Gold\",\"Gold\",\"Gold\",\"Gold\",\"Gold\",\"Gold\",\"Gold\",\"Gold\",\"Gold\",\"Gold\",\"Gold\",\"Gold\",\"Gold\",\"Gold\",\"Gold\",\"Gold\",\"Gold\",\"Gold\",\"Gold\",\"Gold\",\"Gold\",\"Gold\",\"Gold\",\"Gold\",\"Gold\",\"Gold\",\"Gold\",\"Gold\",\"Gold\",\"Gold\",\"Gold\",\"Gold\",\"Gold\",\"Gold\",\"Gold\",\"Gold\",\"Gold\",\"Gold\",\"Gold\",\"Gold\",\"Gold\",\"Gold\",\"Gold\",\"Gold\",\"Gold\",\"Gold\",\"Gold\",\"Gold\",\"Gold\",\"Gold\",\"Gold\",\"Gold\",\"Gold\",\"Gold\",\"Gold\",\"Gold\",\"Gold\",\"Gold\",\"Gold\",\"Gold\",\"Gold\",\"Gold\",\"Gold\",\"Gold\",\"Gold\",\"Gold\",\"Gold\",\"Gold\",\"Gold\",\"Gold\",\"Gold\",\"Gold\",\"Gold\",\"Gold\",\"Gold\",\"Gold\",\"Gold\",\"Gold\",\"Gold\",\"Gold\",\"Gold\",\"Gold\",\"Gold\",\"Gold\",\"Gold\",\"Gold\",\"Gold\",\"Gold\",\"Gold\",\"Gold\",\"Gold\",\"Gold\",\"Gold\",\"Gold\",\"Gold\",\"Gold\",\"Gold\",\"Gold\",\"Gold\",\"Gold\",\"Gold\",\"Gold\",\"Gold\",\"Gold\",\"Gold\",\"Gold\",\"Gold\",\"Gold\",\"Gold\",\"Gold\",\"Gold\",\"Gold\",\"Gold\",\"Gold\",\"Gold\",\"Gold\",\"Gold\",\"Gold\",\"Gold\",\"Gold\",\"Gold\",\"Gold\",\"Gold\",\"Gold\",\"Gold\",\"Gold\",\"Gold\",\"Gold\",\"Gold\",\"Gold\",\"Gold\",\"Gold\",\"Gold\",\"Gold\",\"Gold\",\"Gold\",\"Gold\",\"Gold\",\"Gold\",\"Gold\",\"Gold\",\"Gold\",\"Gold\",\"Gold\",\"Gold\",\"Gold\",\"Gold\",\"Gold\",\"Gold\",\"Gold\",\"Gold\",\"Gold\",\"Gold\",\"Gold\",\"Gold\",\"Gold\",\"Gold\",\"Gold\",\"Gold\",\"Gold\",\"Gold\",\"Gold\",\"Gold\",\"Gold\",\"Gold\",\"Gold\",\"Gold\",\"Gold\",\"Gold\",\"Gold\",\"Gold\",\"Gold\",\"Gold\",\"Gold\",\"Gold\",\"Gold\",\"Gold\",\"Gold\",\"Gold\",\"Gold\",\"Gold\",\"Gold\",\"Gold\",\"Gold\",\"Gold\",\"Gold\",\"Gold\",\"Gold\",\"Gold\",\"Gold\",\"Gold\",\"Gold\",\"Gold\",\"Gold\",\"Gold\",\"Gold\",\"Gold\",\"Gold\",\"Gold\",\"Gold\",\"Gold\",\"Gold\",\"Gold\",\"Gold\",\"Gold\",\"Gold\",\"Gold\",\"Gold\",\"Gold\",\"Gold\",\"Gold\",\"Gold\",\"Gold\",\"Gold\",\"Gold\",\"Gold\",\"Gold\",\"Gold\",\"Gold\",\"Gold\",\"Gold\",\"Gold\",\"Gold\",\"Gold\",\"Gold\",\"Gold\",\"Gold\",\"Gold\",\"Gold\",\"Gold\",\"Gold\",\"Gold\",\"Gold\",\"Gold\",\"Gold\",\"Gold\",\"Gold\",\"Gold\",\"Gold\",\"Gold\",\"Gold\",\"Gold\",\"Gold\",\"Gold\",\"Gold\",\"Gold\",\"Gold\",\"Gold\",\"Gold\",\"Gold\",\"Gold\",\"Gold\",\"Gold\",\"Gold\",\"Gold\",\"Gold\",\"Gold\",\"Gold\",\"Gold\",\"Gold\",\"Gold\",\"Gold\",\"Gold\",\"Gold\",\"Gold\",\"Gold\",\"Gold\",\"Gold\",\"Gold\",\"Gold\",\"Gold\",\"Gold\",\"Gold\",\"Gold\",\"Gold\",\"Gold\",\"Gold\",\"Gold\",\"Gold\",\"Gold\",\"Gold\",\"Gold\",\"Gold\",\"Gold\",\"Gold\",\"Gold\",\"Gold\",\"Gold\",\"Gold\",\"Gold\",\"Gold\",\"Gold\",\"Gold\",\"Gold\",\"Gold\",\"Gold\",\"Gold\",\"Gold\",\"Gold\",\"Gold\",\"Gold\",\"Gold\",\"Gold\",\"Gold\",\"Gold\",\"Gold\",\"Gold\",\"Gold\",\"Gold\",\"Gold\",\"Gold\",\"Gold\",\"Gold\",\"Gold\",\"Gold\",\"Gold\",\"Gold\",\"Gold\",\"Gold\",\"Gold\",\"Gold\",\"Gold\",\"Gold\",\"Gold\",\"Gold\",\"Gold\",\"Gold\",\"Gold\",\"Gold\",\"Gold\",\"Gold\",\"Gold\",\"Gold\",\"Gold\",\"Gold\",\"Gold\",\"Gold\",\"Gold\",\"Gold\",\"Gold\",\"Gold\",\"Gold\",\"Gold\",\"Gold\",\"Gold\",\"Gold\",\"Gold\",\"Gold\",\"Gold\",\"Gold\",\"Gold\",\"Gold\",\"Gold\",\"Gold\",\"Gold\",\"Gold\",\"Gold\"],\"xaxis\":\"x\",\"yaxis\":\"y\",\"type\":\"histogram\"},{\"alignmentgroup\":\"True\",\"bingroup\":\"x\",\"hovertemplate\":\"RFM_Loyalty_Level=%{x}<br>count=%{y}<extra></extra>\",\"legendgroup\":\"Bronze\",\"marker\":{\"color\":\"#ab63fa\",\"pattern\":{\"shape\":\"\"}},\"name\":\"Bronze\",\"offsetgroup\":\"Bronze\",\"orientation\":\"v\",\"showlegend\":true,\"x\":[\"Bronze\",\"Bronze\",\"Bronze\",\"Bronze\",\"Bronze\",\"Bronze\",\"Bronze\",\"Bronze\",\"Bronze\",\"Bronze\",\"Bronze\",\"Bronze\",\"Bronze\",\"Bronze\",\"Bronze\",\"Bronze\",\"Bronze\",\"Bronze\",\"Bronze\",\"Bronze\",\"Bronze\",\"Bronze\",\"Bronze\",\"Bronze\",\"Bronze\",\"Bronze\",\"Bronze\",\"Bronze\",\"Bronze\",\"Bronze\",\"Bronze\",\"Bronze\",\"Bronze\",\"Bronze\",\"Bronze\",\"Bronze\",\"Bronze\",\"Bronze\",\"Bronze\",\"Bronze\",\"Bronze\",\"Bronze\",\"Bronze\",\"Bronze\",\"Bronze\",\"Bronze\",\"Bronze\",\"Bronze\",\"Bronze\",\"Bronze\",\"Bronze\",\"Bronze\",\"Bronze\",\"Bronze\",\"Bronze\",\"Bronze\",\"Bronze\",\"Bronze\",\"Bronze\",\"Bronze\",\"Bronze\",\"Bronze\",\"Bronze\",\"Bronze\",\"Bronze\",\"Bronze\",\"Bronze\",\"Bronze\",\"Bronze\",\"Bronze\",\"Bronze\",\"Bronze\",\"Bronze\",\"Bronze\",\"Bronze\",\"Bronze\",\"Bronze\",\"Bronze\",\"Bronze\",\"Bronze\",\"Bronze\",\"Bronze\",\"Bronze\",\"Bronze\",\"Bronze\",\"Bronze\",\"Bronze\",\"Bronze\",\"Bronze\",\"Bronze\",\"Bronze\",\"Bronze\",\"Bronze\",\"Bronze\",\"Bronze\",\"Bronze\",\"Bronze\",\"Bronze\",\"Bronze\",\"Bronze\",\"Bronze\",\"Bronze\",\"Bronze\",\"Bronze\",\"Bronze\",\"Bronze\",\"Bronze\",\"Bronze\",\"Bronze\",\"Bronze\",\"Bronze\",\"Bronze\",\"Bronze\",\"Bronze\",\"Bronze\",\"Bronze\",\"Bronze\",\"Bronze\",\"Bronze\",\"Bronze\",\"Bronze\",\"Bronze\",\"Bronze\",\"Bronze\",\"Bronze\",\"Bronze\",\"Bronze\",\"Bronze\",\"Bronze\",\"Bronze\",\"Bronze\",\"Bronze\",\"Bronze\",\"Bronze\",\"Bronze\",\"Bronze\",\"Bronze\",\"Bronze\",\"Bronze\",\"Bronze\",\"Bronze\",\"Bronze\",\"Bronze\",\"Bronze\",\"Bronze\",\"Bronze\",\"Bronze\",\"Bronze\",\"Bronze\",\"Bronze\",\"Bronze\",\"Bronze\",\"Bronze\",\"Bronze\",\"Bronze\",\"Bronze\",\"Bronze\",\"Bronze\",\"Bronze\",\"Bronze\",\"Bronze\",\"Bronze\",\"Bronze\",\"Bronze\",\"Bronze\",\"Bronze\",\"Bronze\",\"Bronze\",\"Bronze\",\"Bronze\",\"Bronze\",\"Bronze\",\"Bronze\",\"Bronze\",\"Bronze\",\"Bronze\",\"Bronze\",\"Bronze\",\"Bronze\",\"Bronze\",\"Bronze\",\"Bronze\",\"Bronze\",\"Bronze\",\"Bronze\",\"Bronze\",\"Bronze\",\"Bronze\",\"Bronze\",\"Bronze\",\"Bronze\",\"Bronze\",\"Bronze\",\"Bronze\",\"Bronze\",\"Bronze\",\"Bronze\",\"Bronze\",\"Bronze\",\"Bronze\",\"Bronze\",\"Bronze\",\"Bronze\",\"Bronze\",\"Bronze\",\"Bronze\",\"Bronze\",\"Bronze\",\"Bronze\",\"Bronze\",\"Bronze\",\"Bronze\",\"Bronze\",\"Bronze\",\"Bronze\",\"Bronze\",\"Bronze\",\"Bronze\",\"Bronze\",\"Bronze\",\"Bronze\",\"Bronze\",\"Bronze\",\"Bronze\",\"Bronze\",\"Bronze\",\"Bronze\",\"Bronze\",\"Bronze\",\"Bronze\",\"Bronze\",\"Bronze\",\"Bronze\",\"Bronze\",\"Bronze\",\"Bronze\",\"Bronze\",\"Bronze\",\"Bronze\",\"Bronze\",\"Bronze\",\"Bronze\",\"Bronze\",\"Bronze\",\"Bronze\",\"Bronze\",\"Bronze\",\"Bronze\",\"Bronze\",\"Bronze\",\"Bronze\",\"Bronze\",\"Bronze\",\"Bronze\",\"Bronze\",\"Bronze\",\"Bronze\",\"Bronze\",\"Bronze\",\"Bronze\",\"Bronze\",\"Bronze\",\"Bronze\",\"Bronze\",\"Bronze\",\"Bronze\",\"Bronze\",\"Bronze\",\"Bronze\",\"Bronze\",\"Bronze\",\"Bronze\",\"Bronze\",\"Bronze\",\"Bronze\",\"Bronze\",\"Bronze\",\"Bronze\",\"Bronze\",\"Bronze\",\"Bronze\",\"Bronze\",\"Bronze\",\"Bronze\",\"Bronze\",\"Bronze\",\"Bronze\",\"Bronze\",\"Bronze\",\"Bronze\",\"Bronze\",\"Bronze\",\"Bronze\",\"Bronze\",\"Bronze\",\"Bronze\",\"Bronze\",\"Bronze\",\"Bronze\",\"Bronze\",\"Bronze\",\"Bronze\",\"Bronze\",\"Bronze\",\"Bronze\",\"Bronze\",\"Bronze\",\"Bronze\",\"Bronze\",\"Bronze\",\"Bronze\",\"Bronze\",\"Bronze\",\"Bronze\",\"Bronze\",\"Bronze\",\"Bronze\",\"Bronze\",\"Bronze\",\"Bronze\",\"Bronze\",\"Bronze\",\"Bronze\",\"Bronze\",\"Bronze\",\"Bronze\",\"Bronze\",\"Bronze\",\"Bronze\",\"Bronze\",\"Bronze\",\"Bronze\",\"Bronze\",\"Bronze\",\"Bronze\",\"Bronze\",\"Bronze\",\"Bronze\",\"Bronze\",\"Bronze\",\"Bronze\",\"Bronze\",\"Bronze\",\"Bronze\",\"Bronze\",\"Bronze\",\"Bronze\",\"Bronze\",\"Bronze\",\"Bronze\",\"Bronze\",\"Bronze\",\"Bronze\",\"Bronze\",\"Bronze\",\"Bronze\",\"Bronze\",\"Bronze\",\"Bronze\",\"Bronze\",\"Bronze\",\"Bronze\",\"Bronze\",\"Bronze\",\"Bronze\",\"Bronze\",\"Bronze\",\"Bronze\",\"Bronze\",\"Bronze\",\"Bronze\",\"Bronze\",\"Bronze\",\"Bronze\",\"Bronze\",\"Bronze\",\"Bronze\",\"Bronze\",\"Bronze\",\"Bronze\",\"Bronze\",\"Bronze\",\"Bronze\",\"Bronze\",\"Bronze\",\"Bronze\",\"Bronze\",\"Bronze\",\"Bronze\",\"Bronze\",\"Bronze\",\"Bronze\",\"Bronze\",\"Bronze\",\"Bronze\",\"Bronze\",\"Bronze\",\"Bronze\",\"Bronze\",\"Bronze\",\"Bronze\",\"Bronze\",\"Bronze\",\"Bronze\",\"Bronze\",\"Bronze\",\"Bronze\",\"Bronze\",\"Bronze\",\"Bronze\",\"Bronze\",\"Bronze\",\"Bronze\",\"Bronze\",\"Bronze\",\"Bronze\",\"Bronze\",\"Bronze\",\"Bronze\",\"Bronze\",\"Bronze\",\"Bronze\",\"Bronze\",\"Bronze\",\"Bronze\",\"Bronze\",\"Bronze\",\"Bronze\",\"Bronze\",\"Bronze\",\"Bronze\",\"Bronze\",\"Bronze\",\"Bronze\",\"Bronze\",\"Bronze\",\"Bronze\",\"Bronze\",\"Bronze\",\"Bronze\",\"Bronze\",\"Bronze\",\"Bronze\",\"Bronze\",\"Bronze\",\"Bronze\",\"Bronze\",\"Bronze\",\"Bronze\",\"Bronze\",\"Bronze\",\"Bronze\",\"Bronze\",\"Bronze\",\"Bronze\",\"Bronze\",\"Bronze\",\"Bronze\",\"Bronze\",\"Bronze\",\"Bronze\",\"Bronze\",\"Bronze\",\"Bronze\",\"Bronze\",\"Bronze\",\"Bronze\",\"Bronze\",\"Bronze\",\"Bronze\",\"Bronze\",\"Bronze\",\"Bronze\",\"Bronze\",\"Bronze\",\"Bronze\",\"Bronze\",\"Bronze\",\"Bronze\",\"Bronze\",\"Bronze\",\"Bronze\",\"Bronze\",\"Bronze\",\"Bronze\",\"Bronze\",\"Bronze\",\"Bronze\",\"Bronze\",\"Bronze\",\"Bronze\",\"Bronze\",\"Bronze\",\"Bronze\",\"Bronze\",\"Bronze\",\"Bronze\",\"Bronze\",\"Bronze\",\"Bronze\",\"Bronze\",\"Bronze\",\"Bronze\",\"Bronze\",\"Bronze\",\"Bronze\",\"Bronze\",\"Bronze\",\"Bronze\",\"Bronze\",\"Bronze\",\"Bronze\",\"Bronze\",\"Bronze\",\"Bronze\",\"Bronze\",\"Bronze\",\"Bronze\",\"Bronze\",\"Bronze\",\"Bronze\",\"Bronze\",\"Bronze\",\"Bronze\",\"Bronze\",\"Bronze\",\"Bronze\",\"Bronze\",\"Bronze\",\"Bronze\",\"Bronze\",\"Bronze\",\"Bronze\",\"Bronze\",\"Bronze\",\"Bronze\",\"Bronze\",\"Bronze\",\"Bronze\",\"Bronze\",\"Bronze\",\"Bronze\",\"Bronze\",\"Bronze\",\"Bronze\",\"Bronze\",\"Bronze\",\"Bronze\",\"Bronze\",\"Bronze\",\"Bronze\",\"Bronze\",\"Bronze\",\"Bronze\",\"Bronze\",\"Bronze\",\"Bronze\",\"Bronze\",\"Bronze\",\"Bronze\",\"Bronze\",\"Bronze\",\"Bronze\",\"Bronze\",\"Bronze\",\"Bronze\",\"Bronze\",\"Bronze\",\"Bronze\",\"Bronze\",\"Bronze\",\"Bronze\",\"Bronze\",\"Bronze\",\"Bronze\",\"Bronze\",\"Bronze\",\"Bronze\",\"Bronze\",\"Bronze\",\"Bronze\",\"Bronze\",\"Bronze\",\"Bronze\",\"Bronze\",\"Bronze\",\"Bronze\",\"Bronze\",\"Bronze\",\"Bronze\",\"Bronze\",\"Bronze\",\"Bronze\",\"Bronze\",\"Bronze\",\"Bronze\",\"Bronze\",\"Bronze\",\"Bronze\",\"Bronze\",\"Bronze\",\"Bronze\",\"Bronze\",\"Bronze\",\"Bronze\",\"Bronze\",\"Bronze\",\"Bronze\",\"Bronze\",\"Bronze\",\"Bronze\",\"Bronze\",\"Bronze\",\"Bronze\",\"Bronze\",\"Bronze\",\"Bronze\",\"Bronze\",\"Bronze\",\"Bronze\",\"Bronze\",\"Bronze\",\"Bronze\",\"Bronze\",\"Bronze\",\"Bronze\",\"Bronze\",\"Bronze\",\"Bronze\",\"Bronze\",\"Bronze\",\"Bronze\",\"Bronze\",\"Bronze\",\"Bronze\",\"Bronze\",\"Bronze\",\"Bronze\",\"Bronze\",\"Bronze\",\"Bronze\",\"Bronze\",\"Bronze\",\"Bronze\",\"Bronze\",\"Bronze\",\"Bronze\",\"Bronze\",\"Bronze\",\"Bronze\",\"Bronze\",\"Bronze\",\"Bronze\",\"Bronze\",\"Bronze\",\"Bronze\",\"Bronze\",\"Bronze\",\"Bronze\",\"Bronze\",\"Bronze\",\"Bronze\",\"Bronze\",\"Bronze\",\"Bronze\",\"Bronze\",\"Bronze\",\"Bronze\",\"Bronze\",\"Bronze\",\"Bronze\",\"Bronze\",\"Bronze\",\"Bronze\",\"Bronze\",\"Bronze\",\"Bronze\",\"Bronze\",\"Bronze\",\"Bronze\",\"Bronze\",\"Bronze\",\"Bronze\",\"Bronze\",\"Bronze\",\"Bronze\",\"Bronze\",\"Bronze\",\"Bronze\",\"Bronze\",\"Bronze\",\"Bronze\",\"Bronze\",\"Bronze\",\"Bronze\",\"Bronze\",\"Bronze\",\"Bronze\",\"Bronze\",\"Bronze\",\"Bronze\",\"Bronze\",\"Bronze\",\"Bronze\",\"Bronze\",\"Bronze\",\"Bronze\",\"Bronze\",\"Bronze\",\"Bronze\",\"Bronze\",\"Bronze\",\"Bronze\",\"Bronze\",\"Bronze\",\"Bronze\",\"Bronze\",\"Bronze\",\"Bronze\",\"Bronze\",\"Bronze\",\"Bronze\",\"Bronze\",\"Bronze\",\"Bronze\",\"Bronze\",\"Bronze\",\"Bronze\",\"Bronze\",\"Bronze\",\"Bronze\",\"Bronze\",\"Bronze\",\"Bronze\",\"Bronze\",\"Bronze\",\"Bronze\",\"Bronze\",\"Bronze\",\"Bronze\",\"Bronze\",\"Bronze\",\"Bronze\",\"Bronze\",\"Bronze\",\"Bronze\",\"Bronze\",\"Bronze\",\"Bronze\",\"Bronze\",\"Bronze\",\"Bronze\",\"Bronze\",\"Bronze\",\"Bronze\",\"Bronze\",\"Bronze\",\"Bronze\",\"Bronze\",\"Bronze\",\"Bronze\",\"Bronze\",\"Bronze\",\"Bronze\",\"Bronze\",\"Bronze\",\"Bronze\",\"Bronze\",\"Bronze\"],\"xaxis\":\"x\",\"yaxis\":\"y\",\"type\":\"histogram\"}],                        {\"template\":{\"data\":{\"histogram2dcontour\":[{\"type\":\"histogram2dcontour\",\"colorbar\":{\"outlinewidth\":0,\"ticks\":\"\"},\"colorscale\":[[0.0,\"#0d0887\"],[0.1111111111111111,\"#46039f\"],[0.2222222222222222,\"#7201a8\"],[0.3333333333333333,\"#9c179e\"],[0.4444444444444444,\"#bd3786\"],[0.5555555555555556,\"#d8576b\"],[0.6666666666666666,\"#ed7953\"],[0.7777777777777778,\"#fb9f3a\"],[0.8888888888888888,\"#fdca26\"],[1.0,\"#f0f921\"]]}],\"choropleth\":[{\"type\":\"choropleth\",\"colorbar\":{\"outlinewidth\":0,\"ticks\":\"\"}}],\"histogram2d\":[{\"type\":\"histogram2d\",\"colorbar\":{\"outlinewidth\":0,\"ticks\":\"\"},\"colorscale\":[[0.0,\"#0d0887\"],[0.1111111111111111,\"#46039f\"],[0.2222222222222222,\"#7201a8\"],[0.3333333333333333,\"#9c179e\"],[0.4444444444444444,\"#bd3786\"],[0.5555555555555556,\"#d8576b\"],[0.6666666666666666,\"#ed7953\"],[0.7777777777777778,\"#fb9f3a\"],[0.8888888888888888,\"#fdca26\"],[1.0,\"#f0f921\"]]}],\"heatmap\":[{\"type\":\"heatmap\",\"colorbar\":{\"outlinewidth\":0,\"ticks\":\"\"},\"colorscale\":[[0.0,\"#0d0887\"],[0.1111111111111111,\"#46039f\"],[0.2222222222222222,\"#7201a8\"],[0.3333333333333333,\"#9c179e\"],[0.4444444444444444,\"#bd3786\"],[0.5555555555555556,\"#d8576b\"],[0.6666666666666666,\"#ed7953\"],[0.7777777777777778,\"#fb9f3a\"],[0.8888888888888888,\"#fdca26\"],[1.0,\"#f0f921\"]]}],\"heatmapgl\":[{\"type\":\"heatmapgl\",\"colorbar\":{\"outlinewidth\":0,\"ticks\":\"\"},\"colorscale\":[[0.0,\"#0d0887\"],[0.1111111111111111,\"#46039f\"],[0.2222222222222222,\"#7201a8\"],[0.3333333333333333,\"#9c179e\"],[0.4444444444444444,\"#bd3786\"],[0.5555555555555556,\"#d8576b\"],[0.6666666666666666,\"#ed7953\"],[0.7777777777777778,\"#fb9f3a\"],[0.8888888888888888,\"#fdca26\"],[1.0,\"#f0f921\"]]}],\"contourcarpet\":[{\"type\":\"contourcarpet\",\"colorbar\":{\"outlinewidth\":0,\"ticks\":\"\"}}],\"contour\":[{\"type\":\"contour\",\"colorbar\":{\"outlinewidth\":0,\"ticks\":\"\"},\"colorscale\":[[0.0,\"#0d0887\"],[0.1111111111111111,\"#46039f\"],[0.2222222222222222,\"#7201a8\"],[0.3333333333333333,\"#9c179e\"],[0.4444444444444444,\"#bd3786\"],[0.5555555555555556,\"#d8576b\"],[0.6666666666666666,\"#ed7953\"],[0.7777777777777778,\"#fb9f3a\"],[0.8888888888888888,\"#fdca26\"],[1.0,\"#f0f921\"]]}],\"surface\":[{\"type\":\"surface\",\"colorbar\":{\"outlinewidth\":0,\"ticks\":\"\"},\"colorscale\":[[0.0,\"#0d0887\"],[0.1111111111111111,\"#46039f\"],[0.2222222222222222,\"#7201a8\"],[0.3333333333333333,\"#9c179e\"],[0.4444444444444444,\"#bd3786\"],[0.5555555555555556,\"#d8576b\"],[0.6666666666666666,\"#ed7953\"],[0.7777777777777778,\"#fb9f3a\"],[0.8888888888888888,\"#fdca26\"],[1.0,\"#f0f921\"]]}],\"mesh3d\":[{\"type\":\"mesh3d\",\"colorbar\":{\"outlinewidth\":0,\"ticks\":\"\"}}],\"scatter\":[{\"fillpattern\":{\"fillmode\":\"overlay\",\"size\":10,\"solidity\":0.2},\"type\":\"scatter\"}],\"parcoords\":[{\"type\":\"parcoords\",\"line\":{\"colorbar\":{\"outlinewidth\":0,\"ticks\":\"\"}}}],\"scatterpolargl\":[{\"type\":\"scatterpolargl\",\"marker\":{\"colorbar\":{\"outlinewidth\":0,\"ticks\":\"\"}}}],\"bar\":[{\"error_x\":{\"color\":\"#2a3f5f\"},\"error_y\":{\"color\":\"#2a3f5f\"},\"marker\":{\"line\":{\"color\":\"#E5ECF6\",\"width\":0.5},\"pattern\":{\"fillmode\":\"overlay\",\"size\":10,\"solidity\":0.2}},\"type\":\"bar\"}],\"scattergeo\":[{\"type\":\"scattergeo\",\"marker\":{\"colorbar\":{\"outlinewidth\":0,\"ticks\":\"\"}}}],\"scatterpolar\":[{\"type\":\"scatterpolar\",\"marker\":{\"colorbar\":{\"outlinewidth\":0,\"ticks\":\"\"}}}],\"histogram\":[{\"marker\":{\"pattern\":{\"fillmode\":\"overlay\",\"size\":10,\"solidity\":0.2}},\"type\":\"histogram\"}],\"scattergl\":[{\"type\":\"scattergl\",\"marker\":{\"colorbar\":{\"outlinewidth\":0,\"ticks\":\"\"}}}],\"scatter3d\":[{\"type\":\"scatter3d\",\"line\":{\"colorbar\":{\"outlinewidth\":0,\"ticks\":\"\"}},\"marker\":{\"colorbar\":{\"outlinewidth\":0,\"ticks\":\"\"}}}],\"scattermapbox\":[{\"type\":\"scattermapbox\",\"marker\":{\"colorbar\":{\"outlinewidth\":0,\"ticks\":\"\"}}}],\"scatterternary\":[{\"type\":\"scatterternary\",\"marker\":{\"colorbar\":{\"outlinewidth\":0,\"ticks\":\"\"}}}],\"scattercarpet\":[{\"type\":\"scattercarpet\",\"marker\":{\"colorbar\":{\"outlinewidth\":0,\"ticks\":\"\"}}}],\"carpet\":[{\"aaxis\":{\"endlinecolor\":\"#2a3f5f\",\"gridcolor\":\"white\",\"linecolor\":\"white\",\"minorgridcolor\":\"white\",\"startlinecolor\":\"#2a3f5f\"},\"baxis\":{\"endlinecolor\":\"#2a3f5f\",\"gridcolor\":\"white\",\"linecolor\":\"white\",\"minorgridcolor\":\"white\",\"startlinecolor\":\"#2a3f5f\"},\"type\":\"carpet\"}],\"table\":[{\"cells\":{\"fill\":{\"color\":\"#EBF0F8\"},\"line\":{\"color\":\"white\"}},\"header\":{\"fill\":{\"color\":\"#C8D4E3\"},\"line\":{\"color\":\"white\"}},\"type\":\"table\"}],\"barpolar\":[{\"marker\":{\"line\":{\"color\":\"#E5ECF6\",\"width\":0.5},\"pattern\":{\"fillmode\":\"overlay\",\"size\":10,\"solidity\":0.2}},\"type\":\"barpolar\"}],\"pie\":[{\"automargin\":true,\"type\":\"pie\"}]},\"layout\":{\"autotypenumbers\":\"strict\",\"colorway\":[\"#636efa\",\"#EF553B\",\"#00cc96\",\"#ab63fa\",\"#FFA15A\",\"#19d3f3\",\"#FF6692\",\"#B6E880\",\"#FF97FF\",\"#FECB52\"],\"font\":{\"color\":\"#2a3f5f\"},\"hovermode\":\"closest\",\"hoverlabel\":{\"align\":\"left\"},\"paper_bgcolor\":\"white\",\"plot_bgcolor\":\"#E5ECF6\",\"polar\":{\"bgcolor\":\"#E5ECF6\",\"angularaxis\":{\"gridcolor\":\"white\",\"linecolor\":\"white\",\"ticks\":\"\"},\"radialaxis\":{\"gridcolor\":\"white\",\"linecolor\":\"white\",\"ticks\":\"\"}},\"ternary\":{\"bgcolor\":\"#E5ECF6\",\"aaxis\":{\"gridcolor\":\"white\",\"linecolor\":\"white\",\"ticks\":\"\"},\"baxis\":{\"gridcolor\":\"white\",\"linecolor\":\"white\",\"ticks\":\"\"},\"caxis\":{\"gridcolor\":\"white\",\"linecolor\":\"white\",\"ticks\":\"\"}},\"coloraxis\":{\"colorbar\":{\"outlinewidth\":0,\"ticks\":\"\"}},\"colorscale\":{\"sequential\":[[0.0,\"#0d0887\"],[0.1111111111111111,\"#46039f\"],[0.2222222222222222,\"#7201a8\"],[0.3333333333333333,\"#9c179e\"],[0.4444444444444444,\"#bd3786\"],[0.5555555555555556,\"#d8576b\"],[0.6666666666666666,\"#ed7953\"],[0.7777777777777778,\"#fb9f3a\"],[0.8888888888888888,\"#fdca26\"],[1.0,\"#f0f921\"]],\"sequentialminus\":[[0.0,\"#0d0887\"],[0.1111111111111111,\"#46039f\"],[0.2222222222222222,\"#7201a8\"],[0.3333333333333333,\"#9c179e\"],[0.4444444444444444,\"#bd3786\"],[0.5555555555555556,\"#d8576b\"],[0.6666666666666666,\"#ed7953\"],[0.7777777777777778,\"#fb9f3a\"],[0.8888888888888888,\"#fdca26\"],[1.0,\"#f0f921\"]],\"diverging\":[[0,\"#8e0152\"],[0.1,\"#c51b7d\"],[0.2,\"#de77ae\"],[0.3,\"#f1b6da\"],[0.4,\"#fde0ef\"],[0.5,\"#f7f7f7\"],[0.6,\"#e6f5d0\"],[0.7,\"#b8e186\"],[0.8,\"#7fbc41\"],[0.9,\"#4d9221\"],[1,\"#276419\"]]},\"xaxis\":{\"gridcolor\":\"white\",\"linecolor\":\"white\",\"ticks\":\"\",\"title\":{\"standoff\":15},\"zerolinecolor\":\"white\",\"automargin\":true,\"zerolinewidth\":2},\"yaxis\":{\"gridcolor\":\"white\",\"linecolor\":\"white\",\"ticks\":\"\",\"title\":{\"standoff\":15},\"zerolinecolor\":\"white\",\"automargin\":true,\"zerolinewidth\":2},\"scene\":{\"xaxis\":{\"backgroundcolor\":\"#E5ECF6\",\"gridcolor\":\"white\",\"linecolor\":\"white\",\"showbackground\":true,\"ticks\":\"\",\"zerolinecolor\":\"white\",\"gridwidth\":2},\"yaxis\":{\"backgroundcolor\":\"#E5ECF6\",\"gridcolor\":\"white\",\"linecolor\":\"white\",\"showbackground\":true,\"ticks\":\"\",\"zerolinecolor\":\"white\",\"gridwidth\":2},\"zaxis\":{\"backgroundcolor\":\"#E5ECF6\",\"gridcolor\":\"white\",\"linecolor\":\"white\",\"showbackground\":true,\"ticks\":\"\",\"zerolinecolor\":\"white\",\"gridwidth\":2}},\"shapedefaults\":{\"line\":{\"color\":\"#2a3f5f\"}},\"annotationdefaults\":{\"arrowcolor\":\"#2a3f5f\",\"arrowhead\":0,\"arrowwidth\":1},\"geo\":{\"bgcolor\":\"white\",\"landcolor\":\"#E5ECF6\",\"subunitcolor\":\"white\",\"showland\":true,\"showlakes\":true,\"lakecolor\":\"white\"},\"title\":{\"x\":0.05},\"mapbox\":{\"style\":\"light\"}}},\"xaxis\":{\"anchor\":\"y\",\"domain\":[0.0,1.0],\"title\":{\"text\":\"RFM_Loyalty_Level\"},\"categoryorder\":\"array\",\"categoryarray\":[\"Silver\",\"Platinum\",\"Gold\",\"Bronze\"]},\"yaxis\":{\"anchor\":\"x\",\"domain\":[0.0,1.0],\"title\":{\"text\":\"count\"}},\"legend\":{\"title\":{\"text\":\"RFM_Loyalty_Level\"},\"tracegroupgap\":0},\"margin\":{\"t\":60},\"barmode\":\"group\"},                        {\"responsive\": true}                    ).then(function(){\n",
       "                            \n",
       "var gd = document.getElementById('5bb47401-7ee9-4bfb-8c83-5d43436ebc34');\n",
       "var x = new MutationObserver(function (mutations, observer) {{\n",
       "        var display = window.getComputedStyle(gd).display;\n",
       "        if (!display || display === 'none') {{\n",
       "            console.log([gd, 'removed!']);\n",
       "            Plotly.purge(gd);\n",
       "            observer.disconnect();\n",
       "        }}\n",
       "}});\n",
       "\n",
       "// Listen for the removal of the full notebook cells\n",
       "var notebookContainer = gd.closest('#notebook-container');\n",
       "if (notebookContainer) {{\n",
       "    x.observe(notebookContainer, {childList: true});\n",
       "}}\n",
       "\n",
       "// Listen for the clearing of the current output cell\n",
       "var outputEl = gd.closest('.output');\n",
       "if (outputEl) {{\n",
       "    x.observe(outputEl, {childList: true});\n",
       "}}\n",
       "\n",
       "                        })                };                });            </script>        </div>"
      ]
     },
     "metadata": {},
     "output_type": "display_data"
    }
   ],
   "source": [
    "fig=px.histogram(RFM, x='RFM_Loyalty_Level', barmode='group',color='RFM_Loyalty_Level')\n",
    "fig.show()"
   ]
  },
  {
   "cell_type": "markdown",
   "id": "45b8b2b9",
   "metadata": {
    "papermill": {
     "duration": 0.020946,
     "end_time": "2023-02-25T23:11:47.096590",
     "exception": false,
     "start_time": "2023-02-25T23:11:47.075644",
     "status": "completed"
    },
    "tags": []
   },
   "source": [
    "# Checking For Outliers Before Applying Machine Learning"
   ]
  },
  {
   "cell_type": "code",
   "execution_count": 35,
   "id": "96eb2710",
   "metadata": {
    "execution": {
     "iopub.execute_input": "2023-02-25T23:11:47.140317Z",
     "iopub.status.busy": "2023-02-25T23:11:47.139973Z",
     "iopub.status.idle": "2023-02-25T23:11:47.151828Z",
     "shell.execute_reply": "2023-02-25T23:11:47.150595Z"
    },
    "papermill": {
     "duration": 0.03607,
     "end_time": "2023-02-25T23:11:47.153898",
     "exception": false,
     "start_time": "2023-02-25T23:11:47.117828",
     "status": "completed"
    },
    "tags": []
   },
   "outputs": [
    {
     "data": {
      "text/html": [
       "<div>\n",
       "<style scoped>\n",
       "    .dataframe tbody tr th:only-of-type {\n",
       "        vertical-align: middle;\n",
       "    }\n",
       "\n",
       "    .dataframe tbody tr th {\n",
       "        vertical-align: top;\n",
       "    }\n",
       "\n",
       "    .dataframe thead th {\n",
       "        text-align: right;\n",
       "    }\n",
       "</style>\n",
       "<table border=\"1\" class=\"dataframe\">\n",
       "  <thead>\n",
       "    <tr style=\"text-align: right;\">\n",
       "      <th></th>\n",
       "      <th>Recency</th>\n",
       "      <th>Frequency</th>\n",
       "      <th>Monetary</th>\n",
       "    </tr>\n",
       "  </thead>\n",
       "  <tbody>\n",
       "    <tr>\n",
       "      <th>0</th>\n",
       "      <td>325</td>\n",
       "      <td>1</td>\n",
       "      <td>77183.60</td>\n",
       "    </tr>\n",
       "    <tr>\n",
       "      <th>1</th>\n",
       "      <td>1</td>\n",
       "      <td>182</td>\n",
       "      <td>4310.00</td>\n",
       "    </tr>\n",
       "    <tr>\n",
       "      <th>2</th>\n",
       "      <td>74</td>\n",
       "      <td>31</td>\n",
       "      <td>1797.24</td>\n",
       "    </tr>\n",
       "    <tr>\n",
       "      <th>3</th>\n",
       "      <td>18</td>\n",
       "      <td>73</td>\n",
       "      <td>1757.55</td>\n",
       "    </tr>\n",
       "    <tr>\n",
       "      <th>4</th>\n",
       "      <td>309</td>\n",
       "      <td>17</td>\n",
       "      <td>334.40</td>\n",
       "    </tr>\n",
       "  </tbody>\n",
       "</table>\n",
       "</div>"
      ],
      "text/plain": [
       "   Recency  Frequency  Monetary\n",
       "0      325          1  77183.60\n",
       "1        1        182   4310.00\n",
       "2       74         31   1797.24\n",
       "3       18         73   1757.55\n",
       "4      309         17    334.40"
      ]
     },
     "execution_count": 35,
     "metadata": {},
     "output_type": "execute_result"
    }
   ],
   "source": [
    "# Check for outliers before applying K-Means\n",
    "RFM1=RFM[['Recency','Frequency','Monetary']]\n",
    "RFM1.head()"
   ]
  },
  {
   "cell_type": "code",
   "execution_count": 36,
   "id": "4495ee82",
   "metadata": {
    "execution": {
     "iopub.execute_input": "2023-02-25T23:11:47.198778Z",
     "iopub.status.busy": "2023-02-25T23:11:47.198429Z",
     "iopub.status.idle": "2023-02-25T23:11:47.220385Z",
     "shell.execute_reply": "2023-02-25T23:11:47.219052Z"
    },
    "papermill": {
     "duration": 0.047463,
     "end_time": "2023-02-25T23:11:47.223038",
     "exception": false,
     "start_time": "2023-02-25T23:11:47.175575",
     "status": "completed"
    },
    "tags": []
   },
   "outputs": [
    {
     "data": {
      "text/html": [
       "<div>\n",
       "<style scoped>\n",
       "    .dataframe tbody tr th:only-of-type {\n",
       "        vertical-align: middle;\n",
       "    }\n",
       "\n",
       "    .dataframe tbody tr th {\n",
       "        vertical-align: top;\n",
       "    }\n",
       "\n",
       "    .dataframe thead th {\n",
       "        text-align: right;\n",
       "    }\n",
       "</style>\n",
       "<table border=\"1\" class=\"dataframe\">\n",
       "  <thead>\n",
       "    <tr style=\"text-align: right;\">\n",
       "      <th></th>\n",
       "      <th>Recency</th>\n",
       "      <th>Frequency</th>\n",
       "      <th>Monetary</th>\n",
       "    </tr>\n",
       "  </thead>\n",
       "  <tbody>\n",
       "    <tr>\n",
       "      <th>count</th>\n",
       "      <td>4339.000000</td>\n",
       "      <td>4339.000000</td>\n",
       "      <td>4339.000000</td>\n",
       "    </tr>\n",
       "    <tr>\n",
       "      <th>mean</th>\n",
       "      <td>91.539756</td>\n",
       "      <td>90.512100</td>\n",
       "      <td>2048.216154</td>\n",
       "    </tr>\n",
       "    <tr>\n",
       "      <th>std</th>\n",
       "      <td>99.990232</td>\n",
       "      <td>225.515328</td>\n",
       "      <td>8984.248299</td>\n",
       "    </tr>\n",
       "    <tr>\n",
       "      <th>min</th>\n",
       "      <td>1.000000</td>\n",
       "      <td>1.000000</td>\n",
       "      <td>1.000000</td>\n",
       "    </tr>\n",
       "    <tr>\n",
       "      <th>25%</th>\n",
       "      <td>17.000000</td>\n",
       "      <td>17.000000</td>\n",
       "      <td>306.455000</td>\n",
       "    </tr>\n",
       "    <tr>\n",
       "      <th>50%</th>\n",
       "      <td>50.000000</td>\n",
       "      <td>41.000000</td>\n",
       "      <td>668.560000</td>\n",
       "    </tr>\n",
       "    <tr>\n",
       "      <th>75%</th>\n",
       "      <td>141.000000</td>\n",
       "      <td>98.000000</td>\n",
       "      <td>1660.315000</td>\n",
       "    </tr>\n",
       "    <tr>\n",
       "      <th>max</th>\n",
       "      <td>373.000000</td>\n",
       "      <td>7676.000000</td>\n",
       "      <td>280206.020000</td>\n",
       "    </tr>\n",
       "  </tbody>\n",
       "</table>\n",
       "</div>"
      ],
      "text/plain": [
       "           Recency    Frequency       Monetary\n",
       "count  4339.000000  4339.000000    4339.000000\n",
       "mean     91.539756    90.512100    2048.216154\n",
       "std      99.990232   225.515328    8984.248299\n",
       "min       1.000000     1.000000       1.000000\n",
       "25%      17.000000    17.000000     306.455000\n",
       "50%      50.000000    41.000000     668.560000\n",
       "75%     141.000000    98.000000    1660.315000\n",
       "max     373.000000  7676.000000  280206.020000"
      ]
     },
     "execution_count": 36,
     "metadata": {},
     "output_type": "execute_result"
    }
   ],
   "source": [
    "RFM1.describe()"
   ]
  },
  {
   "cell_type": "code",
   "execution_count": 37,
   "id": "79d887b2",
   "metadata": {
    "execution": {
     "iopub.execute_input": "2023-02-25T23:11:47.268163Z",
     "iopub.status.busy": "2023-02-25T23:11:47.267772Z",
     "iopub.status.idle": "2023-02-25T23:11:47.400406Z",
     "shell.execute_reply": "2023-02-25T23:11:47.399581Z"
    },
    "papermill": {
     "duration": 0.158051,
     "end_time": "2023-02-25T23:11:47.402834",
     "exception": false,
     "start_time": "2023-02-25T23:11:47.244783",
     "status": "completed"
    },
    "tags": []
   },
   "outputs": [
    {
     "data": {
      "image/png": "[encoded data removed]",
      "text/plain": [
       "<Figure size 640x480 with 1 Axes>"
      ]
     },
     "metadata": {},
     "output_type": "display_data"
    }
   ],
   "source": [
    "plt.boxplot(RFM1.Recency)\n",
    "Q1 =RFM1.Recency.quantile(0.25)\n",
    "Q3 = RFM1.Recency.quantile(0.75)\n",
    "IQR = Q3 - Q1\n",
    "RFM1  = RFM1 [(RFM1.Recency >= Q1 - 1.5*IQR) & (RFM1.Recency <= Q3 + 1.5*IQR)]"
   ]
  },
  {
   "cell_type": "code",
   "execution_count": 38,
   "id": "22feb10c",
   "metadata": {
    "execution": {
     "iopub.execute_input": "2023-02-25T23:11:47.451993Z",
     "iopub.status.busy": "2023-02-25T23:11:47.451238Z",
     "iopub.status.idle": "2023-02-25T23:11:47.588153Z",
     "shell.execute_reply": "2023-02-25T23:11:47.587453Z"
    },
    "papermill": {
     "duration": 0.162246,
     "end_time": "2023-02-25T23:11:47.590811",
     "exception": false,
     "start_time": "2023-02-25T23:11:47.428565",
     "status": "completed"
    },
    "tags": []
   },
   "outputs": [
    {
     "data": {
      "image/png": "[encoded data removed]",
      "text/plain": [
       "<Figure size 640x480 with 1 Axes>"
      ]
     },
     "metadata": {},
     "output_type": "display_data"
    }
   ],
   "source": [
    "plt.boxplot(RFM1.Frequency)\n",
    "Q1 = RFM1.Frequency.quantile(0.25)\n",
    "Q3 = RFM1.Frequency.quantile(0.75)\n",
    "IQR = Q3 - Q1\n",
    "RFM1  = RFM1 [(RFM1.Frequency >= Q1 - 1.5*IQR) & (RFM1 .Frequency <= Q3 + 1.5*IQR)]"
   ]
  },
  {
   "cell_type": "code",
   "execution_count": 39,
   "id": "5698182d",
   "metadata": {
    "execution": {
     "iopub.execute_input": "2023-02-25T23:11:47.640505Z",
     "iopub.status.busy": "2023-02-25T23:11:47.639870Z",
     "iopub.status.idle": "2023-02-25T23:11:47.769143Z",
     "shell.execute_reply": "2023-02-25T23:11:47.768335Z"
    },
    "papermill": {
     "duration": 0.155829,
     "end_time": "2023-02-25T23:11:47.771298",
     "exception": false,
     "start_time": "2023-02-25T23:11:47.615469",
     "status": "completed"
    },
    "tags": []
   },
   "outputs": [
    {
     "data": {
      "image/png": "[encoded data removed]",
      "text/plain": [
       "<Figure size 640x480 with 1 Axes>"
      ]
     },
     "metadata": {},
     "output_type": "display_data"
    }
   ],
   "source": [
    "plt.boxplot(RFM1.Monetary)\n",
    "Q1 = RFM1.Monetary.quantile(0.25)\n",
    "Q3 = RFM1.Monetary.quantile(0.75)\n",
    "IQR = Q3 - Q1\n",
    "RFM1 = RFM1 [(RFM1 .Monetary >= (Q1 - 1.5*IQR)) & (RFM1.Monetary <= (Q3 + 1.5*IQR))]\n"
   ]
  },
  {
   "cell_type": "markdown",
   "id": "66f4d990",
   "metadata": {
    "papermill": {
     "duration": 0.022254,
     "end_time": "2023-02-25T23:11:47.819980",
     "exception": false,
     "start_time": "2023-02-25T23:11:47.797726",
     "status": "completed"
    },
    "tags": []
   },
   "source": [
    "# Transform Data using StandardScaler"
   ]
  },
  {
   "cell_type": "code",
   "execution_count": 40,
   "id": "a65b669a",
   "metadata": {
    "execution": {
     "iopub.execute_input": "2023-02-25T23:11:47.867657Z",
     "iopub.status.busy": "2023-02-25T23:11:47.867004Z",
     "iopub.status.idle": "2023-02-25T23:11:48.017860Z",
     "shell.execute_reply": "2023-02-25T23:11:48.016990Z"
    },
    "papermill": {
     "duration": 0.177282,
     "end_time": "2023-02-25T23:11:48.020040",
     "exception": false,
     "start_time": "2023-02-25T23:11:47.842758",
     "status": "completed"
    },
    "tags": []
   },
   "outputs": [
    {
     "data": {
      "text/plain": [
       "array([[-0.20202766, -0.39180725,  1.54144551],\n",
       "       [-0.82482118,  0.54139266,  1.48169697],\n",
       "       [ 2.41148086, -0.70287388, -0.6606847 ],\n",
       "       ...,\n",
       "       [ 0.9768315 , -0.92506433, -1.04241898],\n",
       "       [-0.94715562, -0.81396911, -0.89605088],\n",
       "       [-0.55790967,  0.47473552,  1.60172093]])"
      ]
     },
     "execution_count": 40,
     "metadata": {},
     "output_type": "execute_result"
    }
   ],
   "source": [
    "# Apply K-Means ++\n",
    "from sklearn.preprocessing import StandardScaler\n",
    "\n",
    "Scaler=StandardScaler()\n",
    "ScaledData=Scaler.fit(RFM1 )\n",
    "ScaledData=Scaler.fit_transform(RFM1 )\n",
    "ScaledData"
   ]
  },
  {
   "cell_type": "markdown",
   "id": "92f5a795",
   "metadata": {
    "papermill": {
     "duration": 0.022615,
     "end_time": "2023-02-25T23:11:48.065247",
     "exception": false,
     "start_time": "2023-02-25T23:11:48.042632",
     "status": "completed"
    },
    "tags": []
   },
   "source": [
    "# Elbow Method"
   ]
  },
  {
   "cell_type": "code",
   "execution_count": 41,
   "id": "91a70dd3",
   "metadata": {
    "execution": {
     "iopub.execute_input": "2023-02-25T23:11:48.115635Z",
     "iopub.status.busy": "2023-02-25T23:11:48.115002Z",
     "iopub.status.idle": "2023-02-25T23:11:53.910908Z",
     "shell.execute_reply": "2023-02-25T23:11:53.909867Z"
    },
    "papermill": {
     "duration": 5.823715,
     "end_time": "2023-02-25T23:11:53.913470",
     "exception": false,
     "start_time": "2023-02-25T23:11:48.089755",
     "status": "completed"
    },
    "tags": []
   },
   "outputs": [
    {
     "data": {
      "image/png": "[encoded data removed]",
      "text/plain": [
       "<Figure size 800x550 with 2 Axes>"
      ]
     },
     "metadata": {},
     "output_type": "display_data"
    },
    {
     "data": {
      "text/plain": [
       "<AxesSubplot:title={'center':'Distortion Score Elbow for KMeans Clustering'}, xlabel='k', ylabel='distortion score'>"
      ]
     },
     "execution_count": 41,
     "metadata": {},
     "output_type": "execute_result"
    }
   ],
   "source": [
    "# Elbow Method\n",
    "from sklearn.cluster import KMeans\n",
    "from yellowbrick.cluster import KElbowVisualizer\n",
    "model = KMeans()\n",
    "visualizer = KElbowVisualizer(model, k=(1,12))\n",
    "visualizer.fit(ScaledData)  \n",
    "visualizer.show()\n"
   ]
  },
  {
   "cell_type": "markdown",
   "id": "c9eca094",
   "metadata": {
    "papermill": {
     "duration": 0.023737,
     "end_time": "2023-02-25T23:11:53.961315",
     "exception": false,
     "start_time": "2023-02-25T23:11:53.937578",
     "status": "completed"
    },
    "tags": []
   },
   "source": [
    "# Apply K-Means ++"
   ]
  },
  {
   "cell_type": "code",
   "execution_count": 42,
   "id": "6877849d",
   "metadata": {
    "execution": {
     "iopub.execute_input": "2023-02-25T23:11:54.010642Z",
     "iopub.status.busy": "2023-02-25T23:11:54.010239Z",
     "iopub.status.idle": "2023-02-25T23:11:54.957873Z",
     "shell.execute_reply": "2023-02-25T23:11:54.956722Z"
    },
    "papermill": {
     "duration": 0.975015,
     "end_time": "2023-02-25T23:11:54.960017",
     "exception": false,
     "start_time": "2023-02-25T23:11:53.985002",
     "status": "completed"
    },
    "tags": []
   },
   "outputs": [
    {
     "name": "stdout",
     "output_type": "stream",
     "text": [
      "[1 1 0 ... 0 0 1]\n",
      " Our cluster centers are as follows\n",
      "[[ 1.50799943 -0.56585643 -0.58903159]\n",
      " [-0.48846191 -0.33355471 -0.31624853]\n",
      " [-0.56744018  1.43842935  1.4239141 ]]\n"
     ]
    },
    {
     "data": {
      "text/html": [
       "<div>\n",
       "<style scoped>\n",
       "    .dataframe tbody tr th:only-of-type {\n",
       "        vertical-align: middle;\n",
       "    }\n",
       "\n",
       "    .dataframe tbody tr th {\n",
       "        vertical-align: top;\n",
       "    }\n",
       "\n",
       "    .dataframe thead th {\n",
       "        text-align: right;\n",
       "    }\n",
       "</style>\n",
       "<table border=\"1\" class=\"dataframe\">\n",
       "  <thead>\n",
       "    <tr style=\"text-align: right;\">\n",
       "      <th></th>\n",
       "      <th>Recency</th>\n",
       "      <th>Frequency</th>\n",
       "      <th>Monetary</th>\n",
       "    </tr>\n",
       "    <tr>\n",
       "      <th>cluster_pred</th>\n",
       "      <th></th>\n",
       "      <th></th>\n",
       "      <th></th>\n",
       "    </tr>\n",
       "  </thead>\n",
       "  <tbody>\n",
       "    <tr>\n",
       "      <th>0</th>\n",
       "      <td>888</td>\n",
       "      <td>888</td>\n",
       "      <td>888</td>\n",
       "    </tr>\n",
       "    <tr>\n",
       "      <th>1</th>\n",
       "      <td>1839</td>\n",
       "      <td>1839</td>\n",
       "      <td>1839</td>\n",
       "    </tr>\n",
       "    <tr>\n",
       "      <th>2</th>\n",
       "      <td>777</td>\n",
       "      <td>777</td>\n",
       "      <td>777</td>\n",
       "    </tr>\n",
       "  </tbody>\n",
       "</table>\n",
       "</div>"
      ],
      "text/plain": [
       "              Recency  Frequency  Monetary\n",
       "cluster_pred                              \n",
       "0                 888        888       888\n",
       "1                1839       1839      1839\n",
       "2                 777        777       777"
      ]
     },
     "execution_count": 42,
     "metadata": {},
     "output_type": "execute_result"
    },
    {
     "data": {
      "image/png": "[encoded data removed]",
      "text/plain": [
       "<Figure size 2500x500 with 1 Axes>"
      ]
     },
     "metadata": {},
     "output_type": "display_data"
    }
   ],
   "source": [
    "KMean_clust = KMeans(n_clusters= 3, init= 'k-means++')\n",
    "KMean_clust.fit(ScaledData)\n",
    "predicted_clusters = KMean_clust.fit_predict(RFM1)\n",
    "clusters_scaled = RFM1.copy()\n",
    "clusters_scaled['cluster_pred']=KMean_clust.fit_predict(ScaledData)\n",
    "print(predicted_clusters)\n",
    "sns.set(style=\"darkgrid\")\n",
    "print(\" Our cluster centers are as follows\")\n",
    "print(KMean_clust.cluster_centers_)\n",
    "f, ax = plt.subplots(figsize=(25, 5))\n",
    "ax = sns.countplot(x=\"cluster_pred\", data=clusters_scaled)\n",
    "clusters_scaled.groupby(['cluster_pred']).count()\n"
   ]
  },
  {
   "cell_type": "code",
   "execution_count": 43,
   "id": "2ff1a3e4",
   "metadata": {
    "execution": {
     "iopub.execute_input": "2023-02-25T23:11:55.010795Z",
     "iopub.status.busy": "2023-02-25T23:11:55.010458Z",
     "iopub.status.idle": "2023-02-25T23:11:55.454228Z",
     "shell.execute_reply": "2023-02-25T23:11:55.452854Z"
    },
    "papermill": {
     "duration": 0.471769,
     "end_time": "2023-02-25T23:11:55.456316",
     "exception": false,
     "start_time": "2023-02-25T23:11:54.984547",
     "status": "completed"
    },
    "tags": []
   },
   "outputs": [
    {
     "data": {
      "image/png": "[encoded data removed]",
      "text/plain": [
       "<Figure size 800x550 with 1 Axes>"
      ]
     },
     "metadata": {},
     "output_type": "display_data"
    }
   ],
   "source": [
    "fig = plt.figure()\n",
    "ax = plt.axes(projection='3d')\n",
    "xline=clusters_scaled['Recency']\n",
    "yline=clusters_scaled['Frequency']\n",
    "zline=clusters_scaled['Monetary']\n",
    "\n",
    "ax.scatter3D(xline, zline,yline,c=clusters_scaled['cluster_pred'])\n",
    "ax.view_init(30, 60)"
   ]
  },
  {
   "cell_type": "code",
   "execution_count": 44,
   "id": "a06cbfb2",
   "metadata": {
    "execution": {
     "iopub.execute_input": "2023-02-25T23:11:55.511257Z",
     "iopub.status.busy": "2023-02-25T23:11:55.510925Z",
     "iopub.status.idle": "2023-02-25T23:11:55.561767Z",
     "shell.execute_reply": "2023-02-25T23:11:55.560296Z"
    },
    "papermill": {
     "duration": 0.081305,
     "end_time": "2023-02-25T23:11:55.564562",
     "exception": false,
     "start_time": "2023-02-25T23:11:55.483257",
     "status": "completed"
    },
    "tags": []
   },
   "outputs": [
    {
     "data": {
      "text/html": [
       "<div>                            <div id=\"4f834aee-2ae1-48ac-8d63-5409254de128\" class=\"plotly-graph-div\" style=\"height:525px; width:100%;\"></div>            <script type=\"text/javascript\">                require([\"plotly\"], function(Plotly) {                    window.PLOTLYENV=window.PLOTLYENV || {};                                    if (document.getElementById(\"4f834aee-2ae1-48ac-8d63-5409254de128\")) {                    Plotly.newPlot(                        \"4f834aee-2ae1-48ac-8d63-5409254de128\",                        [{\"marker\":{\"color\":[2,2,0,2,0,0,0,2,1,2,0,1,2,0,1,2,1,0,1,1,0,1,2,2,2,1,2,1,1,2,1,2,2,1,0,0,1,2,2,2,0,1,1,0,1,1,1,1,2,1,1,0,1,1,1,1,2,1,1,1,0,1,0,1,1,2,2,1,1,1,2,1,1,0,1,1,1,2,1,1,1,0,2,1,1,1,0,1,1,0,1,1,1,0,1,2,1,2,1,1,2,2,1,2,2,1,1,1,1,1,1,1,1,1,0,0,1,1,2,1,0,2,0,0,0,1,1,1,0,0,2,2,2,1,0,1,0,2,2,1,1,1,1,0,1,1,1,1,2,0,1,1,1,2,1,2,1,1,0,2,1,1,1,2,0,0,1,2,1,1,1,2,2,1,0,1,1,1,1,2,1,0,1,1,2,1,2,1,1,1,0,1,2,1,2,1,1,1,2,2,2,0,1,1,1,1,1,1,1,1,2,0,2,2,1,1,1,1,1,1,2,1,1,1,2,1,1,0,0,0,1,1,2,1,1,2,2,2,0,0,0,0,1,2,1,1,2,2,1,1,1,0,0,1,1,0,1,0,0,1,1,1,1,0,0,1,0,1,1,1,2,1,1,0,1,0,0,2,0,2,2,1,2,1,0,1,1,1,0,2,2,0,1,0,2,0,2,1,0,0,0,2,2,0,1,0,1,1,1,1,2,0,1,0,1,1,0,0,1,0,2,1,2,0,1,1,1,0,1,1,1,2,0,1,1,2,1,2,1,2,1,1,0,2,2,1,1,2,1,0,1,2,2,1,1,2,0,0,0,1,0,1,2,1,0,1,1,1,1,1,1,0,1,0,1,0,1,0,2,1,1,2,1,1,1,1,1,1,1,1,1,1,1,0,0,1,1,2,1,0,2,1,0,0,1,0,1,1,1,1,0,0,1,2,1,0,1,0,1,1,2,1,1,0,1,1,0,2,1,2,2,1,1,2,0,0,1,2,1,1,1,0,0,2,2,1,1,2,1,1,1,1,2,0,1,2,2,2,2,1,0,2,1,0,1,2,1,1,1,1,1,1,1,2,0,2,1,1,1,1,0,2,1,1,1,2,1,1,2,2,0,1,0,1,0,0,2,0,0,1,0,2,1,0,1,1,0,1,1,0,1,1,2,1,1,1,0,1,1,1,1,1,0,0,2,1,1,1,1,1,1,1,1,1,1,2,0,1,0,0,2,1,0,0,1,0,2,1,1,2,1,1,2,1,2,1,2,1,1,1,1,0,1,1,1,1,0,0,0,0,2,0,1,1,1,1,1,1,1,1,1,0,0,1,1,1,2,1,0,1,1,1,1,0,1,1,1,0,2,0,1,1,0,1,1,1,1,1,1,1,1,1,1,0,2,2,2,1,1,1,1,1,1,1,0,1,1,1,2,0,0,1,2,1,1,0,1,0,2,1,1,0,2,0,2,0,2,0,1,0,0,1,1,1,2,1,0,0,2,1,0,1,1,0,1,1,1,0,2,0,1,2,0,1,1,1,1,2,1,1,1,1,1,2,1,0,1,0,1,1,1,1,2,1,0,1,2,1,0,2,1,2,1,2,0,1,0,0,1,1,2,1,0,0,0,1,2,1,2,1,1,2,1,2,1,0,1,1,1,1,1,2,1,2,0,1,0,1,1,0,2,2,2,2,1,1,2,1,1,0,1,2,1,2,0,2,1,1,2,1,0,1,2,2,1,0,1,0,1,1,0,1,0,0,1,0,0,0,1,1,2,2,1,0,2,0,2,1,0,0,0,1,0,0,0,0,2,0,1,1,1,2,0,2,1,1,1,1,0,1,2,2,0,1,0,1,1,1,0,1,1,0,2,0,0,1,1,1,0,1,2,2,2,2,1,1,1,0,2,2,1,1,1,1,1,0,1,0,2,1,1,2,0,1,0,1,2,2,1,1,0,0,1,1,2,0,1,1,2,1,0,1,0,2,0,1,1,1,1,2,2,2,1,0,1,0,2,2,0,1,1,1,2,1,2,1,1,1,1,2,1,0,1,0,1,1,2,1,0,1,2,1,0,1,0,2,1,2,2,1,1,1,1,1,2,1,1,1,1,0,1,1,0,1,0,0,0,1,1,1,1,1,2,1,0,1,0,2,1,1,1,0,0,2,1,0,1,0,1,1,1,2,2,1,1,1,0,1,1,2,2,0,2,1,2,1,0,0,1,1,1,2,1,0,0,1,1,1,1,1,2,0,0,2,1,0,2,1,0,1,0,1,1,1,1,1,0,2,0,1,0,1,1,1,1,1,1,1,0,2,1,1,0,1,1,0,1,0,0,2,1,1,1,2,0,2,0,2,1,2,1,1,1,1,0,1,1,1,1,1,0,1,0,0,1,1,0,0,1,1,0,0,2,1,0,1,1,1,1,0,1,2,1,2,1,0,1,1,0,1,1,1,0,1,2,2,2,1,1,2,2,2,1,1,0,0,1,2,2,1,0,2,1,2,1,0,2,1,0,0,2,2,2,0,0,2,2,0,0,1,2,0,1,2,0,1,1,1,0,1,2,1,0,1,2,1,1,2,1,1,0,2,2,2,0,2,1,2,1,0,2,1,0,0,1,1,1,2,1,2,0,0,0,2,1,1,1,1,0,1,0,0,0,0,1,1,1,1,2,1,0,0,0,0,1,1,2,1,1,0,2,1,0,1,2,0,1,2,1,2,2,2,2,0,1,2,1,2,2,1,1,0,1,1,2,0,1,1,0,0,2,2,0,2,1,1,0,1,1,0,0,2,1,2,1,0,2,1,1,1,1,1,0,1,0,1,0,2,0,1,1,2,1,0,0,2,1,1,0,0,2,2,1,0,2,2,1,2,0,1,1,2,1,1,1,1,1,2,1,2,2,0,2,0,1,1,1,1,2,0,2,0,0,1,1,0,2,2,1,1,2,1,1,1,1,0,2,1,1,1,2,1,0,2,2,2,1,2,1,1,0,1,0,1,1,0,1,0,0,2,0,2,1,0,2,1,2,1,0,0,1,1,2,1,1,0,1,0,0,2,1,1,2,0,2,1,1,1,2,1,2,1,2,0,0,2,1,2,1,0,1,0,1,2,1,0,2,0,2,0,2,1,0,1,2,1,1,1,1,1,0,1,0,1,2,1,1,2,2,1,1,0,2,1,1,1,1,1,2,2,0,1,0,1,1,2,1,0,1,1,2,1,0,1,0,1,1,1,1,1,1,1,2,0,1,1,1,0,1,1,1,1,0,0,1,1,1,0,1,2,0,1,1,2,1,2,0,2,0,0,1,2,1,2,1,2,1,1,1,1,1,1,1,0,1,0,1,0,1,2,1,1,1,1,1,0,1,0,0,0,2,1,0,1,2,2,1,1,0,1,1,1,2,1,2,2,0,2,1,0,1,2,1,2,0,1,1,1,1,1,1,1,1,0,0,1,1,0,2,0,1,1,1,1,1,2,1,1,1,1,1,2,0,1,0,1,0,1,1,0,1,2,2,2,0,2,1,1,1,0,1,1,0,2,2,1,1,1,1,1,2,1,1,2,0,0,1,0,0,1,0,2,2,0,1,1,0,1,1,0,1,2,1,0,1,1,1,1,0,0,1,0,0,1,2,0,1,0,1,1,1,1,1,1,0,2,2,0,1,0,1,2,2,1,1,2,0,0,1,1,2,2,1,1,2,0,1,1,2,0,2,0,2,1,0,1,2,0,1,1,1,1,1,2,1,1,2,0,1,2,0,1,0,2,1,0,1,1,1,1,1,1,1,1,2,2,1,1,1,0,1,0,0,2,1,1,0,2,0,0,0,0,1,0,1,0,2,0,2,1,1,2,2,1,1,2,0,1,1,1,1,1,0,0,0,2,0,0,1,1,2,1,1,2,1,1,1,1,1,0,2,1,1,2,1,0,1,1,0,1,1,1,0,1,1,0,1,0,1,0,1,2,1,1,1,1,1,0,0,1,1,2,1,1,1,1,1,0,2,0,1,1,1,2,1,2,1,2,2,2,0,2,1,0,0,1,0,0,0,2,1,2,0,1,0,2,1,1,0,0,1,2,0,2,0,1,0,1,1,1,0,1,0,1,1,1,0,1,1,0,1,1,0,2,0,0,1,1,1,0,0,1,1,1,1,1,1,1,1,1,1,1,1,1,0,2,1,1,1,2,1,1,1,2,0,0,2,0,1,0,2,1,1,1,1,2,1,2,0,2,2,1,0,0,1,1,1,0,1,2,1,1,0,1,0,1,1,1,2,1,1,1,1,1,2,1,2,1,0,0,1,1,2,0,1,0,1,1,2,2,1,1,1,1,1,1,1,1,0,1,2,1,1,1,2,1,0,1,2,1,2,1,1,1,1,1,2,0,1,0,0,1,1,1,1,0,1,1,0,1,2,0,1,1,2,1,0,1,0,2,2,2,1,1,1,2,2,1,1,1,1,0,1,0,2,1,0,0,2,0,1,2,0,1,0,1,2,0,2,1,2,0,1,0,1,0,0,1,2,1,1,1,1,1,0,2,1,0,1,2,2,1,1,0,1,1,1,1,1,1,0,0,0,0,1,2,1,2,2,1,2,1,0,2,2,2,2,1,0,1,1,1,1,2,2,2,0,2,2,2,0,1,1,0,2,2,1,1,1,0,1,1,1,1,1,1,0,1,1,1,0,1,1,1,2,2,2,1,1,1,1,0,1,1,2,0,0,1,1,1,1,0,0,0,0,0,2,1,1,1,2,0,0,2,0,0,2,0,0,0,1,2,1,0,1,1,0,0,0,1,1,1,2,1,1,2,1,1,1,2,1,1,0,1,0,1,1,2,2,1,1,2,1,1,1,1,2,2,2,0,1,1,0,2,2,2,2,1,1,1,0,1,1,1,1,1,0,1,0,1,0,1,2,1,1,2,0,1,2,1,0,1,2,2,1,0,2,1,1,0,0,2,0,1,1,2,1,0,2,1,0,1,1,1,0,0,2,1,2,2,1,1,0,1,1,0,0,0,0,0,0,1,1,2,1,1,0,1,2,1,0,1,1,1,1,0,2,0,0,1,0,1,2,0,2,1,0,1,0,0,1,2,2,1,1,2,1,1,1,0,1,1,1,1,1,1,1,1,0,1,2,2,1,1,1,1,1,1,2,1,1,1,0,1,0,0,2,0,2,2,0,0,1,0,1,1,1,1,1,1,2,2,0,1,2,0,0,0,1,2,1,1,2,1,0,0,1,2,2,2,2,0,1,2,2,0,1,1,0,0,2,1,1,1,2,1,0,0,1,1,0,1,1,1,2,1,0,0,2,2,1,1,0,1,1,2,0,1,1,1,0,1,2,2,2,1,1,1,2,1,2,1,2,2,1,1,2,0,0,2,1,1,1,1,1,0,1,0,2,2,2,1,1,0,0,1,0,1,2,1,1,1,1,1,1,1,1,1,0,0,0,1,1,0,1,1,2,2,1,2,1,1,1,0,0,0,1,1,2,2,0,2,0,1,2,2,1,2,2,0,0,1,2,1,1,1,1,0,0,1,1,1,1,0,1,2,0,1,2,1,1,1,0,2,1,2,1,0,1,1,2,0,1,1,0,2,2,1,1,1,1,0,0,1,0,1,1,1,1,1,1,1,0,1,2,1,1,1,0,1,1,0,0,1,1,1,1,1,1,1,0,1,1,1,1,0,0,1,1,0,1,0,2,0,1,1,0,1,0,1,2,1,2,0,1,2,1,1,1,0,0,0,1,1,2,1,2,0,1,1,1,1,2,1,1,2,1,2,1,1,1,1,1,0,1,1,0,0,2,1,1,0,1,0,2,1,0,1,0,2,1,1,1,2,1,0,0,1,2,1,2,1,1,1,2,0,0,1,1,1,1,0,0,0,1,0,2,1,1,2,1,1,1,1,2,1,2,1,2,0,1,1,2,2,1,1,0,1,1,1,2,0,1,1,2,1,0,1,1,1,1,0,1,0,1,0,1,1,0,2,1,1,1,1,0,1,1,1,1,1,1,1,0,2,2,1,2,2,1,2,1,1,0,1,1,1,2,2,1,1,0,2,2,1,2,1,1,2,1,2,0,1,1,2,0,2,1,1,1,2,2,1,1,1,1,1,0,0,0,1,1,2,1,1,2,0,1,0,1,1,1,0,0,2,0,1,1,1,0,1,2,0,1,2,1,2,1,1,0,2,1,0,0,1,1,1,1,1,1,1,1,2,1,1,1,1,0,2,1,1,1,1,1,0,2,1,0,1,2,2,1,1,0,1,1,0,1,1,2,1,0,0,2,1,2,1,2,2,1,1,1,1,1,1,2,1,2,2,2,2,2,2,0,2,1,2,1,2,0,0,2,0,1,2,1,0,0,1,0,1,0,0,1,2,1,1,0,0,0,1,1,2,1,0,1,1,1,1,2,2,2,1,2,0,1,1,0,1,0,2,0,0,2,1,1,0,2,1,1,1,0,1,1,1,2,1,1,2,0,2,2,0,1,1,1,0,0,1,2,1,1,1,0,1,2,1,0,1,1,0,1,1,1,1,1,1,1,1,2,1,0,2,1,1,1,2,1,0,0,1,2,1,2,2,2,1,0,2,1,1,1,1,1,2,1,1,0,2,2,2,2,1,2,1,0,1,1,1,1,0,1,2,1,1,1,2,0,2,1,1,1,0,1,0,1,2,1,0,0,2,1,1,1,0,0,1,1,1,1,1,1,2,1,1,0,0,0,1,1,2,2,1,2,0,0,1,1,2,1,1,1,1,2,1,1,1,1,1,0,1,1,2,1,0,0,2,0,0,1,2,1,0,0,1,1,2,1,2,1,2,0,1,1,2,2,2,1,1,2,1,0,1,2,0,1,1,0,1,0,1,1,0,1,0,0,1,1,1,1,2,0,2,1,1,1,1,1,1,0,1,0,0,1,1,1,0,2,0,1,0,1,1,2,1,0,1,1,1,1,1,2,1,1,0,0,1,0,0,1,2,1,2,2,1,1,2,1,0,1,0,1,2,1,1,0,1,0,1,1,1,1,1,2,0,1,2,1,1,0,1,1,2,0,1,2,1,1,1,0,2,2,1,0,2,1,1,2,1,0,2,2,1,2,0,2,1,2,1,1,0,0,1,2,0,0,2,0,2,1,0,2,0,0,0,1,1,0,0,0,1,2,1,1,2,1,1,1,1,1,2,2,1,2,0,1,0,2,2,1,1,1,0,1,0,1,2,0,1,1,2,0,2,1,0,1,1,1,2,1,0,2,1,1,0,1,2,2,2,1,1,2,1,1,1,2,2,0,1,1,1,1,1,2,2,1,0,1,1,1,0,1,0,1,0,2,0,1,0,1,1,0,2,0,0,1,0,0,2,2,1,2,0,1,0,0,0,1,0,2,1,1,0,1,0,0,1,1,1,0,1,0,1,1,1,1,2,0,1,1,1,2,1,2,1,0,1,0,0,1,0,1,0,1,1,0,0,1,1,0,0,1,1,0,0,0,1,2,1,2,0,0,1,1,0,1,0,0,1,0,2,1,1,1,1,2,0,0,0,1,1,2,1,1,1,2,0,1,1,1,1,1,1,0,1,1,2,2,1,0,1,0,1,1,2,0,1,2,1,1,0,0,0,2,2,0,1,1,1,1,0,1,2,0,2,2,1,1,1,1,0,1,1,0,1,0,0,1,2,1,1,0,1,0,1,1,0,0,1,2,2,0,1,1,1,1,1,1,2,1,0,1,2,1,0,1,2,1,1,1,2,1,2,2,2,2,1,0,1,0,2,1,0,0,1,0,1,2,1,0,0,2,1,1,2,1,0,0,1,1,1,0,2,0,1,1,0,0,1,2,2,1,0,2,1,1,2,1,2,2,2,1,1,1,0,1,1,2,2,2,1,0,1,1,0,1,1,1,1,1,1,0,0,1,2],\"opacity\":0.8,\"size\":5},\"mode\":\"markers\",\"x\":[74,18,309,35,203,231,213,22,1,51,286,109,7,290,3,44,71,310,24,10,314,81,21,4,184,28,15,79,21,71,63,35,45,118,302,322,49,148,49,32,308,74,66,216,112,63,15,95,1,162,77,194,21,42,84,99,13,2,21,57,242,43,155,16,133,72,65,70,93,18,52,9,16,187,53,3,10,16,9,38,62,165,15,81,20,17,232,133,25,283,142,65,112,266,77,1,63,78,142,38,18,1,81,8,59,14,29,130,91,28,29,35,74,46,197,165,78,38,49,7,310,4,302,260,288,85,39,8,226,315,35,34,20,77,246,39,238,3,233,16,7,38,28,316,91,108,50,28,28,189,58,21,78,59,77,22,51,73,277,1,94,28,21,14,231,275,105,211,3,9,56,58,89,32,238,23,114,24,129,33,4,154,106,2,148,10,10,18,29,10,324,57,150,4,38,24,58,1,7,27,25,205,27,126,69,6,28,79,19,70,6,291,29,96,1,105,3,150,70,4,31,84,3,4,27,70,113,179,233,314,77,63,133,128,86,116,51,7,137,316,238,210,59,16,19,63,4,1,8,9,64,191,256,52,18,186,36,177,260,44,101,147,95,280,261,2,213,70,74,59,2,5,2,261,31,144,282,58,172,33,143,69,65,28,266,21,30,96,294,134,78,210,51,137,25,282,185,83,326,281,142,57,3,235,44,275,8,24,87,62,67,213,23,185,30,41,204,264,17,175,39,2,4,148,127,7,16,160,63,87,4,34,311,77,23,1,16,14,25,54,130,35,287,143,15,1,8,5,9,305,6,7,88,9,111,6,197,211,155,29,242,18,1,73,291,30,22,22,3,84,21,195,106,317,105,173,55,322,8,72,6,3,63,1,22,30,10,51,54,73,137,79,8,272,290,98,30,13,63,211,77,24,249,253,71,190,12,23,81,9,191,266,129,1,3,178,3,157,27,70,20,70,98,233,39,2,132,43,59,30,11,137,21,19,238,268,93,4,77,93,22,261,273,85,55,21,107,84,18,39,25,9,13,295,5,32,48,94,8,21,312,121,45,282,18,35,63,26,21,3,45,64,44,14,267,39,10,18,94,60,135,10,18,9,14,58,93,9,19,56,267,121,126,77,239,199,59,272,201,80,225,12,73,211,24,16,261,95,111,202,92,50,17,17,124,91,156,8,13,11,61,60,268,262,52,36,30,112,63,15,40,77,121,17,59,22,155,38,189,136,7,1,267,168,103,154,3,119,22,6,27,3,21,1,65,1,77,71,16,2,81,315,31,92,13,76,157,200,260,177,67,287,69,63,10,15,65,59,70,121,79,256,268,63,17,70,33,49,256,89,88,98,25,280,130,10,74,203,1,184,28,72,191,126,17,1,73,23,106,133,43,4,63,149,39,63,107,18,9,10,18,66,73,1,254,91,22,23,26,258,165,24,17,28,38,252,57,183,10,98,60,235,190,178,37,200,45,231,65,240,232,77,57,104,51,135,274,311,7,10,282,17,22,287,16,70,63,315,2,243,8,1,260,126,73,72,20,59,85,77,29,40,14,33,78,204,33,182,42,85,39,11,95,25,318,27,5,6,215,81,83,143,18,40,172,16,242,205,49,22,24,14,308,155,306,63,15,14,10,64,35,107,52,5,46,311,44,64,25,28,39,11,88,23,318,39,173,116,30,252,58,4,24,32,67,36,51,15,73,215,30,15,119,9,256,16,34,45,42,113,164,10,9,205,85,178,59,148,50,74,300,18,150,151,17,186,285,182,62,58,24,30,38,154,25,317,4,7,302,266,270,31,218,246,280,268,31,245,14,116,35,131,216,49,38,28,36,135,218,27,24,4,199,17,240,71,2,94,161,95,53,287,123,287,151,32,53,49,218,62,70,1,63,33,81,102,6,250,12,9,75,3,127,65,116,309,66,254,30,51,63,5,304,28,183,41,39,91,23,28,301,144,5,18,32,175,57,21,15,18,158,24,211,5,252,10,64,24,91,51,128,95,56,168,56,325,1,17,247,57,73,30,1,119,53,63,85,54,2,10,6,188,70,203,119,92,1,26,297,23,27,49,325,15,182,71,36,79,56,11,49,49,58,53,1,92,22,74,10,168,57,95,294,108,263,179,168,34,22,16,78,64,2,10,175,1,153,4,78,20,21,307,145,18,70,286,48,206,14,72,59,38,29,26,16,65,212,11,29,3,14,210,45,133,9,115,197,277,109,76,52,46,16,154,224,6,121,60,62,21,28,284,175,77,32,265,26,108,283,8,304,31,19,123,64,105,266,28,266,63,319,31,4,128,40,101,124,32,301,3,2,56,324,11,36,137,4,154,238,51,30,72,13,3,273,19,143,3,83,10,7,122,60,1,318,129,1,45,3,2,133,77,233,220,35,74,238,265,19,39,215,173,86,70,275,38,97,10,32,296,85,40,66,30,67,201,106,17,217,59,1,16,238,94,10,105,52,89,30,11,2,1,42,3,246,176,91,109,28,51,183,42,48,21,80,325,42,29,183,234,8,219,110,277,317,6,1,259,141,50,7,154,108,162,225,73,50,98,196,30,20,7,212,8,10,2,39,17,18,116,222,70,50,7,242,46,106,44,64,206,10,114,241,162,123,22,67,16,15,16,160,242,218,44,20,126,38,120,259,9,273,164,156,214,5,79,42,18,31,21,319,294,184,190,43,51,25,37,8,296,32,64,217,64,2,148,129,33,118,106,10,70,91,310,42,91,21,3,10,98,56,217,17,49,6,302,21,98,305,319,7,1,204,53,18,8,180,59,10,189,310,154,109,147,97,246,28,17,11,73,45,71,256,19,253,10,164,17,281,49,38,26,67,206,174,6,25,50,311,308,42,25,87,183,46,23,21,10,187,100,60,17,32,63,1,23,107,31,36,59,25,235,24,259,57,64,15,9,58,185,23,150,310,10,17,151,18,9,56,84,6,75,110,56,1,280,12,2,16,40,168,49,276,14,34,21,6,19,10,43,305,10,274,3,71,242,8,245,205,1,184,31,56,195,23,90,3,50,262,265,35,50,23,21,58,169,67,156,200,4,66,76,7,168,17,4,86,26,28,19,60,23,241,279,234,2,15,30,70,187,106,208,43,30,136,264,3,217,1,213,31,14,198,2,13,28,23,24,42,5,146,24,273,46,7,3,42,196,11,15,112,248,28,43,86,44,14,74,144,4,296,58,263,46,28,7,16,231,111,57,50,126,280,54,319,25,9,6,28,16,63,20,2,165,52,50,60,161,8,14,74,36,196,199,73,63,20,179,9,3,196,28,52,17,9,89,267,43,148,311,22,57,23,77,118,35,59,12,18,51,25,28,6,185,8,261,2,209,107,12,76,19,26,18,131,252,78,206,253,147,9,84,204,7,22,10,25,1,157,73,2,16,35,90,70,115,212,29,50,245,31,108,4,81,296,56,13,71,22,18,78,24,11,252,146,63,7,270,9,246,95,14,49,29,67,34,127,106,36,56,56,71,245,18,197,15,211,38,45,169,47,115,146,50,158,11,35,53,42,172,33,38,266,11,9,32,79,30,7,71,3,89,71,58,169,198,30,151,269,64,273,24,22,318,4,11,274,7,70,212,52,77,45,178,93,9,104,77,172,212,21,256,281,20,9,307,67,214,103,42,3,83,8,30,196,17,17,310,141,245,23,28,29,17,17,14,133,245,133,49,113,6,22,65,59,169,17,127,14,238,2,239,51,45,225,3,164,239,10,133,30,74,1,3,44,17,68,320,25,8,322,71,259,17,65,153,28,69,13,119,60,10,91,58,86,25,84,9,1,224,59,240,318,1,46,87,175,51,318,225,233,310,36,238,112,276,217,298,1,28,9,44,66,73,64,133,237,121,35,15,126,66,148,282,168,99,134,323,106,63,150,21,23,15,56,3,37,65,46,171,58,49,21,42,28,200,9,63,289,60,63,95,273,74,109,198,63,326,3,283,43,70,85,103,52,38,31,207,156,53,65,80,129,86,1,45,71,157,11,254,28,39,95,25,74,56,20,40,136,7,128,39,8,213,169,39,185,269,171,4,15,9,325,112,289,15,1,91,148,188,30,33,263,25,170,9,312,84,24,58,322,37,253,14,26,22,213,7,21,261,130,54,248,8,263,312,25,29,29,282,261,24,93,28,84,8,50,49,1,112,13,76,39,115,160,29,92,22,27,20,17,7,80,22,171,188,11,155,44,232,63,1,32,83,24,1,32,18,253,21,7,18,172,162,6,10,113,287,53,76,3,36,216,59,277,23,28,11,21,49,18,2,103,11,4,31,177,37,150,161,68,24,23,176,49,255,46,70,15,100,34,52,26,7,78,51,35,27,183,51,9,35,32,10,56,3,140,116,103,74,4,44,16,89,52,133,104,191,18,157,203,36,90,92,8,242,44,22,189,43,24,316,105,50,167,39,217,39,296,18,87,72,80,48,52,23,8,24,116,119,3,251,27,266,32,17,171,264,139,200,63,34,283,8,142,11,145,233,23,11,35,200,14,212,65,211,282,114,14,65,48,15,77,18,133,12,39,304,50,9,60,65,24,217,64,31,63,115,5,68,244,132,240,183,24,9,10,32,25,9,43,14,149,1,112,75,106,45,142,50,45,49,35,78,21,106,207,16,63,48,319,43,2,171,55,72,98,37,57,253,43,49,64,32,58,72,303,45,37,18,186,51,136,18,15,40,7,25,21,40,100,276,32,14,1,311,198,1,92,59,80,156,226,252,149,193,1,23,16,7,19,173,177,15,247,190,19,153,172,193,66,3,20,238,63,111,310,133,276,82,7,16,31,8,33,14,31,73,19,16,22,2,303,83,164,16,76,88,21,122,29,11,18,43,3,54,87,29,11,210,23,21,245,34,37,3,2,46,38,16,259,45,11,29,42,91,309,91,195,86,269,7,64,21,37,119,173,53,32,144,220,44,15,65,9,259,16,21,44,287,296,2,283,16,81,55,100,298,22,58,154,114,106,11,263,239,87,49,70,41,6,61,248,65,84,218,142,182,170,211,189,7,58,56,72,51,316,38,17,21,262,59,18,65,87,249,2,246,156,133,295,4,42,268,49,15,281,64,251,231,16,7,50,58,94,15,125,93,49,137,60,72,66,63,16,44,15,39,236,74,3,2,58,22,30,54,24,44,88,88,18,78,170,80,266,234,36,317,56,44,202,224,86,189,43,70,40,77,56,33,211,23,169,61,52,260,266,176,50,16,73,70,2,116,196,176,99,20,71,5,30,169,121,21,9,268,22,126,138,213,37,105,17,2,119,34,217,171,71,1,195,127,46,17,27,36,156,283,106,24,74,15,157,43,10,31,290,20,17,62,197,32,1,6,9,31,52,11,17,18,36,1,17,81,32,65,8,266,246,3,60,74,89,59,28,322,52,269,56,60,153,18,94,264,311,69,301,18,12,18,53,56,21,43,26,44,112,24,190,301,262,105,56,212,63,27,28,5,66,1,45,33,135,197,197,149,87,44,63,98,217,27,177,73,20,33,73,23,51,274,164,87,63,24,9,75,15,191,173,76,32,46,79,296,2,8,160,4,106,24,31,19,296,21,4,51,29,276,60,24,185,171,80,3,189,21,18,4,109,2,53,164,290,95,242,41,34,23,26,5,53,14,193,2,26,126,84,70,182,112,79,248,231,70,68,50,74,60,15,3,285,3,40,35,74,218,185,32,69,182,14,235,30,263,3,51,245,80,274,78,29,73,16,222,31,22,30,105,4,245,177,169,42,71,15,140,9,188,15,18,67,14,23,27,54,33,42,72,4,60,1,75,71,255,68,134,240,226,36,45,2,218,77,266,14,25,261,90,301,25,51,31,51,78,52,297,176,46,28,37,17,44,30,57,113,214,318,64,7,96,19,198,293,272,47,259,57,56,67,9,59,79,73,99,9,19,122,7,3,281,56,88,10,162,64,22,173,102,142,98,22,191,4,102,2,95,226,15,38,50,92,156,38,183,1,227,127,39,196,36,100,49,42,52,186,3,9,23,14,144,59,30,140,22,21,76,66,11,83,30,66,66,186,37,14,34,194,1,1,64,298,25,7,16,115,28,81,28,71,28,289,35,8,23,276,49,60,20,115,79,3,25,52,1,54,25,211,235,138,3,56,134,108,29,1,184,17,238,86,38,115,186,226,7,188,3,38,37,266,77,3,254,60,12,29,2,4,6,218,10,29,287,149,22,85,45,4,50,17,29,7,28,40,30,44,60,184,78,110,63,11,85,15,245,87,29,137,26,2,31,24,112,156,84,117,193,27,130,27,81,265,313,20,58,27,113,27,17,17,35,35,77,21,24,32,108,34,122,6,27,3,49,321,22,14,1,17,9,261,158,28,164,46,5,7,287,317,2,232,118,161,184,49,4,106,15,275,246,238,1,105,22,51,194,23,74,17,7,31,21,28,21,32,283,38,57,288,78,217,43,201,177,55,56,46,226,10,105,58,35,273,29,23,53,174,53,52,26,252,39,59,233,31,6,64,309,308,18,15,95,2,34,182,24,12,10,312,107,52,204,14,119,3,116,17,4,40,106,147,51,207,138,1,126,107,41,34,227,240,57,129,21,25,8,31,3,307,7,28,16,100,11,20,14,94,77,138,30,24,45,99,7,14,17,279,13,22,123,85,301,93,156,45,14,85,14,178,7,35,128,50,311,23,302,10,16,48,238,237,22,72,16,39,218,198,70,10,64,3,18,14,7,19,77,163,306,218,21,114,125,4,35,1,162,184,15,11,2,43,79,41,49,15,45,18,71,127,32,312,17,87,1,1,253,156,36,219,176,39,1,17,191,203,126,14,42,93,22,59,15,157,9,9,15,44,190,78,77,3,64,260,58,1,247,7,75,289,16,220,8,2,161,75,261,280,24,71,127,30,14,308,16,53,29,1,10,4,53,189,53,279,176,29,25,24,269,42,233,23,196,59,129,1,19,205,13,94,18,13,23,7,70,28,242,217,4,252,235,6,108,99,1,72,84,11,213,17,238,77,216,32,52,56,129,173,5,311,59,20,32,14,80,5,169,1,30,18,30,275,86,119,1,218,64,60,137,20,36,276,10,72,25,140,25,18,3,65,1,227,15,1,73,3,263,52,23,9,43,126,136,141,131,37,235,260,16,252,29,34,168,2,184,187,169,10,44,320,200,231,25,95,70,14,3,78,38,53,8,8,18,11,112,3,239,112,177,4,1,16,21,32,262,50,158,14,7,198,56,10,96,254,24,20,158,71,52,84,152,73,280,26,29,24,179,39,21,36,81,73,10,12,36,3,50,4,22,298,1,32,49,2,46,41,26,41,302,106,84,80,217,11,184,1,304,2,323,12,142,29,106,204,79,184,169,43,173,303,2,3,11,31,128,20,211,322,161,55,224,71,43,22,172,84,158,189,28,20,70,246,8,309,58,3,44,87,63,281,132,44,10,35,133,28,51,137,4,159,130,7,232,36,146,71,39,198,248,65,116,170,141,31,37,165,210,241,51,24,28,35,165,144,21,55,184,11,236,224,121,281,73,36,11,3,22,69,234,256,154,27,3,31,80,107,51,35,152,98,3,64,21,35,31,153,18,53,24,3,44,202,70,287,9,22,21,172,132,5,74,39,288,257,185,22,7,216,18,35,25,15,273,60,92,312,11,7,126,10,36,37,253,19,11,289,25,213,148,23,29,60,18,242,14,211,28,62,294,156,116,7,12,140,45,50,31,134,2,74,12,8,300,56,14,36,176,22,175,60,32,58,86,6,30,128,8,4,23,226,14,248,14,77,191,261,71,164,81,94,105,199,156,70,35,28,1,25,325,236,88,30,28,210,2,226,21,92,263,217,56,8,191,81,325,71,29,2,218,45,9,71,6,23,122,16,309,50,88,38,24,172,42,139,25,71,133,37,1,29,43,57,73,277,180,7,42],\"y\":[1797.24,1757.55,334.4,2506.04,89.0,1079.4,459.4,2811.43,1168.06,2662.06,189.9,552.0,1313.1,641.38,168.9,1887.96,1298.04,364.6,742.9300000000001,457.5,1628.12,852.24,2724.81,1845.31,1850.56,585.27,2780.66,549.84,439.66,1582.6000000000001,1272.48,2409.9,1635.6599999999999,1108.65,84.3,225.6,427.7,1710.39,1708.1200000000001,2888.55,693.3299999999999,1226.88,758.1,562.41,668.58,600.39,807.04,803.5600000000001,1859.31,1760.96,777.2,582.73,825.8,256.4,806.14,509.01,2906.85,172.06,133.4,1002.3100000000001,476.49,449.45,197.88,430.57,707.09,2466.86,2363.23,947.4,826.88,1189.59,1344.78,1212.05,742.1899999999999,729.5400000000001,723.38,680.99,527.2,2484.98,1298.66,460.40000000000003,263.21000000000004,433.74,1246.1000000000001,1043.1,403.70000000000005,482.04999999999995,73.5,1304.81,397.88,176.5,982.5699999999999,132.18,612.29,1017.68,1312.06,2056.89,330.84,2634.26,599.68,192.72,1789.77,1316.66,348.71000000000004,1933.48,1662.28,125.22,349.83000000000004,1089.18,716.35,363.95,981.18,372.7,1000.39,1161.5,207.79999999999998,95.19999999999999,964.83,437.82,599.56,269.96,561.71,2134.01,238.85,456.9,145.92,351.65,519.61,1020.42,160.54000000000002,218.45,1315.83,626.6,2794.51,440.42,415.7,197.71,511.36,2338.15,2040.1,196.94000000000003,144.0,214.89999999999998,646.68,452.84999999999997,437.6,418.09999999999997,618.27,1032.58,2599.04,577.0600000000001,153.12,739.1999999999999,254.18,1579.51,1126.85,2099.54,1193.32,704.0400000000001,315.6,2291.19,713.3,352.98,177.31,1339.41,180.1,305.1,641.13,2683.82,786.46,1270.88,640.5,2163.98,1689.18,671.69,486.1,1174.58,185.9,1013.26,477.91,1775.18,1346.97,318.05,623.51,314.44,2209.85,601.98,1643.18,686.05,91.68,245.1,63.0,620.13,2744.0299999999997,610.52,1970.6,1331.39,1113.02,862.81,2283.63,2863.08,1247.61,389.01,1035.8,855.91,869.67,582.1,957.59,797.71,219.0,283.55,2340.84,603.42,2712.91,1149.02,848.55,343.36,1053.49,1030.98,238.25,644.95,2656.13,997.63,725.07,1031.41,2609.1,836.33,453.01,236.26000000000002,383.95,779.5699999999999,1013.04,427.6,540.13,275.88,112.07999999999998,2791.59,1531.44,1898.52,494.08,1693.88,1143.6,1351.45,892.47,1386.04,822.23,826.74,2330.92,2225.91,532.8199999999999,463.66,91.85,324.92,400.53999999999996,860.41,430.48,427.58,483.65000000000003,489.31,514.85,229.64000000000001,125.92,1063.46,572.2,166.04,1542.08,942.34,92.72,948.88,1759.5,397.12,1474.72,430.15000000000003,1018.71,215.05,383.03,417.38,312.38,2610.36,134.1,671.95,2726.77,1118.99,1702.26,325.96000000000004,354.09,843.64,1010.29,131.81,311.55,1957.1000000000001,1316.25,1106.4,521.2,147.12,1568.23,559.12,1607.0600000000002,380.64,599.97,374.0,343.2300000000001,2218.02,1535.77,854.99,573.22,298.0,1463.04,703.47,309.05,1175.22,1378.4,354.12,376.71999999999997,331.0,176.55,372.8,216.5,138.68,496.06,750.0,2178.67,1662.3,2483.63,363.65,594.0,1335.19,162.78,405.38,172.82,933.7,694.05,2062.7000000000003,117.85,415.8,607.53,2160.7,1063.9,1504.27,114.14,899.69,675.6,604.51,462.95,1603.99,2064.95,1843.0,1064.07,1387.79,329.85,108.07,266.39,1856.63,769.8100000000001,160.18,135.95,405.47,144.8,738.6,39.239999999999995,372.21999999999997,390.54,97.5,1239.38,558.7,505.82,409.5,503.76,414.76,974.4200000000001,211.32,1226.89,455.88,534.85,120.94999999999999,149.05,513.7,81.57,229.46999999999997,1646.8400000000001,789.89,204.0,2616.38,689.9,975.36,661.3199999999999,1247.5,752.4399999999999,1010.18,642.77,921.88,881.07,908.46,676.99,516.42,560.47,305.28000000000003,629.31,1819.41,656.6800000000001,348.15000000000003,1214.41,271.40000000000003,183.4,307.53,248.61,346.98,1105.59,470.8,115.46000000000001,344.0,228.8,177.15,919.61,728.02,220.10000000000002,58.08,303.75,416.08000000000004,345.82,477.83,1927.3200000000002,74.39999999999999,207.35999999999999,101.19,243.94,1098.48,76.5,1531.6200000000001,786.54,1488.67,2294.78,501.14,984.91,1197.81,30.599999999999998,283.73,922.39,2099.64,259.17,64.0,1073.3,77.3,109.8,1793.58,2607.61,962.39,422.47,2388.75,307.09,618.52,228.91,712.8000000000001,1676.06,1257.8700000000001,486.22,971.76,1741.22,1201.06,1429.35,91.8,112.75,1688.29,1021.48,417.2,791.33,1299.59,712.88,108.81,468.41,353.65,481.49,282.45,121.18,1668.95,71.4,1575.89,114.60000000000001,260.68,911.94,112.08,60.7,1797.78,870.09,869.46,250.26000000000002,1217.65,353.48,1095.42,786.83,1520.58,333.74,533.98,62.63999999999999,819.2900000000001,847.41,163.20000000000002,2155.95,108.21000000000001,257.7,358.0,160.95,1328.35,605.12,1031.07,744.85,700.73,329.56,663.65,270.40000000000003,585.12,121.74000000000001,430.5,1961.52,501.12,465.68,711.41,1030.4,399.51,1.0,672.83,283.18,557.62,944.1,200.29,2092.66,211.49,276.56,138.98,590.9300000000001,258.4,542.73,137.75,798.46,1132.14,93.66,2709.12,361.11,578.9399999999999,873.74,87.4,2089.85,360.0,142.5,371.89,618.09,63.75,2000.86,15.0,1385.51,1456.79,1132.03,598.57,1555.32,775.94,2273.68,640.76,1532.2,567.36,199.48000000000002,787.85,675.3,1308.48,789.0,1140.93,350.9,795.12,487.02,860.12,775.85,353.43,2511.69,389.5,341.36,233.76,247.32,979.12,373.94,397.97999999999996,743.53,674.7,768.24,609.4,439.03,439.56,992.5,134.95999999999998,2225.37,56.160000000000004,623.4,378.64,778.65,1019.76,572.56,222.99,677.1,797.96,544.08,59.8,2520.02,307.72,1360.99,1544.13,457.34,621.23,75.0,252.49,572.451,1003.06,213.55,1390.5,712.5,640.83,221.06,159.85,1833.71,2626.3,1624.21,582.6,201.78,1006.8,679.45,1269.1,534.24,196.89,283.71,296.64,1129.14,291.88,2043.7199999999998,590.0,356.97999999999996,1058.34,1766.72,183.44,1445.0,151.5,674.68,307.9,1071.91,165.0,422.64,226.84,1431.78,1238.47,1454.58,300.95,1804.56,184.64,140.34,313.8,454.24,1122.41,575.4,449.52,1215.82,1269.84,618.63,316.26000000000005,2044.8700000000001,653.33,348.05,1159.11,1166.77,1340.32,292.0,216.85,295.93,458.52,2479.16,110.97,979.72,1791.56,251.21,205.1,152.20000000000002,891.12,1389.41,2128.42,627.16,122.75,125.80000000000001,680.1800000000001,628.78,2242.36,307.76,483.8,210.31,269.09,1280.85,631.34,276.06,621.09,678.16,918.2,91.80000000000001,584.06,594.52,171.42000000000002,141.85999999999999,1799.33,777.53,1724.67,240.22,856.84,187.05,338.62,239.49,1384.25,290.25,732.0699999999999,1687.6000000000001,467.04,118.0,781.03,142.4,712.4,2478.95,379.65,1981.92,1117.13,247.95999999999998,2011.88,396.97,664.11,160.04,219.52,693.32,428.89,164.34,276.75,675.51,1082.33,1154.4,1585.46,417.69,544.18,177.34,213.85,727.74,257.23,1638.47,2031.78,2118.93,1547.3600000000001,1071.03,949.12,804.3,122.64,1033.34,312.28,519.44,2624.26,252.1,1648.1200000000001,346.6,1836.34,94.2,1095.08,2707.33,932.97,379.65,382.14,2639.17,1563.0,881.26,189.47,84.65,299.05,218.55,349.7,186.39000000000001,387.44,486.82000000000005,232.6,827.83,59.5,65.13,72.0,910.0,172.25,1488.32,2504.13,151.29999999999998,308.58000000000004,2248.63,99.5,2308.06,711.86,330.79,806.41,285.33,180.48,252.06,228.84,1077.39,138.28,1445.01,306.55,1041.68,799.9,524.14,2375.41,199.85000000000002,1980.56,1079.6599999999999,333.48,1016.14,752.6,610.59,491.86,2883.54,729.8,339.59999999999997,216.9,350.75,668.4300000000001,1341.6,1080.52,300.04,948.25,1647.26,296.25,1175.38,741.26,282.59999999999997,659.4100000000001,286.79,1070.65,306.72,1714.96,1519.42,2796.51,2634.45,1122.63,345.0,178.7,360.01,127.84,908.86,2462.79,309.04,348.8,1516.0,195.55,688.86,558.32,324.8,277.07,2588.39,924.6,256.38,1747.66,155.05,1499.01,814.5,539.0,1366.8600000000001,1579.12,571.6700000000001,382.98,1140.35,385.64,632.0,957.66,1698.94,189.5,409.8,209.49,2198.45,52.199999999999996,383.85,834.57,266.59000000000003,674.82,85.0,361.62,312.98,865.0600000000001,1255.0,1537.95,1595.48,2651.46,1090.14,388.5,216.17,201.16,1245.9,2209.36,305.78,501.56,145.67000000000002,1005.09,2770.94,389.6,1786.79,122.7,117.24,1271.57,1191.13,2674.48,787.6,506.8,243.56,349.55,595.67,416.90000000000003,1883.8100000000002,632.97,821.1,564.62,2593.07,311.16,155.93,388.52,740.95,2867.2,332.64,2369.55,2580.91,626.45,272.04,1212.8400000000001,384.81,351.13,1838.8500000000001,678.25,223.85000000000002,348.99,464.57,842.65,337.34,1237.53,307.4,608.7900000000001,922.1,376.58,158.85,71.66,568.55,839.14,561.5699999999999,90.6,2427.32,745.06,674.45,439.92,322.96,1019.27,594.04,230.22,169.55,664.54,80.7,2758.26,190.25,264.7,413.59000000000003,357.98,196.79000000000002,869.87,200.14,1871.81,2603.43,920.51,320.46,1266.08,311.3,852.88,76.8,2274.14,1393.69,635.66,2043.0800000000002,529.73,2874.72,962.19,695.61,328.8,473.02,505.18,917.34,1421.61,642.8,631.9,440.0,584.07,327.7,104.82,467.66,648.89,1428.02,626.65,147.20000000000002,1560.38,152.2,141.41,646.42,1659.75,154.99,1308.6100000000001,409.93,746.36,225.36,260.25,92.46,725.6400000000001,183.6,1334.34,152.55,374.7,265.85,151.04,942.26,118.67,499.41999999999996,1049.37,375.1,45.599999999999994,921.62,1002.9,191.47,158.75,76.32000000000001,433.86,147.35,191.95000000000002,1105.8799999999999,216.20999999999998,1266.23,2703.23,597.91,144.2,692.85,1840.42,386.53,1382.74,90.0,2780.15,419.58000000000004,2720.63,706.1300000000001,709.71,637.5,1123.8600000000001,480.91,605.64,965.8800000000001,415.82,935.05,915.13,115.8,483.4,157.2,446.62,658.64,621.29,1345.62,118.75,424.89000000000004,507.66,1097.6200000000001,289.36,2445.91,1631.77,120.44,562.59,363.79,450.84,134.46,576.9000000000001,549.46,701.57,452.89,2054.36,853.39,1012.0,335.52,701.4,185.39999999999998,747.44,150.61,466.7,328.15999999999997,151.74,2073.43,1905.8400000000001,2241.1,1070.48,1004.38,1789.72,1839.3,2004.98,169.48000000000002,89.94,632.4,683.17,991.13,1009.73,2214.79,1547.2,925.71,2048.07,1462.72,754.12,490.86,146.85,2380.85,890.34,213.70000000000002,280.55,2588.77,1693.45,1474.06,136.76999999999998,302.58,1904.05,2879.7000000000003,969.0600000000001,120.0,1163.45,2618.23,333.97,530.18,1516.24,112.32,437.96,559.97,1119.74,134.04,595.25,1910.01,176.63,426.6,911.26,2314.65,1046.56,166.20000000000002,1305.33,43.2,640.14,383.45,1858.96,2093.32,2352.53,310.26,1611.59,120.0,2481.13,508.58000000000004,477.79,1530.75,605.0600000000001,183.85,311.65,462.65999999999997,840.21,415.2,2552.21,454.86,1614.91,588.22,309.52,134.7,2166.98,668.5600000000001,889.9300000000001,108.97999999999999,1021.58,409.57,133.5,282.93,51.0,1078.96,90.6,163.62,701.23,225.12,912.18,2118.03,151.5,155.0,100.5,235.56,617.05,348.1,202.68,615.49,1247.69,202.11,142.4,1727.6,1043.46,67.95,487.99,2612.96,574.7,1475.81,1449.32,156.75,2157.73,2599.03,2059.4500000000003,1100.27,1063.0,770.03,1496.98,490.22,1937.25,1051.79,387.52,813.11,265.2,322.08,363.34000000000003,1224.06,470.36,1372.8,89.06,131.9,2661.24,2357.6800000000003,1712.89,1589.82,1420.2,1163.23,375.35,483.25,643.9,259.05,119.93,113.64,1837.92,434.34,2103.06,529.62,1038.44,2272.4,596.26,461.19,234.34000000000003,547.66,925.85,193.0,1309.6,316.25,279.05,636.51,2022.81,137.1,321.92,162.8,1165.48,1064.28,463.38,340.93,2383.2400000000002,139.56,123.8,538.8100000000001,475.37,1957.32,808.44,356.85,251.21,673.26,1367.88,268.05,1314.81,275.28,455.59000000000003,990.2,2076.89,330.45,174.37,270.6,974.54,241.09,1843.83,364.21999999999997,578.61,2862.11,932.85,1949.72,170.95,355.56,388.25,537.48,952.66,1453.35,103.25,2004.3,652.8,289.24,757.37,186.23,164.22,859.27,2279.4900000000002,312.54,788.38,2237.77,1080.76,1432.0,1530.3600000000001,227.39,218.06,859.71,168.63,138.6,114.11,1033.06,157.05,237.36,1320.21,557.94,617.15,363.33,1740.6,866.24,221.97,393.33000000000004,213.96,660.0,1785.15,601.56,406.08000000000004,553.44,394.44,412.78000000000003,1788.3600000000001,320.58000000000004,886.7,225.85,899.63,2791.27,671.96,955.26,1006.98,114.56,344.90000000000003,609.85,443.6,2107.38,110.46,96.12,693.8100000000001,830.76,597.09,236.04000000000002,1402.59,653.75,114.18,1932.23,291.05,848.22,247.15,285.74,107.95,741.37,636.24,1835.7,195.25,1259.24,392.86,765.55,1736.4,596.36,2548.2400000000002,498.95,52.0,628.38,112.8,355.05,2114.33,591.55,172.9,2078.95,188.60999999999999,1217.27,109.13000000000001,2195.1,318.17,179.0,1126.37,599.48,917.07,160.19,867.38,307.51,663.81,180.42000000000002,655.58,268.58,380.02,2702.4900000000002,1164.55,1314.45,1448.21,1400.34,1099.98,1220.26,328.2,1415.75,389.64,563.15,638.05,738.96,420.5,1484.06,1625.97,89.2,255.9,300.52,278.3,254.11,2473.37,192.60000000000002,876.42,139.26,1011.9,2538.3,730.86,386.15,447.68,200.10000000000002,289.99,77.4,679.4399999999999,197.64,745.06,6.2,228.99,1319.91,131.45000000000002,173.74,157.7,189.34,845.55,353.27,546.4,193.39000000000001,778.5,271.85,1110.34,657.8,272.07,507.29,321.43,1127.71,2221.01,2139.76,697.55,188.88,1720.3,102.44999999999999,1649.5,62.85,2824.69,309.4,325.75,511.35,2836.69,475.8,2740.03,645.65,1290.53,1173.12,1353.74,170.32,125.79,841.1999999999999,266.76,52.2,710.28,721.45,327.25,501.28000000000003,519.68,1465.3200000000002,1476.09,690.59,255.4,589.7,761.59,765.3199999999999,364.8,1862.0,369.2,125.65,554.38,1237.8500000000001,655.75,468.77000000000004,1366.38,1269.31,1421.29,332.66,1025.44,616.15,277.8,434.35,867.85,1227.43,307.48,1268.98,1610.15,977.77,1316.07,749.1,310.05,223.88,2362.96,1257.68,1890.94,1784.71,1621.88,100.9,290.82,1101.97,371.2,311.69,285.67,294.85,58.49,483.72999999999996,695.42,221.27,126.7,1472.34,206.21,596.09,183.02,463.8,147.59,1592.06,1097.98,114.77,1314.45,89.94,279.94,790.86,1921.3700000000001,102.12,202.37,292.01,326.4,334.54,231.98000000000002,546.1999999999999,414.87,490.52,1641.76,1220.77,480.38,156.91,1259.43,308.94,405.04,257.67,170.04,125.58,496.21000000000004,252.81,852.39,1636.43,361.96,469.0,1066.1499999999999,627.13,518.28,653.19,252.73000000000002,429.56,685.74,179.93,135.93,537.0,735.66,343.62,381.0,121.17000000000002,1737.69,1383.3600000000001,207.73000000000002,693.95,302.1,1489.5,294.25,987.86,370.79999999999995,893.59,1744.76,553.36,1109.53,982.07,1043.41,735.67,773.03,880.85,895.61,504.8,88.2,306.94,1160.07,2420.84,381.32,480.71,457.81,1370.6,219.39000000000001,248.08,410.48,317.53,703.36,993.54,2298.93,1422.52,319.5,1300.25,484.95,996.1,1567.48,2760.56,340.11,1352.75,1551.78,244.8,266.4,358.82,457.72,1633.78,2199.31,184.19,406.53,1471.0,330.11,977.9300000000001,982.42,1387.99,139.05,1286.7,178.96,2354.25,498.74,259.45,1194.73,1327.16,623.5,301.29,520.8000000000001,329.25,254.28,961.49,1936.07,401.40000000000003,304.47,824.58,158.8,106.56,1624.05,135.75,224.14,40.5,2206.95,689.4799999999999,622.85,402.2,310.62,411.41,1044.32,499.32,1079.6100000000001,193.64,1268.7,1236.54,1827.8,653.24,420.29999999999995,870.12,331.18,894.4100000000001,101.8,328.35,1661.44,734.94,96.6,305.75,1778.96,585.0,755.75,409.40000000000003,154.41,1219.4,429.6,612.06,197.0,2247.51,321.05,1412.32,1071.99,780.59,1706.57,1756.44,316.68,631.57,2515.84,514.15,356.0,740.78,918.1999999999999,300.36,890.85,98.45,317.15,623.16,1810.77,254.82,178.95000000000002,156.51,393.74,1506.1200000000001,1717.36,408.8,2379.49,721.94,716.57,615.14,128.63,255.89999999999998,113.12,2332.15,240.55,486.69,2306.52,939.78,178.39,641.94,496.44,574.02,694.4000000000001,1174.35,205.3,310.47,924.85,52.0,327.97,570.5,165.0,312.62,204.5,267.13,2748.31,679.68,161.74,208.75,1049.7,714.96,1028.56,350.82,170.22,574.07,2020.52,406.09,364.5,563.94,393.54,158.04,463.90999999999997,1934.66,770.12,277.05,427.93,913.19,2314.32,602.51,1877.59,446.94000000000005,2386.05,2007.3999999999999,2415.91,168.0,1221.56,1690.2600000000002,596.85,642.41,316.88,394.14,140.54,500.0,1535.53,231.86,2183.54,107.45,288.18,94.0,1345.53,815.77,716.2,626.77,349.1,510.71000000000004,1046.74,267.18,1348.93,190.53,774.9000000000001,559.61,508.8,135.86,950.36,97.7,43.5,383.34,93.78,397.35,171.19,533.3,1041.48,149.29,200.16,156.57999999999998,383.68,594.0,1411.21,113.5,494.64,974.52,429.84,528.48,434.59000000000003,237.07,161.64,234.6,126.14,334.53,524.88,467.51,538.55,454.48,371.56,1771.2,454.10999999999996,1399.92,905.5,225.26,2564.5,91.32000000000001,1134.28,659.4599999999999,1280.58,1262.2,1131.56,52.83,972.08,475.86,1000.27,900.53,121.0,62.43,267.03,1921.55,343.5,397.99,412.01000000000005,440.0,734.37,148.44,2428.53,229.33,1497.31,1972.39,807.57,502.9,110.92,538.46,213.3,85.13000000000001,127.86,288.96999999999997,1681.46,575.63,436.06,90.12,428.93,217.2,279.77,468.91,800.59,1400.44,173.16,186.01,758.29,1375.71,650.4300000000001,2533.42,591.1899999999999,675.64,921.37,258.88,127.1,327.6,682.9100000000001,720.86,455.3,913.6800000000001,478.53000000000003,388.58,199.8,1771.78,1406.59,324.57,240.68,761.74,1297.8700000000001,48.480000000000004,216.39,1198.23,1093.68,298.48,112.46000000000001,1591.45,195.15,776.851,336.40000000000003,1553.18,1293.03,301.03,588.13,1534.26,675.8,2870.2400000000002,1186.35,243.55,724.76,223.36,425.32,1887.2,664.0,612.01,447.64000000000004,639.5,646.3,337.74,877.4399999999999,922.53,560.67,748.5,30.0,1024.1000000000001,306.45,1600.86,309.8,138.14,386.43,2222.21,301.32,76.32000000000001,684.34,173.05,2657.13,2726.23,2446.6,323.69,657.23,352.7,781.28,1333.68,1426.16,193.75,254.1,239.76,136.8,191.04,409.98,2711.11,309.65,696.68,211.5,2293.62,143.1,1060.56,916.98,133.25,1072.3600000000001,356.7,330.03000000000003,1101.1100000000001,150.3,598.73,471.40000000000003,2211.21,218.25,415.25,85.0,1120.88,294.12,162.3,1339.45,1188.1200000000001,449.12,154.88,775.96,34.8,1094.59,196.88,946.64,144.36,79.2,458.57,2364.25,528.01,714.42,205.25,253.04,583.75,1086.92,315.06,621.8299999999999,635.6800000000001,270.8,104.9,241.62,1047.11,475.28000000000003,345.46,2614.7400000000002,246.3,2328.9700000000003,933.26,218.75,1612.69,965.61,610.01,2708.61,2207.4,884.14,696.89,1063.95,451.42,415.82000000000005,784.58,903.9,515.77,1391.98,2218.62,1801.14,1303.9099999999999,1945.33,2100.6,1905.45,206.98,570.96,885.47,532.94,1654.31,1836.0900000000001,636.14,576.0,794.64,836.79,954.09,137.37,391.98,1048.49,355.56,1224.06,118.95000000000002,130.73999999999998,389.27,234.88,160.71,110.8,712.24,297.0,1427.57,965.16,832.88,68.84,1936.3200000000002,895.13,211.89,149.64,351.44,316.25,490.33,501.39000000000004,516.36,396.48,379.35,181.09,168.31,420.07,511.68,258.25,179.17,208.59,1383.83,337.28,351.73,164.68,1567.69,191.94,264.62,1502.8600000000001,123.1,334.23,525.69,167.5,323.03000000000003,207.15,426.63,2495.87,1107.46,416.86,145.35,404.58,35.8,337.44,325.1,1708.24,955.24,364.72,1744.71,708.22,781.91,1657.28,428.89,104.35,470.76,808.87,397.68,666.1,314.1,371.01,427.64,1054.73,1098.78,2398.86,1465.12,1142.42,168.12,1432.77,156.78,792.11,41.989999999999995,414.27,1032.58,2735.37,578.71,101.4,478.78,972.11,392.4,1415.29,646.83,704.55,1465.51,211.88,408.90000000000003,851.01,602.63,719.81,251.03,439.65999999999997,236.09,934.62,331.24,547.9,437.7,758.92,855.02,471.78000000000003,1313.55,1177.47,773.99,1340.7,137.9,362.06,1511.95,783.9,134.8,650.75,2263.12,1453.16,1153.62,335.32,1521.04,852.15,326.24,584.3199999999999,122.39999999999999,2234.73,79.2,1352.0,217.16,2799.42,1317.62,436.18,981.51,1121.39,315.06,817.86,17.0,1078.23,320.62,185.04999999999998,2005.63,731.9,1290.7,1842.14,1429.64,298.21,336.96,108.38,842.5,611.88,195.73999999999998,161.38,135.75000000000003,612.78,232.21,423.36,1309.14,854.66,684.4200000000001,307.78,249.0,656.25,1880.22,618.09,517.55,709.38,635.41,725.18,620.4,535.34,2424.94,175.2,734.13,375.0,76.32000000000001,280.52,2053.02,1829.04,1824.23,656.69,348.2,1025.44,37.4,856.6,822.48,1822.97,1885.05,73.2,1140.21,1418.32,1009.5500000000001,1037.59,331.95,197.9,215.83,305.54,338.71000000000004,1158.79,529.41,981.86,215.48,215.08,314.45,400.68100000000004,1068.8700000000001,1863.47,592.9,384.18,757.63,537.0600000000001,394.38,664.26,2262.62,547.02,690.34,159.0,1062.75,242.35,914.9300000000001,304.25,860.86,773.5500000000001,1295.3,1096.32,255.12,314.22,1010.6,542.03,990.88,536.6800000000001,867.31,432.2,414.2,409.1,1522.75,1413.66,114.56,152.94,1800.07,389.44,752.4300000000001,46.95,1035.45,728.54,861.89,667.65,1404.64,411.7,559.87,810.6000000000001,566.38,1502.78,2062.06,1570.81,812.68,142.5,302.25,2248.9900000000002,1328.55,301.9,598.2,233.22,361.21999999999997,632.27,2560.0,706.57,616.26,274.15000000000003,1341.65,328.15,404.40000000000003,1038.46,373.65000000000003,326.75,207.50000000000003,408.59000000000003,594.24,251.91,1582.8,151.05,214.79999999999998,94.05,534.31,1971.87,322.41,328.58,101.10000000000001,565.46,847.45,1415.65,53.5,1116.47,494.44,395.8,211.77,658.88,2027.5,1750.92,891.21,709.99,109.36000000000001,705.79,1540.42,327.3,800.67,479.91,1545.41,1301.91,355.73,466.73,974.96,676.2,362.95,2157.4,1743.1499999999999,643.76,584.5,554.86,302.57,94.36,1382.07,217.89,1555.34,1482.06,1705.8,408.02,303.93,293.45,177.5,443.05,167.25,154.35,2079.68,211.7,135.99,262.2,126.25,200.27,1051.4,631.12,958.71,346.12,133.56,302.7,241.06,284.55,300.85,623.28,287.4,184.26,1511.8,798.35,381.2,609.3,654.67,230.51,255.91,182.99,707.69,311.92,266.97,6.9,1841.18,2158.18,208.36,811.23,142.92,136.0,1422.4,1595.96,74.9,625.42,752.77,223.95000000000002,316.11,544.3,2494.46,331.0,300.83,769.29,220.62,139.35,404.3,363.65,498.8,731.5,1351.63,826.53,648.26,1599.52,100.97,400.86,1431.93,465.88,777.6,90.30000000000001,363.7,918.33,874.59,1624.14,101.69999999999999,162.7,484.32,215.07999999999998,1046.57,290.36,228.06,244.41,455.25,1244.59,1082.81,593.75,548.12,1388.81,119.62,339.3,787.15,922.12,379.73,837.1,285.89,281.85,841.41,511.12,1077.74,614.66,865.6,124.2,1421.69,1009.6,663.61,451.44,105.84,313.62,936.08,463.95,225.15,459.24,213.5,330.03,181.09,360.16,250.15,90.04,145.04999999999998,813.52,242.7,528.08,482.47,75.66,129.49,1187.66,618.59,506.19,500.42,151.85,2647.59,226.21,178.96,813.48,129.45,810.5699999999999,333.08,322.8,2188.05,408.63,2883.1,217.9,1154.47,1680.72,1257.51,231.10000000000002,688.33,487.51,833.78,214.06,290.65999999999997,518.42,1212.66,601.27,874.43,39.12,1267.6499999999999,118.98,567.1800000000001,306.71999999999997,1348.88,1692.27,304.24,1592.1200000000001,183.7,1770.34,1028.0,324.24,1260.86,422.59999999999997,225.57999999999998,1276.0,477.86,657.9000000000001,112.75,1998.0,531.35,656.63,1651.03,1129.06,301.71999999999997,901.2,1770.22,152.95,292.47,576.4,758.27,1358.74,743.11,603.75,646.76,2247.41,417.59999999999997,3.75,323.0,464.9,2213.13,836.06,1515.9,623.93,1764.72,223.92000000000002,1475.43,239.4,106.83000000000001,369.34000000000003,789.79,316.62,1207.24,611.85,34.0,1145.6,478.09000000000003,361.54,757.1,171.59,661.52,1691.51,371.54,222.62,245.94,422.24,2267.9500000000003,107.6,594.39,80.8,1545.6200000000001,110.38000000000001,243.84,305.62,1162.65,1594.23,332.3,536.99,460.59,762.16,1121.59,288.42,914.69,309.54,547.07,417.06,1604.75,497.61,358.38,460.64,775.1800000000001,341.7,128.5,197.22,325.91,199.15,1106.53,413.46,180.85,251.87,588.85,1869.82,1264.19,214.32,193.44,281.42,124.57,342.45,144.91000000000003,328.4,35.400000000000006,747.81,173.76,502.8,207.73999999999998,817.12,2812.34,680.02,2095.53,846.62,13.3,1491.43,432.0,705.12,272.48,429.84000000000003,450.41,192.32999999999998,1578.67,742.43,518.19,202.27,289.78,501.03,1271.06,887.11,1706.88,363.2,559.59,928.76,379.14,2555.58,113.44,183.76,621.6800000000001,562.41,391.52,1068.82,154.18,829.89,543.05,2814.7,1295.39,378.89,150.23000000000002,563.23,931.03,261.9,816.73,406.48,435.02,1286.27,1178.56,1277.75,167.61,20.8,2085.08,518.67,308.74,416.64,117.35000000000001,507.05,234.17,110.55000000000001,201.19,2154.97,319.02,439.43,650.41,357.21,251.51999999999998,344.33,1852.0,1028.46,384.06,1905.87,1873.2,1616.8,126.12,1133.25,179.0,1614.31,1456.96,702.0,295.0,484.82,1493.73,1312.1399999999999,781.78,889.9300000000001,195.36,270.9,583.4300000000001,1838.6100000000001,920.1,71.0,95.85,357.77,154.82999999999998,877.5600000000001,716.0,146.87,380.35,1030.14,745.52,433.53000000000003,1267.32,112.4,449.73,1071.49,1036.58,1735.18,948.48,339.44,642.02,1100.9,925.35,240.89000000000001,399.09,498.48,1356.33,1179.89,234.24,533.33,1461.14,855.45,2709.7000000000003,304.24,2429.03,1446.09,834.12,841.0799999999999,378.2,118.80000000000001,287.62,288.91,2003.85,1405.78,2747.9900000000002,1562.4,2050.08,1991.01,1974.65,1774.03,302.0,1324.16,1022.13,954.42,971.74,1621.73,25.5,665.78,881.29,163.29999999999998,231.61,801.12,837.5,116.19999999999999,157.02,606.91,307.46,138.32,345.29999999999995,294.24,230.5,2463.17,413.2,1139.73,380.5,454.12,579.0,984.57,749.78,1714.59,124.88,1689.5,213.78,329.34,251.70000000000002,319.0,1266.97,1538.88,1715.46,293.1,2467.35,158.68,206.34,835.78,224.91,317.76,59.9,1443.69,306.13,711.79,783.97,239.92000000000002,144.0,203.95,2474.23,383.75,444.74,1699.3000000000002,262.62,1013.01,692.22,289.78,1564.56,384.08,204.24,2317.2200000000003,226.85,2781.23,1059.1200000000001,113.5,114.23,334.48,328.65,416.89,393.49,939.32,1906.09,318.76,417.77,190.88,149.89000000000001,550.06,916.13,314.69,382.5,1135.04,954.9,171.45,280.09000000000003,318.65,381.97,348.91,178.26,271.19,291.48,240.0,581.23,1253.3600000000001,63.440000000000005,550.01,296.58,317.2,763.64,2148.63,107.82,1065.3500000000001,246.04,187.82999999999998,1685.46,151.37,1049.06,1417.63,931.02,513.01,550.8000000000001,1854.06,547.0,128.18,498.42,656.61,163.24,1135.63,82.75,1384.85,644.3,2328.84,2527.92,2600.34,1200.6200000000001,657.16,906.52,986.48,96.8,523.11,363.9,175.2,494.25,307.02,243.36,682.29,157.62,519.6899999999999,228.96,1156.6,98.25,1281.32,587.15,1740.0,1393.06,178.22,384.39,360.81,127.86,568.24,488.2,312.23,167.55,1878.87,446.18,418.4,646.92,495.77,400.1,203.2,389.71999999999997,65.4,193.39000000000001,336.4,256.11,2686.42,746.81,1259.56,508.8,417.27,203.86999999999998,681.41,653.38,2097.84,2633.85,263.92,1031.41,32.65,771.85,1214.72,778.94,1258.06,778.0,507.84,463.46000000000004,598.83,1979.37,698.41,759.17,100.8,524.9200000000001,265.76,403.3,365.76,303.15999999999997,2373.82,216.29999999999998,388.45000000000005,186.42000000000002,2248.56,534.24,120.9,541.53,1721.4,486.71999999999997,517.53,131.7,1737.7,316.5,657.3,622.4300000000001,735.82,675.69,1875.86,289.96000000000004,763.28,137.0,1870.97,1125.07,697.54,194.37,511.82,1255.59,414.04,396.87,376.64,2092.32,374.57,497.56,272.22,622.88,1138.0,288.6,689.1,558.96,1145.84,302.2,605.58,387.31,308.48,513.2,208.65,639.02,764.88,153.94,1844.02,546.81,723.2099999999999,1070.71,652.74,1195.8999999999999,939.37,296.7,223.36,164.4,76.5,887.67,98.42,578.9,170.75,642.32,103.3,148.86,267.16,930.41,1487.6,1952.45,480.31,157.9,541.46,854.95,165.12,1122.38,454.01,869.77,226.75000000000003,380.6,185.65,143.45999999999998,448.90000000000003,215.72,175.27,1242.3,1116.68,1240.2,1468.02,2203.67,993.18,386.69,2044.3700000000001,161.67000000000002,116.00999999999999,394.72,309.36,191.99,2048.45,386.32,329.6,571.1999999999999,930.28,214.37,81.44,1379.9,527.0500000000001,843.48,75.75,1814.12,503.59999999999997,528.33,1324.84,285.56,547.0600000000001,108.5,621.66,712.29,2895.64,1008.39,133.06,1797.5,868.49,166.08,1207.56,117.55,2638.94,1674.69,595.42,178.75,1802.91,604.64,728.16,2055.51,347.75,205.7,1572.71,1594.97,551.04,1371.18,298.11,1992.1100000000001,184.4,2474.33,239.41,740.9399999999999,200.47,283.12,765.34,2285.71,338.95,154.95,2534.64,417.95,1824.37,798.74,885.19,1823.52,152.4,263.33,137.45,385.1,522.91,153.0,326.4,139.35,1195.94,2424.04,1033.0,1060.25,2876.01,1240.11,692.19,700.63,377.44,168.24,1879.05,2791.35,355.11,2322.4,110.25,71.4,674.52,1710.45,1664.65,819.96,287.59,712.78,15.0,772.55,367.63,271.2,2081.9,1143.27,245.81,173.45,1213.73,56.4,647.56,650.32,188.02,283.47,131.94,266.85,1817.54,1117.9,225.9,1964.3,106.1,300.34,342.83,690.0,780.43,1187.21,1285.04,512.31,546.04,699.81,36.56,387.68,298.4,1987.33,1820.09,889.24,398.7,35.400000000000006,155.37,342.24,110.21000000000001,1541.23,2720.8,318.15,205.48,51.559999999999995,2033.1,901.1999999999999,605.8000000000001,114.34,311.26,1418.03,141.92000000000002,2097.88,330.9,554.85,329.65,1157.8700000000001,428.18,155.9,1848.96,683.46,237.61,379.45,178.51999999999998,133.35000000000002,664.34,695.0699999999999,156.34,869.28,111.35,716.0,201.37,586.89,203.85999999999999,244.1,107.21,1118.96,95.45,256.32,541.8100000000001,152.06,154.55,112.19999999999999,110.38,181.07,798.99,72.9,366.23,310.06,408.65,329.36,335.03,1304.04,820.23,207.50000000000003,397.29,212.54,843.0,1740.48,408.36,1331.57,704.25,145.79,380.13,99.14,304.56,77.50000000000001,149.57999999999998,176.68,358.56000000000006,482.2,1008.5400000000001,557.3,12.75,111.68,508.4599999999999,73.78,102.41,463.21,1098.43,228.2,562.79,135.19,337.04,703.99,288.14,732.41,811.45,152.68,631.35,20.8,198.57,201.12,630.84,93.35,674.89,76.1,1962.46,380.39,415.13,226.47,444.68,2116.19,247.39,174.8,187.29,162.22,120.03,1477.66,523.0,122.14,38.45,612.72,389.78,115.31,230.64999999999998,93.82000000000001,418.68,713.89,403.12,70.02,357.20000000000005,165.04999999999998,529.29,2088.6,178.34,172.29000000000002,300.02,363.65,170.16,306.46,2119.41,720.52,814.0,2392.83,318.0,396.33,101.69999999999999,453.0,247.44,2611.75,2584.41,336.13,1231.5,343.45,680.84,90.47999999999999,101.34,166.03,2106.52,580.0500000000001,849.06,2662.4,168.31,222.4,754.64,113.48000000000002,271.0,198.8,352.69,220.1,315.65,111.15,653.3,574.4399999999999,1131.75,200.92000000000002,347.08,112.55000000000001,1059.39,931.4999999999999,681.9100000000001,784.33,152.65,1019.52,1000.16,2888.75,2861.55,160.35000000000002,179.33999999999997,612.0799999999999,566.58,653.35,399.19,371.62,675.64,453.4,530.15,638.0600000000001,1618.69,399.65000000000003,302.46000000000004,1384.8600000000001,1160.04,202.65,980.31,1231.31,2106.84,104.0,1340.8700000000001,1590.81,1793.17,1843.75,366.85,632.07,49.8,304.25,2001.04,1090.24,284.46000000000004,207.79999999999998,957.97,243.76,973.8399999999999,686.63,150.35,1396.99,160.42000000000002,1975.35,517.36,139.10000000000002,2621.38,600.07,216.07,232.48000000000002,299.34000000000003,481.75,621.75,641.92,2069.77,305.28000000000003,1041.61,443.0,158.95000000000002,93.75,779.9,2810.2000000000003,2071.77,592.97,440.0,1796.48,882.24,987.1,1561.6100000000001,422.58,2073.09,2232.4900000000002,2567.06,596.1,804.02,95.34,349.27,518.27,103.3,2337.63,2338.6000000000004,2628.35,324.24,149.48,1213.1599999999999,801.51,25.5,283.15,204.0,175.92,335.86,110.38,173.9,180.60000000000002,80.82,178.05,1837.28],\"z\":[31,73,17,85,4,58,13,59,19,129,10,23,85,22,11,63,52,14,33,17,77,40,104,87,99,27,100,32,93,64,27,126,85,59,5,11,5,54,77,105,26,61,38,18,34,29,45,39,125,30,36,30,31,11,50,16,98,12,4,58,26,22,8,22,43,90,63,38,35,62,83,29,47,38,36,36,31,75,55,26,20,22,77,14,23,9,23,22,68,7,33,31,35,51,26,124,17,152,38,12,106,71,18,92,66,17,16,63,34,21,52,19,50,69,8,5,57,20,119,11,21,105,16,21,9,19,34,60,28,11,88,146,114,29,24,15,22,96,87,11,4,10,35,26,18,21,27,62,64,28,12,3,16,101,60,106,65,19,20,105,32,41,11,92,11,18,38,86,41,64,31,101,101,39,22,53,10,47,31,73,45,21,31,20,43,38,47,36,5,13,3,33,101,42,83,45,48,52,105,157,72,16,32,39,37,27,41,53,12,21,88,33,157,77,38,20,69,55,19,39,161,53,69,53,124,46,26,12,22,43,38,27,131,15,4,97,95,69,18,45,32,12,55,66,50,25,103,84,57,20,4,21,25,45,14,25,28,25,31,15,2,47,29,4,14,59,6,46,5,25,91,25,56,9,27,24,18,174,12,120,113,34,103,52,27,84,48,47,17,78,109,46,5,3,95,26,107,11,66,4,2,85,154,47,10,7,13,42,7,71,82,5,79,3,31,22,4,10,71,2,91,24,50,22,2,50,27,28,28,30,45,84,8,25,106,129,62,120,9,96,70,30,23,97,116,23,63,79,17,19,16,95,108,10,5,129,8,22,9,20,28,4,76,28,83,13,31,27,61,3,59,28,31,7,6,26,4,14,88,47,1,131,40,40,45,10,92,71,37,27,48,28,43,13,33,18,35,135,14,18,76,8,8,15,10,11,68,48,15,2,9,7,22,111,6,6,18,22,21,25,24,6,1,8,8,20,1,58,47,145,120,30,76,79,1,50,55,140,15,2,44,3,7,98,127,63,45,135,23,6,17,4,86,74,15,85,87,79,120,4,8,79,42,41,65,126,13,30,46,43,67,17,11,179,1,79,2,29,63,25,3,110,46,57,8,148,22,55,141,90,5,4,5,21,66,5,108,16,9,2,10,202,43,58,36,31,22,67,13,57,27,16,136,25,26,23,36,13,1,36,81,8,9,11,90,87,15,16,30,8,46,9,82,37,7,187,42,31,54,5,59,2,5,20,81,1,81,1,54,107,72,26,78,62,124,20,105,11,25,21,12,17,17,53,21,51,19,54,42,19,116,20,8,14,16,40,16,24,51,32,42,89,29,23,60,10,128,1,29,23,37,53,97,15,35,51,13,1,155,21,43,38,26,39,3,11,27,28,18,24,19,28,16,8,102,127,78,29,71,67,49,46,10,12,54,13,59,19,71,2,17,46,63,17,27,9,41,17,98,10,21,62,86,58,79,15,109,11,10,8,23,69,34,14,86,50,8,18,48,35,19,42,65,52,18,17,22,26,162,12,44,115,15,10,4,59,44,141,36,8,5,27,6,217,15,22,66,75,25,37,78,97,123,51,4,34,169,32,14,82,49,81,38,169,43,79,27,33,25,46,83,23,10,53,24,8,174,21,87,58,16,127,26,146,35,19,99,23,27,40,97,215,72,195,23,44,13,19,78,19,92,71,145,186,62,63,99,8,40,57,28,146,5,78,23,96,6,63,166,56,49,16,108,103,52,13,12,83,9,25,6,60,25,16,57,3,29,8,6,9,53,90,12,14,194,1,134,28,20,48,49,8,13,10,104,21,102,12,60,43,28,85,6,104,42,20,63,43,38,33,195,190,30,3,23,34,41,63,25,28,24,9,75,35,12,25,57,70,7,15,207,135,119,173,22,9,57,17,113,31,31,45,11,13,39,33,23,17,135,13,10,76,12,35,13,36,69,57,28,24,36,59,96,40,46,10,92,15,72,3,28,55,18,165,1,20,9,55,5,101,93,81,23,14,11,28,76,139,20,30,7,60,115,23,104,7,3,35,65,142,59,28,16,19,39,15,110,27,21,27,118,17,12,19,43,149,26,122,148,33,18,30,28,20,117,41,11,21,27,9,17,58,16,23,31,26,9,7,45,49,11,5,160,35,39,25,33,147,90,12,11,35,2,149,15,11,28,10,15,54,11,111,107,16,13,41,16,82,5,148,86,15,39,47,84,30,42,11,34,39,20,66,39,22,28,31,16,6,15,86,66,38,28,92,6,21,206,6,14,32,85,54,56,4,6,10,8,77,7,52,24,13,43,44,42,65,12,4,150,177,68,13,1,100,21,25,58,21,74,123,34,9,10,34,15,72,3,159,5,166,15,44,46,52,66,28,46,26,66,40,7,5,3,28,26,49,52,6,46,41,104,25,52,29,24,50,58,29,26,31,41,157,24,65,42,7,6,39,2,37,39,24,20,10,87,102,112,9,67,108,59,100,12,7,21,41,60,113,66,40,50,115,35,147,15,8,112,42,10,16,141,108,75,20,8,111,78,53,5,52,143,17,31,55,10,33,29,64,8,32,27,9,16,47,101,61,5,62,3,13,17,105,33,117,20,87,8,101,24,31,123,36,8,12,28,25,15,162,60,90,31,14,6,128,21,71,6,60,18,31,18,1,47,6,9,33,40,55,117,37,8,4,66,11,46,56,126,59,14,7,139,45,5,73,87,25,20,100,8,73,106,54,190,14,43,97,14,124,202,29,27,3,1,17,137,17,12,9,9,32,55,51,63,93,70,20,40,105,60,22,4,37,16,180,6,123,72,89,43,7,29,42,17,10,18,13,30,137,9,14,46,140,46,30,17,120,7,6,19,29,193,190,7,10,107,95,55,68,23,12,69,98,18,16,4,17,12,197,18,213,213,64,62,18,10,19,32,71,105,5,111,4,56,47,10,57,113,203,19,16,74,69,4,33,12,29,123,24,17,6,98,29,19,176,158,151,52,102,47,50,25,7,2,20,4,3,16,20,26,92,21,133,13,53,122,24,150,41,8,20,28,16,105,7,2,31,26,30,28,186,101,29,49,80,126,29,30,4,157,98,90,14,166,123,61,74,97,42,7,2,15,13,48,71,68,8,130,22,200,8,112,22,1,28,136,25,10,71,51,37,28,47,10,45,147,17,54,89,59,26,69,18,89,5,30,41,38,19,71,102,5,11,21,6,39,135,5,52,9,60,117,35,41,27,6,15,3,30,6,46,2,14,80,6,12,13,57,44,12,46,11,53,4,63,48,13,29,70,29,120,17,42,39,67,6,108,4,145,13,21,28,143,9,126,20,65,60,58,11,6,48,11,4,36,70,13,93,28,47,122,46,17,11,53,15,18,6,20,7,33,73,23,43,55,109,96,20,69,17,9,30,27,87,12,77,45,57,78,44,10,11,127,41,87,10,34,3,14,63,19,20,54,77,12,41,59,27,5,192,13,81,36,6,37,34,155,18,32,17,11,72,214,8,39,83,4,40,60,26,74,77,115,154,132,12,180,20,122,33,20,20,31,66,121,152,67,61,35,48,7,110,27,119,125,66,5,3,12,22,94,3,76,142,28,69,114,25,115,57,5,42,82,104,70,26,54,41,27,49,47,33,5,15,57,145,23,30,26,47,11,25,23,8,35,67,101,100,17,60,28,35,84,197,21,45,79,1,14,21,28,82,106,15,16,102,22,52,29,73,9,68,13,80,26,14,67,91,28,20,23,22,71,55,125,7,29,101,39,5,110,11,23,3,93,16,29,62,21,19,51,19,32,10,13,69,142,37,9,42,20,52,5,24,110,35,2,9,117,5,20,23,8,58,23,31,14,143,15,99,50,49,78,110,22,34,89,33,6,44,53,18,47,6,7,34,77,19,10,12,23,82,11,2,41,63,47,41,49,12,16,139,3,20,88,58,24,39,28,31,23,58,12,19,47,1,24,37,1,33,16,36,95,42,48,10,57,13,16,98,35,86,17,24,21,26,20,9,71,219,61,14,13,29,114,44,95,4,94,27,132,3,116,36,8,41,12,31,10,1,84,12,85,7,14,6,73,50,12,42,8,53,148,34,98,10,39,47,28,8,53,6,2,17,6,82,10,41,55,29,45,25,62,2,214,5,28,60,30,56,58,58,7,11,7,57,52,24,24,73,76,11,29,44,45,84,85,2,50,35,122,15,68,13,161,45,92,158,7,15,27,210,18,56,10,1,156,4,162,26,107,219,83,72,24,41,15,29,28,80,114,61,29,17,55,14,31,19,27,113,8,7,53,31,57,212,97,152,43,39,13,48,44,122,31,9,29,24,5,103,77,22,14,52,47,2,17,67,60,16,6,43,6,45,3,100,16,19,34,64,49,155,60,15,25,15,25,119,33,52,35,24,32,21,6,21,34,47,1,48,11,90,5,9,17,115,13,1,33,12,78,138,114,21,33,12,110,78,53,10,9,19,2,12,22,168,18,86,5,117,6,55,205,6,53,19,34,117,7,128,84,67,11,32,5,70,14,10,26,71,8,9,86,3,62,28,90,20,1,28,141,191,45,9,7,37,61,11,27,10,25,7,18,21,29,20,43,14,83,200,34,75,12,42,132,8,98,117,64,1,8,31,48,35,89,133,41,40,72,49,123,17,62,33,20,68,115,51,39,66,54,50,10,24,62,27,47,8,11,22,93,22,30,80,14,188,139,147,18,20,40,43,15,74,108,126,29,23,49,18,12,12,85,60,37,11,22,84,47,111,30,150,7,19,151,12,40,122,60,24,12,21,115,74,12,7,18,1,14,6,29,60,19,97,41,84,97,42,7,28,111,80,20,11,24,96,65,49,43,112,37,14,128,26,52,3,32,127,103,201,8,33,82,79,94,138,181,224,32,28,46,71,101,63,28,32,16,29,98,22,55,39,26,65,70,39,83,10,34,84,70,8,66,121,178,64,23,101,33,21,23,1,129,1,21,10,223,31,38,167,39,18,51,1,63,12,10,67,39,76,57,48,28,13,6,48,18,16,30,8,34,30,16,30,204,38,16,11,40,89,35,21,37,31,35,30,37,117,1,29,22,1,18,117,29,89,18,14,20,2,6,34,85,125,3,69,84,23,58,15,8,11,11,15,45,31,67,11,6,19,15,172,111,35,50,97,63,19,66,46,23,41,6,44,14,37,15,95,122,96,134,8,6,47,35,37,22,46,20,19,51,91,90,16,7,69,24,13,2,18,119,61,45,130,25,33,6,23,106,17,166,103,8,17,118,79,20,27,11,22,41,4,42,37,16,69,19,3,56,12,37,1,111,18,39,151,10,11,18,141,77,15,43,2,37,85,222,9,57,28,39,31,34,109,66,104,77,5,52,51,18,127,69,117,221,92,109,122,5,23,108,31,98,33,57,81,4,34,43,83,206,82,72,29,57,10,23,5,59,168,44,30,31,7,47,71,95,50,18,5,21,9,2,6,76,8,17,107,132,24,171,84,63,34,19,40,11,14,2,99,110,9,132,32,3,82,146,2,171,164,13,18,28,146,17,35,53,18,19,25,42,29,39,56,50,88,95,15,11,84,83,4,3,13,159,35,111,6,17,40,13,156,15,14,17,30,77,176,31,54,45,5,3,25,32,17,52,17,11,57,31,19,18,35,5,87,57,42,28,9,6,28,8,13,33,10,27,53,85,12,7,10,62,30,29,34,6,10,66,30,26,33,5,96,14,9,29,5,48,23,20,117,60,152,9,69,94,50,12,34,27,62,14,19,24,69,29,192,2,16,32,52,20,156,6,93,89,10,44,30,62,62,13,12,3,59,10,21,5,123,27,22,87,19,2,196,25,37,42,145,178,82,28,52,116,1,1,13,1,190,42,69,95,25,34,165,13,7,22,42,13,63,23,1,34,54,38,140,26,48,157,71,48,16,59,183,3,148,5,93,12,16,18,156,75,24,60,98,93,67,23,149,15,28,28,86,26,38,26,28,22,8,11,23,12,47,24,10,11,25,116,63,11,12,14,8,20,9,19,2,52,6,26,11,127,137,7,112,156,3,174,1,39,37,26,96,36,135,186,97,62,37,157,123,79,44,56,86,140,18,100,8,30,57,136,9,128,55,81,6,204,77,53,48,44,61,56,33,21,19,60,42,86,16,1,54,25,16,16,7,101,14,7,26,28,21,31,42,41,2,39,89,81,22,143,3,128,7,12,1,93,37,12,4,23,49,43,44,52,11,15,72,214,16,7,3,9,4,148,2,11,22,28,30,28,75,22,15,69,97,102,6,22,22,65,43,42,83,13,83,62,5,69,78,61,143,62,140,174,77,25,28,2,8,63,81,52,149,186,96,115,61,124,14,74,48,211,65,42,1,90,116,12,29,123,39,9,10,35,18,7,9,31,35,134,23,52,24,18,15,48,35,81,9,14,14,23,20,13,67,101,104,5,144,10,12,54,16,15,4,63,15,80,125,23,2,10,84,60,19,32,29,29,96,38,57,13,7,211,4,157,101,9,25,62,27,48,21,47,208,47,35,25,14,29,105,19,15,40,31,9,54,69,56,86,18,111,74,16,116,12,23,122,73,37,6,114,25,69,15,9,89,44,122,140,104,96,1,132,68,49,30,55,59,79,12,55,14,24,131,9,73,99,195,49,6,33,6,1,28,11,9,157,31,83,1,213,8,70,27,8,16,19,44,58,15,125,29,35,33,107,33,86,57,28,69,24,78,2,49,15,45,28,76,15,3,56,4,89,38,206,59,32,82,2,13,64,41,66,6,14,30,30,117,26,43,2,39,14,43,48,54,134,9,17,5,135,1,9,36,100,19,61,8,19,54,111,29,106,27,208,9,41,5,88,78,174,14,29,82,21,24,29,76,12,27,17,40,5,18,28,38,52,14,88,22,20,6,40,87,135,11,82,30,45,73,33,19,47,14,9,13,3,74,9,25,25,141,5,6,42,49,2,88,105,6,34,27,45,63,49,142,12,25,8,5,50,45,29,35,208,23,196,157,50,82,55,13,9,11,63,56,135,98,14,3,67,74,4,26,33,50,5,123,26,39,70,20,35,7,5,40,157,51,7,91,52,8,44,22,91,82,19,38,86,43,18,117,15,11,53,218,27,77,16,30,11,118,15,46,16,15,35,115,19,8,142,24,74,55,31,103,5,34,7,23,29,10,1,6,50,115,40,66,165,67,35,43,25,10,97,47,15,136,6,1,35,184,89,90,25,19,1,71,56,21,98,38,54,50,153,3,190,81,12,67,13,68,128,5,14,189,10,52,45,81,111,103,140,10,43,133,17,33,13,215,67,30,23,2,61,59,24,162,117,52,37,5,1,51,26,24,15,15,23,219,11,90,9,68,40,10,43,46,12,26,6,8,142,113,53,102,10,65,20,91,34,28,15,192,15,2,108,28,31,6,19,34,33,12,39,37,58,75,92,23,142,1,21,23,5,39,65,90,21,29,72,12,2,2,20,9,1,71,20,19,1,31,7,26,34,98,68,14,29,30,15,165,21,138,30,48,21,1,13,38,29,5,79,2,164,91,57,53,22,30,31,14,31,30,46,122,3,29,5,164,21,21,9,33,110,49,94,19,19,7,115,127,43,7,20,19,3,19,46,27,7,137,10,37,1,25,18,142,223,29,2,17,70,1,7,37,36,21,196,106,19,40,38,18,17,37,26,28,72,17,31,34,192,52,46,14,70,1,20,38,8,15,61,43,221,10,7,16,37,38,21,25,122,34,23,39,80,24,10,37,130,9,38,54,31,1,73,97,90,119,41,37,1,17,71,68,15,7,45,16,7,139,30,68,19,192,32,8,134,42,34,15,13,26,31,20,114,2,64,19,10,5,30,86,123,37,1,104,49,61,88,6,104,78,175,4,47,8,21,94,6,118,42,133,21,13,61,46,1,11,3,11,14,8,9,10,7,12,70],\"type\":\"scatter3d\"}],                        {\"template\":{\"data\":{\"histogram2dcontour\":[{\"type\":\"histogram2dcontour\",\"colorbar\":{\"outlinewidth\":0,\"ticks\":\"\"},\"colorscale\":[[0.0,\"#0d0887\"],[0.1111111111111111,\"#46039f\"],[0.2222222222222222,\"#7201a8\"],[0.3333333333333333,\"#9c179e\"],[0.4444444444444444,\"#bd3786\"],[0.5555555555555556,\"#d8576b\"],[0.6666666666666666,\"#ed7953\"],[0.7777777777777778,\"#fb9f3a\"],[0.8888888888888888,\"#fdca26\"],[1.0,\"#f0f921\"]]}],\"choropleth\":[{\"type\":\"choropleth\",\"colorbar\":{\"outlinewidth\":0,\"ticks\":\"\"}}],\"histogram2d\":[{\"type\":\"histogram2d\",\"colorbar\":{\"outlinewidth\":0,\"ticks\":\"\"},\"colorscale\":[[0.0,\"#0d0887\"],[0.1111111111111111,\"#46039f\"],[0.2222222222222222,\"#7201a8\"],[0.3333333333333333,\"#9c179e\"],[0.4444444444444444,\"#bd3786\"],[0.5555555555555556,\"#d8576b\"],[0.6666666666666666,\"#ed7953\"],[0.7777777777777778,\"#fb9f3a\"],[0.8888888888888888,\"#fdca26\"],[1.0,\"#f0f921\"]]}],\"heatmap\":[{\"type\":\"heatmap\",\"colorbar\":{\"outlinewidth\":0,\"ticks\":\"\"},\"colorscale\":[[0.0,\"#0d0887\"],[0.1111111111111111,\"#46039f\"],[0.2222222222222222,\"#7201a8\"],[0.3333333333333333,\"#9c179e\"],[0.4444444444444444,\"#bd3786\"],[0.5555555555555556,\"#d8576b\"],[0.6666666666666666,\"#ed7953\"],[0.7777777777777778,\"#fb9f3a\"],[0.8888888888888888,\"#fdca26\"],[1.0,\"#f0f921\"]]}],\"heatmapgl\":[{\"type\":\"heatmapgl\",\"colorbar\":{\"outlinewidth\":0,\"ticks\":\"\"},\"colorscale\":[[0.0,\"#0d0887\"],[0.1111111111111111,\"#46039f\"],[0.2222222222222222,\"#7201a8\"],[0.3333333333333333,\"#9c179e\"],[0.4444444444444444,\"#bd3786\"],[0.5555555555555556,\"#d8576b\"],[0.6666666666666666,\"#ed7953\"],[0.7777777777777778,\"#fb9f3a\"],[0.8888888888888888,\"#fdca26\"],[1.0,\"#f0f921\"]]}],\"contourcarpet\":[{\"type\":\"contourcarpet\",\"colorbar\":{\"outlinewidth\":0,\"ticks\":\"\"}}],\"contour\":[{\"type\":\"contour\",\"colorbar\":{\"outlinewidth\":0,\"ticks\":\"\"},\"colorscale\":[[0.0,\"#0d0887\"],[0.1111111111111111,\"#46039f\"],[0.2222222222222222,\"#7201a8\"],[0.3333333333333333,\"#9c179e\"],[0.4444444444444444,\"#bd3786\"],[0.5555555555555556,\"#d8576b\"],[0.6666666666666666,\"#ed7953\"],[0.7777777777777778,\"#fb9f3a\"],[0.8888888888888888,\"#fdca26\"],[1.0,\"#f0f921\"]]}],\"surface\":[{\"type\":\"surface\",\"colorbar\":{\"outlinewidth\":0,\"ticks\":\"\"},\"colorscale\":[[0.0,\"#0d0887\"],[0.1111111111111111,\"#46039f\"],[0.2222222222222222,\"#7201a8\"],[0.3333333333333333,\"#9c179e\"],[0.4444444444444444,\"#bd3786\"],[0.5555555555555556,\"#d8576b\"],[0.6666666666666666,\"#ed7953\"],[0.7777777777777778,\"#fb9f3a\"],[0.8888888888888888,\"#fdca26\"],[1.0,\"#f0f921\"]]}],\"mesh3d\":[{\"type\":\"mesh3d\",\"colorbar\":{\"outlinewidth\":0,\"ticks\":\"\"}}],\"scatter\":[{\"fillpattern\":{\"fillmode\":\"overlay\",\"size\":10,\"solidity\":0.2},\"type\":\"scatter\"}],\"parcoords\":[{\"type\":\"parcoords\",\"line\":{\"colorbar\":{\"outlinewidth\":0,\"ticks\":\"\"}}}],\"scatterpolargl\":[{\"type\":\"scatterpolargl\",\"marker\":{\"colorbar\":{\"outlinewidth\":0,\"ticks\":\"\"}}}],\"bar\":[{\"error_x\":{\"color\":\"#2a3f5f\"},\"error_y\":{\"color\":\"#2a3f5f\"},\"marker\":{\"line\":{\"color\":\"#E5ECF6\",\"width\":0.5},\"pattern\":{\"fillmode\":\"overlay\",\"size\":10,\"solidity\":0.2}},\"type\":\"bar\"}],\"scattergeo\":[{\"type\":\"scattergeo\",\"marker\":{\"colorbar\":{\"outlinewidth\":0,\"ticks\":\"\"}}}],\"scatterpolar\":[{\"type\":\"scatterpolar\",\"marker\":{\"colorbar\":{\"outlinewidth\":0,\"ticks\":\"\"}}}],\"histogram\":[{\"marker\":{\"pattern\":{\"fillmode\":\"overlay\",\"size\":10,\"solidity\":0.2}},\"type\":\"histogram\"}],\"scattergl\":[{\"type\":\"scattergl\",\"marker\":{\"colorbar\":{\"outlinewidth\":0,\"ticks\":\"\"}}}],\"scatter3d\":[{\"type\":\"scatter3d\",\"line\":{\"colorbar\":{\"outlinewidth\":0,\"ticks\":\"\"}},\"marker\":{\"colorbar\":{\"outlinewidth\":0,\"ticks\":\"\"}}}],\"scattermapbox\":[{\"type\":\"scattermapbox\",\"marker\":{\"colorbar\":{\"outlinewidth\":0,\"ticks\":\"\"}}}],\"scatterternary\":[{\"type\":\"scatterternary\",\"marker\":{\"colorbar\":{\"outlinewidth\":0,\"ticks\":\"\"}}}],\"scattercarpet\":[{\"type\":\"scattercarpet\",\"marker\":{\"colorbar\":{\"outlinewidth\":0,\"ticks\":\"\"}}}],\"carpet\":[{\"aaxis\":{\"endlinecolor\":\"#2a3f5f\",\"gridcolor\":\"white\",\"linecolor\":\"white\",\"minorgridcolor\":\"white\",\"startlinecolor\":\"#2a3f5f\"},\"baxis\":{\"endlinecolor\":\"#2a3f5f\",\"gridcolor\":\"white\",\"linecolor\":\"white\",\"minorgridcolor\":\"white\",\"startlinecolor\":\"#2a3f5f\"},\"type\":\"carpet\"}],\"table\":[{\"cells\":{\"fill\":{\"color\":\"#EBF0F8\"},\"line\":{\"color\":\"white\"}},\"header\":{\"fill\":{\"color\":\"#C8D4E3\"},\"line\":{\"color\":\"white\"}},\"type\":\"table\"}],\"barpolar\":[{\"marker\":{\"line\":{\"color\":\"#E5ECF6\",\"width\":0.5},\"pattern\":{\"fillmode\":\"overlay\",\"size\":10,\"solidity\":0.2}},\"type\":\"barpolar\"}],\"pie\":[{\"automargin\":true,\"type\":\"pie\"}]},\"layout\":{\"autotypenumbers\":\"strict\",\"colorway\":[\"#636efa\",\"#EF553B\",\"#00cc96\",\"#ab63fa\",\"#FFA15A\",\"#19d3f3\",\"#FF6692\",\"#B6E880\",\"#FF97FF\",\"#FECB52\"],\"font\":{\"color\":\"#2a3f5f\"},\"hovermode\":\"closest\",\"hoverlabel\":{\"align\":\"left\"},\"paper_bgcolor\":\"white\",\"plot_bgcolor\":\"#E5ECF6\",\"polar\":{\"bgcolor\":\"#E5ECF6\",\"angularaxis\":{\"gridcolor\":\"white\",\"linecolor\":\"white\",\"ticks\":\"\"},\"radialaxis\":{\"gridcolor\":\"white\",\"linecolor\":\"white\",\"ticks\":\"\"}},\"ternary\":{\"bgcolor\":\"#E5ECF6\",\"aaxis\":{\"gridcolor\":\"white\",\"linecolor\":\"white\",\"ticks\":\"\"},\"baxis\":{\"gridcolor\":\"white\",\"linecolor\":\"white\",\"ticks\":\"\"},\"caxis\":{\"gridcolor\":\"white\",\"linecolor\":\"white\",\"ticks\":\"\"}},\"coloraxis\":{\"colorbar\":{\"outlinewidth\":0,\"ticks\":\"\"}},\"colorscale\":{\"sequential\":[[0.0,\"#0d0887\"],[0.1111111111111111,\"#46039f\"],[0.2222222222222222,\"#7201a8\"],[0.3333333333333333,\"#9c179e\"],[0.4444444444444444,\"#bd3786\"],[0.5555555555555556,\"#d8576b\"],[0.6666666666666666,\"#ed7953\"],[0.7777777777777778,\"#fb9f3a\"],[0.8888888888888888,\"#fdca26\"],[1.0,\"#f0f921\"]],\"sequentialminus\":[[0.0,\"#0d0887\"],[0.1111111111111111,\"#46039f\"],[0.2222222222222222,\"#7201a8\"],[0.3333333333333333,\"#9c179e\"],[0.4444444444444444,\"#bd3786\"],[0.5555555555555556,\"#d8576b\"],[0.6666666666666666,\"#ed7953\"],[0.7777777777777778,\"#fb9f3a\"],[0.8888888888888888,\"#fdca26\"],[1.0,\"#f0f921\"]],\"diverging\":[[0,\"#8e0152\"],[0.1,\"#c51b7d\"],[0.2,\"#de77ae\"],[0.3,\"#f1b6da\"],[0.4,\"#fde0ef\"],[0.5,\"#f7f7f7\"],[0.6,\"#e6f5d0\"],[0.7,\"#b8e186\"],[0.8,\"#7fbc41\"],[0.9,\"#4d9221\"],[1,\"#276419\"]]},\"xaxis\":{\"gridcolor\":\"white\",\"linecolor\":\"white\",\"ticks\":\"\",\"title\":{\"standoff\":15},\"zerolinecolor\":\"white\",\"automargin\":true,\"zerolinewidth\":2},\"yaxis\":{\"gridcolor\":\"white\",\"linecolor\":\"white\",\"ticks\":\"\",\"title\":{\"standoff\":15},\"zerolinecolor\":\"white\",\"automargin\":true,\"zerolinewidth\":2},\"scene\":{\"xaxis\":{\"backgroundcolor\":\"#E5ECF6\",\"gridcolor\":\"white\",\"linecolor\":\"white\",\"showbackground\":true,\"ticks\":\"\",\"zerolinecolor\":\"white\",\"gridwidth\":2},\"yaxis\":{\"backgroundcolor\":\"#E5ECF6\",\"gridcolor\":\"white\",\"linecolor\":\"white\",\"showbackground\":true,\"ticks\":\"\",\"zerolinecolor\":\"white\",\"gridwidth\":2},\"zaxis\":{\"backgroundcolor\":\"#E5ECF6\",\"gridcolor\":\"white\",\"linecolor\":\"white\",\"showbackground\":true,\"ticks\":\"\",\"zerolinecolor\":\"white\",\"gridwidth\":2}},\"shapedefaults\":{\"line\":{\"color\":\"#2a3f5f\"}},\"annotationdefaults\":{\"arrowcolor\":\"#2a3f5f\",\"arrowhead\":0,\"arrowwidth\":1},\"geo\":{\"bgcolor\":\"white\",\"landcolor\":\"#E5ECF6\",\"subunitcolor\":\"white\",\"showland\":true,\"showlakes\":true,\"lakecolor\":\"white\"},\"title\":{\"x\":0.05},\"mapbox\":{\"style\":\"light\"}}},\"scene\":{\"xaxis\":{\"title\":{\"text\":\"Recency\"}},\"yaxis\":{\"title\":{\"text\":\"Monetary\"}},\"zaxis\":{\"title\":{\"text\":\"Frequency\"}}}},                        {\"responsive\": true}                    ).then(function(){\n",
       "                            \n",
       "var gd = document.getElementById('4f834aee-2ae1-48ac-8d63-5409254de128');\n",
       "var x = new MutationObserver(function (mutations, observer) {{\n",
       "        var display = window.getComputedStyle(gd).display;\n",
       "        if (!display || display === 'none') {{\n",
       "            console.log([gd, 'removed!']);\n",
       "            Plotly.purge(gd);\n",
       "            observer.disconnect();\n",
       "        }}\n",
       "}});\n",
       "\n",
       "// Listen for the removal of the full notebook cells\n",
       "var notebookContainer = gd.closest('#notebook-container');\n",
       "if (notebookContainer) {{\n",
       "    x.observe(notebookContainer, {childList: true});\n",
       "}}\n",
       "\n",
       "// Listen for the clearing of the current output cell\n",
       "var outputEl = gd.closest('.output');\n",
       "if (outputEl) {{\n",
       "    x.observe(outputEl, {childList: true});\n",
       "}}\n",
       "\n",
       "                        })                };                });            </script>        </div>"
      ]
     },
     "metadata": {},
     "output_type": "display_data"
    }
   ],
   "source": [
    "import plotly.graph_objs as go\n",
    "# create a 3D scatter plot\n",
    "fig = go.Figure(data=[go.Scatter3d(\n",
    "    x=clusters_scaled['Recency'],\n",
    "    y=clusters_scaled['Monetary'],\n",
    "    z=clusters_scaled['Frequency'],\n",
    "    mode='markers',\n",
    "    marker=dict(\n",
    "        color=clusters_scaled['cluster_pred'],\n",
    "        size=5,\n",
    "        opacity=0.8\n",
    "    )\n",
    ")])\n",
    "\n",
    "\n",
    "# set the layout for the 3D scatter plot\n",
    "fig.update_layout(scene=dict(\n",
    "    xaxis_title='Recency',\n",
    "    yaxis_title='Monetary',\n",
    "    zaxis_title='Frequency'\n",
    "))"
   ]
  },
  {
   "cell_type": "markdown",
   "id": "b1f9eb11",
   "metadata": {
    "papermill": {
     "duration": 0.02722,
     "end_time": "2023-02-25T23:11:55.622137",
     "exception": false,
     "start_time": "2023-02-25T23:11:55.594917",
     "status": "completed"
    },
    "tags": []
   },
   "source": [
    "# Validation Part "
   ]
  },
  {
   "cell_type": "code",
   "execution_count": 45,
   "id": "150a0d44",
   "metadata": {
    "execution": {
     "iopub.execute_input": "2023-02-25T23:11:55.678816Z",
     "iopub.status.busy": "2023-02-25T23:11:55.678432Z",
     "iopub.status.idle": "2023-02-25T23:11:55.685171Z",
     "shell.execute_reply": "2023-02-25T23:11:55.683670Z"
    },
    "papermill": {
     "duration": 0.037923,
     "end_time": "2023-02-25T23:11:55.687750",
     "exception": false,
     "start_time": "2023-02-25T23:11:55.649827",
     "status": "completed"
    },
    "tags": []
   },
   "outputs": [
    {
     "name": "stdout",
     "output_type": "stream",
     "text": [
      "3299.784641093393\n"
     ]
    }
   ],
   "source": [
    "#The score is higher when clusters are dense and well separated\n",
    "from sklearn.metrics import calinski_harabasz_score\n",
    "print(calinski_harabasz_score(ScaledData, KMean_clust.labels_))\n"
   ]
  },
  {
   "cell_type": "code",
   "execution_count": 46,
   "id": "3756f691",
   "metadata": {
    "execution": {
     "iopub.execute_input": "2023-02-25T23:11:55.744011Z",
     "iopub.status.busy": "2023-02-25T23:11:55.743570Z",
     "iopub.status.idle": "2023-02-25T23:11:55.752159Z",
     "shell.execute_reply": "2023-02-25T23:11:55.750722Z"
    },
    "papermill": {
     "duration": 0.039461,
     "end_time": "2023-02-25T23:11:55.754564",
     "exception": false,
     "start_time": "2023-02-25T23:11:55.715103",
     "status": "completed"
    },
    "tags": []
   },
   "outputs": [
    {
     "name": "stdout",
     "output_type": "stream",
     "text": [
      "0.821475920088635\n"
     ]
    }
   ],
   "source": [
    "from sklearn.metrics import davies_bouldin_score\n",
    "print(davies_bouldin_score(ScaledData,KMean_clust.labels_))\n"
   ]
  },
  {
   "cell_type": "code",
   "execution_count": 47,
   "id": "d7cde1d8",
   "metadata": {
    "execution": {
     "iopub.execute_input": "2023-02-25T23:11:55.809879Z",
     "iopub.status.busy": "2023-02-25T23:11:55.809278Z",
     "iopub.status.idle": "2023-02-25T23:11:57.128800Z",
     "shell.execute_reply": "2023-02-25T23:11:57.127633Z"
    },
    "papermill": {
     "duration": 1.349639,
     "end_time": "2023-02-25T23:11:57.131082",
     "exception": false,
     "start_time": "2023-02-25T23:11:55.781443",
     "status": "completed"
    },
    "tags": []
   },
   "outputs": [
    {
     "name": "stdout",
     "output_type": "stream",
     "text": [
      "Silhouette Score: 0.438\n"
     ]
    },
    {
     "data": {
      "image/png": "[encoded data removed]",
      "text/plain": [
       "<Figure size 800x550 with 1 Axes>"
      ]
     },
     "metadata": {},
     "output_type": "display_data"
    },
    {
     "data": {
      "text/plain": [
       "<AxesSubplot:title={'center':'Silhouette Plot of KMeans Clustering for 3504 Samples in 3 Centers'}, xlabel='silhouette coefficient values', ylabel='cluster label'>"
      ]
     },
     "execution_count": 47,
     "metadata": {},
     "output_type": "execute_result"
    }
   ],
   "source": [
    "from sklearn.metrics import silhouette_samples, silhouette_score\n",
    "sil_score = silhouette_score(ScaledData, KMean_clust.labels_, metric='euclidean')\n",
    "print('Silhouette Score: %.3f' % sil_score)\n",
    "\n",
    "from yellowbrick.cluster import SilhouetteVisualizer\n",
    "model = KMeans(3)\n",
    "visualizer = SilhouetteVisualizer(model)\n",
    "visualizer.fit(ScaledData)   \n",
    "visualizer.poof()"
   ]
  },
  {
   "cell_type": "code",
   "execution_count": 48,
   "id": "67e2d01a",
   "metadata": {
    "execution": {
     "iopub.execute_input": "2023-02-25T23:11:57.189741Z",
     "iopub.status.busy": "2023-02-25T23:11:57.189301Z",
     "iopub.status.idle": "2023-02-25T23:11:57.202571Z",
     "shell.execute_reply": "2023-02-25T23:11:57.201818Z"
    },
    "papermill": {
     "duration": 0.044539,
     "end_time": "2023-02-25T23:11:57.204340",
     "exception": false,
     "start_time": "2023-02-25T23:11:57.159801",
     "status": "completed"
    },
    "tags": []
   },
   "outputs": [
    {
     "data": {
      "text/html": [
       "<div>\n",
       "<style scoped>\n",
       "    .dataframe tbody tr th:only-of-type {\n",
       "        vertical-align: middle;\n",
       "    }\n",
       "\n",
       "    .dataframe tbody tr th {\n",
       "        vertical-align: top;\n",
       "    }\n",
       "\n",
       "    .dataframe thead th {\n",
       "        text-align: right;\n",
       "    }\n",
       "</style>\n",
       "<table border=\"1\" class=\"dataframe\">\n",
       "  <thead>\n",
       "    <tr style=\"text-align: right;\">\n",
       "      <th></th>\n",
       "      <th>Recency</th>\n",
       "      <th>Frequency</th>\n",
       "      <th>Monetary</th>\n",
       "      <th>cluster</th>\n",
       "      <th>level</th>\n",
       "    </tr>\n",
       "  </thead>\n",
       "  <tbody>\n",
       "    <tr>\n",
       "      <th>2</th>\n",
       "      <td>74</td>\n",
       "      <td>31</td>\n",
       "      <td>1797.24</td>\n",
       "      <td>2</td>\n",
       "      <td>Gold</td>\n",
       "    </tr>\n",
       "    <tr>\n",
       "      <th>3</th>\n",
       "      <td>18</td>\n",
       "      <td>73</td>\n",
       "      <td>1757.55</td>\n",
       "      <td>2</td>\n",
       "      <td>Platinum</td>\n",
       "    </tr>\n",
       "    <tr>\n",
       "      <th>4</th>\n",
       "      <td>309</td>\n",
       "      <td>17</td>\n",
       "      <td>334.40</td>\n",
       "      <td>0</td>\n",
       "      <td>Bronze</td>\n",
       "    </tr>\n",
       "    <tr>\n",
       "      <th>5</th>\n",
       "      <td>35</td>\n",
       "      <td>85</td>\n",
       "      <td>2506.04</td>\n",
       "      <td>2</td>\n",
       "      <td>Platinum</td>\n",
       "    </tr>\n",
       "    <tr>\n",
       "      <th>6</th>\n",
       "      <td>203</td>\n",
       "      <td>4</td>\n",
       "      <td>89.00</td>\n",
       "      <td>0</td>\n",
       "      <td>Bronze</td>\n",
       "    </tr>\n",
       "    <tr>\n",
       "      <th>7</th>\n",
       "      <td>231</td>\n",
       "      <td>58</td>\n",
       "      <td>1079.40</td>\n",
       "      <td>0</td>\n",
       "      <td>Gold</td>\n",
       "    </tr>\n",
       "    <tr>\n",
       "      <th>8</th>\n",
       "      <td>213</td>\n",
       "      <td>13</td>\n",
       "      <td>459.40</td>\n",
       "      <td>0</td>\n",
       "      <td>Bronze</td>\n",
       "    </tr>\n",
       "    <tr>\n",
       "      <th>9</th>\n",
       "      <td>22</td>\n",
       "      <td>59</td>\n",
       "      <td>2811.43</td>\n",
       "      <td>2</td>\n",
       "      <td>Platinum</td>\n",
       "    </tr>\n",
       "    <tr>\n",
       "      <th>11</th>\n",
       "      <td>1</td>\n",
       "      <td>19</td>\n",
       "      <td>1168.06</td>\n",
       "      <td>1</td>\n",
       "      <td>Gold</td>\n",
       "    </tr>\n",
       "    <tr>\n",
       "      <th>13</th>\n",
       "      <td>51</td>\n",
       "      <td>129</td>\n",
       "      <td>2662.06</td>\n",
       "      <td>2</td>\n",
       "      <td>Platinum</td>\n",
       "    </tr>\n",
       "  </tbody>\n",
       "</table>\n",
       "</div>"
      ],
      "text/plain": [
       "    Recency  Frequency  Monetary  cluster     level\n",
       "2        74         31   1797.24        2      Gold\n",
       "3        18         73   1757.55        2  Platinum\n",
       "4       309         17    334.40        0    Bronze\n",
       "5        35         85   2506.04        2  Platinum\n",
       "6       203          4     89.00        0    Bronze\n",
       "7       231         58   1079.40        0      Gold\n",
       "8       213         13    459.40        0    Bronze\n",
       "9        22         59   2811.43        2  Platinum\n",
       "11        1         19   1168.06        1      Gold\n",
       "13       51        129   2662.06        2  Platinum"
      ]
     },
     "execution_count": 48,
     "metadata": {},
     "output_type": "execute_result"
    }
   ],
   "source": [
    "RFM1['cluster']= clusters_scaled['cluster_pred']\n",
    "RFM1['level']=RFM['RFM_Loyalty_Level']\n",
    "RFM1.head(10)\n",
    "\n"
   ]
  },
  {
   "cell_type": "code",
   "execution_count": 49,
   "id": "5e5f5b18",
   "metadata": {
    "execution": {
     "iopub.execute_input": "2023-02-25T23:11:57.265030Z",
     "iopub.status.busy": "2023-02-25T23:11:57.264418Z",
     "iopub.status.idle": "2023-02-25T23:11:57.275823Z",
     "shell.execute_reply": "2023-02-25T23:11:57.274684Z"
    },
    "papermill": {
     "duration": 0.043965,
     "end_time": "2023-02-25T23:11:57.277791",
     "exception": false,
     "start_time": "2023-02-25T23:11:57.233826",
     "status": "completed"
    },
    "tags": []
   },
   "outputs": [
    {
     "data": {
      "text/plain": [
       "cluster  level   \n",
       "0        Platinum      0\n",
       "         Gold         63\n",
       "         Silver      326\n",
       "         Bronze      499\n",
       "1        Platinum    107\n",
       "         Gold        965\n",
       "         Silver      606\n",
       "         Bronze      161\n",
       "2        Platinum    537\n",
       "         Gold        240\n",
       "         Silver        0\n",
       "         Bronze        0\n",
       "dtype: int64"
      ]
     },
     "execution_count": 49,
     "metadata": {},
     "output_type": "execute_result"
    }
   ],
   "source": [
    "RFM1.groupby(['cluster','level']).size()\n"
   ]
  },
  {
   "cell_type": "code",
   "execution_count": 50,
   "id": "bf982957",
   "metadata": {
    "execution": {
     "iopub.execute_input": "2023-02-25T23:11:57.337627Z",
     "iopub.status.busy": "2023-02-25T23:11:57.337006Z",
     "iopub.status.idle": "2023-02-25T23:11:57.456130Z",
     "shell.execute_reply": "2023-02-25T23:11:57.455015Z"
    },
    "papermill": {
     "duration": 0.152006,
     "end_time": "2023-02-25T23:11:57.458546",
     "exception": false,
     "start_time": "2023-02-25T23:11:57.306540",
     "status": "completed"
    },
    "tags": []
   },
   "outputs": [
    {
     "data": {
      "text/html": [
       "<div>                            <div id=\"e5f6882f-ac67-40b5-9d70-672f6da87832\" class=\"plotly-graph-div\" style=\"height:525px; width:100%;\"></div>            <script type=\"text/javascript\">                require([\"plotly\"], function(Plotly) {                    window.PLOTLYENV=window.PLOTLYENV || {};                                    if (document.getElementById(\"e5f6882f-ac67-40b5-9d70-672f6da87832\")) {                    Plotly.newPlot(                        \"e5f6882f-ac67-40b5-9d70-672f6da87832\",                        [{\"domain\":{\"x\":[0.0,1.0],\"y\":[0.0,1.0]},\"hovertemplate\":\"Country=%{label}<br>Customer Count=%{value}<extra></extra>\",\"labels\":[\"Other countries\",\"Other countries\",\"Other countries\",\"Belgium\",\"Other countries\",\"Other countries\",\"Other countries\",\"Other countries\",\"Other countries\",\"Other countries\",\"Other countries\",\"Other countries\",\"Other countries\",\"France\",\"Germany\",\"Other countries\",\"Other countries\",\"Other countries\",\"Other countries\",\"Other countries\",\"Other countries\",\"Other countries\",\"Other countries\",\"Other countries\",\"Other countries\",\"Other countries\",\"Other countries\",\"Other countries\",\"Other countries\",\"Other countries\",\"Spain\",\"Other countries\",\"Switzerland\",\"Other countries\",\"Other countries\",\"United Kingdom\",\"Other countries\"],\"legendgroup\":\"\",\"name\":\"\",\"showlegend\":true,\"values\":[9,11,2,25,1,4,9,8,1,9,3,1,12,87,94,4,1,3,14,8,1,1,2,9,10,6,19,1,1,1,30,8,21,4,2,3921,4],\"type\":\"pie\"}],                        {\"template\":{\"data\":{\"histogram2dcontour\":[{\"type\":\"histogram2dcontour\",\"colorbar\":{\"outlinewidth\":0,\"ticks\":\"\"},\"colorscale\":[[0.0,\"#0d0887\"],[0.1111111111111111,\"#46039f\"],[0.2222222222222222,\"#7201a8\"],[0.3333333333333333,\"#9c179e\"],[0.4444444444444444,\"#bd3786\"],[0.5555555555555556,\"#d8576b\"],[0.6666666666666666,\"#ed7953\"],[0.7777777777777778,\"#fb9f3a\"],[0.8888888888888888,\"#fdca26\"],[1.0,\"#f0f921\"]]}],\"choropleth\":[{\"type\":\"choropleth\",\"colorbar\":{\"outlinewidth\":0,\"ticks\":\"\"}}],\"histogram2d\":[{\"type\":\"histogram2d\",\"colorbar\":{\"outlinewidth\":0,\"ticks\":\"\"},\"colorscale\":[[0.0,\"#0d0887\"],[0.1111111111111111,\"#46039f\"],[0.2222222222222222,\"#7201a8\"],[0.3333333333333333,\"#9c179e\"],[0.4444444444444444,\"#bd3786\"],[0.5555555555555556,\"#d8576b\"],[0.6666666666666666,\"#ed7953\"],[0.7777777777777778,\"#fb9f3a\"],[0.8888888888888888,\"#fdca26\"],[1.0,\"#f0f921\"]]}],\"heatmap\":[{\"type\":\"heatmap\",\"colorbar\":{\"outlinewidth\":0,\"ticks\":\"\"},\"colorscale\":[[0.0,\"#0d0887\"],[0.1111111111111111,\"#46039f\"],[0.2222222222222222,\"#7201a8\"],[0.3333333333333333,\"#9c179e\"],[0.4444444444444444,\"#bd3786\"],[0.5555555555555556,\"#d8576b\"],[0.6666666666666666,\"#ed7953\"],[0.7777777777777778,\"#fb9f3a\"],[0.8888888888888888,\"#fdca26\"],[1.0,\"#f0f921\"]]}],\"heatmapgl\":[{\"type\":\"heatmapgl\",\"colorbar\":{\"outlinewidth\":0,\"ticks\":\"\"},\"colorscale\":[[0.0,\"#0d0887\"],[0.1111111111111111,\"#46039f\"],[0.2222222222222222,\"#7201a8\"],[0.3333333333333333,\"#9c179e\"],[0.4444444444444444,\"#bd3786\"],[0.5555555555555556,\"#d8576b\"],[0.6666666666666666,\"#ed7953\"],[0.7777777777777778,\"#fb9f3a\"],[0.8888888888888888,\"#fdca26\"],[1.0,\"#f0f921\"]]}],\"contourcarpet\":[{\"type\":\"contourcarpet\",\"colorbar\":{\"outlinewidth\":0,\"ticks\":\"\"}}],\"contour\":[{\"type\":\"contour\",\"colorbar\":{\"outlinewidth\":0,\"ticks\":\"\"},\"colorscale\":[[0.0,\"#0d0887\"],[0.1111111111111111,\"#46039f\"],[0.2222222222222222,\"#7201a8\"],[0.3333333333333333,\"#9c179e\"],[0.4444444444444444,\"#bd3786\"],[0.5555555555555556,\"#d8576b\"],[0.6666666666666666,\"#ed7953\"],[0.7777777777777778,\"#fb9f3a\"],[0.8888888888888888,\"#fdca26\"],[1.0,\"#f0f921\"]]}],\"surface\":[{\"type\":\"surface\",\"colorbar\":{\"outlinewidth\":0,\"ticks\":\"\"},\"colorscale\":[[0.0,\"#0d0887\"],[0.1111111111111111,\"#46039f\"],[0.2222222222222222,\"#7201a8\"],[0.3333333333333333,\"#9c179e\"],[0.4444444444444444,\"#bd3786\"],[0.5555555555555556,\"#d8576b\"],[0.6666666666666666,\"#ed7953\"],[0.7777777777777778,\"#fb9f3a\"],[0.8888888888888888,\"#fdca26\"],[1.0,\"#f0f921\"]]}],\"mesh3d\":[{\"type\":\"mesh3d\",\"colorbar\":{\"outlinewidth\":0,\"ticks\":\"\"}}],\"scatter\":[{\"fillpattern\":{\"fillmode\":\"overlay\",\"size\":10,\"solidity\":0.2},\"type\":\"scatter\"}],\"parcoords\":[{\"type\":\"parcoords\",\"line\":{\"colorbar\":{\"outlinewidth\":0,\"ticks\":\"\"}}}],\"scatterpolargl\":[{\"type\":\"scatterpolargl\",\"marker\":{\"colorbar\":{\"outlinewidth\":0,\"ticks\":\"\"}}}],\"bar\":[{\"error_x\":{\"color\":\"#2a3f5f\"},\"error_y\":{\"color\":\"#2a3f5f\"},\"marker\":{\"line\":{\"color\":\"#E5ECF6\",\"width\":0.5},\"pattern\":{\"fillmode\":\"overlay\",\"size\":10,\"solidity\":0.2}},\"type\":\"bar\"}],\"scattergeo\":[{\"type\":\"scattergeo\",\"marker\":{\"colorbar\":{\"outlinewidth\":0,\"ticks\":\"\"}}}],\"scatterpolar\":[{\"type\":\"scatterpolar\",\"marker\":{\"colorbar\":{\"outlinewidth\":0,\"ticks\":\"\"}}}],\"histogram\":[{\"marker\":{\"pattern\":{\"fillmode\":\"overlay\",\"size\":10,\"solidity\":0.2}},\"type\":\"histogram\"}],\"scattergl\":[{\"type\":\"scattergl\",\"marker\":{\"colorbar\":{\"outlinewidth\":0,\"ticks\":\"\"}}}],\"scatter3d\":[{\"type\":\"scatter3d\",\"line\":{\"colorbar\":{\"outlinewidth\":0,\"ticks\":\"\"}},\"marker\":{\"colorbar\":{\"outlinewidth\":0,\"ticks\":\"\"}}}],\"scattermapbox\":[{\"type\":\"scattermapbox\",\"marker\":{\"colorbar\":{\"outlinewidth\":0,\"ticks\":\"\"}}}],\"scatterternary\":[{\"type\":\"scatterternary\",\"marker\":{\"colorbar\":{\"outlinewidth\":0,\"ticks\":\"\"}}}],\"scattercarpet\":[{\"type\":\"scattercarpet\",\"marker\":{\"colorbar\":{\"outlinewidth\":0,\"ticks\":\"\"}}}],\"carpet\":[{\"aaxis\":{\"endlinecolor\":\"#2a3f5f\",\"gridcolor\":\"white\",\"linecolor\":\"white\",\"minorgridcolor\":\"white\",\"startlinecolor\":\"#2a3f5f\"},\"baxis\":{\"endlinecolor\":\"#2a3f5f\",\"gridcolor\":\"white\",\"linecolor\":\"white\",\"minorgridcolor\":\"white\",\"startlinecolor\":\"#2a3f5f\"},\"type\":\"carpet\"}],\"table\":[{\"cells\":{\"fill\":{\"color\":\"#EBF0F8\"},\"line\":{\"color\":\"white\"}},\"header\":{\"fill\":{\"color\":\"#C8D4E3\"},\"line\":{\"color\":\"white\"}},\"type\":\"table\"}],\"barpolar\":[{\"marker\":{\"line\":{\"color\":\"#E5ECF6\",\"width\":0.5},\"pattern\":{\"fillmode\":\"overlay\",\"size\":10,\"solidity\":0.2}},\"type\":\"barpolar\"}],\"pie\":[{\"automargin\":true,\"type\":\"pie\"}]},\"layout\":{\"autotypenumbers\":\"strict\",\"colorway\":[\"#636efa\",\"#EF553B\",\"#00cc96\",\"#ab63fa\",\"#FFA15A\",\"#19d3f3\",\"#FF6692\",\"#B6E880\",\"#FF97FF\",\"#FECB52\"],\"font\":{\"color\":\"#2a3f5f\"},\"hovermode\":\"closest\",\"hoverlabel\":{\"align\":\"left\"},\"paper_bgcolor\":\"white\",\"plot_bgcolor\":\"#E5ECF6\",\"polar\":{\"bgcolor\":\"#E5ECF6\",\"angularaxis\":{\"gridcolor\":\"white\",\"linecolor\":\"white\",\"ticks\":\"\"},\"radialaxis\":{\"gridcolor\":\"white\",\"linecolor\":\"white\",\"ticks\":\"\"}},\"ternary\":{\"bgcolor\":\"#E5ECF6\",\"aaxis\":{\"gridcolor\":\"white\",\"linecolor\":\"white\",\"ticks\":\"\"},\"baxis\":{\"gridcolor\":\"white\",\"linecolor\":\"white\",\"ticks\":\"\"},\"caxis\":{\"gridcolor\":\"white\",\"linecolor\":\"white\",\"ticks\":\"\"}},\"coloraxis\":{\"colorbar\":{\"outlinewidth\":0,\"ticks\":\"\"}},\"colorscale\":{\"sequential\":[[0.0,\"#0d0887\"],[0.1111111111111111,\"#46039f\"],[0.2222222222222222,\"#7201a8\"],[0.3333333333333333,\"#9c179e\"],[0.4444444444444444,\"#bd3786\"],[0.5555555555555556,\"#d8576b\"],[0.6666666666666666,\"#ed7953\"],[0.7777777777777778,\"#fb9f3a\"],[0.8888888888888888,\"#fdca26\"],[1.0,\"#f0f921\"]],\"sequentialminus\":[[0.0,\"#0d0887\"],[0.1111111111111111,\"#46039f\"],[0.2222222222222222,\"#7201a8\"],[0.3333333333333333,\"#9c179e\"],[0.4444444444444444,\"#bd3786\"],[0.5555555555555556,\"#d8576b\"],[0.6666666666666666,\"#ed7953\"],[0.7777777777777778,\"#fb9f3a\"],[0.8888888888888888,\"#fdca26\"],[1.0,\"#f0f921\"]],\"diverging\":[[0,\"#8e0152\"],[0.1,\"#c51b7d\"],[0.2,\"#de77ae\"],[0.3,\"#f1b6da\"],[0.4,\"#fde0ef\"],[0.5,\"#f7f7f7\"],[0.6,\"#e6f5d0\"],[0.7,\"#b8e186\"],[0.8,\"#7fbc41\"],[0.9,\"#4d9221\"],[1,\"#276419\"]]},\"xaxis\":{\"gridcolor\":\"white\",\"linecolor\":\"white\",\"ticks\":\"\",\"title\":{\"standoff\":15},\"zerolinecolor\":\"white\",\"automargin\":true,\"zerolinewidth\":2},\"yaxis\":{\"gridcolor\":\"white\",\"linecolor\":\"white\",\"ticks\":\"\",\"title\":{\"standoff\":15},\"zerolinecolor\":\"white\",\"automargin\":true,\"zerolinewidth\":2},\"scene\":{\"xaxis\":{\"backgroundcolor\":\"#E5ECF6\",\"gridcolor\":\"white\",\"linecolor\":\"white\",\"showbackground\":true,\"ticks\":\"\",\"zerolinecolor\":\"white\",\"gridwidth\":2},\"yaxis\":{\"backgroundcolor\":\"#E5ECF6\",\"gridcolor\":\"white\",\"linecolor\":\"white\",\"showbackground\":true,\"ticks\":\"\",\"zerolinecolor\":\"white\",\"gridwidth\":2},\"zaxis\":{\"backgroundcolor\":\"#E5ECF6\",\"gridcolor\":\"white\",\"linecolor\":\"white\",\"showbackground\":true,\"ticks\":\"\",\"zerolinecolor\":\"white\",\"gridwidth\":2}},\"shapedefaults\":{\"line\":{\"color\":\"#2a3f5f\"}},\"annotationdefaults\":{\"arrowcolor\":\"#2a3f5f\",\"arrowhead\":0,\"arrowwidth\":1},\"geo\":{\"bgcolor\":\"white\",\"landcolor\":\"#E5ECF6\",\"subunitcolor\":\"white\",\"showland\":true,\"showlakes\":true,\"lakecolor\":\"white\"},\"title\":{\"x\":0.05},\"mapbox\":{\"style\":\"light\"}}},\"legend\":{\"tracegroupgap\":0},\"title\":{\"text\":\"Customers grouped by Country\"}},                        {\"responsive\": true}                    ).then(function(){\n",
       "                            \n",
       "var gd = document.getElementById('e5f6882f-ac67-40b5-9d70-672f6da87832');\n",
       "var x = new MutationObserver(function (mutations, observer) {{\n",
       "        var display = window.getComputedStyle(gd).display;\n",
       "        if (!display || display === 'none') {{\n",
       "            console.log([gd, 'removed!']);\n",
       "            Plotly.purge(gd);\n",
       "            observer.disconnect();\n",
       "        }}\n",
       "}});\n",
       "\n",
       "// Listen for the removal of the full notebook cells\n",
       "var notebookContainer = gd.closest('#notebook-container');\n",
       "if (notebookContainer) {{\n",
       "    x.observe(notebookContainer, {childList: true});\n",
       "}}\n",
       "\n",
       "// Listen for the clearing of the current output cell\n",
       "var outputEl = gd.closest('.output');\n",
       "if (outputEl) {{\n",
       "    x.observe(outputEl, {childList: true});\n",
       "}}\n",
       "\n",
       "                        })                };                });            </script>        </div>"
      ]
     },
     "metadata": {},
     "output_type": "display_data"
    }
   ],
   "source": [
    "# Group the data by country and customer ID\n",
    "country_data = E_data.groupby('Country')['CustomerID'].nunique().reset_index()\n",
    "country_data.columns = ['Country', 'Customer Count']\n",
    "country_data.loc[country_data['Customer Count'] <  20, 'Country'] = 'Other countries'\n",
    "fig = px.pie(country_data,  values='Customer Count',names='Country',title='Customers grouped by Country')\n",
    "fig.show()"
   ]
  },
  {
   "cell_type": "code",
   "execution_count": 51,
   "id": "ed6b41bb",
   "metadata": {
    "execution": {
     "iopub.execute_input": "2023-02-25T23:11:57.517744Z",
     "iopub.status.busy": "2023-02-25T23:11:57.517137Z",
     "iopub.status.idle": "2023-02-25T23:11:57.592841Z",
     "shell.execute_reply": "2023-02-25T23:11:57.591974Z"
    },
    "papermill": {
     "duration": 0.108408,
     "end_time": "2023-02-25T23:11:57.595568",
     "exception": false,
     "start_time": "2023-02-25T23:11:57.487160",
     "status": "completed"
    },
    "tags": []
   },
   "outputs": [
    {
     "data": {
      "text/html": [
       "<div>                            <div id=\"7460e672-ada3-4be3-9514-99d9038372ee\" class=\"plotly-graph-div\" style=\"height:525px; width:100%;\"></div>            <script type=\"text/javascript\">                require([\"plotly\"], function(Plotly) {                    window.PLOTLYENV=window.PLOTLYENV || {};                                    if (document.getElementById(\"7460e672-ada3-4be3-9514-99d9038372ee\")) {                    Plotly.newPlot(                        \"7460e672-ada3-4be3-9514-99d9038372ee\",                        [{\"domain\":{\"x\":[0.0,1.0],\"y\":[0.0,1.0]},\"hovertemplate\":\"Country=%{label}<br>TotalAmount=%{value}<extra></extra>\",\"labels\":[\"Australia\",\"Other countries\",\"Other countries\",\"Belgium\",\"Other countries\",\"Other countries\",\"Other countries\",\"Other countries\",\"Other countries\",\"Other countries\",\"EIRE\",\"Other countries\",\"Other countries\",\"France\",\"Germany\",\"Other countries\",\"Other countries\",\"Other countries\",\"Other countries\",\"Japan\",\"Other countries\",\"Other countries\",\"Other countries\",\"Netherlands\",\"Norway\",\"Other countries\",\"Portugal\",\"Other countries\",\"Other countries\",\"Other countries\",\"Spain\",\"Sweden\",\"Switzerland\",\"Other countries\",\"Other countries\",\"United Kingdom\",\"Other countries\"],\"legendgroup\":\"\",\"name\":\"\",\"showlegend\":true,\"values\":[138453.81,10198.68,548.4,41196.34,1143.6,3666.38,20440.54,13502.85,826.74,18955.34,265262.46,1300.25,22546.08,208934.31,228678.4,4760.52,4310.0,7215.84,17483.24,37416.369999999995,1693.88,1661.06,2725.59,285446.34,36165.44,7334.65,33375.840000000004,1002.3100000000001,145.92,21279.29,61558.56,38367.83,56443.95,3580.39,1902.28,7285024.644,2660.77],\"type\":\"pie\"}],                        {\"template\":{\"data\":{\"histogram2dcontour\":[{\"type\":\"histogram2dcontour\",\"colorbar\":{\"outlinewidth\":0,\"ticks\":\"\"},\"colorscale\":[[0.0,\"#0d0887\"],[0.1111111111111111,\"#46039f\"],[0.2222222222222222,\"#7201a8\"],[0.3333333333333333,\"#9c179e\"],[0.4444444444444444,\"#bd3786\"],[0.5555555555555556,\"#d8576b\"],[0.6666666666666666,\"#ed7953\"],[0.7777777777777778,\"#fb9f3a\"],[0.8888888888888888,\"#fdca26\"],[1.0,\"#f0f921\"]]}],\"choropleth\":[{\"type\":\"choropleth\",\"colorbar\":{\"outlinewidth\":0,\"ticks\":\"\"}}],\"histogram2d\":[{\"type\":\"histogram2d\",\"colorbar\":{\"outlinewidth\":0,\"ticks\":\"\"},\"colorscale\":[[0.0,\"#0d0887\"],[0.1111111111111111,\"#46039f\"],[0.2222222222222222,\"#7201a8\"],[0.3333333333333333,\"#9c179e\"],[0.4444444444444444,\"#bd3786\"],[0.5555555555555556,\"#d8576b\"],[0.6666666666666666,\"#ed7953\"],[0.7777777777777778,\"#fb9f3a\"],[0.8888888888888888,\"#fdca26\"],[1.0,\"#f0f921\"]]}],\"heatmap\":[{\"type\":\"heatmap\",\"colorbar\":{\"outlinewidth\":0,\"ticks\":\"\"},\"colorscale\":[[0.0,\"#0d0887\"],[0.1111111111111111,\"#46039f\"],[0.2222222222222222,\"#7201a8\"],[0.3333333333333333,\"#9c179e\"],[0.4444444444444444,\"#bd3786\"],[0.5555555555555556,\"#d8576b\"],[0.6666666666666666,\"#ed7953\"],[0.7777777777777778,\"#fb9f3a\"],[0.8888888888888888,\"#fdca26\"],[1.0,\"#f0f921\"]]}],\"heatmapgl\":[{\"type\":\"heatmapgl\",\"colorbar\":{\"outlinewidth\":0,\"ticks\":\"\"},\"colorscale\":[[0.0,\"#0d0887\"],[0.1111111111111111,\"#46039f\"],[0.2222222222222222,\"#7201a8\"],[0.3333333333333333,\"#9c179e\"],[0.4444444444444444,\"#bd3786\"],[0.5555555555555556,\"#d8576b\"],[0.6666666666666666,\"#ed7953\"],[0.7777777777777778,\"#fb9f3a\"],[0.8888888888888888,\"#fdca26\"],[1.0,\"#f0f921\"]]}],\"contourcarpet\":[{\"type\":\"contourcarpet\",\"colorbar\":{\"outlinewidth\":0,\"ticks\":\"\"}}],\"contour\":[{\"type\":\"contour\",\"colorbar\":{\"outlinewidth\":0,\"ticks\":\"\"},\"colorscale\":[[0.0,\"#0d0887\"],[0.1111111111111111,\"#46039f\"],[0.2222222222222222,\"#7201a8\"],[0.3333333333333333,\"#9c179e\"],[0.4444444444444444,\"#bd3786\"],[0.5555555555555556,\"#d8576b\"],[0.6666666666666666,\"#ed7953\"],[0.7777777777777778,\"#fb9f3a\"],[0.8888888888888888,\"#fdca26\"],[1.0,\"#f0f921\"]]}],\"surface\":[{\"type\":\"surface\",\"colorbar\":{\"outlinewidth\":0,\"ticks\":\"\"},\"colorscale\":[[0.0,\"#0d0887\"],[0.1111111111111111,\"#46039f\"],[0.2222222222222222,\"#7201a8\"],[0.3333333333333333,\"#9c179e\"],[0.4444444444444444,\"#bd3786\"],[0.5555555555555556,\"#d8576b\"],[0.6666666666666666,\"#ed7953\"],[0.7777777777777778,\"#fb9f3a\"],[0.8888888888888888,\"#fdca26\"],[1.0,\"#f0f921\"]]}],\"mesh3d\":[{\"type\":\"mesh3d\",\"colorbar\":{\"outlinewidth\":0,\"ticks\":\"\"}}],\"scatter\":[{\"fillpattern\":{\"fillmode\":\"overlay\",\"size\":10,\"solidity\":0.2},\"type\":\"scatter\"}],\"parcoords\":[{\"type\":\"parcoords\",\"line\":{\"colorbar\":{\"outlinewidth\":0,\"ticks\":\"\"}}}],\"scatterpolargl\":[{\"type\":\"scatterpolargl\",\"marker\":{\"colorbar\":{\"outlinewidth\":0,\"ticks\":\"\"}}}],\"bar\":[{\"error_x\":{\"color\":\"#2a3f5f\"},\"error_y\":{\"color\":\"#2a3f5f\"},\"marker\":{\"line\":{\"color\":\"#E5ECF6\",\"width\":0.5},\"pattern\":{\"fillmode\":\"overlay\",\"size\":10,\"solidity\":0.2}},\"type\":\"bar\"}],\"scattergeo\":[{\"type\":\"scattergeo\",\"marker\":{\"colorbar\":{\"outlinewidth\":0,\"ticks\":\"\"}}}],\"scatterpolar\":[{\"type\":\"scatterpolar\",\"marker\":{\"colorbar\":{\"outlinewidth\":0,\"ticks\":\"\"}}}],\"histogram\":[{\"marker\":{\"pattern\":{\"fillmode\":\"overlay\",\"size\":10,\"solidity\":0.2}},\"type\":\"histogram\"}],\"scattergl\":[{\"type\":\"scattergl\",\"marker\":{\"colorbar\":{\"outlinewidth\":0,\"ticks\":\"\"}}}],\"scatter3d\":[{\"type\":\"scatter3d\",\"line\":{\"colorbar\":{\"outlinewidth\":0,\"ticks\":\"\"}},\"marker\":{\"colorbar\":{\"outlinewidth\":0,\"ticks\":\"\"}}}],\"scattermapbox\":[{\"type\":\"scattermapbox\",\"marker\":{\"colorbar\":{\"outlinewidth\":0,\"ticks\":\"\"}}}],\"scatterternary\":[{\"type\":\"scatterternary\",\"marker\":{\"colorbar\":{\"outlinewidth\":0,\"ticks\":\"\"}}}],\"scattercarpet\":[{\"type\":\"scattercarpet\",\"marker\":{\"colorbar\":{\"outlinewidth\":0,\"ticks\":\"\"}}}],\"carpet\":[{\"aaxis\":{\"endlinecolor\":\"#2a3f5f\",\"gridcolor\":\"white\",\"linecolor\":\"white\",\"minorgridcolor\":\"white\",\"startlinecolor\":\"#2a3f5f\"},\"baxis\":{\"endlinecolor\":\"#2a3f5f\",\"gridcolor\":\"white\",\"linecolor\":\"white\",\"minorgridcolor\":\"white\",\"startlinecolor\":\"#2a3f5f\"},\"type\":\"carpet\"}],\"table\":[{\"cells\":{\"fill\":{\"color\":\"#EBF0F8\"},\"line\":{\"color\":\"white\"}},\"header\":{\"fill\":{\"color\":\"#C8D4E3\"},\"line\":{\"color\":\"white\"}},\"type\":\"table\"}],\"barpolar\":[{\"marker\":{\"line\":{\"color\":\"#E5ECF6\",\"width\":0.5},\"pattern\":{\"fillmode\":\"overlay\",\"size\":10,\"solidity\":0.2}},\"type\":\"barpolar\"}],\"pie\":[{\"automargin\":true,\"type\":\"pie\"}]},\"layout\":{\"autotypenumbers\":\"strict\",\"colorway\":[\"#636efa\",\"#EF553B\",\"#00cc96\",\"#ab63fa\",\"#FFA15A\",\"#19d3f3\",\"#FF6692\",\"#B6E880\",\"#FF97FF\",\"#FECB52\"],\"font\":{\"color\":\"#2a3f5f\"},\"hovermode\":\"closest\",\"hoverlabel\":{\"align\":\"left\"},\"paper_bgcolor\":\"white\",\"plot_bgcolor\":\"#E5ECF6\",\"polar\":{\"bgcolor\":\"#E5ECF6\",\"angularaxis\":{\"gridcolor\":\"white\",\"linecolor\":\"white\",\"ticks\":\"\"},\"radialaxis\":{\"gridcolor\":\"white\",\"linecolor\":\"white\",\"ticks\":\"\"}},\"ternary\":{\"bgcolor\":\"#E5ECF6\",\"aaxis\":{\"gridcolor\":\"white\",\"linecolor\":\"white\",\"ticks\":\"\"},\"baxis\":{\"gridcolor\":\"white\",\"linecolor\":\"white\",\"ticks\":\"\"},\"caxis\":{\"gridcolor\":\"white\",\"linecolor\":\"white\",\"ticks\":\"\"}},\"coloraxis\":{\"colorbar\":{\"outlinewidth\":0,\"ticks\":\"\"}},\"colorscale\":{\"sequential\":[[0.0,\"#0d0887\"],[0.1111111111111111,\"#46039f\"],[0.2222222222222222,\"#7201a8\"],[0.3333333333333333,\"#9c179e\"],[0.4444444444444444,\"#bd3786\"],[0.5555555555555556,\"#d8576b\"],[0.6666666666666666,\"#ed7953\"],[0.7777777777777778,\"#fb9f3a\"],[0.8888888888888888,\"#fdca26\"],[1.0,\"#f0f921\"]],\"sequentialminus\":[[0.0,\"#0d0887\"],[0.1111111111111111,\"#46039f\"],[0.2222222222222222,\"#7201a8\"],[0.3333333333333333,\"#9c179e\"],[0.4444444444444444,\"#bd3786\"],[0.5555555555555556,\"#d8576b\"],[0.6666666666666666,\"#ed7953\"],[0.7777777777777778,\"#fb9f3a\"],[0.8888888888888888,\"#fdca26\"],[1.0,\"#f0f921\"]],\"diverging\":[[0,\"#8e0152\"],[0.1,\"#c51b7d\"],[0.2,\"#de77ae\"],[0.3,\"#f1b6da\"],[0.4,\"#fde0ef\"],[0.5,\"#f7f7f7\"],[0.6,\"#e6f5d0\"],[0.7,\"#b8e186\"],[0.8,\"#7fbc41\"],[0.9,\"#4d9221\"],[1,\"#276419\"]]},\"xaxis\":{\"gridcolor\":\"white\",\"linecolor\":\"white\",\"ticks\":\"\",\"title\":{\"standoff\":15},\"zerolinecolor\":\"white\",\"automargin\":true,\"zerolinewidth\":2},\"yaxis\":{\"gridcolor\":\"white\",\"linecolor\":\"white\",\"ticks\":\"\",\"title\":{\"standoff\":15},\"zerolinecolor\":\"white\",\"automargin\":true,\"zerolinewidth\":2},\"scene\":{\"xaxis\":{\"backgroundcolor\":\"#E5ECF6\",\"gridcolor\":\"white\",\"linecolor\":\"white\",\"showbackground\":true,\"ticks\":\"\",\"zerolinecolor\":\"white\",\"gridwidth\":2},\"yaxis\":{\"backgroundcolor\":\"#E5ECF6\",\"gridcolor\":\"white\",\"linecolor\":\"white\",\"showbackground\":true,\"ticks\":\"\",\"zerolinecolor\":\"white\",\"gridwidth\":2},\"zaxis\":{\"backgroundcolor\":\"#E5ECF6\",\"gridcolor\":\"white\",\"linecolor\":\"white\",\"showbackground\":true,\"ticks\":\"\",\"zerolinecolor\":\"white\",\"gridwidth\":2}},\"shapedefaults\":{\"line\":{\"color\":\"#2a3f5f\"}},\"annotationdefaults\":{\"arrowcolor\":\"#2a3f5f\",\"arrowhead\":0,\"arrowwidth\":1},\"geo\":{\"bgcolor\":\"white\",\"landcolor\":\"#E5ECF6\",\"subunitcolor\":\"white\",\"showland\":true,\"showlakes\":true,\"lakecolor\":\"white\"},\"title\":{\"x\":0.05},\"mapbox\":{\"style\":\"light\"}}},\"legend\":{\"tracegroupgap\":0},\"title\":{\"text\":\"Revenue Across Countries\"}},                        {\"responsive\": true}                    ).then(function(){\n",
       "                            \n",
       "var gd = document.getElementById('7460e672-ada3-4be3-9514-99d9038372ee');\n",
       "var x = new MutationObserver(function (mutations, observer) {{\n",
       "        var display = window.getComputedStyle(gd).display;\n",
       "        if (!display || display === 'none') {{\n",
       "            console.log([gd, 'removed!']);\n",
       "            Plotly.purge(gd);\n",
       "            observer.disconnect();\n",
       "        }}\n",
       "}});\n",
       "\n",
       "// Listen for the removal of the full notebook cells\n",
       "var notebookContainer = gd.closest('#notebook-container');\n",
       "if (notebookContainer) {{\n",
       "    x.observe(notebookContainer, {childList: true});\n",
       "}}\n",
       "\n",
       "// Listen for the clearing of the current output cell\n",
       "var outputEl = gd.closest('.output');\n",
       "if (outputEl) {{\n",
       "    x.observe(outputEl, {childList: true});\n",
       "}}\n",
       "\n",
       "                        })                };                });            </script>        </div>"
      ]
     },
     "metadata": {},
     "output_type": "display_data"
    }
   ],
   "source": [
    "#Monetary and customer \n",
    "# Group data by country and calculate total revenue and customer count\n",
    "Country_Revenue= E_data.groupby(by='Country', as_index=False)['TotalAmount'].sum()\n",
    "Country_Revenue.head()\n",
    "Country_Revenue.columns = ['Country', 'TotalAmount']\n",
    "Country_Revenue.loc[Country_Revenue['TotalAmount'] < 30000, 'Country'] = 'Other countries'\n",
    "fig = px.pie(Country_Revenue,  values='TotalAmount',names='Country',title='Revenue Across Countries')\n",
    "fig.show()"
   ]
  },
  {
   "cell_type": "markdown",
   "id": "d608906a",
   "metadata": {
    "papermill": {
     "duration": 0.028065,
     "end_time": "2023-02-25T23:11:57.652668",
     "exception": false,
     "start_time": "2023-02-25T23:11:57.624603",
     "status": "completed"
    },
    "tags": []
   },
   "source": [
    "# Identify Products for STP Modeling"
   ]
  },
  {
   "cell_type": "code",
   "execution_count": 52,
   "id": "c2d5e75e",
   "metadata": {
    "execution": {
     "iopub.execute_input": "2023-02-25T23:11:57.712114Z",
     "iopub.status.busy": "2023-02-25T23:11:57.711701Z",
     "iopub.status.idle": "2023-02-25T23:11:57.747570Z",
     "shell.execute_reply": "2023-02-25T23:11:57.746657Z"
    },
    "papermill": {
     "duration": 0.068625,
     "end_time": "2023-02-25T23:11:57.749936",
     "exception": false,
     "start_time": "2023-02-25T23:11:57.681311",
     "status": "completed"
    },
    "tags": []
   },
   "outputs": [
    {
     "data": {
      "text/plain": [
       "515"
      ]
     },
     "execution_count": 52,
     "metadata": {},
     "output_type": "execute_result"
    }
   ],
   "source": [
    "E_data['Description'].value_counts().nunique()"
   ]
  },
  {
   "cell_type": "code",
   "execution_count": 53,
   "id": "0c0bb275",
   "metadata": {
    "execution": {
     "iopub.execute_input": "2023-02-25T23:11:57.810628Z",
     "iopub.status.busy": "2023-02-25T23:11:57.810033Z",
     "iopub.status.idle": "2023-02-25T23:11:57.845815Z",
     "shell.execute_reply": "2023-02-25T23:11:57.844786Z"
    },
    "papermill": {
     "duration": 0.068943,
     "end_time": "2023-02-25T23:11:57.848106",
     "exception": false,
     "start_time": "2023-02-25T23:11:57.779163",
     "status": "completed"
    },
    "tags": []
   },
   "outputs": [
    {
     "data": {
      "text/plain": [
       "WHITE HANGING HEART T-LIGHT HOLDER    2016\n",
       "REGENCY CAKESTAND 3 TIER              1714\n",
       "JUMBO BAG RED RETROSPOT               1615\n",
       "ASSORTED COLOUR BIRD ORNAMENT         1395\n",
       "PARTY BUNTING                         1390\n",
       "LUNCH BAG RED RETROSPOT               1303\n",
       "SET OF 3 CAKE TINS PANTRY DESIGN      1152\n",
       "POSTAGE                               1099\n",
       "LUNCH BAG  BLACK SKULL.               1078\n",
       "PACK OF 72 RETROSPOT CAKE CASES       1050\n",
       "SPOTTY BUNTING                        1014\n",
       "PAPER CHAIN KIT 50'S CHRISTMAS        1003\n",
       "LUNCH BAG SPACEBOY DESIGN              993\n",
       "HEART OF WICKER SMALL                  979\n",
       "LUNCH BAG CARS BLUE                    977\n",
       "NATURAL SLATE HEART CHALKBOARD         972\n",
       "LUNCH BAG PINK POLKADOT                941\n",
       "LUNCH BAG SUKI DESIGN                  915\n",
       "REX CASH+CARRY JUMBO SHOPPER           897\n",
       "ALARM CLOCK BAKELIKE RED               886\n",
       "Name: Description, dtype: int64"
      ]
     },
     "execution_count": 53,
     "metadata": {},
     "output_type": "execute_result"
    }
   ],
   "source": [
    "E_data['Description'].value_counts().head(20)"
   ]
  },
  {
   "cell_type": "code",
   "execution_count": 54,
   "id": "ea98ba6a",
   "metadata": {
    "execution": {
     "iopub.execute_input": "2023-02-25T23:11:57.907172Z",
     "iopub.status.busy": "2023-02-25T23:11:57.906848Z",
     "iopub.status.idle": "2023-02-25T23:11:57.998663Z",
     "shell.execute_reply": "2023-02-25T23:11:57.997710Z"
    },
    "papermill": {
     "duration": 0.124191,
     "end_time": "2023-02-25T23:11:58.001216",
     "exception": false,
     "start_time": "2023-02-25T23:11:57.877025",
     "status": "completed"
    },
    "tags": []
   },
   "outputs": [
    {
     "data": {
      "text/plain": [
       "Description                       Country             \n",
       " 4 PURPLE FLOCK DINNER CANDLES    EIRE                      1\n",
       "                                  United Kingdom           36\n",
       " 50'S CHRISTMAS GIFT BAG LARGE    EIRE                      1\n",
       "                                  France                    1\n",
       "                                  Germany                   5\n",
       "                                  Portugal                  3\n",
       "                                  Spain                     1\n",
       "                                  United Kingdom           98\n",
       " DOLLY GIRL BEAKER                Australia                 1\n",
       "                                  Austria                   1\n",
       "                                  Belgium                   5\n",
       "                                  Cyprus                    1\n",
       "                                  EIRE                      2\n",
       "                                  France                    9\n",
       "                                  Germany                   7\n",
       "                                  Israel                    1\n",
       "                                  Netherlands               5\n",
       "                                  Norway                    1\n",
       "                                  United Kingdom          102\n",
       " I LOVE LONDON MINI BACKPACK      Australia                 1\n",
       "                                  Belgium                   1\n",
       "                                  Cyprus                    1\n",
       "                                  France                    5\n",
       "                                  Germany                   2\n",
       "                                  Japan                     1\n",
       "                                  Netherlands               2\n",
       "                                  United Kingdom           56\n",
       " I LOVE LONDON MINI RUCKSACK      Netherlands               1\n",
       " NINE DRAWER OFFICE TIDY          Cyprus                    1\n",
       "                                  EIRE                      1\n",
       "                                  Finland                   1\n",
       "                                  France                    1\n",
       "                                  Portugal                  1\n",
       "                                  United Kingdom           25\n",
       " OVAL WALL MIRROR DIAMANTE        EIRE                      2\n",
       "                                  Norway                    1\n",
       "                                  United Kingdom           56\n",
       " RED SPOT GIFT BAG LARGE          EIRE                      1\n",
       "                                  Germany                   3\n",
       "                                  Portugal                  1\n",
       "                                  Spain                     1\n",
       "                                  Switzerland               1\n",
       "                                  United Kingdom           85\n",
       " SET 2 TEA TOWELS I LOVE LONDON   Cyprus                    1\n",
       "                                  France                    7\n",
       "                                  Germany                   5\n",
       "                                  Spain                     1\n",
       "                                  USA                       1\n",
       "                                  United Kingdom          182\n",
       " SPACEBOY BABY GIFT SET           Austria                   1\n",
       "                                  Belgium                   7\n",
       "                                  Channel Islands           1\n",
       "                                  Denmark                   1\n",
       "                                  EIRE                      5\n",
       "                                  France                   16\n",
       "                                  Germany                   5\n",
       "                                  Netherlands               5\n",
       "                                  Spain                     1\n",
       "                                  Switzerland               5\n",
       "                                  United Arab Emirates      1\n",
       "Name: TotalAmount, dtype: int64"
      ]
     },
     "execution_count": 54,
     "metadata": {},
     "output_type": "execute_result"
    }
   ],
   "source": [
    "product_M=E_data.groupby(by=['Description','Country'])['TotalAmount'].count()\n",
    "product_M.head(60)"
   ]
  },
  {
   "cell_type": "code",
   "execution_count": 55,
   "id": "3711fcf9",
   "metadata": {
    "execution": {
     "iopub.execute_input": "2023-02-25T23:11:58.060541Z",
     "iopub.status.busy": "2023-02-25T23:11:58.060183Z",
     "iopub.status.idle": "2023-02-25T23:11:58.083826Z",
     "shell.execute_reply": "2023-02-25T23:11:58.082901Z"
    },
    "papermill": {
     "duration": 0.055575,
     "end_time": "2023-02-25T23:11:58.085760",
     "exception": false,
     "start_time": "2023-02-25T23:11:58.030185",
     "status": "completed"
    },
    "tags": []
   },
   "outputs": [
    {
     "data": {
      "text/plain": [
       "392732"
      ]
     },
     "execution_count": 55,
     "metadata": {},
     "output_type": "execute_result"
    }
   ],
   "source": [
    "Product=E_data['Description']\n",
    "Product.count().sum()"
   ]
  },
  {
   "cell_type": "markdown",
   "id": "d29d0d25",
   "metadata": {
    "papermill": {
     "duration": 0.029541,
     "end_time": "2023-02-25T23:11:58.145765",
     "exception": false,
     "start_time": "2023-02-25T23:11:58.116224",
     "status": "completed"
    },
    "tags": []
   },
   "source": [
    "# Dashboard Code"
   ]
  },
  {
   "cell_type": "code",
   "execution_count": 56,
   "id": "94754bc7",
   "metadata": {
    "execution": {
     "iopub.execute_input": "2023-02-25T23:11:58.208016Z",
     "iopub.status.busy": "2023-02-25T23:11:58.207643Z",
     "iopub.status.idle": "2023-02-25T23:11:58.378502Z",
     "shell.execute_reply": "2023-02-25T23:11:58.377263Z"
    },
    "papermill": {
     "duration": 0.204798,
     "end_time": "2023-02-25T23:11:58.380784",
     "exception": true,
     "start_time": "2023-02-25T23:11:58.175986",
     "status": "failed"
    },
    "tags": []
   },
   "outputs": [
    {
     "ename": "ModuleNotFoundError",
     "evalue": "No module named 'streamlit'",
     "output_type": "error",
     "traceback": [
      "\u001b[0;31m---------------------------------------------------------------------------\u001b[0m",
      "\u001b[0;31mModuleNotFoundError\u001b[0m                       Traceback (most recent call last)",
      "\u001b[0;32m/tmp/ipykernel_21/942006150.py\u001b[0m in \u001b[0;36m<module>\u001b[0;34m\u001b[0m\n\u001b[0;32m----> 1\u001b[0;31m \u001b[0;32mimport\u001b[0m \u001b[0mstreamlit\u001b[0m \u001b[0;32mas\u001b[0m \u001b[0mst\u001b[0m\u001b[0;34m\u001b[0m\u001b[0;34m\u001b[0m\u001b[0m\n\u001b[0m",
      "\u001b[0;31mModuleNotFoundError\u001b[0m: No module named 'streamlit'"
     ]
    }
   ],
   "source": [
    "import streamlit as st"
   ]
  },
  {
   "cell_type": "code",
   "execution_count": null,
   "id": "a2bf48f4",
   "metadata": {
    "papermill": {
     "duration": null,
     "end_time": null,
     "exception": null,
     "start_time": null,
     "status": "pending"
    },
    "tags": []
   },
   "outputs": [],
   "source": [
    "st.set_page_config(page_title=\"E-commerce Dashboard\",layout='wide',page_icon=\"chart_with_upwards_trend\")\n",
    "#st.title(\"E-commerce Dashboard 📈\")\n",
    "# use streamlit\n",
    "\n",
    "with open('styles.css') as f:\n",
    "    st.markdown(f'<style>{f.read()}</style>', unsafe_allow_html=True)\n",
    "\n",
    "\n",
    "st.sidebar.header('E-commerce Dashboard 📈')\n",
    "st.sidebar.subheader('Know Your Customers')\n",
    "st.sidebar.image('market-segmentation.png')\n",
    "\n",
    "st.sidebar.title('You got 450 :blue[Customers] with the highest RFM Score')\n",
    "import plotly.figure_factory as ff\n",
    "hist_data=[Frequency_Plot,Monetary_Plot]\n",
    "group_labels=['Frequency','Monetary']\n",
    "figure=ff.create_distplot(hist_data,group_labels,bin_size=[.1, .25, .5])\n",
    "\n",
    "\n",
    "#First Row\n",
    "st.markdown('### Metrics')\n",
    "c1,c2,c3=st.columns(3)\n",
    "c1.markdown('### Highest Revenue')\n",
    "c1.markdown('### $7 Milion')\n",
    "c2.markdown(\"### Highest Sales\")\n",
    "c2.markdown(\"### United Kingdom\")\n",
    "c2.markdown(\"### Netherlands\")\n",
    "c3.markdown(\"### Year\")\n",
    "c3.markdown('### 2017-2018')\n",
    "\n",
    "\n",
    "\n",
    "#Second Row\n",
    "tab4,tab5,tab6,tab17=st.tabs(['Customers Across Countries','Revenue Across Countries','Clusters Description','Product Across Countries'])\n",
    "with tab4:\n",
    "  st.plotly_chart(fig_country_customer,use_container_width=True,theme=\"streamlit\")\n",
    "with tab5:\n",
    "  st.plotly_chart(fig_cou_revenue,use_container_width=True,theme=\"streamlit\")\n",
    "with tab6:\n",
    "  st.dataframe(Combine)\n",
    "with tab17:\n",
    "  st.dataframe(product_M)\n",
    "\n",
    "\n",
    "\n",
    "#Third Row\n",
    "tab1,tab2=st.tabs(['Segments','Clusters '])\n",
    "with tab1:\n",
    "    st.plotly_chart(fig_loyalty,use_container_width=True,theme=\"streamlit\")\n",
    "with tab2:\n",
    "    st.plotly_chart(fig_clusters,use_container_width=True,theme=\"streamlit\")\n",
    "\n",
    "\n",
    "\n",
    "#Fourth Row\n",
    "t,a,b=st.tabs(['Recency','Frequency and Monetary','Clusters Count'])\n",
    "with t:\n",
    "    st.plotly_chart(fig1, use_container_width=True)\n",
    "with a:\n",
    "    st.plotly_chart(figure, use_container_width=True)\n",
    "with b:\n",
    "    st.plotly_chart(fig_cluster_pred,use_container_width=True,theme=\"streamlit\")\n",
    "\n",
    "\n",
    "\n"
   ]
  }
 ],
 "metadata": {
  "kernelspec": {
   "display_name": "Python 3",
   "language": "python",
   "name": "python3"
  },
  "language_info": {
   "codemirror_mode": {
    "name": "ipython",
    "version": 3
   },
   "file_extension": ".py",
   "mimetype": "text/x-python",
   "name": "python",
   "nbconvert_exporter": "python",
   "pygments_lexer": "ipython3",
   "version": "3.7.12"
  },
  "papermill": {
   "default_parameters": {},
   "duration": 31.166652,
   "end_time": "2023-02-25T23:11:59.434211",
   "environment_variables": {},
   "exception": true,
   "input_path": "__notebook__.ipynb",
   "output_path": "__notebook__.ipynb",
   "parameters": {},
   "start_time": "2023-02-25T23:11:28.267559",
   "version": "2.3.4"
  }
 },
 "nbformat": 4,
 "nbformat_minor": 5
}
